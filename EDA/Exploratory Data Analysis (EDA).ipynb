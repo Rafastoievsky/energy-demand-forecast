{
 "cells": [
  {
   "cell_type": "code",
   "execution_count": null,
   "id": "360f82a8",
   "metadata": {},
   "outputs": [],
   "source": [
    "![spam](img/EDA.png)"
   ]
  },
  {
   "cell_type": "code",
   "execution_count": null,
   "id": "e054f61a",
   "metadata": {},
   "outputs": [],
   "source": [
    "import warnings\n",
    "warnings.filterwarnings('ignore')"
   ]
  },
  {
   "cell_type": "markdown",
   "id": "9c0b28f1",
   "metadata": {
    "heading_collapsed": true
   },
   "source": [
    "## 1.   Exploratory Data Analysis "
   ]
  },
  {
   "cell_type": "markdown",
   "id": "0dd9a27a",
   "metadata": {
    "hidden": true
   },
   "source": [
    "<summary>\n",
    "    <font size=\"4\" color=\"orange\"><b>1.1 Importing libraries and functions</b></font>\n",
    "</summary>"
   ]
  },
  {
   "cell_type": "code",
   "execution_count": null,
   "id": "5a7c2c32",
   "metadata": {
    "hidden": true
   },
   "outputs": [],
   "source": [
    "# Basic libraries\n",
    "import numpy as np\n",
    "import pandas as pd\n",
    "import matplotlib.pyplot as plt\n",
    "\n",
    "# Easy graphs with plotly\n",
    "import plotly.express as px\n",
    "import plotly.graph_objects as go\n",
    "import seaborn as sns\n",
    "from plotly.offline import iplot\n",
    "\n",
    "# Matplotlib plots look like\n",
    "plt.style.use('ggplot')\n",
    "plt.rcParams['figure.figsize'] = (15,7)\n",
    "import pickle as pk\n",
    "pd.options.display.max_columns = None"
   ]
  },
  {
   "cell_type": "markdown",
   "id": "38b00905",
   "metadata": {
    "hidden": true
   },
   "source": [
    "<summary>\n",
    "    <font size=\"4\" color=\"orange\"><b>1.2 Loading CENACE database: 49 input variables </b></font>\n",
    "</summary>"
   ]
  },
  {
   "cell_type": "markdown",
   "id": "a2cd7ed1",
   "metadata": {
    "hidden": true
   },
   "source": [
    "<img src=\"img/calendarsymbol.png\" width=\"40\" img align=\"left\" />  \n",
    "\n",
    "<font size=\"3\" color=\"palevioletred\"><b>Exogenous Calendar Features </b></font>"
   ]
  },
  {
   "cell_type": "markdown",
   "id": "e2b6d6d8",
   "metadata": {
    "hidden": true
   },
   "source": [
    "* **FECHA** (yy-mm-dd): Date\n",
    "\n",
    "\"Holiday\" (0|1) indicator:\n",
    "\n",
    "* **Lunes_Festivo**: Holiday Monday\n",
    "\n",
    "* **Martes_PostFestivo**: Day after holiday Monday\n",
    "\n",
    "* **Semana_Santa**: Holy Week\n",
    "\n",
    "* **1_Mayo**: May 1\n",
    "\n",
    "* **10_Mayo**: May 10\n",
    "\n",
    "* **16_Sep**: September 16\n",
    "\n",
    "* **2_Nov.**: November 2\n",
    "\n",
    "* **Pre-Navidad_y_new_year**: Day before Christmas or New Year\n",
    "\n",
    "* **Navidad_y_new_year**: Christmas or New Year\n",
    "\n",
    "* **Post-Navidad_y_new_year**: Day after Christmas or New Year"
   ]
  },
  {
   "cell_type": "markdown",
   "id": "dcece77a",
   "metadata": {
    "hidden": true
   },
   "source": [
    "<img src=\"img/lightsymbol.png\" alt=\"drawing\" width=\"25\" img align=\"left\" />  \n",
    "\n",
    "<font size=\"3\" color=\"palevioletred\"><b>Endogenous Feature</b></font>"
   ]
  },
  {
   "cell_type": "markdown",
   "id": "8570e17e",
   "metadata": {
    "hidden": true
   },
   "source": [
    "* **DEM_GCRNO_H$i$** (MW): Load energy demand in GCRNO (Gerencia de Control de Noroeste)  zone from hour $i$ to hour $i+1$ of the corresponding date, for $i=0,\\dots 23$."
   ]
  },
  {
   "cell_type": "markdown",
   "id": "4201c1b8",
   "metadata": {
    "hidden": true
   },
   "source": [
    "<img src=\"img/meteosymbol.png\" alt=\"drawing\" width=\"60\" img align=\"left\" />\n",
    "\n",
    "<font size=\"3\" color=\"palevioletred\"><b>Exogenous Meteorological Features</b></font>"
   ]
  },
  {
   "cell_type": "markdown",
   "id": "1763af59",
   "metadata": {
    "hidden": true
   },
   "source": [
    "* **TMAX-CAB**, **TMIN-CAB**, **TMAX-HMO**, **TMIN-HMO**, **TMAX-OBR**, **TMIN-OBR**,**TMAX-LMO**, **TMIN-LMO**, **TMAX-CUL**, **TMIN-CUL** ($^\\circ$C): Maximum and minimum temperature in Caborca, Hermosillo, Ciudad Obregón, Los Mochis and Culiacán, respectively.\n",
    "\n",
    "* **PREC_HMO_mm**, **PREC_OBR_mm**, **PREC_LMO_mm**, **PREC_CUL_mm**  (mm/h): Precipitation in Hermosillo, Ciudad Obregón, Los Mochis and Culiacán, respectively.\n",
    "\n"
   ]
  },
  {
   "cell_type": "code",
   "execution_count": null,
   "id": "089c1ac3",
   "metadata": {
    "hidden": true
   },
   "outputs": [],
   "source": [
    "# Importing load energy consumption CENACE database\n",
    "url = \"./inputs/Dataset GCRNO120522 DF.xlsx\" #data\n",
    "gcrno = pd.read_excel(url)\n",
    "gcrno.columns"
   ]
  },
  {
   "cell_type": "code",
   "execution_count": null,
   "id": "13b6f2dd",
   "metadata": {},
   "outputs": [],
   "source": [
    "gcrno.describe()"
   ]
  },
  {
   "cell_type": "markdown",
   "id": "2cad8b57",
   "metadata": {},
   "source": [
    "#### Ploting 24 \"DEM_GCRNO_HX\" Features"
   ]
  },
  {
   "cell_type": "code",
   "execution_count": null,
   "id": "af0c032f",
   "metadata": {},
   "outputs": [],
   "source": [
    "#looking for outliers in TMIN Features with a Box-plot\n",
    "fig = go.Figure()\n",
    "\n",
    "fig.add_trace(go.Box(y=gcrno['DEM_GCRNO_H23'], name='DEM_GCRNO_H23'))\n",
    "fig.add_trace(go.Box(y=gcrno['DEM_GCRNO_H22'], name='DEM_GCRNO_H22'))\n",
    "fig.add_trace(go.Box(y=gcrno['DEM_GCRNO_H21'], name='DEM_GCRNO_H21'))\n",
    "\n",
    "fig.add_trace(go.Box(y=gcrno['DEM_GCRNO_H20'], name='DEM_GCRNO_H20'))\n",
    "fig.add_trace(go.Box(y=gcrno['DEM_GCRNO_H19'], name='DEM_GCRNO_H19'))\n",
    "fig.add_trace(go.Box(y=gcrno['DEM_GCRNO_H18'], name='DEM_GCRNO_H18'))\n",
    "fig.add_trace(go.Box(y=gcrno['DEM_GCRNO_H17'], name='DEM_GCRNO_H17'))\n",
    "fig.add_trace(go.Box(y=gcrno['DEM_GCRNO_H16'], name='DEM_GCRNO_H16'))\n",
    "fig.add_trace(go.Box(y=gcrno['DEM_GCRNO_H15'], name='DEM_GCRNO_H15'))\n",
    "fig.add_trace(go.Box(y=gcrno['DEM_GCRNO_H14'], name='DEM_GCRNO_H14'))\n",
    "fig.add_trace(go.Box(y=gcrno['DEM_GCRNO_H13'], name='DEM_GCRNO_H13'))\n",
    "fig.add_trace(go.Box(y=gcrno['DEM_GCRNO_H12'], name='DEM_GCRNO_H12'))\n",
    "fig.add_trace(go.Box(y=gcrno['DEM_GCRNO_H11'], name='DEM_GCRNO_H11'))\n",
    "\n",
    "fig.add_trace(go.Box(y=gcrno['DEM_GCRNO_H10'], name='DEM_GCRNO_H10'))\n",
    "fig.add_trace(go.Box(y=gcrno['DEM_GCRNO_H9'], name='DEM_GCRNO_H9'))\n",
    "fig.add_trace(go.Box(y=gcrno['DEM_GCRNO_H8'], name='DEM_GCRNO_H8'))\n",
    "fig.add_trace(go.Box(y=gcrno['DEM_GCRNO_H7'], name='DEM_GCRNO_H7'))\n",
    "fig.add_trace(go.Box(y=gcrno['DEM_GCRNO_H6'], name='DEM_GCRNO_H6'))\n",
    "fig.add_trace(go.Box(y=gcrno['DEM_GCRNO_H5'], name='DEM_GCRNO_H5'))\n",
    "fig.add_trace(go.Box(y=gcrno['DEM_GCRNO_H4'], name='DEM_GCRNO_H4'))\n",
    "fig.add_trace(go.Box(y=gcrno['DEM_GCRNO_H3'], name='DEM_GCRNO_H3'))\n",
    "fig.add_trace(go.Box(y=gcrno['DEM_GCRNO_H2'], name='DEM_GCRNO_H2'))\n",
    "fig.add_trace(go.Box(y=gcrno['DEM_GCRNO_H1'], name='DEM_GCRNO_H1'))\n",
    "fig.add_trace(go.Box(y=gcrno['DEM_GCRNO_H0'], name='DEM_GCRNO_H0'))\n",
    "\n",
    "fig.update_layout(title_text=\"DEM_GCRNO Features Description\", height=1000) \n",
    "fig.update(layout_showlegend=False)\n",
    "fig.show()\n",
    "#iplot(fig, image='svg', filename='DEM_GCRNO_features', image_width=960, image_height=640)"
   ]
  },
  {
   "cell_type": "markdown",
   "id": "f4db94db",
   "metadata": {
    "hidden": true
   },
   "source": [
    "<summary>\n",
    "    <font size=\"4\" color=\"orange\"><b>1.3. Dataframe rearrangement</b></font>\n",
    "</summary>\n",
    "\n",
    "The above dataframe will be transorm in a new one with:\n",
    "\n",
    "* *INSTANCES* (index):\n",
    "\n",
    "    **FECHA-HORA** (Date-Hour) specified in the format yyyy-mm-dd hh:00:00\n",
    "    \n",
    "    \n",
    "* *FEATURES*: \n",
    "\n",
    "    **DEMANDA** Load energy demand\n",
    "    \n",
    "    **DIA** (Day)\n",
    "       0 Monday \n",
    "       1 Tuesday \n",
    "       2 Wednesday \n",
    "       3 Thursday \n",
    "       4 Friday \n",
    "       5 Saturday \n",
    "       6 Sunday\n",
    "    \n",
    "    **HORA** (Hour 0–23)\n",
    "      \n",
    "    **MES** (Month)\n",
    "       1 January\n",
    "       2 February\n",
    "       3 March\n",
    "       4 April\n",
    "       5 May\n",
    "       6 Jun\n",
    "       7 July\n",
    "       8 August\n",
    "       9 September\n",
    "       10 Octuber\n",
    "       11 November\n",
    "       12 December\n",
    "    \n",
    "    And the following characteristics with constant value with respect to the day **TMAX-CAB**, **TMIN-CAB**, **TMAX-HMO**, **TMIN-HMO**, **TMAX-OBR**, **TMIN-OBR**,**TMAX-LMO**, **TMIN-LMO**, **TMAX-CUL**, **TMIN-CUL**, **PREC_HMO_MM**, **PREC_OBR_MM**, **PREC_LMO_MM**, **PREC_CUL_MM**, **LUNES_FESTIVO**, **MARTES_POSTFESTIVO**, **SEMANA_SANTA**, **1_MAYO**, **10_MAYO**, **16_SEP**, **2_NOV.**, **PRE-NAVIDAD_Y_NEW_YEAR**, **NAVIDAD_Y_NEW_YEAR**, **POST-NAVIDAD_Y_NEW_YEAR**."
   ]
  },
  {
   "cell_type": "code",
   "execution_count": null,
   "id": "aa7a1bac",
   "metadata": {
    "hidden": true
   },
   "outputs": [],
   "source": [
    "# Transposing hours columns from the original dataframe into rows\n",
    "consumo_data = gcrno.melt(\n",
    "    id_vars= ['FECHA'],\n",
    "    value_vars= [f'DEM_GCRNO_H{i}' for i in range(24)],\n",
    "    var_name=\"HORA\",\n",
    "    value_name=\"DEMANDA\"\n",
    ").replace(\n",
    "    {f'DEM_GCRNO_H{i}': i for i in range(24)}\n",
    ")\n",
    "# Creating Day, Hour and Month columns\n",
    "consumo_data.index = consumo_data.FECHA + pd.to_timedelta(consumo_data.HORA, unit='h')\n",
    "consumo_data.sort_index(inplace=True)\n",
    "consumo_data.drop(columns=['HORA'], inplace=True)\n",
    "consumo_data = consumo_data.asfreq('h', method='pad')\n",
    "consumo_data['FECHAHORA'] = consumo_data.index\n",
    "consumo_data[\"DIA\"] = consumo_data.index.weekday\n",
    "consumo_data[\"HORA\"] = consumo_data.index.hour\n",
    "consumo_data[\"MES\"] = consumo_data.index.month"
   ]
  },
  {
   "cell_type": "code",
   "execution_count": null,
   "id": "1cef35b0",
   "metadata": {
    "hidden": true
   },
   "outputs": [],
   "source": [
    "# Adding columns of exogenous variables\n",
    "exogenas = gcrno[['FECHA','TMAX-CAB', 'TMAX-HMO', 'TMAX-OBR', 'TMAX-LMO', 'TMAX-CUL', 'TMIN-CAB',\n",
    "       'TMIN-HMO', 'TMIN-OBR', 'TMIN-LMO', 'TMIN-CUL', 'PREC_HMO_MM',\n",
    "       'PREC_OBR_MM', 'PREC_LMO_MM', 'PREC_CUL_MM', 'LUNES_FESTIVO',\n",
    "       'MARTES_POSTFESTIVO', 'SEMANA_SANTA', '1_MAYO', '10_MAYO', '16_SEP',\n",
    "       '2_NOV.', 'PRE-NAVIDAD_Y_NEW_YEAR', 'NAVIDAD_Y_NEW_YEAR',\n",
    "       'POST-NAVIDAD_Y_NEW_YEAR']]\n",
    "consumo = pd.merge(consumo_data, exogenas, on='FECHA', how='left')"
   ]
  },
  {
   "cell_type": "code",
   "execution_count": null,
   "id": "b501f9d4",
   "metadata": {
    "hidden": true
   },
   "outputs": [],
   "source": [
    "# Setting as index the DATE-HOUR\n",
    "consumo.set_index(\"FECHAHORA\", inplace=True)\n",
    "consumo=consumo.asfreq('h')"
   ]
  },
  {
   "cell_type": "code",
   "execution_count": null,
   "id": "6db9f361",
   "metadata": {},
   "outputs": [],
   "source": [
    "consumo"
   ]
  },
  {
   "cell_type": "code",
   "execution_count": null,
   "id": "36a0acbf",
   "metadata": {},
   "outputs": [],
   "source": [
    "consumo['DIA'].unique()"
   ]
  },
  {
   "cell_type": "code",
   "execution_count": null,
   "id": "4ea3095e",
   "metadata": {
    "hidden": true
   },
   "outputs": [],
   "source": [
    "# Verifying existence of missing data \n",
    "consumo.info()"
   ]
  },
  {
   "cell_type": "markdown",
   "id": "8b8d9502",
   "metadata": {},
   "source": [
    "<summary>\n",
    "    <font size=\"4\" color=\"orange\"><b>2. Exploring variables</b></font>\n",
    "</summary>\n",
    "\n",
    "<br/>\n",
    "\n",
    "<summary>\n",
    "    <img src=\"img/lightsymbol.png\" alt=\"drawing\" width=\"15\" img align=\"left\" /> \n",
    "    <font size=\"3\" color=\"palevioletred\"><b>Energy Demand</b></font>\n",
    "</summary>"
   ]
  },
  {
   "cell_type": "code",
   "execution_count": null,
   "id": "a8cc26e1",
   "metadata": {},
   "outputs": [],
   "source": [
    "#looking for more information on endogenous Features Demanda\n",
    "consumo['DEMANDA'].describe()"
   ]
  },
  {
   "cell_type": "markdown",
   "id": "48cc4a24",
   "metadata": {},
   "source": [
    "#### This chart shows a similar figure year after year, it is also possible to see an ascending trend"
   ]
  },
  {
   "cell_type": "code",
   "execution_count": null,
   "id": "00c585fd",
   "metadata": {},
   "outputs": [],
   "source": [
    "fig = go.Figure()\n",
    "fig.add_trace(go.Scatter(x=consumo.index, y=consumo['DEMANDA'],\n",
    "                    mode='lines',\n",
    "                    name='Energy Demand'))\n",
    "                                         \n",
    "fig.update_layout(title_text=\"Energy Demand period 01/01/07-01/05/22\", height=600) \n",
    "\n",
    "\n",
    "fig.show()\n",
    "#iplot(fig, image='svg', filename='energy_demand_time_series', image_width=960, image_height=640)"
   ]
  },
  {
   "cell_type": "code",
   "execution_count": null,
   "id": "7a1c48bd",
   "metadata": {},
   "outputs": [],
   "source": [
    "consumo_week = consumo[(consumo.index >= '2022-05-02 00:00:00') &(consumo.index < '2022-05-09 00:00:00')]\n",
    "fig = go.Figure()\n",
    "fig.add_trace(go.Scatter(x=consumo_week.index, y=consumo_week['DEMANDA'],\n",
    "                    mode='lines',\n",
    "                    name='Energy Demand'))\n",
    "                                         \n",
    "fig.update_layout(title_text=\"Energy Demand: week example 02/05/22-08/05/22\", height=600) \n",
    "\n",
    "\n",
    "fig.show()\n",
    "#iplot(fig, image='svg', filename='week_energy_demand_time_series', image_width=960, image_height=640)"
   ]
  },
  {
   "cell_type": "code",
   "execution_count": null,
   "id": "dca2bb7f",
   "metadata": {},
   "outputs": [],
   "source": [
    "consumo_day = consumo[(consumo.index >= '2022-05-08 00:00:00') &(consumo.index < '2022-05-09 00:00:00')]\n",
    "fig = go.Figure()\n",
    "fig.add_trace(go.Scatter(x=consumo_day.index, y=consumo_day['DEMANDA'],\n",
    "                    mode='lines',\n",
    "                    name='Energy Demand'))\n",
    "                                         \n",
    "fig.update_layout(title_text=\"Energy Demand: day example 08/05/22\", height=600) \n",
    "\n",
    "\n",
    "fig.show()\n",
    "#iplot(fig, image='svg', filename='day_energy_demand_time_series', image_width=960, image_height=640)"
   ]
  },
  {
   "cell_type": "code",
   "execution_count": null,
   "id": "642fa6be",
   "metadata": {},
   "outputs": [],
   "source": [
    "#looking for outliers with a Box-plot\n",
    "\n",
    "fig = go.Figure()\n",
    "fig.add_trace(go.Box(x=consumo['DEMANDA'], name='Energy Demand'))\n",
    "fig.update_layout(title_text=\"Box Plot Energy Demand period 01/01/07-xx/05/22\", height=600) \n",
    "fig.show()"
   ]
  },
  {
   "cell_type": "code",
   "execution_count": null,
   "id": "868e1e3e",
   "metadata": {},
   "outputs": [],
   "source": [
    "#Histogram of Demanada\n",
    "fig = px.histogram(consumo, x=\"DEMANDA\", nbins=12, title=\"Histogram Energy Demand period 01/01/07-xx/05/22\")\n",
    "fig.show()"
   ]
  },
  {
   "cell_type": "markdown",
   "id": "4185a450",
   "metadata": {},
   "source": [
    "<summary>\n",
    "    <img src=\"img/meteosymbol.png\" alt=\"drawing\" width=\"60\" img align=\"left\" />\n",
    "    <font size=\"3\" color=\"palevioletred\"><b>Exogenous Meteorological Features</b></font>\n",
    "</summary>"
   ]
  },
  {
   "cell_type": "code",
   "execution_count": null,
   "id": "4314e455",
   "metadata": {},
   "outputs": [],
   "source": [
    "#looking for more information on enxogenous Features TMAX & TMIN\n",
    "consumo[['TMAX-CAB', 'TMAX-HMO', 'TMAX-OBR', 'TMAX-LMO', 'TMAX-CUL', 'TMIN-CAB',\n",
    "       'TMIN-HMO', 'TMIN-OBR', 'TMIN-LMO', 'TMIN-CUL']].describe()"
   ]
  },
  {
   "cell_type": "markdown",
   "id": "f5061bc4",
   "metadata": {},
   "source": [
    "#### Temperature features\n",
    "In order to understand the behavior of the energy demand data, we divided our data into the 4 seasons of the year."
   ]
  },
  {
   "cell_type": "code",
   "execution_count": null,
   "id": "e62e8c66",
   "metadata": {},
   "outputs": [],
   "source": [
    "consumo_summer = consumo[(consumo['FECHA'] >= '2007-06-21') \n",
    "                   & (consumo['FECHA'] < '2007-09-23')]\n",
    "\n",
    "consumo_autumn = consumo[(consumo['FECHA'] >= '2007-09-23') \n",
    "                   & (consumo['FECHA'] < '2007-12-21')]\n",
    "\n",
    "consumo_winter = consumo[(consumo['FECHA'] >= '2007-12-21') \n",
    "                   & (consumo['FECHA'] < '2008-03-21')]\n",
    "\n",
    "consumo_spring = consumo[(consumo['FECHA'] >= '2007-03-21') \n",
    "                   & (consumo['FECHA'] < '2007-06-21')]\n",
    "\n",
    "\n",
    "for i in range(8,22):\n",
    "    if len(str(i)) == 1:\n",
    "        year = f'200{i}'\n",
    "    else:\n",
    "        year = f'20{i}'\n",
    "        \n",
    "        summer = consumo[(consumo['FECHA'] >= f'{year}-06-21') \n",
    "                   & (consumo['FECHA'] < f'{year}-09-23')]\n",
    "    \n",
    "        autumn = consumo[(consumo['FECHA'] >= f'{year}-09-23') \n",
    "                   & (consumo['FECHA'] < f'{year}-12-21')]\n",
    "\n",
    "        winter = consumo[(consumo['FECHA'] >= f'{year}-12-21') \n",
    "                   & (consumo['FECHA'] < f'{int(year)+1}-03-21')]\n",
    "\n",
    "        spring = consumo[(consumo['FECHA'] >= f'{year}-03-21') \n",
    "                   & (consumo['FECHA'] < f'{year}-06-21')]\n",
    "        \n",
    "        consumo_summer = pd.concat([consumo_summer, summer])\n",
    "        consumo_autumn = pd.concat([consumo_autumn, autumn])\n",
    "        consumo_winter = pd.concat([consumo_winter, winter])\n",
    "        consumo_spring = pd.concat([consumo_spring, spring])\n",
    "        \n",
    "    "
   ]
  },
  {
   "cell_type": "code",
   "execution_count": null,
   "id": "fa79f565",
   "metadata": {},
   "outputs": [],
   "source": [
    "#CABORCA MAX & MIN TEMP 4 SEASONS\n",
    "fig = go.Figure()\n",
    "\n",
    "fig.add_trace(go.Box(y=consumo_spring['TMAX-CAB'], name='SPRING TMAX-CAB', fillcolor=\"rgba(158, 202, 57,0.5)\", line=dict(color=\"#9eca39\")))\n",
    "fig.add_trace(go.Box(y=consumo_spring['TMIN-CAB'], name='SPRING TMIN-CAB', fillcolor=\"rgba(158, 202, 57,0.5)\", line=dict(color=\"#9eca39\")))\n",
    "\n",
    "fig.add_trace(go.Box(y=consumo_summer['TMAX-CAB'], name='SUMMER TMAX-CAB', fillcolor=\"rgba(249, 190, 4,0.5)\", line=dict(color=\"#F9BE04\")))\n",
    "fig.add_trace(go.Box(y=consumo_summer['TMIN-CAB'], name='SUMMER TMIN-CAB', fillcolor=\"rgba(249, 190, 4,0.5)\", line=dict(color=\"#F9BE04\")))\n",
    "\n",
    "fig.add_trace(go.Box(y=consumo_autumn['TMAX-CAB'], name='AUTUMN TMAX-CAB', fillcolor=\"rgba(198, 111, 66,0.5)\", line=dict(color=\"#C66F42\")))\n",
    "fig.add_trace(go.Box(y=consumo_autumn['TMIN-CAB'], name='AUTUMN TMIN-CAB', fillcolor=\"rgba(198, 111, 66,0.5)\", line=dict(color=\"#C66F42\")))\n",
    "\n",
    "fig.add_trace(go.Box(y=consumo_winter['TMAX-CAB'], name='WINTER TMAX-CAB', fillcolor=\"rgba(112, 163, 187,0.5)\", line=dict(color=\"#70A3BB\")))\n",
    "fig.add_trace(go.Box(y=consumo_winter['TMIN-CAB'], name='WINTER TMIN-CAB', fillcolor=\"rgba(112, 163, 187,0.5)\", line=dict(color=\"#70A3BB\")))\n",
    "\n",
    "fig.update_layout(title_text=\"CABORCA MAX & MIN TEMP 4 SEASONS\", height=600) \n",
    "fig.show()\n",
    "#iplot(fig, image='svg', filename='caborca_tmax_tmin', image_width=960, image_height=640)"
   ]
  },
  {
   "cell_type": "code",
   "execution_count": null,
   "id": "faa8981c",
   "metadata": {},
   "outputs": [],
   "source": [
    "#HERMOSILLO MAX & MIN TEMP 4 SEASONS\n",
    "fig = go.Figure()\n",
    "\n",
    "fig.add_trace(go.Box(y=consumo_spring['TMAX-HMO'], name='SPRING TMAX-HMO', fillcolor=\"rgba(158, 202, 57,0.5)\", line=dict(color=\"#9eca39\")))\n",
    "fig.add_trace(go.Box(y=consumo_spring['TMIN-HMO'], name='SPRING TMIN-HMO', fillcolor=\"rgba(158, 202, 57,0.5)\", line=dict(color=\"#9eca39\")))\n",
    "\n",
    "fig.add_trace(go.Box(y=consumo_summer['TMAX-HMO'], name='SUMMER TMAX-HMO', fillcolor=\"rgba(249, 190, 4,0.5)\", line=dict(color=\"#F9BE04\")))\n",
    "fig.add_trace(go.Box(y=consumo_summer['TMIN-HMO'], name='SUMMER TMIN-HMO', fillcolor=\"rgba(249, 190, 4,0.5)\", line=dict(color=\"#F9BE04\")))\n",
    "\n",
    "fig.add_trace(go.Box(y=consumo_autumn['TMAX-HMO'], name='AUTUMN TMAX-HMO', fillcolor=\"rgba(198, 111, 66,0.5)\", line=dict(color=\"#C66F42\")))\n",
    "fig.add_trace(go.Box(y=consumo_autumn['TMIN-HMO'], name='AUTUMN TMIN-HMO', fillcolor=\"rgba(198, 111, 66,0.5)\", line=dict(color=\"#C66F42\")))\n",
    "\n",
    "fig.add_trace(go.Box(y=consumo_winter['TMAX-HMO'], name='WINTER TMAX-HMO', fillcolor=\"rgba(112, 163, 187,0.5)\", line=dict(color=\"#70A3BB\")))\n",
    "fig.add_trace(go.Box(y=consumo_winter['TMIN-HMO'], name='WINTER TMIN-HMO', fillcolor=\"rgba(112, 163, 187,0.5)\", line=dict(color=\"#70A3BB\")))\n",
    "\n",
    "fig.update_layout(title_text=\"HERMOSILLO MAX & MIN TEMP 4 SEASONS\", height=600) \n",
    "fig.show()\n",
    "#iplot(fig, image='svg', filename='hillo_tmax_tmin', image_width=960, image_height=640)"
   ]
  },
  {
   "cell_type": "code",
   "execution_count": null,
   "id": "43870151",
   "metadata": {},
   "outputs": [],
   "source": [
    "#OBREGON MAX & MIN TEMP 4 SEASONS\n",
    "fig = go.Figure()\n",
    "\n",
    "fig.add_trace(go.Box(y=consumo_spring['TMAX-OBR'], name='SPRING TMAX-OBR', fillcolor=\"rgba(158, 202, 57,0.5)\", line=dict(color=\"#9eca39\")))\n",
    "fig.add_trace(go.Box(y=consumo_spring['TMIN-OBR'], name='SPRING TMIN-OBR', fillcolor=\"rgba(158, 202, 57,0.5)\", line=dict(color=\"#9eca39\")))\n",
    "\n",
    "fig.add_trace(go.Box(y=consumo_summer['TMAX-OBR'], name='SUMMER TMAX-OBR', fillcolor=\"rgba(249, 190, 4,0.5)\", line=dict(color=\"#F9BE04\")))\n",
    "fig.add_trace(go.Box(y=consumo_summer['TMIN-OBR'], name='SUMMER TMIN-OBR', fillcolor=\"rgba(249, 190, 4,0.5)\", line=dict(color=\"#F9BE04\")))\n",
    "\n",
    "fig.add_trace(go.Box(y=consumo_autumn['TMAX-OBR'], name='AUTUMN TMAX-OBR', fillcolor=\"rgba(198, 111, 66,0.5)\", line=dict(color=\"#C66F42\")))\n",
    "fig.add_trace(go.Box(y=consumo_autumn['TMIN-OBR'], name='AUTUMN TMIN-OBR', fillcolor=\"rgba(198, 111, 66,0.5)\", line=dict(color=\"#C66F42\")))\n",
    "\n",
    "fig.add_trace(go.Box(y=consumo_winter['TMAX-OBR'], name='WINTER TMAX-OBR', fillcolor=\"rgba(112, 163, 187,0.5)\", line=dict(color=\"#70A3BB\")))\n",
    "fig.add_trace(go.Box(y=consumo_winter['TMIN-OBR'], name='WINTER TMIN-OBR', fillcolor=\"rgba(112, 163, 187,0.5)\", line=dict(color=\"#70A3BB\")))\n",
    "\n",
    "fig.update_layout(title_text=\"OBREGON MAX & MIN TEMP 4 SEASONS\", height=600) \n",
    "fig.show()\n",
    "#iplot(fig, image='svg', filename='obregon_tmax_tmin', image_width=960, image_height=640)"
   ]
  },
  {
   "cell_type": "code",
   "execution_count": null,
   "id": "b0fe3fb5",
   "metadata": {},
   "outputs": [],
   "source": [
    "#LOS MOCHIS MAX & MIN TEMP 4 SEASONS\n",
    "fig = go.Figure()\n",
    "\n",
    "fig.add_trace(go.Box(y=consumo_spring['TMAX-LMO'], name='SPRING TMAX-LMO', fillcolor=\"rgba(158, 202, 57,0.5)\", line=dict(color=\"#9eca39\")))\n",
    "fig.add_trace(go.Box(y=consumo_spring['TMIN-LMO'], name='SPRING TMIN-LMO', fillcolor=\"rgba(158, 202, 57,0.5)\", line=dict(color=\"#9eca39\")))\n",
    "\n",
    "fig.add_trace(go.Box(y=consumo_summer['TMAX-LMO'], name='SUMMER TMAX-LMO', fillcolor=\"rgba(249, 190, 4,0.5)\", line=dict(color=\"#F9BE04\")))\n",
    "fig.add_trace(go.Box(y=consumo_summer['TMIN-LMO'], name='SUMMER TMIN-LMO', fillcolor=\"rgba(249, 190, 4,0.5)\", line=dict(color=\"#F9BE04\")))\n",
    "\n",
    "fig.add_trace(go.Box(y=consumo_autumn['TMAX-LMO'], name='AUTUMN TMAX-LMO', fillcolor=\"rgba(198, 111, 66,0.5)\", line=dict(color=\"#C66F42\")))\n",
    "fig.add_trace(go.Box(y=consumo_autumn['TMIN-LMO'], name='AUTUMN TMIN-LMO', fillcolor=\"rgba(198, 111, 66,0.5)\", line=dict(color=\"#C66F42\")))\n",
    "\n",
    "fig.add_trace(go.Box(y=consumo_winter['TMAX-LMO'], name='WINTER TMAX-LMO', fillcolor=\"rgba(112, 163, 187,0.5)\", line=dict(color=\"#70A3BB\")))\n",
    "fig.add_trace(go.Box(y=consumo_winter['TMIN-LMO'], name='WINTER TMIN-LMO', fillcolor=\"rgba(112, 163, 187,0.5)\", line=dict(color=\"#70A3BB\")))\n",
    "\n",
    "fig.update_layout(title_text=\"LOS MOCHIS MAX & MIN TEMP 4 SEASONS\", height=600) \n",
    "fig.show()"
   ]
  },
  {
   "cell_type": "code",
   "execution_count": null,
   "id": "41f8effa",
   "metadata": {},
   "outputs": [],
   "source": [
    "#CULIACAN MAX & MIN TEMP 4 SEASONS\n",
    "fig = go.Figure()\n",
    "\n",
    "fig.add_trace(go.Box(y=consumo_spring['TMAX-CUL'], name='SPRING TMAX-CUL', fillcolor=\"rgba(158, 202, 57,0.5)\", line=dict(color=\"#9eca39\")))\n",
    "fig.add_trace(go.Box(y=consumo_spring['TMIN-CUL'], name='SPRING TMIN-CUL', fillcolor=\"rgba(158, 202, 57,0.5)\", line=dict(color=\"#9eca39\")))\n",
    "\n",
    "fig.add_trace(go.Box(y=consumo_summer['TMAX-CUL'], name='SUMMER TMAX-CUL', fillcolor=\"rgba(249, 190, 4,0.5)\", line=dict(color=\"#F9BE04\")))\n",
    "fig.add_trace(go.Box(y=consumo_summer['TMIN-CUL'], name='SUMMER TMIN-CUL', fillcolor=\"rgba(249, 190, 4,0.5)\", line=dict(color=\"#F9BE04\")))\n",
    "\n",
    "fig.add_trace(go.Box(y=consumo_autumn['TMAX-CUL'], name='AUTUMN TMAX-CUL', fillcolor=\"rgba(198, 111, 66,0.5)\", line=dict(color=\"#C66F42\")))\n",
    "fig.add_trace(go.Box(y=consumo_autumn['TMIN-CUL'], name='AUTUMN TMIN-CUL', fillcolor=\"rgba(198, 111, 66,0.5)\", line=dict(color=\"#C66F42\")))\n",
    "\n",
    "fig.add_trace(go.Box(y=consumo_winter['TMAX-CUL'], name='WINTER TMAX-CUL', fillcolor=\"rgba(112, 163, 187,0.5)\", line=dict(color=\"#70A3BB\")))\n",
    "fig.add_trace(go.Box(y=consumo_winter['TMIN-CUL'], name='WINTER TMIN-CUL', fillcolor=\"rgba(112, 163, 187,0.5)\", line=dict(color=\"#70A3BB\")))\n",
    "\n",
    "fig.update_layout(title_text=\"CULIACAN MAX & MIN TEMP 4 SEASONS\", height=600) \n",
    "fig.show()\n",
    "#iplot(fig, image='svg', filename='culiacan_tmax_tmin', image_width=960, image_height=640)"
   ]
  },
  {
   "cell_type": "markdown",
   "id": "1a871b59",
   "metadata": {},
   "source": [
    "#### Precipitation"
   ]
  },
  {
   "cell_type": "code",
   "execution_count": null,
   "id": "7c16f2dd",
   "metadata": {},
   "outputs": [],
   "source": [
    "#looking for more information on enxogenous Features Rainfall (PREC_XX_MM)\n",
    "consumo[['PREC_HMO_MM','PREC_OBR_MM', 'PREC_LMO_MM', 'PREC_CUL_MM']].describe()"
   ]
  },
  {
   "cell_type": "code",
   "execution_count": null,
   "id": "2ed92ed2",
   "metadata": {},
   "outputs": [],
   "source": [
    "#HERMOSILLO precipitation data\n",
    "\n",
    "# precipitation < 5 mm\n",
    "gcrno_prec_hillo = consumo[consumo['PREC_HMO_MM']<=4.9]\n",
    "gcrno_prec_hillo = pd.melt(gcrno_prec_hillo, value_vars=['PREC_HMO_MM'])\n",
    "\n",
    "# precipitation > 5 mm\n",
    "prec_hillo = consumo[consumo['PREC_HMO_MM']>4.9]\n",
    "prec_hillo = pd.melt(prec_hillo, value_vars=['PREC_HMO_MM'])\n",
    "prec_hillo_violin = prec_hillo\n",
    "prec_hillo.replace({'PREC_HMO_MM':'PREC_HMO_MM_>4.9'}, inplace=True)\n",
    "\n",
    "#precipitation dataframe\n",
    "prec_hillo = pd.concat([gcrno_prec_hillo, prec_hillo])\n",
    "\n",
    "prec_hillo[\"color\"] = prec_hillo[\"variable\"].map(\n",
    "{\"PREC_HMO_MM\":\"#F7C672\", \n",
    "\"PREC_HMO_MM_>4.9\":\"#17219C\"}\n",
    ")\n",
    "\n",
    "#qtys dataframe\n",
    "prec_hillo_status = prec_hillo['color'].value_counts().rename_axis('color').reset_index(name='qty_secs')\n",
    "prec_hillo_status['percent'] = prec_hillo_status['qty_secs']/5611\n",
    "prec_hillo_status"
   ]
  },
  {
   "cell_type": "code",
   "execution_count": null,
   "id": "da5024e8",
   "metadata": {},
   "outputs": [],
   "source": [
    "#ploting histogram HERMOSILLO precipitation\n",
    "fig = px.histogram(\n",
    "    prec_hillo,\n",
    "    x=\"value\",\n",
    "    labels={\"Close\": \"Closing Price\"},\n",
    "    title=\"Rainfall Hermosillo PREC_HMO_MM vs PREC_HMO_MM_>_4.9\",\n",
    "    barmode=\"overlay\",\n",
    "    color=\"variable\",\n",
    "    color_discrete_map={\n",
    "        \"PREC_HMO_MM\":\"#F7C672\", \n",
    "        \"PREC_HMO_MM_>4.9\":\"#29A5D0\"}\n",
    "    \n",
    ")\n",
    "fig.update_yaxes(type=\"log\")\n",
    "fig.update_layout(yaxis_title=\"Number of Days  (Log)\")\n",
    "fig.update_layout(xaxis_title=\"Precipitation mm\")\n",
    "fig.show()\n",
    "#iplot(fig, image='svg', filename='hillo_rainfall', image_width=960, image_height=640)"
   ]
  },
  {
   "cell_type": "code",
   "execution_count": null,
   "id": "9444d0c6",
   "metadata": {},
   "outputs": [],
   "source": [
    "#CD. OBREGÓN precipitation data\n",
    "\n",
    "# precipitation < 5 mm\n",
    "gcrno_prec_obr = consumo[consumo['PREC_OBR_MM']<=4.9]\n",
    "gcrno_prec_obr = pd.melt(gcrno_prec_obr, value_vars=['PREC_OBR_MM'])\n",
    "\n",
    "# precipitation > 5 mm\n",
    "prec_obr = consumo[consumo['PREC_OBR_MM']>4.9]\n",
    "prec_obr = pd.melt(prec_obr, value_vars=['PREC_OBR_MM'])\n",
    "\n",
    "#precipitation dataframe\n",
    "prec_obr_violin = prec_obr\n",
    "prec_obr.replace({'PREC_OBR_MM':'PREC_OBR_MM_>4.9'}, inplace=True)\n",
    "prec_obr = pd.concat([gcrno_prec_obr, prec_obr])\n",
    "\n",
    "prec_obr[\"color\"] = prec_obr[\"variable\"].map(\n",
    "{\"PREC_OBR_MM\":\"#F7C672\", \n",
    "\"PREC_OBR_MM_>4.9\":\"#17219C\"}\n",
    ")\n",
    "\n",
    "#qtys dataframe\n",
    "prec_obr_status = prec_obr['color'].value_counts().rename_axis('color').reset_index(name='qty_secs')\n",
    "prec_obr_status['percent'] = prec_obr_status['qty_secs']/5611\n",
    "prec_obr_status\n"
   ]
  },
  {
   "cell_type": "code",
   "execution_count": null,
   "id": "22c52f7d",
   "metadata": {},
   "outputs": [],
   "source": [
    "#ploting histogram CD. OBREGÓN  precipitation\n",
    "fig = px.histogram(\n",
    "    prec_obr,\n",
    "    x=\"value\",\n",
    "    labels={\"Close\": \"Closing Price\"},\n",
    "    title=\"Rainfall Cd. Obregón PREC_OBR_MM vs. PREC_OBR_MM_>4.9\",\n",
    "    barmode=\"overlay\",\n",
    "    color=\"variable\",\n",
    "    color_discrete_map={\n",
    "        \"PREC_OBR_MM\":\"#F7C672\", \n",
    "        \"PREC_OBR_MM_>4.9\":\"#29A5D0\"}\n",
    "    \n",
    ")\n",
    "fig.update_yaxes(type=\"log\")\n",
    "fig.update_layout(yaxis_title=\"Number of Days (Log)\")\n",
    "fig.update_layout(xaxis_title=\"Precipitation mm\")\n",
    "fig.show()\n",
    "#iplot(fig, image='svg', filename='obregon_rainfall', image_width=960, image_height=640)"
   ]
  },
  {
   "cell_type": "code",
   "execution_count": null,
   "id": "e33aea55",
   "metadata": {},
   "outputs": [],
   "source": [
    "#LOS MOCHIS precipitation data\n",
    "\n",
    "# precipitation < 5 mm\n",
    "gcrno_prec = consumo[consumo['PREC_LMO_MM']<=4.9]\n",
    "gcrno_prec = pd.melt(gcrno_prec, value_vars=['PREC_LMO_MM'])\n",
    "\n",
    "# precipitation > 5 mm\n",
    "prec = consumo[consumo['PREC_LMO_MM']>4.9]\n",
    "prec = pd.melt(prec, value_vars=['PREC_LMO_MM'])\n",
    "\n",
    "#precipitation dataframe\n",
    "prec_lmo_violin = prec\n",
    "prec.replace({'PREC_LMO_MM':'PREC_LMO_MM_>4.9'}, inplace=True)\n",
    "prec = pd.concat([gcrno_prec, prec])\n",
    "\n",
    "prec[\"color\"] = prec[\"variable\"].map(\n",
    "{\"PREC_LMO_MM\":\"#F7C672\", \n",
    " \"PREC_LMO_MM_>4.9\":\"#29A5D0\"}\n",
    ")\n",
    "\n",
    "#qtys dataframe\n",
    "prec_status = prec['color'].value_counts().rename_axis('color').reset_index(name='qty_secs')\n",
    "prec_status['percent'] = prec_status['qty_secs']/5611\n",
    "prec_status"
   ]
  },
  {
   "cell_type": "code",
   "execution_count": null,
   "id": "2793cd51",
   "metadata": {},
   "outputs": [],
   "source": [
    "#ploting histogram LOS MOCHIS  precipitation\n",
    "fig = px.histogram(\n",
    "    prec,\n",
    "    x=\"value\",\n",
    "    labels={\"Close\": \"Closing Price\"},\n",
    "    title=\"Rainfall Los Mochis PREC_LMO_MM vs PREC_LMO_MM_>_4.9\",\n",
    "    barmode=\"overlay\",\n",
    "    color=\"variable\",\n",
    "    color_discrete_map={\n",
    "        \"PREC_LMO_MM\":\"#F7C672\", \n",
    "        \"PREC_LMO_MM_>4.9\":\"#29A5D0\"}\n",
    "    \n",
    ")\n",
    "fig.update_yaxes(type=\"log\")\n",
    "fig.update_layout(yaxis_title=\"Number of Days\")\n",
    "fig.update_layout(xaxis_title=\"Precipitation mm\")\n",
    "fig.show()\n",
    "#iplot(fig, image='svg', filename='los_mochis_rainfall', image_width=960, image_height=640)"
   ]
  },
  {
   "cell_type": "code",
   "execution_count": null,
   "id": "c3e14ae1",
   "metadata": {},
   "outputs": [],
   "source": [
    "#CULIACAN precipitation data\n",
    "\n",
    "# precipitation < 5 mm\n",
    "gcrno_prec = consumo[consumo['PREC_CUL_MM']<=4.9]\n",
    "gcrno_prec = pd.melt(gcrno_prec, value_vars=['PREC_CUL_MM'])\n",
    "\n",
    "# precipitation > 5 mm\n",
    "prec = consumo[consumo['PREC_CUL_MM']>4.9]\n",
    "prec = pd.melt(prec, value_vars=['PREC_CUL_MM'])\n",
    "\n",
    "#precipitation dataframe\n",
    "prec_cul_violin = prec\n",
    "prec.replace({'PREC_CUL_MM':'PREC_CUL_MM>4.9'}, inplace=True)\n",
    "prec = pd.concat([gcrno_prec, prec])\n",
    "\n",
    "prec[\"color\"] = prec[\"variable\"].map(\n",
    "{\"PREC_CUL_MM\":\"#F7C672\", \n",
    "\"PREC_CUL_MM>4.9\":\"#17219C\"}\n",
    ")\n",
    "\n",
    "#qtys dataframe\n",
    "prec_status = prec['color'].value_counts().rename_axis('color').reset_index(name='qty_secs')\n",
    "prec_status['percent'] = prec_status['qty_secs']/5611\n",
    "prec_status"
   ]
  },
  {
   "cell_type": "code",
   "execution_count": null,
   "id": "bfd0a8cc",
   "metadata": {},
   "outputs": [],
   "source": [
    "#ploting histogram CULIACAN  precipitation\n",
    "fig = px.histogram(\n",
    "    prec,\n",
    "    x=\"value\",\n",
    "    labels={\"Close\": \"Closing Price\"},\n",
    "    title=\"Rainfall Culiacán PREC_CUL_MM vs. PREC_CUL_MM_>_4.9\",\n",
    "    barmode=\"overlay\",\n",
    "    color=\"variable\",\n",
    "    color_discrete_map={\n",
    "        \"PREC_CUL_MM\":\"#F7C672\", \n",
    "        \"PREC_CUL_MM>4.9\":\"#29A5D0\"}\n",
    "    \n",
    ")\n",
    "fig.update_yaxes(type=\"log\")\n",
    "fig.update_layout(yaxis_title=\"Number of Days\")\n",
    "fig.update_layout(xaxis_title=\"Precipitation mm\")\n",
    "fig.show()\n",
    "#iplot(fig, image='svg', filename='culiacan_rainfall', image_width=960, image_height=640)"
   ]
  },
  {
   "cell_type": "code",
   "execution_count": null,
   "id": "f32f5f96",
   "metadata": {},
   "outputs": [],
   "source": [
    "#correlation DEMANDA & Exogenuos Meteorological Features\n",
    "\n",
    "corrMatrix = consumo[['DEMANDA','TMAX-CAB', 'TMAX-HMO', 'TMAX-OBR', 'TMAX-LMO', 'TMAX-CUL', 'TMIN-CAB',\n",
    "       'TMIN-HMO', 'TMIN-OBR', 'TMIN-LMO', 'TMIN-CUL','PREC_HMO_MM','PREC_OBR_MM', 'PREC_LMO_MM', 'PREC_CUL_MM']].corr()\n",
    "sns.heatmap(corrMatrix, annot=True)\n",
    "plt.show()"
   ]
  },
  {
   "cell_type": "code",
   "execution_count": null,
   "id": "bb888d51",
   "metadata": {
    "scrolled": true
   },
   "outputs": [],
   "source": [
    "# Multiple scatter Matrix DEMANDA vs TMAX Exogenuos Meteorological Features\n",
    "fig = px.scatter_matrix(consumo, dimensions=['TMAX-CAB', 'TMAX-HMO', 'TMAX-OBR', 'TMAX-LMO', 'TMAX-CUL'], color=\"DEMANDA\")\n",
    "fig.update_layout(title_text=\"Multiple scatter Matrix DEMANDA vs TMAX Exogenuos Meteorological Features\", height=1200) \n",
    "fig.show()"
   ]
  },
  {
   "cell_type": "code",
   "execution_count": null,
   "id": "047597c6",
   "metadata": {},
   "outputs": [],
   "source": [
    "# Multiple scatter Matrix DEMANDA vs TMIN Exogenuos Meteorological Features\n",
    "fig = px.scatter_matrix(consumo, dimensions=['TMIN-CAB', 'TMIN-HMO', 'TMIN-OBR', 'TMIN-LMO', 'TMIN-CUL'], color=\"DEMANDA\")\n",
    "fig.update_layout(title_text=\"Multiple scatter Matrix DEMANDA vs TMIN Exogenuos Meteorological Features\", height=1200) \n",
    "fig.show()"
   ]
  },
  {
   "cell_type": "code",
   "execution_count": null,
   "id": "f8834e0f",
   "metadata": {},
   "outputs": [],
   "source": [
    "# Multiple scatter Matrix DEMANDA vs Rainfall Exogenuos Meteorological Features\n",
    "fig = px.scatter_matrix(consumo, dimensions=['PREC_HMO_MM','PREC_OBR_MM', 'PREC_LMO_MM', 'PREC_CUL_MM'], color=\"DEMANDA\")\n",
    "fig.update_layout(title_text=\"Multiple scatter Matrix DEMANDA vs Rainfall Exogenuos Meteorological Features\", height=1200) \n",
    "fig.show()"
   ]
  },
  {
   "cell_type": "markdown",
   "id": "b06a55cf",
   "metadata": {},
   "source": [
    "<summary>\n",
    "    <img src=\"img/calendarsymbol.png\" width=\"25\" img align=\"left\" />  \n",
    "    <font size=\"3\" color=\"palevioletred\"><b>Exogenous Calendar Features </b></font>\n",
    "</summary>    "
   ]
  },
  {
   "cell_type": "code",
   "execution_count": null,
   "id": "173569e6",
   "metadata": {},
   "outputs": [],
   "source": [
    "#correlation DEMANDA & Exogenuos Calendar Features\n",
    "\n",
    "corrMatrix = consumo[['LUNES_FESTIVO',\n",
    "       'MARTES_POSTFESTIVO', 'SEMANA_SANTA', '1_MAYO', '10_MAYO', '16_SEP',\n",
    "       '2_NOV.', 'PRE-NAVIDAD_Y_NEW_YEAR', 'NAVIDAD_Y_NEW_YEAR',\n",
    "       'POST-NAVIDAD_Y_NEW_YEAR']].corr()\n",
    "sns.heatmap(corrMatrix, annot=True)\n",
    "plt.show()"
   ]
  },
  {
   "cell_type": "code",
   "execution_count": null,
   "id": "bc367407",
   "metadata": {
    "hidden": true
   },
   "outputs": [],
   "source": [
    "from IPython import display\n",
    "display.Image(\"https://mcd.unison.mx/wp-content/themes/awaken/img/logo_mcd.png\", embed = True)"
   ]
  },
  {
   "cell_type": "markdown",
   "id": "bec571e5",
   "metadata": {
    "hidden": true
   },
   "source": [
    "<summary>\n",
    "    <font size=\"4\" color=\"gray\"> Maestría en Ciencia de Datos | Universidad de Sonora </font>\n",
    "</summary>\n",
    "<font size=\"1\" color=\"gray\"> Blvd. Luis Encinas y Rosales s/n Col. Centro. Edificio 3K1 planta baja C.P. 83000, Hermosillo, Sonora, México </font>\n",
    "<font size=\"1\" color=\"gray\"> mcd@unison.mx </font>\n",
    "<font size=\"1\" color=\"gray\"> Tel: +52 (662) 259 2155  </font>"
   ]
  },
  {
   "cell_type": "markdown",
   "id": "485adc07",
   "metadata": {
    "hidden": true
   },
   "source": [
    "\n"
   ]
  }
 ],
 "metadata": {
  "kernelspec": {
   "display_name": "Python 3.10.2 64-bit",
   "language": "python",
   "name": "python3"
  },
  "language_info": {
   "codemirror_mode": {
    "name": "ipython",
    "version": 3
   },
   "file_extension": ".py",
   "mimetype": "text/x-python",
   "name": "python",
   "nbconvert_exporter": "python",
   "pygments_lexer": "ipython3",
   "version": "3.10.2"
  },
  "vscode": {
   "interpreter": {
    "hash": "aee8b7b246df8f9039afb4144a1f6fd8d2ca17a180786b69acc140d282b71a49"
   }
  }
 },
 "nbformat": 4,
 "nbformat_minor": 5
}
