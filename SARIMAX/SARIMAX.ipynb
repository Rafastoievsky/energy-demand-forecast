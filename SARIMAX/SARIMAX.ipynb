{
 "cells": [
  {
   "cell_type": "markdown",
   "metadata": {},
   "source": [
    "![spam](img/sarimax.png)"
   ]
  },
  {
   "cell_type": "markdown",
   "metadata": {},
   "source": [
    "# Método de Box-Jenkins \n"
   ]
  },
  {
   "cell_type": "code",
   "execution_count": 1,
   "metadata": {},
   "outputs": [],
   "source": [
    "import warnings\n",
    "warnings.filterwarnings('ignore')"
   ]
  },
  {
   "cell_type": "code",
   "execution_count": 2,
   "metadata": {},
   "outputs": [],
   "source": [
    "#%pip install pmdarima"
   ]
  },
  {
   "cell_type": "markdown",
   "metadata": {},
   "source": [
    "## 1.   Exploratory Data Analysis "
   ]
  },
  {
   "cell_type": "markdown",
   "metadata": {},
   "source": [
    "<summary>\n",
    "    <font size=\"4\" color=\"orange\"><b>1.1 Importing libraries and functions</b></font>\n",
    "</summary>"
   ]
  },
  {
   "cell_type": "code",
   "execution_count": 3,
   "metadata": {},
   "outputs": [],
   "source": [
    "import matplotlib.pyplot as plt\n",
    "import pandas as pd\n",
    "import numpy as np\n",
    "%matplotlib inline\n",
    "#import seaborn as sns\n",
    "import plotly.graph_objects as go\n",
    "import plotly.express as px\n",
    "\n",
    "import statsmodels.tsa.stattools as sts\n",
    "from statsmodels.tsa.stattools import acf,pacf,pacf_ols\n",
    "from statsmodels.graphics.tsaplots import plot_acf, plot_pacf\n",
    "from statsmodels.tsa.seasonal import seasonal_decompose\n",
    "\n",
    "import scipy\n",
    "from scipy import stats\n",
    "\n",
    "#import pmdarima as pm\n",
    "#from pmdarima.model_selection import train_test_split\n",
    "\n",
    "from statsmodels.tsa.statespace.sarimax import SARIMAX\n",
    "from sklearn.metrics import r2_score\n",
    "import warnings\n",
    "import json\n",
    "\n",
    "# Importing PCA functions for futher processing\n",
    "%run \"./funciones/pcafunction.ipynb\"\n",
    "\n",
    "pd.set_option('display.max_rows', 300)"
   ]
  },
  {
   "cell_type": "markdown",
   "metadata": {},
   "source": [
    "<summary>\n",
    "    <font size=\"4\" color=\"orange\"><b>1.2 Loading CENACE database: 49 input variables </b></font>\n",
    "</summary>"
   ]
  },
  {
   "cell_type": "markdown",
   "metadata": {},
   "source": [
    "<img src=\"img/calendarsymbol.png\" width=\"40\" img align=\"left\" />  \n",
    "\n",
    "<font size=\"3\" color=\"palevioletred\"><b>Exogenous Calendar Features </b></font>"
   ]
  },
  {
   "cell_type": "markdown",
   "metadata": {},
   "source": [
    "* **FECHA** (yy-mm-dd): Date\n",
    "\n",
    "\"Holiday\" (0|1) indicator:\n",
    "\n",
    "* **Lunes_Festivo**: Holiday Monday\n",
    "\n",
    "* **Martes_PostFestivo**: Day after holiday Monday\n",
    "\n",
    "* **Semana_Santa**: Holy Week\n",
    "\n",
    "* **1_Mayo**: May 1\n",
    "\n",
    "* **10_Mayo**: May 10\n",
    "\n",
    "* **16_Sep**: September 16\n",
    "\n",
    "* **2_Nov.**: November 2\n",
    "\n",
    "* **Pre-Navidad_y_new_year**: Day before Christmas or New Year\n",
    "\n",
    "* **Navidad_y_new_year**: Christmas or New Year\n",
    "\n",
    "* **Post-Navidad_y_new_year**: Day after Christmas or New Year"
   ]
  },
  {
   "cell_type": "markdown",
   "metadata": {},
   "source": [
    "<img src=\"img/lightsymbol.png\" alt=\"drawing\" width=\"25\" img align=\"left\" />  \n",
    "\n",
    "<font size=\"3\" color=\"palevioletred\"><b>Endogenous Feature</b></font>"
   ]
  },
  {
   "cell_type": "markdown",
   "metadata": {},
   "source": [
    "* **DEM_GCRNO_H$i$** (MW): Load energy demand in GCRNO (Gerencia de Control de Noroeste)  zone from hour $i$ to hour $i+1$ of the corresponding date, for $i=0,\\dots 23$."
   ]
  },
  {
   "cell_type": "markdown",
   "metadata": {},
   "source": [
    "<img src=\"img/meteosymbol.png\" alt=\"drawing\" width=\"60\" img align=\"left\" />\n",
    "\n",
    "<font size=\"3\" color=\"palevioletred\"><b>Exogenous Meteorological Features</b></font>"
   ]
  },
  {
   "cell_type": "markdown",
   "metadata": {},
   "source": [
    "* **TMAX-CAB**, **TMIN-CAB**, **TMAX-HMO**, **TMIN-HMO**, **TMAX-OBR**, **TMIN-OBR**,**TMAX-LMO**, **TMIN-LMO**, **TMAX-CUL**, **TMIN-CUL** ($^\\circ$C): Maximum and minimum temperature in Caborca, Hermosillo, Ciudad Obregón, Los Mochis and Culiacán, respectively.\n",
    "\n",
    "* **PREC_HMO_mm**, **PREC_OBR_mm**, **PREC_LMO_mm**, **PREC_CUL_mm**  (mm/h): Precipitation in Hermosillo, Ciudad Obregón, Los Mochis and Culiacán, respectively.\n",
    "\n"
   ]
  },
  {
   "cell_type": "code",
   "execution_count": 4,
   "metadata": {},
   "outputs": [
    {
     "data": {
      "text/plain": [
       "Index(['FECHA', 'DEM_GCRNO_H0', 'DEM_GCRNO_H1', 'DEM_GCRNO_H2', 'DEM_GCRNO_H3',\n",
       "       'DEM_GCRNO_H4', 'DEM_GCRNO_H5', 'DEM_GCRNO_H6', 'DEM_GCRNO_H7',\n",
       "       'DEM_GCRNO_H8', 'DEM_GCRNO_H9', 'DEM_GCRNO_H10', 'DEM_GCRNO_H11',\n",
       "       'DEM_GCRNO_H12', 'DEM_GCRNO_H13', 'DEM_GCRNO_H14', 'DEM_GCRNO_H15',\n",
       "       'DEM_GCRNO_H16', 'DEM_GCRNO_H17', 'DEM_GCRNO_H18', 'DEM_GCRNO_H19',\n",
       "       'DEM_GCRNO_H20', 'DEM_GCRNO_H21', 'DEM_GCRNO_H22', 'DEM_GCRNO_H23',\n",
       "       'TMAX-CAB', 'TMAX-HMO', 'TMAX-OBR', 'TMAX-LMO', 'TMAX-CUL', 'TMIN-CAB',\n",
       "       'TMIN-HMO', 'TMIN-OBR', 'TMIN-LMO', 'TMIN-CUL', 'PREC_HMO_MM',\n",
       "       'PREC_OBR_MM', 'PREC_LMO_MM', 'PREC_CUL_MM', 'LUNES_FESTIVO',\n",
       "       'MARTES_POSTFESTIVO', 'SEMANA_SANTA', '1_MAYO', '10_MAYO', '16_SEP',\n",
       "       '2_NOV.', 'PRE-NAVIDAD_Y_NEW_YEAR', 'NAVIDAD_Y_NEW_YEAR',\n",
       "       'POST-NAVIDAD_Y_NEW_YEAR'],\n",
       "      dtype='object')"
      ]
     },
     "execution_count": 4,
     "metadata": {},
     "output_type": "execute_result"
    }
   ],
   "source": [
    "# Importing load energy consumption CENACE database\n",
    "url = \"./inputs/Dataset GCRNO120522 DF.xlsx\" #data\n",
    "gcrno = pd.read_excel(url)\n",
    "gcrno.columns"
   ]
  },
  {
   "cell_type": "markdown",
   "metadata": {},
   "source": [
    "<summary>\n",
    "    <font size=\"4\" color=\"orange\"><b>1.3. Dataframe rearrangement</b></font>\n",
    "</summary>\n",
    "\n",
    "The above dataframe will be transorm in a new one with:\n",
    "\n",
    "* *INSTANCES* (index):\n",
    "\n",
    "    **FECHA-HORA** (Date-Hour) specified in the format yyyy-mm-dd hh:00:00\n",
    "    \n",
    "    \n",
    "* *FEATURES*: \n",
    "\n",
    "    **DEMANDA** Load energy demand\n",
    "    \n",
    "    **DIA** (Day)\n",
    "       0 Monday \n",
    "       1 Tuesday \n",
    "       2 Wednesday \n",
    "       3 Thursday \n",
    "       4 Friday \n",
    "       5 Saturday \n",
    "       6 Sunday\n",
    "    \n",
    "    **HORA** (Hour 0–23)\n",
    "      \n",
    "    **MES** (Month)\n",
    "       1 January\n",
    "       2 February\n",
    "       3 March\n",
    "       4 April\n",
    "       5 May\n",
    "       6 Jun\n",
    "       7 July\n",
    "       8 August\n",
    "       9 September\n",
    "       10 Octuber\n",
    "       11 November\n",
    "       12 December\n",
    "    \n",
    "    And the following characteristics with constant value with respect to the day **TMAX-CAB**, **TMIN-CAB**, **TMAX-HMO**, **TMIN-HMO**, **TMAX-OBR**, **TMIN-OBR**,**TMAX-LMO**, **TMIN-LMO**, **TMAX-CUL**, **TMIN-CUL**, **PREC_HMO_MM**, **PREC_OBR_MM**, **PREC_LMO_MM**, **PREC_CUL_MM**, **LUNES_FESTIVO**, **MARTES_POSTFESTIVO**, **SEMANA_SANTA**, **1_MAYO**, **10_MAYO**, **16_SEP**, **2_NOV.**, **PRE-NAVIDAD_Y_NEW_YEAR**, **NAVIDAD_Y_NEW_YEAR**, **POST-NAVIDAD_Y_NEW_YEAR**."
   ]
  },
  {
   "cell_type": "code",
   "execution_count": 5,
   "metadata": {},
   "outputs": [],
   "source": [
    "# Transposing hours columns from the original dataframe into rows\n",
    "consumo_data = gcrno.melt(\n",
    "    id_vars= ['FECHA'],\n",
    "    value_vars= [f'DEM_GCRNO_H{i}' for i in range(24)],\n",
    "    var_name=\"HORA\",\n",
    "    value_name=\"DEMANDA\"\n",
    ").replace(\n",
    "    {f'DEM_GCRNO_H{i}': i for i in range(24)}\n",
    ")\n",
    "# Creating Day, Hour and Month columns\n",
    "consumo_data.index = consumo_data.FECHA + pd.to_timedelta(consumo_data.HORA, unit='h')\n",
    "consumo_data.sort_index(inplace=True)\n",
    "consumo_data.drop(columns=['HORA'], inplace=True)\n",
    "consumo_data = consumo_data.asfreq('h', method='pad')\n",
    "consumo_data['FECHAHORA'] = consumo_data.index\n",
    "consumo_data[\"DIA\"] = consumo_data.index.weekday\n",
    "consumo_data[\"HORA\"] = consumo_data.index.hour\n",
    "consumo_data[\"MES\"] = consumo_data.index.month"
   ]
  },
  {
   "cell_type": "code",
   "execution_count": 6,
   "metadata": {},
   "outputs": [],
   "source": [
    "# Adding columns of exogenous variables\n",
    "exogenas = gcrno[['FECHA','TMAX-CAB', 'TMAX-HMO', 'TMAX-OBR', 'TMAX-LMO', 'TMAX-CUL', 'TMIN-CAB',\n",
    "       'TMIN-HMO', 'TMIN-OBR', 'TMIN-LMO', 'TMIN-CUL', 'PREC_HMO_MM',\n",
    "       'PREC_OBR_MM', 'PREC_LMO_MM', 'PREC_CUL_MM', 'LUNES_FESTIVO',\n",
    "       'MARTES_POSTFESTIVO', 'SEMANA_SANTA', '1_MAYO', '10_MAYO', '16_SEP',\n",
    "       '2_NOV.', 'PRE-NAVIDAD_Y_NEW_YEAR', 'NAVIDAD_Y_NEW_YEAR',\n",
    "       'POST-NAVIDAD_Y_NEW_YEAR']]\n",
    "consumo = pd.merge(consumo_data, exogenas, on='FECHA', how='left')"
   ]
  },
  {
   "cell_type": "code",
   "execution_count": 7,
   "metadata": {},
   "outputs": [],
   "source": [
    "# Setting as index the DATE-HOUR\n",
    "consumo.set_index(\"FECHAHORA\", inplace=True)\n",
    "consumo=consumo.asfreq('h')\n",
    "consumo['FECHA-HORA'] = consumo.index"
   ]
  },
  {
   "cell_type": "markdown",
   "metadata": {},
   "source": [
    "## 2.   Splitting data into training, test and validation sets"
   ]
  },
  {
   "cell_type": "markdown",
   "metadata": {},
   "source": [
    "\n",
    "* Training: 70 %\n",
    "* Validation 20 %\n",
    "* Test: 10 %\n",
    "\n",
    "For periodic retraining use all available data and separate just a validation set for the optimization process."
   ]
  },
  {
   "cell_type": "code",
   "execution_count": 8,
   "metadata": {},
   "outputs": [],
   "source": [
    "# Splitting the dataset into training, test and validation sets\n",
    "df_train = consumo[consumo['FECHA-HORA'] < '2021-12-21 00:00:00']\n",
    "df_test   = consumo[(consumo['FECHA-HORA'] >= '2021-03-21 00:00:00') \n",
    "                   & (consumo['FECHA-HORA'] < '2022-03-22 00:00:00')]\n",
    "df_val  = consumo[(consumo['FECHA-HORA'] >= '2021-12-21 00:00:00') &\n",
    "                          (consumo['FECHA-HORA'] < '2021-03-21 00:00:00') ]"
   ]
  },
  {
   "cell_type": "markdown",
   "metadata": {},
   "source": [
    "## 3.    Feature engineering"
   ]
  },
  {
   "cell_type": "markdown",
   "metadata": {},
   "source": [
    "The  <font size=\"3\" color=\"palevioletred\"><b>random features</b></font> of the training dataframe are recoded (via a principal component procedure) on the features:\n",
    "\n",
    "\n",
    "* **PC1_WEATHER** \n"
   ]
  },
  {
   "cell_type": "markdown",
   "metadata": {},
   "source": [
    "<summary>\n",
    "    <font size=\"4\" color=\"orange\"><b>3.1 PCA procedure </b></font>\n",
    "</summary>"
   ]
  },
  {
   "cell_type": "code",
   "execution_count": 9,
   "metadata": {},
   "outputs": [
    {
     "data": {
      "text/plain": [
       "Index(['PC1_WEATHER', 'PC2_WEATHER', 'FECHA-HORA', 'DEMANDA', 'MES', 'DIA',\n",
       "       'HORA', 'LUNES_FESTIVO', 'MARTES_POSTFESTIVO', 'SEMANA_SANTA', '1_MAYO',\n",
       "       '10_MAYO', '16_SEP', '2_NOV.', 'PRE-NAVIDAD_Y_NEW_YEAR',\n",
       "       'NAVIDAD_Y_NEW_YEAR', 'POST-NAVIDAD_Y_NEW_YEAR'],\n",
       "      dtype='object')"
      ]
     },
     "execution_count": 9,
     "metadata": {},
     "output_type": "execute_result"
    }
   ],
   "source": [
    "# Setting new columns from training set\n",
    "pca_exogenas_train, pca_weather,scaler_model_weather= exogen_pca(df_train, 'FECHA-HORA')\n",
    "\n",
    "# Applying training parameters to:\n",
    "## Test set  \n",
    "\n",
    "csv_data = transform_data(df_test,'FECHA-HORA',pca_weather,scaler_model_weather)\n",
    "csv_data.columns"
   ]
  },
  {
   "cell_type": "code",
   "execution_count": 11,
   "metadata": {},
   "outputs": [],
   "source": [
    "csv_data = csv_data[['FECHA-HORA', 'DEMANDA', 'PC1_WEATHER', 'PC2_WEATHER','MES',\n",
    "       'DIA', 'HORA', 'LUNES_FESTIVO', 'MARTES_POSTFESTIVO', 'SEMANA_SANTA',\n",
    "       '1_MAYO', '10_MAYO', '16_SEP', '2_NOV.', 'PRE-NAVIDAD_Y_NEW_YEAR',\n",
    "       'NAVIDAD_Y_NEW_YEAR', 'POST-NAVIDAD_Y_NEW_YEAR']]\n",
    "\n",
    "csv_data['Fecha'] = csv_data[\"FECHA-HORA\"]\n",
    "csv_data.columns = map(str.lower, csv_data.columns)"
   ]
  },
  {
   "cell_type": "markdown",
   "metadata": {},
   "source": [
    "## 4.    APPLING SARIMAX MODEL"
   ]
  },
  {
   "cell_type": "markdown",
   "metadata": {},
   "source": [
    "<summary>\n",
    "    <font size=\"4\" color=\"orange\"><b>4.1 SARIMAX function procedure </b></font>\n",
    "</summary>"
   ]
  },
  {
   "cell_type": "code",
   "execution_count": null,
   "metadata": {},
   "outputs": [],
   "source": [
    "def CSVauto_arima(csv_file,data_inicial,data_final):\n",
    "    \n",
    "    #Take the data of the first 16 days (24 * 16 = 384 hours) of C and perform a split, 15 days\n",
    "    #(360 hours) for training and 1 day (24 hours) for testing\n",
    "    \n",
    "    \n",
    "    data_to_autorima = csv_file.iloc[data_inicial:data_final]\n",
    "    data_to_autorima.index.freq = 'h'\n",
    "    result_data =[]\n",
    "    csv_file.index.freq = 'h'\n",
    "    Ntest = 24\n",
    "    train = data_to_autorima.iloc[:-Ntest]\n",
    "    test = data_to_autorima.iloc[-Ntest:]\n",
    "    train_idx = csv_file.index <= train.index[-1]\n",
    "    test_idx = csv_file.index > train.index[-1]\n",
    "    \n",
    "    #Specify which variables will make up the matrix of exogenous variables\n",
    "    exogen_train = train.loc[:,'pc1_weather':'post-navidad_y_new_year']\n",
    "    \n",
    "    \n",
    "    #Call auto_arima library, using the training data set (360 hours)\n",
    "    model = pm.auto_arima(train['demanda'], d=1, seasonal=True, m=24, exog=exogen_train,\n",
    "                      supress_warnings=True, trace=True)\n",
    "    \n",
    "    print(model)\n",
    "    \n",
    "    #From the results of the auto_arima model, the SARIMAX model will be configured, using\n",
    "    #the training data set (360 hours) \n",
    "    sarimax = SARIMAX(train['demanda'], order=model.order, exog=exogen_train, seasonal_order=model.seasonal_order)\n",
    "    \n",
    "    arima_result = sarimax.fit()\n",
    "    \n",
    "    #Once the model is trained, the next step is to perform the forecast with the help of the\n",
    "    #exogenous variables of the test data set (24 hours)\n",
    "    exogen_test = test.loc[:,'pc1_weather':'post-navidad_y_new_year']\n",
    "    \n",
    "    prediction_result = arima_result.get_forecast(24,exog=exogen_test)\n",
    "    conf_int = prediction_result.conf_int()\n",
    "  \n",
    "    forecast = prediction_result.predicted_mean\n",
    "    csv_file.loc[test_idx, 'pronostico'] = forecast\n",
    "    \n",
    "    \n",
    "    gerencia_mape = csv_file.iloc[data_final-24:data_final]\n",
    "    \n",
    "    #Calculate MAPE (1) between forecast and demand from test data.\n",
    "    for i in range(0, 24):\n",
    "        #MAPE DE PRONOSTICOS\n",
    "        csv_file.loc[gerencia_mape.index[i], 'mape'] = mape(gerencia_mape['demanda'][i], gerencia_mape['pronostico'][i])\n",
    "        \n",
    "    \n",
    "    return csv_file\n",
    "\n",
    "#MAPE function\n",
    "def mape(actual, pred): \n",
    "    actual, pred = np.array(actual), np.array(pred)\n",
    "    return np.mean(np.abs((actual - pred) / actual)) * 100"
   ]
  },
  {
   "cell_type": "code",
   "execution_count": null,
   "metadata": {},
   "outputs": [],
   "source": [
    "# Set data set C as the LSTM Encoder-Decoder Model test set.\n",
    "# While C ̸ = ∅ : Apply CSVauto_arima function\n",
    "\n",
    "end = 360\n",
    "start = 0\n",
    "result_data = []\n",
    "\n",
    "while end < 8785:\n",
    "    resultado = CSVauto_arima(csv_data, start, end)\n",
    "    end += 24\n",
    "    start += 24"
   ]
  },
  {
   "cell_type": "markdown",
   "metadata": {},
   "source": [
    "## 5.    SARIMAX RESULT"
   ]
  },
  {
   "cell_type": "code",
   "execution_count": null,
   "metadata": {},
   "outputs": [],
   "source": [
    "#resultado.to_csv('./outputs/sarimax_result.csv')"
   ]
  },
  {
   "cell_type": "code",
   "execution_count": null,
   "metadata": {},
   "outputs": [],
   "source": [
    "#sarimax result dataset\n",
    "resultado['fecha-hora']= pd.to_datetime(resultado['fecha-hora'])\n",
    "resultado[\"HORA\"] = resultado['fecha-hora'].dt.hour"
   ]
  },
  {
   "cell_type": "markdown",
   "metadata": {},
   "source": [
    "<summary>\n",
    "    <font size=\"4\" color=\"orange\"><b>5.1 SARIMAX daily MAPE & pearson r2 </b></font>\n",
    "</summary>"
   ]
  },
  {
   "cell_type": "code",
   "execution_count": null,
   "metadata": {},
   "outputs": [],
   "source": [
    "#daily MAPE & pearson r2\n",
    "real=[]\n",
    "estimada =[]\n",
    "\n",
    "resultado = pd.DataFrame(columns=['fecha_hora','real','estimado','mape', 'r2'])\n",
    "\n",
    "for i, row in resultado.iterrows():\n",
    "\n",
    "    n = row['HORA']\n",
    "    \n",
    "    real.append(row['demanda'])\n",
    "    estimada.append(row['pronostico'])\n",
    "    \n",
    "   \n",
    "    if n == 23:\n",
    "        df_all_results_sarimax = df_all_results_sarimax.append(pd.DataFrame({\n",
    "                                           \"fecha_hora\": row['fecha'],\n",
    "                                           \"real\":row['demanda'],\n",
    "                                           \"estimado\":row['pronostico'],\n",
    "                                           \"mape\": (mape(real, estimada))*100, \n",
    "                                           \"r2\": stats.pearsonr(real, estimada)[0]}, \n",
    "                                            index=[0]), ignore_index=True)\n",
    "        n=0\n",
    "        \n",
    "        real=[]\n",
    "        estimada =[]\n",
    "    n+=1"
   ]
  },
  {
   "cell_type": "code",
   "execution_count": null,
   "metadata": {},
   "outputs": [],
   "source": [
    "#ploting time series sarimax mape\n",
    "fig = px.line(df_all_results_sarimax,x='fecha_hora', y='mape' ,title=\"SARIMAX MAPE Test data: from 2021-03-21 to 2022-03-21\")\n",
    "fig.add_hline(y=5, line_dash=\"dot\", line_color=\"red\"),\n",
    "fig.show()"
   ]
  },
  {
   "cell_type": "code",
   "execution_count": null,
   "metadata": {},
   "outputs": [],
   "source": [
    "#ploting time series sarimax pearson r2\n",
    "fig = px.line(df_all_results_sarimax,x='fecha_hora', y='r2' ,title=\"SARIMAX R2 Test data: from 2021-03-21 to 2022-03-21\")\n",
    "fig.add_hline(y=0.95, line_dash=\"dot\", line_color=\"red\"),\n",
    "fig.show()"
   ]
  },
  {
   "cell_type": "code",
   "execution_count": null,
   "metadata": {},
   "outputs": [],
   "source": [
    "#sarimay daily mape violin plot\n",
    "fig = px.violin(df_all_results_sarimax, y=\"mape\", box=True, # draw box plot inside the violin\n",
    "                points='all', # can be 'outliers', or False\n",
    "               )\n",
    "fig.show()"
   ]
  },
  {
   "cell_type": "markdown",
   "metadata": {},
   "source": [
    "<summary>\n",
    "    <font size=\"4\" color=\"orange\"><b>5.2 SARIMAX Result spliting 4 Seasons </b></font>\n",
    "</summary>"
   ]
  },
  {
   "cell_type": "code",
   "execution_count": null,
   "metadata": {},
   "outputs": [],
   "source": [
    "#spliting on 4 seasons\n",
    "sarimax_summer = df_all_results_sarimax[(df_all_results_sarimax['fecha_hora'] >= '2021-06-21') \n",
    "                   & (df_all_results_sarimax['fecha_hora'] < '2021-09-23')]\n",
    "\n",
    "sarimax_autumn = df_all_results_sarimax[(df_all_results_sarimax['fecha_hora'] >= '2021-09-23') \n",
    "                   & (df_all_results_sarimax['fecha_hora'] < '2021-12-21')]\n",
    "\n",
    "sarimax_winter = df_all_results_sarimax[(df_all_results_sarimax['fecha_hora'] >= '2021-12-21') \n",
    "                   & (df_all_results_sarimax['fecha_hora'] < '2022-03-21')]\n",
    "\n",
    "sarimax_spring = df_all_results_sarimax[(df_all_results_sarimax['fecha_hora'] >= '2021-03-21') \n",
    "                   & (df_all_results_sarimax['fecha_hora'] < '2021-06-21')]"
   ]
  },
  {
   "cell_type": "code",
   "execution_count": null,
   "metadata": {},
   "outputs": [],
   "source": [
    "#4 seasons violin plots \n",
    "fig = go.Figure()\n",
    "\n",
    "fig.add_trace(go.Violin(y=sarimax_spring['mape'],\n",
    "                        name='SPRING SARIMAX MAPE',\n",
    "                        box_visible=True,\n",
    "                        meanline_visible=True,\n",
    "                        fillcolor=\"rgba(158, 202, 57,0.5)\", \n",
    "                        line=dict(color=\"#9eca39\")))\n",
    "\n",
    "fig.add_trace(go.Violin(y=sarimax_summer['mape'],\n",
    "                        name='SUMMER SARIMAX MAPE',\n",
    "                        box_visible=True,\n",
    "                        meanline_visible=True,\n",
    "                        fillcolor=\"rgba(249, 190, 4,0.5)\", \n",
    "                        line=dict(color=\"#F9BE04\")))\n",
    "\n",
    "fig.add_trace(go.Violin(y=sarimax_autumn['mape'],\n",
    "                        name='AUTUMN SARIMAX MAPE',\n",
    "                        box_visible=True,\n",
    "                        meanline_visible=True,\n",
    "                        fillcolor=\"rgba(198, 111, 66,0.5)\", \n",
    "                        line=dict(color=\"#C66F42\")))\n",
    "\n",
    "fig.add_trace(go.Violin(y=sarimax_winter['mape'],\n",
    "                        name='WINTER SARIMAX MAPE',\n",
    "                        box_visible=True,\n",
    "                        meanline_visible=True,\n",
    "                        fillcolor=\"rgba(112, 163, 187,0.5)\", \n",
    "                        line=dict(color=\"#70A3BB\")))\n",
    "\n",
    "\n",
    "\n",
    "fig.update_layout(title_text=\" SARIMAX MAPE 4 SEASONS\", height=600) \n",
    "fig.show()"
   ]
  },
  {
   "cell_type": "code",
   "execution_count": null,
   "metadata": {},
   "outputs": [],
   "source": [
    "#4 seasons MAPE time series plots \n",
    "\n",
    "from plotly.subplots import make_subplots\n",
    "fig = make_subplots(rows=4, cols=1)\n",
    "\n",
    "\n",
    "fig.add_trace(go.Scatter(x=sarimax_spring['fecha_hora'], y=sarimax_spring['mape'],\n",
    "            mode='lines+markers',\n",
    "            name='SARIMAX MAPE Test data: Spring', \n",
    "            marker = { 'color':'#9eca39'}),\n",
    "            row=1, col=1)\n",
    "fig.add_hline(y=5, line_dash=\"dot\", line_color=\"red\"),\n",
    "fig.add_trace(go.Scatter(x=sarimax_summer['fecha_hora'], y=sarimax_summer['mape'],\n",
    "            mode='lines+markers',\n",
    "            name='SARIMAX MAPE Test data: Summer', \n",
    "            marker = { 'color':'#F9BE04'}),\n",
    "            row=2, col=1)\n",
    "fig.add_hline(y=5, line_dash=\"dot\", line_color=\"red\"),\n",
    "fig.add_trace(go.Scatter(x=sarimax_autumn['fecha_hora'], y=sarimax_autumn['mape'],\n",
    "            mode='lines+markers',\n",
    "            name='SARIMAX MAPE Test data: Autumn', \n",
    "            marker = { 'color':'#C66F42'}),\n",
    "            row=3, col=1)\n",
    "fig.add_hline(y=5, line_dash=\"dot\", line_color=\"red\"),\n",
    "fig.add_trace(go.Scatter(x=sarimax_winter['fecha_hora'], y=sarimax_winter['mape'],\n",
    "            mode='lines+markers',\n",
    "            name='SARIMAX MAPE Test data: Winter', \n",
    "            marker = { 'color':'#70A3BB'}),\n",
    "            row=4, col=1)\n",
    "fig.add_hline(y=5, line_dash=\"dot\", line_color=\"red\"),\n",
    "\n",
    "fig.update_layout(yaxis = dict(range=[0, 16]))                                         \n",
    "fig.update_layout(title_text=\"SARIMAX MAPE Test data: 4 Seasons\", height=1200)                                         \n",
    "fig.show()"
   ]
  },
  {
   "cell_type": "code",
   "execution_count": null,
   "metadata": {},
   "outputs": [],
   "source": [
    "#4 seasons pearson r2 time series plots\n",
    "\n",
    "fig = make_subplots(rows=4, cols=1)\n",
    "\n",
    "\n",
    "fig.add_trace(go.Scatter(x=sarimax_spring['fecha_hora'], y=sarimax_spring['r2'],\n",
    "            mode='lines+markers',\n",
    "            name='SARIMAX R2 Test data: Spring', \n",
    "            marker = { 'color':'#9eca39'}),\n",
    "            row=1, col=1)\n",
    "fig.add_hline(y=0.95, line_dash=\"dot\", line_color=\"red\"),\n",
    "fig.add_trace(go.Scatter(x=sarimax_summer['fecha_hora'], y=sarimax_summer['r2'],\n",
    "            mode='lines+markers',\n",
    "            name='SARIMAX R2 Test data: Summer', \n",
    "            marker = { 'color':'#F9BE04'}),\n",
    "            row=2, col=1)\n",
    "fig.add_hline(y=0.95, line_dash=\"dot\", line_color=\"red\"),\n",
    "fig.add_trace(go.Scatter(x=sarimax_autumn['fecha_hora'], y=sarimax_autumn['r2'],\n",
    "            mode='lines+markers',\n",
    "            name='SARIMAX R2 Test data: Autumn', \n",
    "            marker = { 'color':'#C66F42'}),\n",
    "            row=3, col=1)\n",
    "fig.add_hline(y=0.95, line_dash=\"dot\", line_color=\"red\"),\n",
    "fig.add_trace(go.Scatter(x=sarimax_winter['fecha_hora'], y=sarimax_winter['r2'],\n",
    "            mode='lines+markers',\n",
    "            name='SARIMAX R2 Test data: Winter', \n",
    "            marker = { 'color':'#70A3BB'}),\n",
    "            row=4, col=1)\n",
    "fig.add_hline(y=0.95, line_dash=\"dot\", line_color=\"red\"),\n",
    "\n",
    "fig.update_layout(yaxis = dict(range=[0, 1.1]))                                         \n",
    "fig.update_layout(title_text=\"SARIMAX R2 Test data: 4 Seasons\", height=1200)                                         \n",
    "fig.show()"
   ]
  },
  {
   "cell_type": "markdown",
   "metadata": {},
   "source": [
    "from IPython import display\n",
    "display.Image(\"https://mcd.unison.mx/wp-content/themes/awaken/img/logo_mcd.png\", embed = True)"
   ]
  },
  {
   "cell_type": "markdown",
   "metadata": {},
   "source": [
    "<summary>\n",
    "    <font size=\"4\" color=\"gray\"> Maestría en Ciencia de Datos | Universidad de Sonora </font>\n",
    "</summary>\n",
    "<font size=\"1\" color=\"gray\"> Blvd. Luis Encinas y Rosales s/n Col. Centro. Edificio 3K1 planta baja C.P. 83000, Hermosillo, Sonora, México </font>\n",
    "<font size=\"1\" color=\"gray\"> mcd@unison.mx </font>\n",
    "<font size=\"1\" color=\"gray\"> Tel: +52 (662) 259 2155  </font>"
   ]
  }
 ],
 "metadata": {
  "kernelspec": {
   "display_name": "Python 3 (ipykernel)",
   "language": "python",
   "name": "python3"
  },
  "language_info": {
   "codemirror_mode": {
    "name": "ipython",
    "version": 3
   },
   "file_extension": ".py",
   "mimetype": "text/x-python",
   "name": "python",
   "nbconvert_exporter": "python",
   "pygments_lexer": "ipython3",
   "version": "3.10.2"
  }
 },
 "nbformat": 4,
 "nbformat_minor": 4
}
