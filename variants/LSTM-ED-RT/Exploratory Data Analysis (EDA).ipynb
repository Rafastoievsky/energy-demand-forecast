{
 "cells": [
  {
   "cell_type": "markdown",
   "id": "0c408ce4",
   "metadata": {},
   "source": [
    "![spam](img/EDA.png)"
   ]
  },
  {
   "cell_type": "code",
   "execution_count": null,
   "id": "e054f61a",
   "metadata": {},
   "outputs": [],
   "source": [
    "import warnings\n",
    "warnings.filterwarnings('ignore')"
   ]
  },
  {
   "cell_type": "markdown",
   "id": "9c0b28f1",
   "metadata": {
    "heading_collapsed": true
   },
   "source": [
    "## 1.   Exploratory Data Analysis "
   ]
  },
  {
   "cell_type": "markdown",
   "id": "0dd9a27a",
   "metadata": {
    "hidden": true
   },
   "source": [
    "<summary>\n",
    "    <font size=\"4\" color=\"orange\"><b>1.1 Importing libraries and functions</b></font>\n",
    "</summary>"
   ]
  },
  {
   "cell_type": "code",
   "execution_count": null,
   "id": "5a7c2c32",
   "metadata": {
    "hidden": true
   },
   "outputs": [],
   "source": [
    "# Basic libraries\n",
    "import numpy as np\n",
    "import pandas as pd\n",
    "import matplotlib.pyplot as plt\n",
    "\n",
    "# Easy graphs with plotly\n",
    "import plotly.express as px\n",
    "import plotly.graph_objects as go\n",
    "import seaborn as sns\n",
    "\n",
    "# Matplotlib plots look like\n",
    "plt.style.use('ggplot')\n",
    "plt.rcParams['figure.figsize'] = (15,7)\n",
    "import pickle as pk\n"
   ]
  },
  {
   "cell_type": "markdown",
   "id": "38b00905",
   "metadata": {
    "hidden": true
   },
   "source": [
    "<summary>\n",
    "    <font size=\"4\" color=\"orange\"><b>1.2 Loading CENACE database: 49 input variables </b></font>\n",
    "</summary>"
   ]
  },
  {
   "cell_type": "markdown",
   "id": "a2cd7ed1",
   "metadata": {
    "hidden": true
   },
   "source": [
    "<img src=\"img/calendarsymbol.png\" width=\"40\" img align=\"left\" />  \n",
    "\n",
    "<font size=\"3\" color=\"palevioletred\"><b>Exogenous Calendar Features </b></font>"
   ]
  },
  {
   "cell_type": "markdown",
   "id": "e2b6d6d8",
   "metadata": {
    "hidden": true
   },
   "source": [
    "* **FECHA** (yy-mm-dd): Date\n",
    "\n",
    "\"Holiday\" (0|1) indicator:\n",
    "\n",
    "* **Lunes_Festivo**: Holiday Monday\n",
    "\n",
    "* **Martes_PostFestivo**: Day after holiday Monday\n",
    "\n",
    "* **Semana_Santa**: Holy Week\n",
    "\n",
    "* **1_Mayo**: May 1\n",
    "\n",
    "* **10_Mayo**: May 10\n",
    "\n",
    "* **16_Sep**: September 16\n",
    "\n",
    "* **2_Nov.**: November 2\n",
    "\n",
    "* **Pre-Navidad_y_new_year**: Day before Christmas or New Year\n",
    "\n",
    "* **Navidad_y_new_year**: Christmas or New Year\n",
    "\n",
    "* **Post-Navidad_y_new_year**: Day after Christmas or New Year"
   ]
  },
  {
   "cell_type": "markdown",
   "id": "dcece77a",
   "metadata": {
    "hidden": true
   },
   "source": [
    "<img src=\"img/lightsymbol.png\" alt=\"drawing\" width=\"25\" img align=\"left\" />  \n",
    "\n",
    "<font size=\"3\" color=\"palevioletred\"><b>Endogenous Feature</b></font>"
   ]
  },
  {
   "cell_type": "markdown",
   "id": "8570e17e",
   "metadata": {
    "hidden": true
   },
   "source": [
    "* **DEM_GCRNO_H$i$** (MW): Load energy demand in GCRNO (Gerencia de Control de Noroeste)  zone from hour $i$ to hour $i+1$ of the corresponding date, for $i=0,\\dots 23$."
   ]
  },
  {
   "cell_type": "markdown",
   "id": "4201c1b8",
   "metadata": {
    "hidden": true
   },
   "source": [
    "<img src=\"img/meteosymbol.png\" alt=\"drawing\" width=\"60\" img align=\"left\" />\n",
    "\n",
    "<font size=\"3\" color=\"palevioletred\"><b>Exogenous Meteorological Features</b></font>"
   ]
  },
  {
   "cell_type": "markdown",
   "id": "1763af59",
   "metadata": {
    "hidden": true
   },
   "source": [
    "* **TMAX-CAB**, **TMIN-CAB**, **TMAX-HMO**, **TMIN-HMO**, **TMAX-OBR**, **TMIN-OBR**,**TMAX-LMO**, **TMIN-LMO**, **TMAX-CUL**, **TMIN-CUL** ($^\\circ$C): Maximum and minimum temperature in Caborca, Hermosillo, Ciudad Obregón, Los Mochis and Culiacán, respectively.\n",
    "\n",
    "* **PREC_HMO_mm**, **PREC_OBR_mm**, **PREC_LMO_mm**, **PREC_CUL_mm**  (mm/h): Precipitation in Hermosillo, Ciudad Obregón, Los Mochis and Culiacán, respectively.\n",
    "\n"
   ]
  },
  {
   "cell_type": "code",
   "execution_count": null,
   "id": "089c1ac3",
   "metadata": {
    "hidden": true
   },
   "outputs": [],
   "source": [
    "# Importing load energy consumption CENACE database\n",
    "url = \"./inputs/Dataset GCRNO120522 DF.xlsx\" #data\n",
    "gcrno = pd.read_excel(url)\n",
    "gcrno.columns"
   ]
  },
  {
   "cell_type": "markdown",
   "id": "f4db94db",
   "metadata": {
    "hidden": true
   },
   "source": [
    "<summary>\n",
    "    <font size=\"4\" color=\"orange\"><b>1.3. Dataframe rearrangement</b></font>\n",
    "</summary>\n",
    "\n",
    "The above dataframe will be transorm in a new one with:\n",
    "\n",
    "* *INSTANCES* (index):\n",
    "\n",
    "    **FECHA-HORA** (Date-Hour) specified in the format yyyy-mm-dd hh:00:00\n",
    "    \n",
    "    \n",
    "* *FEATURES*: \n",
    "\n",
    "    **DEMANDA** Load energy demand\n",
    "    \n",
    "    **DIA** (Day)\n",
    "       0 Monday \n",
    "       1 Tuesday \n",
    "       2 Wednesday \n",
    "       3 Thursday \n",
    "       4 Friday \n",
    "       5 Saturday \n",
    "       6 Sunday\n",
    "    \n",
    "    **HORA** (Hour 0–23)\n",
    "      \n",
    "    **MES** (Month)\n",
    "       1 January\n",
    "       2 February\n",
    "       3 March\n",
    "       4 April\n",
    "       5 May\n",
    "       6 Jun\n",
    "       7 July\n",
    "       8 August\n",
    "       9 September\n",
    "       10 Octuber\n",
    "       11 November\n",
    "       12 December\n",
    "    \n",
    "    And the following characteristics with constant value with respect to the day **TMAX-CAB**, **TMIN-CAB**, **TMAX-HMO**, **TMIN-HMO**, **TMAX-OBR**, **TMIN-OBR**,**TMAX-LMO**, **TMIN-LMO**, **TMAX-CUL**, **TMIN-CUL**, **PREC_HMO_MM**, **PREC_OBR_MM**, **PREC_LMO_MM**, **PREC_CUL_MM**, **LUNES_FESTIVO**, **MARTES_POSTFESTIVO**, **SEMANA_SANTA**, **1_MAYO**, **10_MAYO**, **16_SEP**, **2_NOV.**, **PRE-NAVIDAD_Y_NEW_YEAR**, **NAVIDAD_Y_NEW_YEAR**, **POST-NAVIDAD_Y_NEW_YEAR**."
   ]
  },
  {
   "cell_type": "code",
   "execution_count": null,
   "id": "aa7a1bac",
   "metadata": {
    "hidden": true
   },
   "outputs": [],
   "source": [
    "# Transposing hours columns from the original dataframe into rows\n",
    "consumo_data = gcrno.melt(\n",
    "    id_vars= ['FECHA'],\n",
    "    value_vars= [f'DEM_GCRNO_H{i}' for i in range(24)],\n",
    "    var_name=\"HORA\",\n",
    "    value_name=\"DEMANDA\"\n",
    ").replace(\n",
    "    {f'DEM_GCRNO_H{i}': i for i in range(24)}\n",
    ")\n",
    "# Creating Day, Hour and Month columns\n",
    "consumo_data.index = consumo_data.FECHA + pd.to_timedelta(consumo_data.HORA, unit='h')\n",
    "consumo_data.sort_index(inplace=True)\n",
    "consumo_data.drop(columns=['HORA'], inplace=True)\n",
    "consumo_data = consumo_data.asfreq('h', method='pad')\n",
    "consumo_data['FECHAHORA'] = consumo_data.index\n",
    "consumo_data[\"DIA\"] = consumo_data.index.weekday\n",
    "consumo_data[\"HORA\"] = consumo_data.index.hour\n",
    "consumo_data[\"MES\"] = consumo_data.index.month"
   ]
  },
  {
   "cell_type": "code",
   "execution_count": null,
   "id": "1cef35b0",
   "metadata": {
    "hidden": true
   },
   "outputs": [],
   "source": [
    "# Adding columns of exogenous variables\n",
    "exogenas = gcrno[['FECHA','TMAX-CAB', 'TMAX-HMO', 'TMAX-OBR', 'TMAX-LMO', 'TMAX-CUL', 'TMIN-CAB',\n",
    "       'TMIN-HMO', 'TMIN-OBR', 'TMIN-LMO', 'TMIN-CUL', 'PREC_HMO_MM',\n",
    "       'PREC_OBR_MM', 'PREC_LMO_MM', 'PREC_CUL_MM', 'LUNES_FESTIVO',\n",
    "       'MARTES_POSTFESTIVO', 'SEMANA_SANTA', '1_MAYO', '10_MAYO', '16_SEP',\n",
    "       '2_NOV.', 'PRE-NAVIDAD_Y_NEW_YEAR', 'NAVIDAD_Y_NEW_YEAR',\n",
    "       'POST-NAVIDAD_Y_NEW_YEAR']]\n",
    "consumo = pd.merge(consumo_data, exogenas, on='FECHA', how='left')"
   ]
  },
  {
   "cell_type": "code",
   "execution_count": null,
   "id": "b501f9d4",
   "metadata": {
    "hidden": true
   },
   "outputs": [],
   "source": [
    "# Setting as index the DATE-HOUR\n",
    "del consumo['FECHA']\n",
    "consumo.set_index(\"FECHAHORA\", inplace=True)\n",
    "consumo=consumo.asfreq('h')"
   ]
  },
  {
   "cell_type": "code",
   "execution_count": null,
   "id": "4ea3095e",
   "metadata": {
    "hidden": true
   },
   "outputs": [],
   "source": [
    "# Verifying existence of missing data \n",
    "consumo.info()"
   ]
  },
  {
   "cell_type": "markdown",
   "id": "8b8d9502",
   "metadata": {},
   "source": [
    "<summary>\n",
    "    <font size=\"4\" color=\"orange\"><b>2. Exploring variables</b></font>\n",
    "</summary>\n",
    "\n",
    "<br/>\n",
    "\n",
    "<summary>\n",
    "    <img src=\"img/lightsymbol.png\" alt=\"drawing\" width=\"15\" img align=\"left\" /> \n",
    "    <font size=\"3\" color=\"palevioletred\"><b>Energy Demand</b></font>\n",
    "</summary>"
   ]
  },
  {
   "cell_type": "code",
   "execution_count": null,
   "id": "a8cc26e1",
   "metadata": {},
   "outputs": [],
   "source": [
    "#looking for more information on endogenous Features Demanda\n",
    "consumo['DEMANDA'].describe()"
   ]
  },
  {
   "cell_type": "markdown",
   "id": "48cc4a24",
   "metadata": {},
   "source": [
    "#### This chart shows a similar figure year after year, it is also possible to see an ascending trend"
   ]
  },
  {
   "cell_type": "code",
   "execution_count": null,
   "id": "00c585fd",
   "metadata": {},
   "outputs": [],
   "source": [
    "fig = go.Figure()\n",
    "fig.add_trace(go.Scatter(x=consumo.index, y=consumo['DEMANDA'],\n",
    "                    mode='lines',\n",
    "                    name='Energy Demand'))\n",
    "                                         \n",
    "fig.update_layout(title_text=\"Energy Demand period 01/01/07-xx/05/22\", height=600) \n",
    "\n",
    "\n",
    "fig.show()"
   ]
  },
  {
   "cell_type": "code",
   "execution_count": null,
   "id": "642fa6be",
   "metadata": {},
   "outputs": [],
   "source": [
    "#looking for outliers with a Box-plot\n",
    "\n",
    "fig = go.Figure()\n",
    "fig.add_trace(go.Box(x=consumo['DEMANDA'], name='Energy Demand'))\n",
    "fig.update_layout(title_text=\"Box Plot Energy Demand period 01/01/07-xx/05/22\", height=600) \n",
    "fig.show()"
   ]
  },
  {
   "cell_type": "code",
   "execution_count": null,
   "id": "868e1e3e",
   "metadata": {},
   "outputs": [],
   "source": [
    "#Histogram of Demanada\n",
    "fig = px.histogram(consumo, x=\"DEMANDA\", nbins=12, title=\"Histogram Energy Demand period 01/01/07-xx/05/22\")\n",
    "fig.show()"
   ]
  },
  {
   "cell_type": "markdown",
   "id": "4185a450",
   "metadata": {},
   "source": [
    "<summary>\n",
    "    <img src=\"img/meteosymbol.png\" alt=\"drawing\" width=\"60\" img align=\"left\" />\n",
    "    <font size=\"3\" color=\"palevioletred\"><b>Exogenous Meteorological Features</b></font>\n",
    "</summary>"
   ]
  },
  {
   "cell_type": "code",
   "execution_count": null,
   "id": "4314e455",
   "metadata": {},
   "outputs": [],
   "source": [
    "#looking for more information on enxogenous Features TMAX & TMIN\n",
    "consumo[['TMAX-CAB', 'TMAX-HMO', 'TMAX-OBR', 'TMAX-LMO', 'TMAX-CUL', 'TMIN-CAB',\n",
    "       'TMIN-HMO', 'TMIN-OBR', 'TMIN-LMO', 'TMIN-CUL']].describe()"
   ]
  },
  {
   "cell_type": "code",
   "execution_count": null,
   "id": "e62e8c66",
   "metadata": {},
   "outputs": [],
   "source": [
    "#looking for outliers in TMIN Features with a Box-plot\n",
    "fig = go.Figure()\n",
    "fig.add_trace(go.Box(x=consumo['TMIN-CAB'], name='TMIN-CAB'))\n",
    "fig.add_trace(go.Box(x=consumo['TMIN-HMO'], name='TMIN-HMO'))\n",
    "fig.add_trace(go.Box(x=consumo['TMIN-OBR'], name='TMIN-OBR'))\n",
    "fig.add_trace(go.Box(x=consumo['TMIN-LMO'], name='TMIN-LMO'))\n",
    "fig.add_trace(go.Box(x=consumo['TMIN-CUL'], name='TMIN-CUL'))\n",
    "fig.update_layout(title_text=\"Box Plot Lowest Temperature period 01/01/07-xx/05/22\", height=600) \n",
    "fig.show()"
   ]
  },
  {
   "cell_type": "code",
   "execution_count": null,
   "id": "fa79f565",
   "metadata": {},
   "outputs": [],
   "source": [
    "#looking for outliers in TMAX Features with a Box-plot\n",
    "fig = go.Figure()\n",
    "fig.add_trace(go.Box(x=consumo['TMAX-CAB'], name='TMAX-CAB'))\n",
    "fig.add_trace(go.Box(x=consumo['TMAX-HMO'], name='TMAX-HMO'))\n",
    "fig.add_trace(go.Box(x=consumo['TMAX-OBR'], name='TMAX-OBR'))\n",
    "fig.add_trace(go.Box(x=consumo['TMAX-LMO'], name='TMAX-LMO'))\n",
    "fig.add_trace(go.Box(x=consumo['TMAX-CUL'], name='TMAX-CUL'))\n",
    "fig.update_layout(title_text=\"Box Plot Heighest Temperature period 01/01/07-xx/05/22\", height=600) \n",
    "fig.show()"
   ]
  },
  {
   "cell_type": "code",
   "execution_count": null,
   "id": "7c16f2dd",
   "metadata": {},
   "outputs": [],
   "source": [
    "#looking for more information on enxogenous Features Rainfall (PREC_XX_MM)\n",
    "consumo[['PREC_HMO_MM','PREC_OBR_MM', 'PREC_LMO_MM', 'PREC_CUL_MM']].describe()"
   ]
  },
  {
   "cell_type": "code",
   "execution_count": null,
   "id": "2ed92ed2",
   "metadata": {},
   "outputs": [],
   "source": [
    "#looking for outliers in Rainfall (PREC_XX_MM) Features with a Box-plot\n",
    "fig = go.Figure()\n",
    "fig.add_trace(go.Box(x=consumo['PREC_HMO_MM'], name='PREC_HMO_MM'))\n",
    "fig.add_trace(go.Box(x=consumo['PREC_OBR_MM'], name='PREC_OBR_MM'))\n",
    "fig.add_trace(go.Box(x=consumo['PREC_LMO_MM'], name='PREC_LMO_MM'))\n",
    "fig.add_trace(go.Box(x=consumo['PREC_CUL_MM'], name='PREC_CUL_MM'))\n",
    "fig.update_layout(title_text=\"Box Plot Rainfall period 01/01/07-xx/05/22\", height=600) \n",
    "fig.show()"
   ]
  },
  {
   "cell_type": "code",
   "execution_count": null,
   "id": "f32f5f96",
   "metadata": {},
   "outputs": [],
   "source": [
    "#correlation DEMANDA & Exogenuos Meteorological Features\n",
    "\n",
    "corrMatrix = consumo[['DEMANDA','TMAX-CAB', 'TMAX-HMO', 'TMAX-OBR', 'TMAX-LMO', 'TMAX-CUL', 'TMIN-CAB',\n",
    "       'TMIN-HMO', 'TMIN-OBR', 'TMIN-LMO', 'TMIN-CUL','PREC_HMO_MM','PREC_OBR_MM', 'PREC_LMO_MM', 'PREC_CUL_MM']].corr()\n",
    "sns.heatmap(corrMatrix, annot=True)\n",
    "plt.show()"
   ]
  },
  {
   "cell_type": "code",
   "execution_count": null,
   "id": "bb888d51",
   "metadata": {
    "scrolled": true
   },
   "outputs": [],
   "source": [
    "fig = px.scatter_matrix(consumo, dimensions=['TMAX-CAB', 'TMAX-HMO', 'TMAX-OBR', 'TMAX-LMO', 'TMAX-CUL'], color=\"DEMANDA\")\n",
    "fig.update_layout(title_text=\"Multiple scatter Matrix DEMANDA vs TMAX Exogenuos Meteorological Features\", height=1200) \n",
    "fig.show()"
   ]
  },
  {
   "cell_type": "code",
   "execution_count": null,
   "id": "047597c6",
   "metadata": {},
   "outputs": [],
   "source": [
    "fig = px.scatter_matrix(consumo, dimensions=['TMIN-CAB', 'TMIN-HMO', 'TMIN-OBR', 'TMIN-LMO', 'TMIN-CUL'], color=\"DEMANDA\")\n",
    "fig.update_layout(title_text=\"Multiple scatter Matrix DEMANDA vs TMIN Exogenuos Meteorological Features\", height=1200) \n",
    "fig.show()"
   ]
  },
  {
   "cell_type": "code",
   "execution_count": null,
   "id": "f8834e0f",
   "metadata": {},
   "outputs": [],
   "source": [
    "fig = px.scatter_matrix(consumo, dimensions=['PREC_HMO_MM','PREC_OBR_MM', 'PREC_LMO_MM', 'PREC_CUL_MM'], color=\"DEMANDA\")\n",
    "fig.update_layout(title_text=\"Multiple scatter Matrix DEMANDA vs Rainfall Exogenuos Meteorological Features\", height=1200) \n",
    "fig.show()"
   ]
  },
  {
   "cell_type": "markdown",
   "id": "b06a55cf",
   "metadata": {},
   "source": [
    "<summary>\n",
    "    <img src=\"img/calendarsymbol.png\" width=\"25\" img align=\"left\" />  \n",
    "    <font size=\"3\" color=\"palevioletred\"><b>Exogenous Calendar Features </b></font>\n",
    "</summary>    "
   ]
  },
  {
   "cell_type": "code",
   "execution_count": null,
   "id": "173569e6",
   "metadata": {},
   "outputs": [],
   "source": [
    "#correlation DEMANDA & Exogenuos Calendar Features\n",
    "\n",
    "corrMatrix = consumo[['LUNES_FESTIVO',\n",
    "       'MARTES_POSTFESTIVO', 'SEMANA_SANTA', '1_MAYO', '10_MAYO', '16_SEP',\n",
    "       '2_NOV.', 'PRE-NAVIDAD_Y_NEW_YEAR', 'NAVIDAD_Y_NEW_YEAR',\n",
    "       'POST-NAVIDAD_Y_NEW_YEAR']].corr()\n",
    "sns.heatmap(corrMatrix, annot=True)\n",
    "plt.show()"
   ]
  },
  {
   "cell_type": "code",
   "execution_count": null,
   "id": "bc367407",
   "metadata": {
    "hidden": true
   },
   "outputs": [],
   "source": [
    "from IPython import display\n",
    "display.Image(\"https://mcd.unison.mx/wp-content/themes/awaken/img/logo_mcd.png\", embed = True)"
   ]
  },
  {
   "cell_type": "markdown",
   "id": "bec571e5",
   "metadata": {
    "hidden": true
   },
   "source": [
    "<summary>\n",
    "    <font size=\"4\" color=\"gray\"> Maestría en Ciencia de Datos | Universidad de Sonora </font>\n",
    "</summary>\n",
    "<font size=\"1\" color=\"gray\"> Blvd. Luis Encinas y Rosales s/n Col. Centro. Edificio 3K1 planta baja C.P. 83000, Hermosillo, Sonora, México </font>\n",
    "<font size=\"1\" color=\"gray\"> mcd@unison.mx </font>\n",
    "<font size=\"1\" color=\"gray\"> Tel: +52 (662) 259 2155  </font>"
   ]
  },
  {
   "cell_type": "markdown",
   "id": "485adc07",
   "metadata": {
    "hidden": true
   },
   "source": [
    "\n"
   ]
  },
  {
   "cell_type": "code",
   "execution_count": null,
   "id": "5ee928e4",
   "metadata": {
    "hidden": true
   },
   "outputs": [],
   "source": []
  }
 ],
 "metadata": {
  "kernelspec": {
   "display_name": "Python 3 (ipykernel)",
   "language": "python",
   "name": "python3"
  },
  "language_info": {
   "codemirror_mode": {
    "name": "ipython",
    "version": 3
   },
   "file_extension": ".py",
   "mimetype": "text/x-python",
   "name": "python",
   "nbconvert_exporter": "python",
   "pygments_lexer": "ipython3",
   "version": "3.9.12"
  }
 },
 "nbformat": 4,
 "nbformat_minor": 5
}
