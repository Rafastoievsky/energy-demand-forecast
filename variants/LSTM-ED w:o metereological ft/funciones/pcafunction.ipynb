{
 "cells": [
  {
   "cell_type": "code",
   "execution_count": 6,
   "id": "24c70b24",
   "metadata": {},
   "outputs": [],
   "source": [
    "from sklearn.preprocessing import StandardScaler\n",
    "from sklearn.decomposition import PCA\n",
    "import numpy as np\n",
    "\n",
    "\n",
    "    "
   ]
  },
  {
   "cell_type": "code",
   "execution_count": 7,
   "id": "21459735",
   "metadata": {},
   "outputs": [],
   "source": [
    "def pcafunction(x_data, y_data, num_componentes, name_column, name_index):\n",
    "\n",
    "    # standarizar\n",
    "    scaler_model = StandardScaler().fit(x_data)\n",
    "    x = scaler_model.transform(x_data) \n",
    " \n",
    "    \n",
    "    \n",
    "    pca = PCA(n_components=num_componentes)\n",
    "    principalComponents = pca.fit_transform(x)\n",
    "    \n",
    "    pca_df = pd.DataFrame(principalComponents, columns=[f'PC1_{name_column}', f'PC2_{name_column}'])\n",
    "    pca_df['FECHA-HORA'] = y_data\n",
    "    \n",
    "    \n",
    "    \n",
    "    return pca,pca_df,scaler_model"
   ]
  },
  {
   "cell_type": "code",
   "execution_count": 8,
   "id": "8dd05193",
   "metadata": {},
   "outputs": [],
   "source": [
    "def exogen_pca(dataframe, var_index):\n",
    "   \n",
    "    #variables\n",
    "    dfvar = dataframe[['DEMANDA', 'MES', 'DIA', 'HORA','TMAX-CAB', 'TMAX-HMO', 'TMAX-OBR', 'TMAX-LMO', 'TMAX-CUL', 'TMIN-CAB',\n",
    "       'TMIN-HMO', 'TMIN-OBR', 'TMIN-LMO', 'TMIN-CUL', 'PREC_HMO_MM',\n",
    "       'PREC_OBR_MM', 'PREC_LMO_MM', 'PREC_CUL_MM', 'LUNES_FESTIVO',\n",
    "       'MARTES_POSTFESTIVO', 'SEMANA_SANTA', '1_MAYO', '10_MAYO', '16_SEP',\n",
    "       '2_NOV.', 'PRE-NAVIDAD_Y_NEW_YEAR', 'NAVIDAD_Y_NEW_YEAR',\n",
    "       'POST-NAVIDAD_Y_NEW_YEAR']]\n",
    "    \n",
    "    dfvar['FECHA-HORA']= dfvar.index\n",
    "    \n",
    "    #variables para pca\n",
    "    y = dataframe.loc[:,[var_index]].values\n",
    "    \n",
    "    #PCA CLIMATOLOGICAS\n",
    "    x_climatologicas = dataframe.loc[:,'TMAX-CAB':'PREC_CUL_MM'].values \n",
    "    pca_clima,pca_df_clima, scaler_model_clima = pcafunction(x_climatologicas, y, 2, 'CLIMA', var_index)\n",
    "    \n",
    "    \n",
    "    #UNION DE LOS 3 DATAFRAMES\n",
    "    pca_df = pd.merge(pca_df_clima, dfvar, left_on=var_index, right_on='FECHA-HORA', how='left')\n",
    "    del pca_df['FECHA-HORA']\n",
    "    \n",
    "    return pca_df,pca_clima,scaler_model_clima"
   ]
  },
  {
   "cell_type": "code",
   "execution_count": 9,
   "id": "f0930d6c",
   "metadata": {},
   "outputs": [],
   "source": [
    "def new_dataframe(my_array,y_data,name_column, name_index ):\n",
    "    df = pd.DataFrame(my_array, columns=[f'PC1_{name_column}', f'PC2_{name_column}'])\n",
    "    df['FECHA-HORA'] = y_data\n",
    "    \n",
    "    return df"
   ]
  },
  {
   "cell_type": "code",
   "execution_count": 10,
   "id": "054875e9",
   "metadata": {},
   "outputs": [],
   "source": [
    "def transform_data(dataframe, var_index,pca_clima,scaler_model_clima):\n",
    "    \n",
    "    #variables\n",
    "    dfvar = dataframe[['DEMANDA', 'MES', 'DIA', 'HORA','LUNES_FESTIVO',\n",
    "       'MARTES_POSTFESTIVO', 'SEMANA_SANTA', '1_MAYO', '10_MAYO', '16_SEP',\n",
    "       '2_NOV.', 'PRE-NAVIDAD_Y_NEW_YEAR', 'NAVIDAD_Y_NEW_YEAR',\n",
    "       'POST-NAVIDAD_Y_NEW_YEAR']]\n",
    "    dfvar['FECHA-HORA']= dfvar.index\n",
    "    #variables y\n",
    "    y = dfvar.index\n",
    "    \n",
    "    ##### PCA CLIMA #####\n",
    "    #varibales de x\n",
    "    x_clima = dataframe.loc[:,'TMAX-CAB':'PREC_CUL_MM'].values \n",
    "    #standarizacion  CLIMA\n",
    "    x_df_clima = scaler_model_clima.transform(x_clima) \n",
    "    #trasnformacion\n",
    "    clima = pca_clima.transform(x_df_clima)\n",
    "    \n",
    "    \n",
    "    df_clima = new_dataframe(clima,y,'CLIMA', var_index )\n",
    "    \n",
    "    #UNION DE LOS 3 DATAFRAMES\n",
    "    pca_df = pd.merge(df_clima, dfvar, left_on=var_index, right_on='FECHA-HORA', how='left')\n",
    "    #del pca_df['FECHA-HORA']\n",
    "\n",
    "    return pca_df\n",
    "    "
   ]
  },
  {
   "cell_type": "code",
   "execution_count": null,
   "id": "c81585a9",
   "metadata": {},
   "outputs": [],
   "source": []
  },
  {
   "cell_type": "code",
   "execution_count": null,
   "id": "e04f2110",
   "metadata": {},
   "outputs": [],
   "source": []
  },
  {
   "cell_type": "code",
   "execution_count": null,
   "id": "7928265d",
   "metadata": {},
   "outputs": [],
   "source": []
  }
 ],
 "metadata": {
  "kernelspec": {
   "display_name": "Python 3 (ipykernel)",
   "language": "python",
   "name": "python3"
  },
  "language_info": {
   "codemirror_mode": {
    "name": "ipython",
    "version": 3
   },
   "file_extension": ".py",
   "mimetype": "text/x-python",
   "name": "python",
   "nbconvert_exporter": "python",
   "pygments_lexer": "ipython3",
   "version": "3.9.12"
  }
 },
 "nbformat": 4,
 "nbformat_minor": 5
}
