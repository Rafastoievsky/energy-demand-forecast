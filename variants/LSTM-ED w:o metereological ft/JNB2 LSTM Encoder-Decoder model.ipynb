{
 "cells": [
  {
   "cell_type": "markdown",
   "id": "04597884",
   "metadata": {},
   "source": [
    "![spam](img/JB2.png)"
   ]
  },
  {
   "cell_type": "code",
   "execution_count": 1,
   "id": "48c1b2db",
   "metadata": {},
   "outputs": [],
   "source": [
    "import warnings\n",
    "warnings.filterwarnings('ignore')"
   ]
  },
  {
   "cell_type": "markdown",
   "id": "d7287675",
   "metadata": {
    "heading_collapsed": true
   },
   "source": [
    "## 1.   Importing libraries and loading data"
   ]
  },
  {
   "cell_type": "code",
   "execution_count": 1,
   "id": "5a7c2c32",
   "metadata": {
    "hidden": true
   },
   "outputs": [],
   "source": [
    "# Basic libraries\n",
    "import numpy as np\n",
    "import pandas as pd\n",
    "import matplotlib.pyplot as plt\n",
    "\n",
    "# Normalization  libraries\n",
    "from sklearn.preprocessing import MinMaxScaler\n",
    "from sklearn.metrics import mean_absolute_percentage_error, r2_score\n",
    "\n",
    "# Tensorflow with keras\n",
    "import tensorflow as tf\n",
    "from tensorflow import keras\n",
    "from tensorflow.keras import layers\n",
    "\n",
    "# Easy graphs with plotly\n",
    "import plotly.express as px\n",
    "import plotly.graph_objects as go\n",
    "\n",
    "# Matplotlib plots look like\n",
    "plt.style.use('ggplot')\n",
    "plt.rcParams['figure.figsize'] = (15,7)\n",
    "import pickle as pk\n",
    "\n",
    "import scipy\n",
    "from scipy import stats\n"
   ]
  },
  {
   "cell_type": "code",
   "execution_count": 3,
   "id": "fbb27cbb",
   "metadata": {
    "hidden": true
   },
   "outputs": [],
   "source": [
    "# Importing tensors\n",
    "X_train = np.load('./outputs/split/X_train.npy')\n",
    "X_val = np.load('./outputs/split/X_val.npy')\n",
    "X_test = np.load('./outputs/split/X_test.npy')\n",
    "y_train = np.load('./outputs/split/y_train.npy')\n",
    "y_val = np.load('./outputs/split/y_val.npy')\n",
    "y_test = np.load('./outputs/split/y_test.npy')"
   ]
  },
  {
   "cell_type": "markdown",
   "id": "ec61312c",
   "metadata": {
    "heading_collapsed": true
   },
   "source": [
    "## 2.   Setting the model"
   ]
  },
  {
   "cell_type": "markdown",
   "id": "7fd32ac6",
   "metadata": {
    "hidden": true
   },
   "source": [
    "<summary>\n",
    "    <font size=\"4\" color=\"orange\"><b>1.1 Setting the parameters according to the tensors created in JNB1</b></font>\n",
    "</summary>"
   ]
  },
  {
   "cell_type": "code",
   "execution_count": 4,
   "id": "c3595394",
   "metadata": {
    "hidden": true
   },
   "outputs": [],
   "source": [
    "n_pasado = (24 * 7)+12\n",
    "n_futuro = 24\n",
    "n_salto = 12 \n",
    "\n",
    "nom_attr = ['DEMANDA', \n",
    "            'MES', \n",
    "            'DIA', \n",
    "            'HORA',\n",
    "            'LUNES_FESTIVO',\n",
    "            'MARTES_POSTFESTIVO', \n",
    "            'SEMANA_SANTA', \n",
    "            '1_MAYO', \n",
    "            '10_MAYO', \n",
    "            '16_SEP',\n",
    "            '2_NOV.', \n",
    "            'PRE-NAVIDAD_Y_NEW_YEAR', \n",
    "            'NAVIDAD_Y_NEW_YEAR',\n",
    "            'POST-NAVIDAD_Y_NEW_YEAR' ]\n",
    "n_attr = len(nom_attr)"
   ]
  },
  {
   "cell_type": "markdown",
   "id": "ca40d153",
   "metadata": {
    "hidden": true
   },
   "source": [
    "<summary>\n",
    "    <font size=\"4\" color=\"orange\"><b>1.2 Configuring the LSTM Encoder-Decoder model</b></font>\n",
    "</summary>"
   ]
  },
  {
   "cell_type": "markdown",
   "id": "db58f3c4",
   "metadata": {
    "hidden": true
   },
   "source": [
    "MODEL \n",
    "\n",
    "<img src=\"img/encoders2_fig.png\" alt=\"drawing\" width=\"700\"/>"
   ]
  },
  {
   "cell_type": "markdown",
   "id": "a60412b1",
   "metadata": {
    "hidden": true
   },
   "source": [
    "LSTM UNIT\n",
    "\n",
    "<img src=\"img/lstm_unit.png\" alt=\"drawing\" width=\"400\"/>\n",
    "\n",
    "Such that:\n",
    "\n",
    "* Forget Gate $F$: a NN with sigmoid \n",
    "* Candidate layer $C$: a NN with Tanh\n",
    "* Input Gate $I$: a NN with sigmoid\n",
    "* Output Gate $O$: a NN with sigmoid\n",
    "* Hidden state $h$: a vector, in our case we set $h\\in\\mathbb{R}^{100}$\n",
    "* Memory state $c$: a vector, in our case we set $c\\in\\mathbb{R}^{100}$\n"
   ]
  },
  {
   "cell_type": "code",
   "execution_count": 5,
   "id": "c024acb8",
   "metadata": {
    "hidden": true
   },
   "outputs": [
    {
     "name": "stdout",
     "output_type": "stream",
     "text": [
      "Metal device set to: Apple M1 Max\n"
     ]
    },
    {
     "name": "stderr",
     "output_type": "stream",
     "text": [
      "2022-05-25 09:24:32.347853: I tensorflow/core/common_runtime/pluggable_device/pluggable_device_factory.cc:305] Could not identify NUMA node of platform GPU ID 0, defaulting to 0. Your kernel may not have been built with NUMA support.\n",
      "2022-05-25 09:24:32.348041: I tensorflow/core/common_runtime/pluggable_device/pluggable_device_factory.cc:271] Created TensorFlow device (/job:localhost/replica:0/task:0/device:GPU:0 with 0 MB memory) -> physical PluggableDevice (device: 0, name: METAL, pci bus id: <undefined>)\n"
     ]
    }
   ],
   "source": [
    "# Configuration of the encoder\n",
    "encoder_inputs = layers.Input(shape=(n_pasado, n_attr))\n",
    "\n",
    "encoder_l1 = layers.LSTM(100, return_state=True)# 100: dimension of hidden states\n",
    "encoder_outputs1 = encoder_l1(encoder_inputs)\n",
    "\n",
    "encoder_states1 = encoder_outputs1[1:]"
   ]
  },
  {
   "cell_type": "code",
   "execution_count": 6,
   "id": "ab03ae43",
   "metadata": {
    "hidden": true
   },
   "outputs": [],
   "source": [
    "# Configuration of the encoder\n",
    "decoder_rvec = layers.RepeatVector(n_futuro) # repeat vector 24 times\n",
    "decoder_inputs = decoder_rvec(encoder_outputs1[0])\n",
    "\n",
    "decoder_l1 = layers.LSTM(100, return_sequences=True)\n",
    "decoder_l1_output = decoder_l1(decoder_inputs, initial_state=encoder_states1)\n",
    "\n",
    "decoder_l2 = layers.TimeDistributed(layers.Dense(1)) # just one dense layer\n",
    "decoder_outputs = decoder_l2(decoder_l1_output)"
   ]
  },
  {
   "cell_type": "code",
   "execution_count": 7,
   "id": "ade2466d",
   "metadata": {
    "hidden": true
   },
   "outputs": [
    {
     "name": "stdout",
     "output_type": "stream",
     "text": [
      "Model: \"model\"\n",
      "__________________________________________________________________________________________________\n",
      " Layer (type)                   Output Shape         Param #     Connected to                     \n",
      "==================================================================================================\n",
      " input_1 (InputLayer)           [(None, 180, 14)]    0           []                               \n",
      "                                                                                                  \n",
      " lstm (LSTM)                    [(None, 100),        46000       ['input_1[0][0]']                \n",
      "                                 (None, 100),                                                     \n",
      "                                 (None, 100)]                                                     \n",
      "                                                                                                  \n",
      " repeat_vector (RepeatVector)   (None, 24, 100)      0           ['lstm[0][0]']                   \n",
      "                                                                                                  \n",
      " lstm_1 (LSTM)                  (None, 24, 100)      80400       ['repeat_vector[0][0]',          \n",
      "                                                                  'lstm[0][1]',                   \n",
      "                                                                  'lstm[0][2]']                   \n",
      "                                                                                                  \n",
      " time_distributed (TimeDistribu  (None, 24, 1)       101         ['lstm_1[0][0]']                 \n",
      " ted)                                                                                             \n",
      "                                                                                                  \n",
      "==================================================================================================\n",
      "Total params: 126,501\n",
      "Trainable params: 126,501\n",
      "Non-trainable params: 0\n",
      "__________________________________________________________________________________________________\n"
     ]
    }
   ],
   "source": [
    "modelo = keras.models.Model(encoder_inputs, decoder_outputs)\n",
    "modelo.summary()"
   ]
  },
  {
   "cell_type": "markdown",
   "id": "8bde72ef",
   "metadata": {
    "heading_collapsed": true
   },
   "source": [
    "## 3.   Training the model"
   ]
  },
  {
   "cell_type": "markdown",
   "id": "08a7f5c0",
   "metadata": {
    "heading_collapsed": true,
    "hidden": true
   },
   "source": [
    "Let $F_\\theta: {\\rm Mat}_{180\\times 18}(\\mathbb{R})\\rightarrow \\mathbb{R}^{24}$ be the nonlinear mapping given by the LSTM model where $\\theta \\in\\mathbb{R}^{128,101}$ is the vector of parameters to fit\n",
    "\n",
    "The *training*, *validation* and *test* sets are codificated by the tensors $X_{180\\times 18\\times m}$ and $Y_{24\\times 1\\times m}$ for $m = m_{\\rm train}, m_{\\rm val}, m_{\\rm test}$, as above. This tensors are, in each case,  just $m$ samples of the ordered pairs in ${\\rm Mat}_{180\\times 18}(\\mathbb{R})\\times \\mathbb{R}^{24}$: $$\\{(X^1,Y^1),(X^2,Y^2)\n",
    "\\dots(X^m,Y^m)\\}.$$\n",
    "\n",
    "\n",
    "\n",
    "<summary>\n",
    "    <font size=\"3\" color=\"palevioletred\"><b>Loss function</b></font>\n",
    "</summary>\n",
    "\n",
    "For fixed $\\theta$ and tensor pair $X$ and $Y$, we set the **loss function** in terms of the MAE metric with the $\\ell_1$ norm: \n",
    "\n",
    "$${\\rm Loss}(X) = \\frac{1}{m}\\sum_{k=1}^m{\\|F_\\theta(X^k)-Y^k\\|_1}$$\n",
    "\n",
    "\n",
    "\n",
    "<summary>\n",
    "    <font size=\"3\" color=\"palevioletred\"><b>Hyperparameters</b></font>\n",
    "</summary>\n",
    "\n",
    "* **epochs** (upper bound) = 25: An epoch is when an entire training set is passed  through the NN only once.\n",
    "\n",
    "* **batch size** = 32: Total number of training examples present in a single batch.\n",
    "\n",
    "* **patience** = 5:  Number of epochs with no improvement after which training will be stopped, in our case with respect to ${\\rm Loss}(X_{\\rm val})$.\n",
    "\n",
    "* **learning rate** $\\alpha_{\\rm epoch} = 1\\times 10^{-3} \\times 0.9 ^{\\rm epoch}$\n",
    "\n",
    "<summary>\n",
    "    <font size=\"3\" color=\"palevioletred\"><b>Training process</b></font>\n",
    "</summary>"
   ]
  },
  {
   "cell_type": "markdown",
   "id": "6f702ae9",
   "metadata": {
    "hidden": true
   },
   "source": [
    "<img src=\"img/minibatch.png\" alt=\"drawing\" width=\"550\"/>"
   ]
  },
  {
   "cell_type": "code",
   "execution_count": 8,
   "id": "892bd0fe",
   "metadata": {
    "hidden": true
   },
   "outputs": [
    {
     "name": "stdout",
     "output_type": "stream",
     "text": [
      "Epoch 1/25\n"
     ]
    },
    {
     "name": "stderr",
     "output_type": "stream",
     "text": [
      "2022-05-25 09:24:35.104911: W tensorflow/core/platform/profile_utils/cpu_utils.cc:128] Failed to get CPU frequency: 0 Hz\n",
      "2022-05-25 09:24:36.313770: I tensorflow/core/grappler/optimizers/custom_graph_optimizer_registry.cc:113] Plugin optimizer for device_type GPU is enabled.\n",
      "2022-05-25 09:24:36.536991: I tensorflow/core/grappler/optimizers/custom_graph_optimizer_registry.cc:113] Plugin optimizer for device_type GPU is enabled.\n",
      "2022-05-25 09:24:37.758427: I tensorflow/core/grappler/optimizers/custom_graph_optimizer_registry.cc:113] Plugin optimizer for device_type GPU is enabled.\n",
      "2022-05-25 09:24:38.886169: I tensorflow/core/grappler/optimizers/custom_graph_optimizer_registry.cc:113] Plugin optimizer for device_type GPU is enabled.\n",
      "2022-05-25 09:24:40.149192: I tensorflow/core/grappler/optimizers/custom_graph_optimizer_registry.cc:113] Plugin optimizer for device_type GPU is enabled.\n"
     ]
    },
    {
     "name": "stdout",
     "output_type": "stream",
     "text": [
      "3829/3829 [==============================] - ETA: 0s - loss: 0.0475 - accuracy: 1.9592e-04"
     ]
    },
    {
     "name": "stderr",
     "output_type": "stream",
     "text": [
      "2022-05-25 09:27:14.197681: I tensorflow/core/grappler/optimizers/custom_graph_optimizer_registry.cc:113] Plugin optimizer for device_type GPU is enabled.\n",
      "2022-05-25 09:27:14.269981: I tensorflow/core/grappler/optimizers/custom_graph_optimizer_registry.cc:113] Plugin optimizer for device_type GPU is enabled.\n",
      "2022-05-25 09:27:14.461436: I tensorflow/core/grappler/optimizers/custom_graph_optimizer_registry.cc:113] Plugin optimizer for device_type GPU is enabled.\n"
     ]
    },
    {
     "name": "stdout",
     "output_type": "stream",
     "text": [
      "3829/3829 [==============================] - 161s 41ms/step - loss: 0.0475 - accuracy: 1.9592e-04 - val_loss: 0.0239 - val_accuracy: 0.0000e+00 - lr: 0.0010\n",
      "Epoch 2/25\n",
      "3829/3829 [==============================] - 156s 41ms/step - loss: 0.0367 - accuracy: 1.9592e-04 - val_loss: 0.0366 - val_accuracy: 0.0000e+00 - lr: 9.0000e-04\n",
      "Epoch 3/25\n",
      "3829/3829 [==============================] - 160s 42ms/step - loss: 0.0347 - accuracy: 1.9592e-04 - val_loss: 0.0179 - val_accuracy: 0.0000e+00 - lr: 8.1000e-04\n",
      "Epoch 4/25\n",
      "3829/3829 [==============================] - 160s 42ms/step - loss: 0.0329 - accuracy: 1.9592e-04 - val_loss: 0.0211 - val_accuracy: 0.0000e+00 - lr: 7.2900e-04\n",
      "Epoch 5/25\n",
      "3829/3829 [==============================] - 161s 42ms/step - loss: 0.0312 - accuracy: 1.9592e-04 - val_loss: 0.0202 - val_accuracy: 0.0000e+00 - lr: 6.5610e-04\n",
      "Epoch 6/25\n",
      "3829/3829 [==============================] - 163s 43ms/step - loss: 0.0301 - accuracy: 1.9592e-04 - val_loss: 0.0180 - val_accuracy: 0.0000e+00 - lr: 5.9049e-04\n",
      "Epoch 7/25\n",
      "3829/3829 [==============================] - 167s 44ms/step - loss: 0.0291 - accuracy: 1.9592e-04 - val_loss: 0.0201 - val_accuracy: 0.0000e+00 - lr: 5.3144e-04\n",
      "Epoch 8/25\n",
      "3829/3829 [==============================] - 167s 44ms/step - loss: 0.0282 - accuracy: 1.9592e-04 - val_loss: 0.0185 - val_accuracy: 0.0000e+00 - lr: 4.7830e-04\n"
     ]
    }
   ],
   "source": [
    "## Sets the function for the rate learning in such a way that earning rate is smaller en each epoch\n",
    "reduce_lr = keras.callbacks.LearningRateScheduler(lambda x: 1e-3 * 0.90 ** x) \n",
    "\n",
    "## During the run, the models of \"best\" result are stored according to \"val_loss\"\n",
    "\n",
    "path_checkpoint = \"./outputs/h5/model_checkpoint.h5\"\n",
    "modelckpt_callback = keras.callbacks.ModelCheckpoint(\n",
    "    monitor=\"val_loss\",\n",
    "    filepath=path_checkpoint,\n",
    "    verbose=1,\n",
    "    save_weights_only=True,\n",
    "    save_best_only=True,\n",
    ")\n",
    "\n",
    "## Setting the number of epochs with no improvement after which training will be stopped, \n",
    "## with respect to \"val_loss\". This is to avoid overfitting.\n",
    "es_callback = keras.callbacks.EarlyStopping(\n",
    "    monitor=\"val_loss\", \n",
    "    min_delta=0, \n",
    "    patience=5 ### probar con menos\n",
    "    \n",
    ")\n",
    "\n",
    "modelo.compile(\n",
    "    optimizer=keras.optimizers.Adam(),  ### un tipo de descenso de gradiente más eficiente 'momento-inercia'\n",
    "    loss=\"mae\", ### determinación de la función de costo\n",
    "    metrics=['accuracy']\n",
    ")\n",
    "\n",
    "history = modelo.fit(\n",
    "    X_train,\n",
    "    y_train,\n",
    "    epochs=25,\n",
    "    validation_data=(X_val,y_val),\n",
    "    batch_size=32,\n",
    "    callbacks=[reduce_lr, es_callback]\n",
    ") ### guardar este history para graficar"
   ]
  },
  {
   "cell_type": "markdown",
   "id": "43075d2f",
   "metadata": {
    "heading_collapsed": true
   },
   "source": [
    "## 4.   Model validation"
   ]
  },
  {
   "cell_type": "code",
   "execution_count": 9,
   "id": "245c68f2",
   "metadata": {},
   "outputs": [
    {
     "name": "stdout",
     "output_type": "stream",
     "text": [
      "dict_keys(['loss', 'accuracy', 'val_loss', 'val_accuracy', 'lr'])\n"
     ]
    }
   ],
   "source": [
    "print(history.history.keys())"
   ]
  },
  {
   "cell_type": "code",
   "execution_count": 10,
   "id": "326c89a6",
   "metadata": {},
   "outputs": [
    {
     "data": {
      "image/png": "[encoded data removed]",
      "text/plain": [
       "<Figure size 1080x504 with 1 Axes>"
      ]
     },
     "metadata": {},
     "output_type": "display_data"
    }
   ],
   "source": [
    "plt.plot(history.history['loss'])\n",
    "plt.plot(history.history['val_loss'])\n",
    "plt.title('model loss')\n",
    "plt.ylabel('loss')\n",
    "plt.xlabel('epoch')\n",
    "plt.legend(['train', 'val'], loc='upper left')\n",
    "plt.show()"
   ]
  },
  {
   "cell_type": "code",
   "execution_count": 11,
   "id": "19e18437",
   "metadata": {
    "hidden": true
   },
   "outputs": [],
   "source": [
    "## 5.   Model test results"
   ]
  },
  {
   "cell_type": "code",
   "execution_count": 28,
   "id": "ad21e6fc",
   "metadata": {
    "hidden": true
   },
   "outputs": [],
   "source": [
    "df_test = pd.read_csv('./outputs/PCA/scaled_test.csv')\n",
    "#del df_test[\"Unnamed: 0\"]"
   ]
  },
  {
   "cell_type": "code",
   "execution_count": 29,
   "id": "11a1680e",
   "metadata": {
    "hidden": true
   },
   "outputs": [
    {
     "data": {
      "text/plain": [
       "((8568,), (8568,), (8568,))"
      ]
     },
     "execution_count": 29,
     "metadata": {},
     "output_type": "execute_result"
    }
   ],
   "source": [
    "y_est = modelo.predict(X_test)\n",
    "y_test[:,:,0].ravel().shape, y_est[:,:,0].ravel().shape, df_test['FECHA-HORA'][n_pasado + n_salto:].shape"
   ]
  },
  {
   "cell_type": "code",
   "execution_count": 30,
   "id": "bdaa46c6",
   "metadata": {
    "hidden": true
   },
   "outputs": [],
   "source": [
    "scalers = pk.load(open(\"./outputs/DataProcessing/scalers.pkl\",'rb'))"
   ]
  },
  {
   "cell_type": "code",
   "execution_count": 31,
   "id": "ab5f8788",
   "metadata": {
    "hidden": true
   },
   "outputs": [],
   "source": [
    "scaler = scalers['DEMANDA']\n",
    "yr = scaler.inverse_transform(y_test[:,:,0].ravel().reshape(-1, 1))\n",
    "yh = scaler.inverse_transform(y_est[:,:,0].ravel().reshape(-1, 1))"
   ]
  },
  {
   "cell_type": "code",
   "execution_count": 32,
   "id": "69f60b4a",
   "metadata": {
    "hidden": true
   },
   "outputs": [],
   "source": [
    "df_est = pd.DataFrame({\n",
    "    \"REAL\": yr.ravel(),\n",
    "    \"ESTIMADO\": yh.ravel(),\n",
    "    \"FECHA-HORA\": df_test[\"FECHA-HORA\"][n_pasado + n_salto:]     \n",
    "})"
   ]
  },
  {
   "cell_type": "code",
   "execution_count": 33,
   "id": "30cb6c74",
   "metadata": {
    "hidden": true
   },
   "outputs": [],
   "source": [
    "df_est['FECHA-HORA']= pd.to_datetime(df_est['FECHA-HORA'])\n",
    "df_est[\"HORA\"] = df_est['FECHA-HORA'].dt.hour"
   ]
  },
  {
   "cell_type": "code",
   "execution_count": 34,
   "id": "1b283b8f",
   "metadata": {
    "hidden": true
   },
   "outputs": [],
   "source": [
    "real=[]\n",
    "estimada =[]\n",
    "\n",
    "df_est_result = pd.DataFrame(columns=['FECHA-HORA',\"MAPE\"])\n",
    "\n",
    "for i, row in df_est.iterrows():\n",
    "\n",
    "    n = row['HORA']\n",
    "    \n",
    "    real.append(row['REAL'])\n",
    "    estimada.append(row['ESTIMADO'])\n",
    "    \n",
    "   \n",
    "    if n == 23:\n",
    "        df_est_result = df_est_result.append(pd.DataFrame({\"FECHA-HORA\": row['FECHA-HORA'],\n",
    "                                           \"MAPE\": (mean_absolute_percentage_error(real, estimada))*100, \n",
    "                                           \"R2\": stats.pearsonr(real, estimada)[0]}, \n",
    "                                            index=[0]), ignore_index=True)\n",
    "        n=0\n",
    "        \n",
    "        real=[]\n",
    "        estimada =[]\n",
    "    n+=1\n"
   ]
  },
  {
   "cell_type": "code",
   "execution_count": 35,
   "id": "cac331c3",
   "metadata": {},
   "outputs": [
    {
     "data": {
      "text/html": [
       "<div>\n",
       "<style scoped>\n",
       "    .dataframe tbody tr th:only-of-type {\n",
       "        vertical-align: middle;\n",
       "    }\n",
       "\n",
       "    .dataframe tbody tr th {\n",
       "        vertical-align: top;\n",
       "    }\n",
       "\n",
       "    .dataframe thead th {\n",
       "        text-align: right;\n",
       "    }\n",
       "</style>\n",
       "<table border=\"1\" class=\"dataframe\">\n",
       "  <thead>\n",
       "    <tr style=\"text-align: right;\">\n",
       "      <th></th>\n",
       "      <th>FECHA-HORA</th>\n",
       "      <th>MAPE</th>\n",
       "      <th>R2</th>\n",
       "    </tr>\n",
       "  </thead>\n",
       "  <tbody>\n",
       "    <tr>\n",
       "      <th>0</th>\n",
       "      <td>2021-05-08 23:00:00</td>\n",
       "      <td>0.799191</td>\n",
       "      <td>0.995070</td>\n",
       "    </tr>\n",
       "    <tr>\n",
       "      <th>1</th>\n",
       "      <td>2021-05-09 23:00:00</td>\n",
       "      <td>2.760538</td>\n",
       "      <td>0.995306</td>\n",
       "    </tr>\n",
       "    <tr>\n",
       "      <th>2</th>\n",
       "      <td>2021-05-10 23:00:00</td>\n",
       "      <td>6.055424</td>\n",
       "      <td>0.980376</td>\n",
       "    </tr>\n",
       "    <tr>\n",
       "      <th>3</th>\n",
       "      <td>2021-05-11 23:00:00</td>\n",
       "      <td>4.667702</td>\n",
       "      <td>0.969688</td>\n",
       "    </tr>\n",
       "    <tr>\n",
       "      <th>4</th>\n",
       "      <td>2021-05-12 23:00:00</td>\n",
       "      <td>6.674383</td>\n",
       "      <td>0.994836</td>\n",
       "    </tr>\n",
       "    <tr>\n",
       "      <th>...</th>\n",
       "      <td>...</td>\n",
       "      <td>...</td>\n",
       "      <td>...</td>\n",
       "    </tr>\n",
       "    <tr>\n",
       "      <th>352</th>\n",
       "      <td>2022-04-25 23:00:00</td>\n",
       "      <td>3.453085</td>\n",
       "      <td>0.991062</td>\n",
       "    </tr>\n",
       "    <tr>\n",
       "      <th>353</th>\n",
       "      <td>2022-04-26 23:00:00</td>\n",
       "      <td>6.935591</td>\n",
       "      <td>0.992955</td>\n",
       "    </tr>\n",
       "    <tr>\n",
       "      <th>354</th>\n",
       "      <td>2022-04-27 23:00:00</td>\n",
       "      <td>0.993914</td>\n",
       "      <td>0.994823</td>\n",
       "    </tr>\n",
       "    <tr>\n",
       "      <th>355</th>\n",
       "      <td>2022-04-28 23:00:00</td>\n",
       "      <td>1.266674</td>\n",
       "      <td>0.998166</td>\n",
       "    </tr>\n",
       "    <tr>\n",
       "      <th>356</th>\n",
       "      <td>2022-04-29 23:00:00</td>\n",
       "      <td>2.310597</td>\n",
       "      <td>0.989965</td>\n",
       "    </tr>\n",
       "  </tbody>\n",
       "</table>\n",
       "<p>357 rows × 3 columns</p>\n",
       "</div>"
      ],
      "text/plain": [
       "              FECHA-HORA      MAPE        R2\n",
       "0    2021-05-08 23:00:00  0.799191  0.995070\n",
       "1    2021-05-09 23:00:00  2.760538  0.995306\n",
       "2    2021-05-10 23:00:00  6.055424  0.980376\n",
       "3    2021-05-11 23:00:00  4.667702  0.969688\n",
       "4    2021-05-12 23:00:00  6.674383  0.994836\n",
       "..                   ...       ...       ...\n",
       "352  2022-04-25 23:00:00  3.453085  0.991062\n",
       "353  2022-04-26 23:00:00  6.935591  0.992955\n",
       "354  2022-04-27 23:00:00  0.993914  0.994823\n",
       "355  2022-04-28 23:00:00  1.266674  0.998166\n",
       "356  2022-04-29 23:00:00  2.310597  0.989965\n",
       "\n",
       "[357 rows x 3 columns]"
      ]
     },
     "execution_count": 35,
     "metadata": {},
     "output_type": "execute_result"
    }
   ],
   "source": [
    "df_est_result"
   ]
  },
  {
   "cell_type": "code",
   "execution_count": 36,
   "id": "519c3e24",
   "metadata": {},
   "outputs": [],
   "source": [
    "df_est_result.to_csv('./outputs/Training_comparativos/corrida_original.csv')"
   ]
  },
  {
   "cell_type": "code",
   "execution_count": 2,
   "id": "41371ab5",
   "metadata": {},
   "outputs": [],
   "source": [
    "df_est_result = pd.read_csv('./outputs/Training_comparativos/corrida_original.csv')"
   ]
  },
  {
   "cell_type": "markdown",
   "id": "d3e7774f",
   "metadata": {},
   "source": [
    "## Histogramas MAPES"
   ]
  },
  {
   "cell_type": "code",
   "execution_count": 4,
   "id": "bca30376",
   "metadata": {},
   "outputs": [
    {
     "data": {
      "application/vnd.plotly.v1+json": {
       "config": {
        "plotlyServerURL": "https://plot.ly"
       },
       "data": [
        {
         "alignmentgroup": "True",
         "bingroup": "x",
         "hovertemplate": "MAPE=%{x}<br>count=%{y}<extra></extra>",
         "legendgroup": "",
         "marker": {
          "color": "#636efa",
          "pattern": {
           "shape": ""
          }
         },
         "name": "",
         "nbinsx": 20,
         "offsetgroup": "",
         "orientation": "v",
         "showlegend": false,
         "type": "histogram",
         "x": [
          0.799191347753467,
          2.7605377173227,
          6.0554235375404994,
          4.667701917702364,
          6.674383452594802,
          1.6819433516577904,
          3.240488095146621,
          1.3160522532628176,
          0.6151957850082255,
          2.118705446898668,
          1.139014070960081,
          5.058520992657018,
          4.373524649427158,
          3.4137835693612173,
          6.64011542920992,
          2.730372908157058,
          3.4795015427753326,
          2.3361698545320286,
          1.864012494252908,
          1.9612251413393809,
          2.0223814553476496,
          0.8104840967524363,
          3.881003181770861,
          4.817091493641498,
          1.128219026498022,
          2.0387785356969066,
          0.8521639066196904,
          1.0274840591315109,
          2.2922265897328304,
          1.5198184999416922,
          1.972592566905967,
          2.0480344093528213,
          5.288180981899912,
          2.240061497281578,
          1.0327450928430544,
          1.4244880519538947,
          0.5131027275100597,
          2.2840816999642035,
          1.003984697234542,
          5.077467337788934,
          2.512443841928764,
          2.0868687145750657,
          5.072158825777941,
          4.886063851191889,
          1.6796869101344216,
          2.875194427743124,
          1.759105845361136,
          1.6938886255433498,
          1.8260552737040696,
          1.111791844915763,
          3.383663368559888,
          3.070865516944035,
          8.32636797685975,
          6.757393681125127,
          6.857198346264247,
          3.321204371194809,
          3.943785837250773,
          7.490611000784063,
          4.082268682262809,
          2.2778085286827783,
          1.35497436641187,
          2.951222601875302,
          4.9228294138990085,
          1.1233231542189015,
          4.17186882310294,
          2.059778314265054,
          2.7261233554345834,
          4.240115926998755,
          0.838545132213721,
          1.4969141256584633,
          1.6667239405634509,
          2.5348394571522426,
          3.350502097904498,
          7.387848658184677,
          2.4352687492647624,
          4.105853547524758,
          1.9963450129557485,
          4.807201440536644,
          3.94714396571962,
          6.532763937959574,
          1.6539392573894716,
          1.6023627971620231,
          2.1456927989313463,
          6.847938028712726,
          9.345329554760449,
          2.890113743714658,
          3.804652445478452,
          4.177030185281927,
          5.767286430708846,
          4.633119446312837,
          2.524812821524888,
          1.538446428432997,
          2.6752817074980904,
          1.9985054512888487,
          2.6214789337431443,
          1.3564310889364322,
          5.116499567372941,
          3.5209729395014278,
          5.050531588019831,
          1.4438767518034648,
          1.877575648320742,
          2.163051342987102,
          2.552114434799377,
          3.821766717318378,
          2.542273188248417,
          3.3231245758992967,
          3.898064829252182,
          3.0773551920116327,
          4.232321769745812,
          3.200734064817217,
          2.8116837308722014,
          5.036386845622952,
          2.1641664731778616,
          2.0416328495924816,
          8.347498829664147,
          16.64092983503188,
          6.683749763019874,
          4.161557853754528,
          4.750549908980676,
          3.942984496031968,
          2.615236136909824,
          3.7896123076917423,
          3.158649860397409,
          3.64839443866448,
          5.61822680976346,
          3.123713192791402,
          4.389860378598631,
          6.732619346659822,
          2.145043698394436,
          2.7866605548575896,
          6.125826024067404,
          2.669424228113443,
          1.7551938923413355,
          4.096593461857038,
          2.41367658962711,
          9.784731183640789,
          2.75515161802555,
          2.572043053795924,
          3.954518811417982,
          6.68023762112344,
          3.0038026180657877,
          4.121166510021864,
          4.131502325472916,
          2.990213853861924,
          2.201352604184174,
          3.408696487850868,
          0.6917000510204514,
          1.4585647418643162,
          2.742513894976487,
          9.352691872570308,
          1.639004593002409,
          1.2448024600765184,
          1.3636477324506846,
          3.0722973882670117,
          4.27869725407052,
          3.4880250183860046,
          3.6534323993415376,
          7.225732889665045,
          20.542364060638217,
          3.9320173748654175,
          4.919681876680308,
          6.368702172948358,
          1.2087220746342018,
          1.933911626879116,
          0.7959677746657965,
          4.805371213749985,
          1.700224721170149,
          4.017027318752767,
          2.152595345801038,
          1.2229416053432072,
          3.711409166378128,
          2.669856723589016,
          7.7179872122528925,
          1.802654079083184,
          4.415684549692175,
          1.063979407220648,
          3.2998333820989947,
          2.73759780159462,
          4.793323985977125,
          4.489538080942452,
          2.661868776409035,
          0.9430397377528912,
          1.3850796599448938,
          1.6564809952294848,
          2.2103655354409986,
          2.2901455709986736,
          2.419159180926227,
          4.836350604144074,
          2.324610717726725,
          1.9415818397162528,
          1.103680860082905,
          8.870536627894172,
          1.2924040729425172,
          1.910618280703996,
          4.98433328408929,
          1.083103405511371,
          5.05661186368496,
          2.231029747416001,
          1.380367472005358,
          1.1982956250483203,
          1.8467230054186032,
          2.2994296802008165,
          4.569980714476971,
          3.9454861298053143,
          6.11397295005904,
          6.106832161501387,
          2.1225510608146454,
          1.663709204783417,
          3.115067491056217,
          2.537129385713774,
          1.71572795365906,
          1.1527465428665806,
          1.0059664538791535,
          1.7963450373142775,
          0.635436042263956,
          3.013514239072822,
          2.006367705750606,
          1.913101917638524,
          1.6641568121123411,
          2.6862437286650054,
          2.069224789073026,
          3.8479053891677792,
          1.507924232687232,
          1.4444280317703948,
          1.3244117298774674,
          1.9966549246659815,
          0.9669163329886852,
          1.8473766476035811,
          2.25163782475591,
          1.3167825924389227,
          5.952773448960691,
          4.196421314214919,
          5.19653424743331,
          4.826508374080415,
          1.5741072512622425,
          1.807420444591072,
          0.9659386437855644,
          4.574053765771358,
          2.315825518248976,
          7.350935218319313,
          2.996533181906188,
          1.5267037000042774,
          0.941422847189228,
          1.2090796345146968,
          1.4998342285655628,
          3.0865156744448337,
          3.115180287404543,
          1.3961189712231572,
          1.0470001624332848,
          2.1824267989388195,
          3.635920117805587,
          2.554660930015845,
          1.5556054213343382,
          2.1928483891573367,
          1.9822441739179564,
          2.2744034956115438,
          2.59242028673149,
          1.3130035878024937,
          0.9108937488057306,
          2.154681839152163,
          1.9929421913982603,
          0.9322758265696351,
          0.784587003079216,
          2.070498526748171,
          0.6930061677857047,
          3.231388232164087,
          1.3124578450248834,
          1.628526101202301,
          1.060862880917654,
          1.1728092889334454,
          1.4976433161930218,
          2.067263438946319,
          1.2568489521041926,
          1.698569258378248,
          1.5453483937489465,
          1.5827555555348944,
          1.7484168897984054,
          0.7345856451861121,
          1.290665878275451,
          2.890121483160307,
          1.7015319007721303,
          4.134660442915522,
          1.3333934331411057,
          1.306194259733344,
          1.7770047622745453,
          1.554866511789052,
          1.0017670471348443,
          1.424228798256396,
          2.3495070953169512,
          1.561920493569635,
          2.8984622651585847,
          1.9092621459176768,
          1.386189547913407,
          1.4681148973092384,
          1.1232347996629135,
          1.713243070245879,
          2.2284282638347435,
          1.8658814555399037,
          1.0926884764482645,
          1.1695476302352787,
          0.992382385552345,
          1.1728203474280048,
          1.5374528878067777,
          1.7942513342832238,
          1.4535630177407064,
          1.609900906626382,
          1.4016824902836955,
          1.1918395755619249,
          1.180301770737731,
          0.8719444013399595,
          2.212041368832796,
          3.0729618169350106,
          0.8462734956361397,
          1.4872896293505256,
          1.906312897892656,
          2.0266677467797525,
          1.6845072967928736,
          2.728598347894953,
          2.103472449552653,
          4.845089379630879,
          1.8437665335826272,
          1.178703916902477,
          4.881702716066857,
          0.6883402170502189,
          0.4679652288362476,
          1.03723356770848,
          1.1055989786634235,
          2.1859395193653635,
          2.0751628848849264,
          0.8232699825598119,
          1.9002746862550903,
          3.95564819828804,
          1.547406741090849,
          5.040801885094776,
          5.267922099188905,
          1.581425047098482,
          1.071754813214685,
          1.4548247564830563,
          1.5325925850658997,
          3.440057802870325,
          2.169939710633777,
          0.8215984085232145,
          2.166148637096512,
          1.0890302079502143,
          6.849841173315892,
          6.288517554891691,
          0.8831235360205281,
          0.9629805630853416,
          3.1954136127066337,
          2.9507982623650832,
          2.936913331128304,
          3.5612662699492965,
          3.4530851688088458,
          6.935590882465998,
          0.9939136072353736,
          1.266674119847768,
          2.3105971450505915
         ],
         "xaxis": "x",
         "yaxis": "y"
        }
       ],
       "layout": {
        "barmode": "relative",
        "legend": {
         "tracegroupgap": 0
        },
        "template": {
         "data": {
          "bar": [
           {
            "error_x": {
             "color": "#2a3f5f"
            },
            "error_y": {
             "color": "#2a3f5f"
            },
            "marker": {
             "line": {
              "color": "#E5ECF6",
              "width": 0.5
             },
             "pattern": {
              "fillmode": "overlay",
              "size": 10,
              "solidity": 0.2
             }
            },
            "type": "bar"
           }
          ],
          "barpolar": [
           {
            "marker": {
             "line": {
              "color": "#E5ECF6",
              "width": 0.5
             },
             "pattern": {
              "fillmode": "overlay",
              "size": 10,
              "solidity": 0.2
             }
            },
            "type": "barpolar"
           }
          ],
          "carpet": [
           {
            "aaxis": {
             "endlinecolor": "#2a3f5f",
             "gridcolor": "white",
             "linecolor": "white",
             "minorgridcolor": "white",
             "startlinecolor": "#2a3f5f"
            },
            "baxis": {
             "endlinecolor": "#2a3f5f",
             "gridcolor": "white",
             "linecolor": "white",
             "minorgridcolor": "white",
             "startlinecolor": "#2a3f5f"
            },
            "type": "carpet"
           }
          ],
          "choropleth": [
           {
            "colorbar": {
             "outlinewidth": 0,
             "ticks": ""
            },
            "type": "choropleth"
           }
          ],
          "contour": [
           {
            "colorbar": {
             "outlinewidth": 0,
             "ticks": ""
            },
            "colorscale": [
             [
              0,
              "#0d0887"
             ],
             [
              0.1111111111111111,
              "#46039f"
             ],
             [
              0.2222222222222222,
              "#7201a8"
             ],
             [
              0.3333333333333333,
              "#9c179e"
             ],
             [
              0.4444444444444444,
              "#bd3786"
             ],
             [
              0.5555555555555556,
              "#d8576b"
             ],
             [
              0.6666666666666666,
              "#ed7953"
             ],
             [
              0.7777777777777778,
              "#fb9f3a"
             ],
             [
              0.8888888888888888,
              "#fdca26"
             ],
             [
              1,
              "#f0f921"
             ]
            ],
            "type": "contour"
           }
          ],
          "contourcarpet": [
           {
            "colorbar": {
             "outlinewidth": 0,
             "ticks": ""
            },
            "type": "contourcarpet"
           }
          ],
          "heatmap": [
           {
            "colorbar": {
             "outlinewidth": 0,
             "ticks": ""
            },
            "colorscale": [
             [
              0,
              "#0d0887"
             ],
             [
              0.1111111111111111,
              "#46039f"
             ],
             [
              0.2222222222222222,
              "#7201a8"
             ],
             [
              0.3333333333333333,
              "#9c179e"
             ],
             [
              0.4444444444444444,
              "#bd3786"
             ],
             [
              0.5555555555555556,
              "#d8576b"
             ],
             [
              0.6666666666666666,
              "#ed7953"
             ],
             [
              0.7777777777777778,
              "#fb9f3a"
             ],
             [
              0.8888888888888888,
              "#fdca26"
             ],
             [
              1,
              "#f0f921"
             ]
            ],
            "type": "heatmap"
           }
          ],
          "heatmapgl": [
           {
            "colorbar": {
             "outlinewidth": 0,
             "ticks": ""
            },
            "colorscale": [
             [
              0,
              "#0d0887"
             ],
             [
              0.1111111111111111,
              "#46039f"
             ],
             [
              0.2222222222222222,
              "#7201a8"
             ],
             [
              0.3333333333333333,
              "#9c179e"
             ],
             [
              0.4444444444444444,
              "#bd3786"
             ],
             [
              0.5555555555555556,
              "#d8576b"
             ],
             [
              0.6666666666666666,
              "#ed7953"
             ],
             [
              0.7777777777777778,
              "#fb9f3a"
             ],
             [
              0.8888888888888888,
              "#fdca26"
             ],
             [
              1,
              "#f0f921"
             ]
            ],
            "type": "heatmapgl"
           }
          ],
          "histogram": [
           {
            "marker": {
             "pattern": {
              "fillmode": "overlay",
              "size": 10,
              "solidity": 0.2
             }
            },
            "type": "histogram"
           }
          ],
          "histogram2d": [
           {
            "colorbar": {
             "outlinewidth": 0,
             "ticks": ""
            },
            "colorscale": [
             [
              0,
              "#0d0887"
             ],
             [
              0.1111111111111111,
              "#46039f"
             ],
             [
              0.2222222222222222,
              "#7201a8"
             ],
             [
              0.3333333333333333,
              "#9c179e"
             ],
             [
              0.4444444444444444,
              "#bd3786"
             ],
             [
              0.5555555555555556,
              "#d8576b"
             ],
             [
              0.6666666666666666,
              "#ed7953"
             ],
             [
              0.7777777777777778,
              "#fb9f3a"
             ],
             [
              0.8888888888888888,
              "#fdca26"
             ],
             [
              1,
              "#f0f921"
             ]
            ],
            "type": "histogram2d"
           }
          ],
          "histogram2dcontour": [
           {
            "colorbar": {
             "outlinewidth": 0,
             "ticks": ""
            },
            "colorscale": [
             [
              0,
              "#0d0887"
             ],
             [
              0.1111111111111111,
              "#46039f"
             ],
             [
              0.2222222222222222,
              "#7201a8"
             ],
             [
              0.3333333333333333,
              "#9c179e"
             ],
             [
              0.4444444444444444,
              "#bd3786"
             ],
             [
              0.5555555555555556,
              "#d8576b"
             ],
             [
              0.6666666666666666,
              "#ed7953"
             ],
             [
              0.7777777777777778,
              "#fb9f3a"
             ],
             [
              0.8888888888888888,
              "#fdca26"
             ],
             [
              1,
              "#f0f921"
             ]
            ],
            "type": "histogram2dcontour"
           }
          ],
          "mesh3d": [
           {
            "colorbar": {
             "outlinewidth": 0,
             "ticks": ""
            },
            "type": "mesh3d"
           }
          ],
          "parcoords": [
           {
            "line": {
             "colorbar": {
              "outlinewidth": 0,
              "ticks": ""
             }
            },
            "type": "parcoords"
           }
          ],
          "pie": [
           {
            "automargin": true,
            "type": "pie"
           }
          ],
          "scatter": [
           {
            "fillpattern": {
             "fillmode": "overlay",
             "size": 10,
             "solidity": 0.2
            },
            "type": "scatter"
           }
          ],
          "scatter3d": [
           {
            "line": {
             "colorbar": {
              "outlinewidth": 0,
              "ticks": ""
             }
            },
            "marker": {
             "colorbar": {
              "outlinewidth": 0,
              "ticks": ""
             }
            },
            "type": "scatter3d"
           }
          ],
          "scattercarpet": [
           {
            "marker": {
             "colorbar": {
              "outlinewidth": 0,
              "ticks": ""
             }
            },
            "type": "scattercarpet"
           }
          ],
          "scattergeo": [
           {
            "marker": {
             "colorbar": {
              "outlinewidth": 0,
              "ticks": ""
             }
            },
            "type": "scattergeo"
           }
          ],
          "scattergl": [
           {
            "marker": {
             "colorbar": {
              "outlinewidth": 0,
              "ticks": ""
             }
            },
            "type": "scattergl"
           }
          ],
          "scattermapbox": [
           {
            "marker": {
             "colorbar": {
              "outlinewidth": 0,
              "ticks": ""
             }
            },
            "type": "scattermapbox"
           }
          ],
          "scatterpolar": [
           {
            "marker": {
             "colorbar": {
              "outlinewidth": 0,
              "ticks": ""
             }
            },
            "type": "scatterpolar"
           }
          ],
          "scatterpolargl": [
           {
            "marker": {
             "colorbar": {
              "outlinewidth": 0,
              "ticks": ""
             }
            },
            "type": "scatterpolargl"
           }
          ],
          "scatterternary": [
           {
            "marker": {
             "colorbar": {
              "outlinewidth": 0,
              "ticks": ""
             }
            },
            "type": "scatterternary"
           }
          ],
          "surface": [
           {
            "colorbar": {
             "outlinewidth": 0,
             "ticks": ""
            },
            "colorscale": [
             [
              0,
              "#0d0887"
             ],
             [
              0.1111111111111111,
              "#46039f"
             ],
             [
              0.2222222222222222,
              "#7201a8"
             ],
             [
              0.3333333333333333,
              "#9c179e"
             ],
             [
              0.4444444444444444,
              "#bd3786"
             ],
             [
              0.5555555555555556,
              "#d8576b"
             ],
             [
              0.6666666666666666,
              "#ed7953"
             ],
             [
              0.7777777777777778,
              "#fb9f3a"
             ],
             [
              0.8888888888888888,
              "#fdca26"
             ],
             [
              1,
              "#f0f921"
             ]
            ],
            "type": "surface"
           }
          ],
          "table": [
           {
            "cells": {
             "fill": {
              "color": "#EBF0F8"
             },
             "line": {
              "color": "white"
             }
            },
            "header": {
             "fill": {
              "color": "#C8D4E3"
             },
             "line": {
              "color": "white"
             }
            },
            "type": "table"
           }
          ]
         },
         "layout": {
          "annotationdefaults": {
           "arrowcolor": "#2a3f5f",
           "arrowhead": 0,
           "arrowwidth": 1
          },
          "autotypenumbers": "strict",
          "coloraxis": {
           "colorbar": {
            "outlinewidth": 0,
            "ticks": ""
           }
          },
          "colorscale": {
           "diverging": [
            [
             0,
             "#8e0152"
            ],
            [
             0.1,
             "#c51b7d"
            ],
            [
             0.2,
             "#de77ae"
            ],
            [
             0.3,
             "#f1b6da"
            ],
            [
             0.4,
             "#fde0ef"
            ],
            [
             0.5,
             "#f7f7f7"
            ],
            [
             0.6,
             "#e6f5d0"
            ],
            [
             0.7,
             "#b8e186"
            ],
            [
             0.8,
             "#7fbc41"
            ],
            [
             0.9,
             "#4d9221"
            ],
            [
             1,
             "#276419"
            ]
           ],
           "sequential": [
            [
             0,
             "#0d0887"
            ],
            [
             0.1111111111111111,
             "#46039f"
            ],
            [
             0.2222222222222222,
             "#7201a8"
            ],
            [
             0.3333333333333333,
             "#9c179e"
            ],
            [
             0.4444444444444444,
             "#bd3786"
            ],
            [
             0.5555555555555556,
             "#d8576b"
            ],
            [
             0.6666666666666666,
             "#ed7953"
            ],
            [
             0.7777777777777778,
             "#fb9f3a"
            ],
            [
             0.8888888888888888,
             "#fdca26"
            ],
            [
             1,
             "#f0f921"
            ]
           ],
           "sequentialminus": [
            [
             0,
             "#0d0887"
            ],
            [
             0.1111111111111111,
             "#46039f"
            ],
            [
             0.2222222222222222,
             "#7201a8"
            ],
            [
             0.3333333333333333,
             "#9c179e"
            ],
            [
             0.4444444444444444,
             "#bd3786"
            ],
            [
             0.5555555555555556,
             "#d8576b"
            ],
            [
             0.6666666666666666,
             "#ed7953"
            ],
            [
             0.7777777777777778,
             "#fb9f3a"
            ],
            [
             0.8888888888888888,
             "#fdca26"
            ],
            [
             1,
             "#f0f921"
            ]
           ]
          },
          "colorway": [
           "#636efa",
           "#EF553B",
           "#00cc96",
           "#ab63fa",
           "#FFA15A",
           "#19d3f3",
           "#FF6692",
           "#B6E880",
           "#FF97FF",
           "#FECB52"
          ],
          "font": {
           "color": "#2a3f5f"
          },
          "geo": {
           "bgcolor": "white",
           "lakecolor": "white",
           "landcolor": "#E5ECF6",
           "showlakes": true,
           "showland": true,
           "subunitcolor": "white"
          },
          "hoverlabel": {
           "align": "left"
          },
          "hovermode": "closest",
          "mapbox": {
           "style": "light"
          },
          "paper_bgcolor": "white",
          "plot_bgcolor": "#E5ECF6",
          "polar": {
           "angularaxis": {
            "gridcolor": "white",
            "linecolor": "white",
            "ticks": ""
           },
           "bgcolor": "#E5ECF6",
           "radialaxis": {
            "gridcolor": "white",
            "linecolor": "white",
            "ticks": ""
           }
          },
          "scene": {
           "xaxis": {
            "backgroundcolor": "#E5ECF6",
            "gridcolor": "white",
            "gridwidth": 2,
            "linecolor": "white",
            "showbackground": true,
            "ticks": "",
            "zerolinecolor": "white"
           },
           "yaxis": {
            "backgroundcolor": "#E5ECF6",
            "gridcolor": "white",
            "gridwidth": 2,
            "linecolor": "white",
            "showbackground": true,
            "ticks": "",
            "zerolinecolor": "white"
           },
           "zaxis": {
            "backgroundcolor": "#E5ECF6",
            "gridcolor": "white",
            "gridwidth": 2,
            "linecolor": "white",
            "showbackground": true,
            "ticks": "",
            "zerolinecolor": "white"
           }
          },
          "shapedefaults": {
           "line": {
            "color": "#2a3f5f"
           }
          },
          "ternary": {
           "aaxis": {
            "gridcolor": "white",
            "linecolor": "white",
            "ticks": ""
           },
           "baxis": {
            "gridcolor": "white",
            "linecolor": "white",
            "ticks": ""
           },
           "bgcolor": "#E5ECF6",
           "caxis": {
            "gridcolor": "white",
            "linecolor": "white",
            "ticks": ""
           }
          },
          "title": {
           "x": 0.05
          },
          "xaxis": {
           "automargin": true,
           "gridcolor": "white",
           "linecolor": "white",
           "ticks": "",
           "title": {
            "standoff": 15
           },
           "zerolinecolor": "white",
           "zerolinewidth": 2
          },
          "yaxis": {
           "automargin": true,
           "gridcolor": "white",
           "linecolor": "white",
           "ticks": "",
           "title": {
            "standoff": 15
           },
           "zerolinecolor": "white",
           "zerolinewidth": 2
          }
         }
        },
        "title": {
         "text": "Histograma MAPE Datos Originales"
        },
        "xaxis": {
         "anchor": "y",
         "domain": [
          0,
          1
         ],
         "title": {
          "text": "MAPE"
         }
        },
        "yaxis": {
         "anchor": "x",
         "domain": [
          0,
          1
         ],
         "title": {
          "text": "count"
         }
        }
       }
      },
      "text/html": [
       "<div>                            <div id=\"94b87f35-aaa7-4723-98a5-0e44df308ece\" class=\"plotly-graph-div\" style=\"height:525px; width:100%;\"></div>            <script type=\"text/javascript\">                require([\"plotly\"], function(Plotly) {                    window.PLOTLYENV=window.PLOTLYENV || {};                                    if (document.getElementById(\"94b87f35-aaa7-4723-98a5-0e44df308ece\")) {                    Plotly.newPlot(                        \"94b87f35-aaa7-4723-98a5-0e44df308ece\",                        [{\"alignmentgroup\":\"True\",\"bingroup\":\"x\",\"hovertemplate\":\"MAPE=%{x}<br>count=%{y}<extra></extra>\",\"legendgroup\":\"\",\"marker\":{\"color\":\"#636efa\",\"pattern\":{\"shape\":\"\"}},\"name\":\"\",\"nbinsx\":20,\"offsetgroup\":\"\",\"orientation\":\"v\",\"showlegend\":false,\"x\":[0.799191347753467,2.7605377173227,6.0554235375404994,4.667701917702364,6.674383452594802,1.6819433516577904,3.240488095146621,1.3160522532628176,0.6151957850082255,2.118705446898668,1.139014070960081,5.058520992657018,4.373524649427158,3.4137835693612173,6.64011542920992,2.730372908157058,3.4795015427753326,2.3361698545320286,1.864012494252908,1.9612251413393809,2.0223814553476496,0.8104840967524363,3.881003181770861,4.817091493641498,1.128219026498022,2.0387785356969066,0.8521639066196904,1.0274840591315109,2.2922265897328304,1.5198184999416922,1.972592566905967,2.0480344093528213,5.288180981899912,2.240061497281578,1.0327450928430544,1.4244880519538947,0.5131027275100597,2.2840816999642035,1.003984697234542,5.077467337788934,2.512443841928764,2.0868687145750657,5.072158825777941,4.886063851191889,1.6796869101344216,2.875194427743124,1.759105845361136,1.6938886255433498,1.8260552737040696,1.111791844915763,3.383663368559888,3.070865516944035,8.32636797685975,6.757393681125127,6.857198346264247,3.321204371194809,3.943785837250773,7.490611000784063,4.082268682262809,2.2778085286827783,1.35497436641187,2.951222601875302,4.9228294138990085,1.1233231542189015,4.17186882310294,2.059778314265054,2.7261233554345834,4.240115926998755,0.838545132213721,1.4969141256584633,1.6667239405634509,2.5348394571522426,3.350502097904498,7.387848658184677,2.4352687492647624,4.105853547524758,1.9963450129557485,4.807201440536644,3.94714396571962,6.532763937959574,1.6539392573894716,1.6023627971620231,2.1456927989313463,6.847938028712726,9.345329554760449,2.890113743714658,3.804652445478452,4.177030185281927,5.767286430708846,4.633119446312837,2.524812821524888,1.538446428432997,2.6752817074980904,1.9985054512888487,2.6214789337431443,1.3564310889364322,5.116499567372941,3.5209729395014278,5.050531588019831,1.4438767518034648,1.877575648320742,2.163051342987102,2.552114434799377,3.821766717318378,2.542273188248417,3.3231245758992967,3.898064829252182,3.0773551920116327,4.232321769745812,3.200734064817217,2.8116837308722014,5.036386845622952,2.1641664731778616,2.0416328495924816,8.347498829664147,16.64092983503188,6.683749763019874,4.161557853754528,4.750549908980676,3.942984496031968,2.615236136909824,3.7896123076917423,3.158649860397409,3.64839443866448,5.61822680976346,3.123713192791402,4.389860378598631,6.732619346659822,2.145043698394436,2.7866605548575896,6.125826024067404,2.669424228113443,1.7551938923413355,4.096593461857038,2.41367658962711,9.784731183640789,2.75515161802555,2.572043053795924,3.954518811417982,6.68023762112344,3.0038026180657877,4.121166510021864,4.131502325472916,2.990213853861924,2.201352604184174,3.408696487850868,0.6917000510204514,1.4585647418643162,2.742513894976487,9.352691872570308,1.639004593002409,1.2448024600765184,1.3636477324506846,3.0722973882670117,4.27869725407052,3.4880250183860046,3.6534323993415376,7.225732889665045,20.542364060638217,3.9320173748654175,4.919681876680308,6.368702172948358,1.2087220746342018,1.933911626879116,0.7959677746657965,4.805371213749985,1.700224721170149,4.017027318752767,2.152595345801038,1.2229416053432072,3.711409166378128,2.669856723589016,7.7179872122528925,1.802654079083184,4.415684549692175,1.063979407220648,3.2998333820989947,2.73759780159462,4.793323985977125,4.489538080942452,2.661868776409035,0.9430397377528912,1.3850796599448938,1.6564809952294848,2.2103655354409986,2.2901455709986736,2.419159180926227,4.836350604144074,2.324610717726725,1.9415818397162528,1.103680860082905,8.870536627894172,1.2924040729425172,1.910618280703996,4.98433328408929,1.083103405511371,5.05661186368496,2.231029747416001,1.380367472005358,1.1982956250483203,1.8467230054186032,2.2994296802008165,4.569980714476971,3.9454861298053143,6.11397295005904,6.106832161501387,2.1225510608146454,1.663709204783417,3.115067491056217,2.537129385713774,1.71572795365906,1.1527465428665806,1.0059664538791535,1.7963450373142775,0.635436042263956,3.013514239072822,2.006367705750606,1.913101917638524,1.6641568121123411,2.6862437286650054,2.069224789073026,3.8479053891677792,1.507924232687232,1.4444280317703948,1.3244117298774674,1.9966549246659815,0.9669163329886852,1.8473766476035811,2.25163782475591,1.3167825924389227,5.952773448960691,4.196421314214919,5.19653424743331,4.826508374080415,1.5741072512622425,1.807420444591072,0.9659386437855644,4.574053765771358,2.315825518248976,7.350935218319313,2.996533181906188,1.5267037000042774,0.941422847189228,1.2090796345146968,1.4998342285655628,3.0865156744448337,3.115180287404543,1.3961189712231572,1.0470001624332848,2.1824267989388195,3.635920117805587,2.554660930015845,1.5556054213343382,2.1928483891573367,1.9822441739179564,2.2744034956115438,2.59242028673149,1.3130035878024937,0.9108937488057306,2.154681839152163,1.9929421913982603,0.9322758265696351,0.784587003079216,2.070498526748171,0.6930061677857047,3.231388232164087,1.3124578450248834,1.628526101202301,1.060862880917654,1.1728092889334454,1.4976433161930218,2.067263438946319,1.2568489521041926,1.698569258378248,1.5453483937489465,1.5827555555348944,1.7484168897984054,0.7345856451861121,1.290665878275451,2.890121483160307,1.7015319007721303,4.134660442915522,1.3333934331411057,1.306194259733344,1.7770047622745453,1.554866511789052,1.0017670471348443,1.424228798256396,2.3495070953169512,1.561920493569635,2.8984622651585847,1.9092621459176768,1.386189547913407,1.4681148973092384,1.1232347996629135,1.713243070245879,2.2284282638347435,1.8658814555399037,1.0926884764482645,1.1695476302352787,0.992382385552345,1.1728203474280048,1.5374528878067777,1.7942513342832238,1.4535630177407064,1.609900906626382,1.4016824902836955,1.1918395755619249,1.180301770737731,0.8719444013399595,2.212041368832796,3.0729618169350106,0.8462734956361397,1.4872896293505256,1.906312897892656,2.0266677467797525,1.6845072967928736,2.728598347894953,2.103472449552653,4.845089379630879,1.8437665335826272,1.178703916902477,4.881702716066857,0.6883402170502189,0.4679652288362476,1.03723356770848,1.1055989786634235,2.1859395193653635,2.0751628848849264,0.8232699825598119,1.9002746862550903,3.95564819828804,1.547406741090849,5.040801885094776,5.267922099188905,1.581425047098482,1.071754813214685,1.4548247564830563,1.5325925850658997,3.440057802870325,2.169939710633777,0.8215984085232145,2.166148637096512,1.0890302079502143,6.849841173315892,6.288517554891691,0.8831235360205281,0.9629805630853416,3.1954136127066337,2.9507982623650832,2.936913331128304,3.5612662699492965,3.4530851688088458,6.935590882465998,0.9939136072353736,1.266674119847768,2.3105971450505915],\"xaxis\":\"x\",\"yaxis\":\"y\",\"type\":\"histogram\"}],                        {\"template\":{\"data\":{\"histogram2dcontour\":[{\"type\":\"histogram2dcontour\",\"colorbar\":{\"outlinewidth\":0,\"ticks\":\"\"},\"colorscale\":[[0.0,\"#0d0887\"],[0.1111111111111111,\"#46039f\"],[0.2222222222222222,\"#7201a8\"],[0.3333333333333333,\"#9c179e\"],[0.4444444444444444,\"#bd3786\"],[0.5555555555555556,\"#d8576b\"],[0.6666666666666666,\"#ed7953\"],[0.7777777777777778,\"#fb9f3a\"],[0.8888888888888888,\"#fdca26\"],[1.0,\"#f0f921\"]]}],\"choropleth\":[{\"type\":\"choropleth\",\"colorbar\":{\"outlinewidth\":0,\"ticks\":\"\"}}],\"histogram2d\":[{\"type\":\"histogram2d\",\"colorbar\":{\"outlinewidth\":0,\"ticks\":\"\"},\"colorscale\":[[0.0,\"#0d0887\"],[0.1111111111111111,\"#46039f\"],[0.2222222222222222,\"#7201a8\"],[0.3333333333333333,\"#9c179e\"],[0.4444444444444444,\"#bd3786\"],[0.5555555555555556,\"#d8576b\"],[0.6666666666666666,\"#ed7953\"],[0.7777777777777778,\"#fb9f3a\"],[0.8888888888888888,\"#fdca26\"],[1.0,\"#f0f921\"]]}],\"heatmap\":[{\"type\":\"heatmap\",\"colorbar\":{\"outlinewidth\":0,\"ticks\":\"\"},\"colorscale\":[[0.0,\"#0d0887\"],[0.1111111111111111,\"#46039f\"],[0.2222222222222222,\"#7201a8\"],[0.3333333333333333,\"#9c179e\"],[0.4444444444444444,\"#bd3786\"],[0.5555555555555556,\"#d8576b\"],[0.6666666666666666,\"#ed7953\"],[0.7777777777777778,\"#fb9f3a\"],[0.8888888888888888,\"#fdca26\"],[1.0,\"#f0f921\"]]}],\"heatmapgl\":[{\"type\":\"heatmapgl\",\"colorbar\":{\"outlinewidth\":0,\"ticks\":\"\"},\"colorscale\":[[0.0,\"#0d0887\"],[0.1111111111111111,\"#46039f\"],[0.2222222222222222,\"#7201a8\"],[0.3333333333333333,\"#9c179e\"],[0.4444444444444444,\"#bd3786\"],[0.5555555555555556,\"#d8576b\"],[0.6666666666666666,\"#ed7953\"],[0.7777777777777778,\"#fb9f3a\"],[0.8888888888888888,\"#fdca26\"],[1.0,\"#f0f921\"]]}],\"contourcarpet\":[{\"type\":\"contourcarpet\",\"colorbar\":{\"outlinewidth\":0,\"ticks\":\"\"}}],\"contour\":[{\"type\":\"contour\",\"colorbar\":{\"outlinewidth\":0,\"ticks\":\"\"},\"colorscale\":[[0.0,\"#0d0887\"],[0.1111111111111111,\"#46039f\"],[0.2222222222222222,\"#7201a8\"],[0.3333333333333333,\"#9c179e\"],[0.4444444444444444,\"#bd3786\"],[0.5555555555555556,\"#d8576b\"],[0.6666666666666666,\"#ed7953\"],[0.7777777777777778,\"#fb9f3a\"],[0.8888888888888888,\"#fdca26\"],[1.0,\"#f0f921\"]]}],\"surface\":[{\"type\":\"surface\",\"colorbar\":{\"outlinewidth\":0,\"ticks\":\"\"},\"colorscale\":[[0.0,\"#0d0887\"],[0.1111111111111111,\"#46039f\"],[0.2222222222222222,\"#7201a8\"],[0.3333333333333333,\"#9c179e\"],[0.4444444444444444,\"#bd3786\"],[0.5555555555555556,\"#d8576b\"],[0.6666666666666666,\"#ed7953\"],[0.7777777777777778,\"#fb9f3a\"],[0.8888888888888888,\"#fdca26\"],[1.0,\"#f0f921\"]]}],\"mesh3d\":[{\"type\":\"mesh3d\",\"colorbar\":{\"outlinewidth\":0,\"ticks\":\"\"}}],\"scatter\":[{\"fillpattern\":{\"fillmode\":\"overlay\",\"size\":10,\"solidity\":0.2},\"type\":\"scatter\"}],\"parcoords\":[{\"type\":\"parcoords\",\"line\":{\"colorbar\":{\"outlinewidth\":0,\"ticks\":\"\"}}}],\"scatterpolargl\":[{\"type\":\"scatterpolargl\",\"marker\":{\"colorbar\":{\"outlinewidth\":0,\"ticks\":\"\"}}}],\"bar\":[{\"error_x\":{\"color\":\"#2a3f5f\"},\"error_y\":{\"color\":\"#2a3f5f\"},\"marker\":{\"line\":{\"color\":\"#E5ECF6\",\"width\":0.5},\"pattern\":{\"fillmode\":\"overlay\",\"size\":10,\"solidity\":0.2}},\"type\":\"bar\"}],\"scattergeo\":[{\"type\":\"scattergeo\",\"marker\":{\"colorbar\":{\"outlinewidth\":0,\"ticks\":\"\"}}}],\"scatterpolar\":[{\"type\":\"scatterpolar\",\"marker\":{\"colorbar\":{\"outlinewidth\":0,\"ticks\":\"\"}}}],\"histogram\":[{\"marker\":{\"pattern\":{\"fillmode\":\"overlay\",\"size\":10,\"solidity\":0.2}},\"type\":\"histogram\"}],\"scattergl\":[{\"type\":\"scattergl\",\"marker\":{\"colorbar\":{\"outlinewidth\":0,\"ticks\":\"\"}}}],\"scatter3d\":[{\"type\":\"scatter3d\",\"line\":{\"colorbar\":{\"outlinewidth\":0,\"ticks\":\"\"}},\"marker\":{\"colorbar\":{\"outlinewidth\":0,\"ticks\":\"\"}}}],\"scattermapbox\":[{\"type\":\"scattermapbox\",\"marker\":{\"colorbar\":{\"outlinewidth\":0,\"ticks\":\"\"}}}],\"scatterternary\":[{\"type\":\"scatterternary\",\"marker\":{\"colorbar\":{\"outlinewidth\":0,\"ticks\":\"\"}}}],\"scattercarpet\":[{\"type\":\"scattercarpet\",\"marker\":{\"colorbar\":{\"outlinewidth\":0,\"ticks\":\"\"}}}],\"carpet\":[{\"aaxis\":{\"endlinecolor\":\"#2a3f5f\",\"gridcolor\":\"white\",\"linecolor\":\"white\",\"minorgridcolor\":\"white\",\"startlinecolor\":\"#2a3f5f\"},\"baxis\":{\"endlinecolor\":\"#2a3f5f\",\"gridcolor\":\"white\",\"linecolor\":\"white\",\"minorgridcolor\":\"white\",\"startlinecolor\":\"#2a3f5f\"},\"type\":\"carpet\"}],\"table\":[{\"cells\":{\"fill\":{\"color\":\"#EBF0F8\"},\"line\":{\"color\":\"white\"}},\"header\":{\"fill\":{\"color\":\"#C8D4E3\"},\"line\":{\"color\":\"white\"}},\"type\":\"table\"}],\"barpolar\":[{\"marker\":{\"line\":{\"color\":\"#E5ECF6\",\"width\":0.5},\"pattern\":{\"fillmode\":\"overlay\",\"size\":10,\"solidity\":0.2}},\"type\":\"barpolar\"}],\"pie\":[{\"automargin\":true,\"type\":\"pie\"}]},\"layout\":{\"autotypenumbers\":\"strict\",\"colorway\":[\"#636efa\",\"#EF553B\",\"#00cc96\",\"#ab63fa\",\"#FFA15A\",\"#19d3f3\",\"#FF6692\",\"#B6E880\",\"#FF97FF\",\"#FECB52\"],\"font\":{\"color\":\"#2a3f5f\"},\"hovermode\":\"closest\",\"hoverlabel\":{\"align\":\"left\"},\"paper_bgcolor\":\"white\",\"plot_bgcolor\":\"#E5ECF6\",\"polar\":{\"bgcolor\":\"#E5ECF6\",\"angularaxis\":{\"gridcolor\":\"white\",\"linecolor\":\"white\",\"ticks\":\"\"},\"radialaxis\":{\"gridcolor\":\"white\",\"linecolor\":\"white\",\"ticks\":\"\"}},\"ternary\":{\"bgcolor\":\"#E5ECF6\",\"aaxis\":{\"gridcolor\":\"white\",\"linecolor\":\"white\",\"ticks\":\"\"},\"baxis\":{\"gridcolor\":\"white\",\"linecolor\":\"white\",\"ticks\":\"\"},\"caxis\":{\"gridcolor\":\"white\",\"linecolor\":\"white\",\"ticks\":\"\"}},\"coloraxis\":{\"colorbar\":{\"outlinewidth\":0,\"ticks\":\"\"}},\"colorscale\":{\"sequential\":[[0.0,\"#0d0887\"],[0.1111111111111111,\"#46039f\"],[0.2222222222222222,\"#7201a8\"],[0.3333333333333333,\"#9c179e\"],[0.4444444444444444,\"#bd3786\"],[0.5555555555555556,\"#d8576b\"],[0.6666666666666666,\"#ed7953\"],[0.7777777777777778,\"#fb9f3a\"],[0.8888888888888888,\"#fdca26\"],[1.0,\"#f0f921\"]],\"sequentialminus\":[[0.0,\"#0d0887\"],[0.1111111111111111,\"#46039f\"],[0.2222222222222222,\"#7201a8\"],[0.3333333333333333,\"#9c179e\"],[0.4444444444444444,\"#bd3786\"],[0.5555555555555556,\"#d8576b\"],[0.6666666666666666,\"#ed7953\"],[0.7777777777777778,\"#fb9f3a\"],[0.8888888888888888,\"#fdca26\"],[1.0,\"#f0f921\"]],\"diverging\":[[0,\"#8e0152\"],[0.1,\"#c51b7d\"],[0.2,\"#de77ae\"],[0.3,\"#f1b6da\"],[0.4,\"#fde0ef\"],[0.5,\"#f7f7f7\"],[0.6,\"#e6f5d0\"],[0.7,\"#b8e186\"],[0.8,\"#7fbc41\"],[0.9,\"#4d9221\"],[1,\"#276419\"]]},\"xaxis\":{\"gridcolor\":\"white\",\"linecolor\":\"white\",\"ticks\":\"\",\"title\":{\"standoff\":15},\"zerolinecolor\":\"white\",\"automargin\":true,\"zerolinewidth\":2},\"yaxis\":{\"gridcolor\":\"white\",\"linecolor\":\"white\",\"ticks\":\"\",\"title\":{\"standoff\":15},\"zerolinecolor\":\"white\",\"automargin\":true,\"zerolinewidth\":2},\"scene\":{\"xaxis\":{\"backgroundcolor\":\"#E5ECF6\",\"gridcolor\":\"white\",\"linecolor\":\"white\",\"showbackground\":true,\"ticks\":\"\",\"zerolinecolor\":\"white\",\"gridwidth\":2},\"yaxis\":{\"backgroundcolor\":\"#E5ECF6\",\"gridcolor\":\"white\",\"linecolor\":\"white\",\"showbackground\":true,\"ticks\":\"\",\"zerolinecolor\":\"white\",\"gridwidth\":2},\"zaxis\":{\"backgroundcolor\":\"#E5ECF6\",\"gridcolor\":\"white\",\"linecolor\":\"white\",\"showbackground\":true,\"ticks\":\"\",\"zerolinecolor\":\"white\",\"gridwidth\":2}},\"shapedefaults\":{\"line\":{\"color\":\"#2a3f5f\"}},\"annotationdefaults\":{\"arrowcolor\":\"#2a3f5f\",\"arrowhead\":0,\"arrowwidth\":1},\"geo\":{\"bgcolor\":\"white\",\"landcolor\":\"#E5ECF6\",\"subunitcolor\":\"white\",\"showland\":true,\"showlakes\":true,\"lakecolor\":\"white\"},\"title\":{\"x\":0.05},\"mapbox\":{\"style\":\"light\"}}},\"xaxis\":{\"anchor\":\"y\",\"domain\":[0.0,1.0],\"title\":{\"text\":\"MAPE\"}},\"yaxis\":{\"anchor\":\"x\",\"domain\":[0.0,1.0],\"title\":{\"text\":\"count\"}},\"legend\":{\"tracegroupgap\":0},\"title\":{\"text\":\"Histograma MAPE Datos Originales\"},\"barmode\":\"relative\"},                        {\"responsive\": true}                    ).then(function(){\n",
       "                            \n",
       "var gd = document.getElementById('94b87f35-aaa7-4723-98a5-0e44df308ece');\n",
       "var x = new MutationObserver(function (mutations, observer) {{\n",
       "        var display = window.getComputedStyle(gd).display;\n",
       "        if (!display || display === 'none') {{\n",
       "            console.log([gd, 'removed!']);\n",
       "            Plotly.purge(gd);\n",
       "            observer.disconnect();\n",
       "        }}\n",
       "}});\n",
       "\n",
       "// Listen for the removal of the full notebook cells\n",
       "var notebookContainer = gd.closest('#notebook-container');\n",
       "if (notebookContainer) {{\n",
       "    x.observe(notebookContainer, {childList: true});\n",
       "}}\n",
       "\n",
       "// Listen for the clearing of the current output cell\n",
       "var outputEl = gd.closest('.output');\n",
       "if (outputEl) {{\n",
       "    x.observe(outputEl, {childList: true});\n",
       "}}\n",
       "\n",
       "                        })                };                });            </script>        </div>"
      ]
     },
     "metadata": {},
     "output_type": "display_data"
    }
   ],
   "source": [
    "\n",
    "fig = px.histogram(df_est_result, x=\"MAPE\", nbins=20, title=\"Histograma MAPE Datos Originales\")\n",
    "fig.show()"
   ]
  },
  {
   "cell_type": "code",
   "execution_count": 5,
   "id": "a38c0301",
   "metadata": {},
   "outputs": [
    {
     "data": {
      "application/vnd.plotly.v1+json": {
       "config": {
        "plotlyServerURL": "https://plot.ly"
       },
       "data": [
        {
         "alignmentgroup": "True",
         "bingroup": "x",
         "hovertemplate": "R2=%{x}<br>count=%{y}<extra></extra>",
         "legendgroup": "",
         "marker": {
          "color": "#636efa",
          "pattern": {
           "shape": ""
          }
         },
         "name": "",
         "nbinsx": 10,
         "offsetgroup": "",
         "orientation": "v",
         "showlegend": false,
         "type": "histogram",
         "x": [
          0.9950699206931763,
          0.9953064243316592,
          0.9803758560326914,
          0.969687839823834,
          0.9948357831239238,
          0.9928219987586664,
          0.9927594674062198,
          0.9879243524807954,
          0.9973212370592158,
          0.9890328875485622,
          0.989515695330778,
          0.9925651855871696,
          0.9925789568206208,
          0.9769713851520287,
          0.9848836419993012,
          0.9916018234628852,
          0.9938562736634162,
          0.9935086419012814,
          0.9915625425954516,
          0.9943018208382796,
          0.99130008107712,
          0.9974757965094104,
          0.9981321064547632,
          0.9716446084808666,
          0.9961678081550034,
          0.9909270191177596,
          0.9978362978396976,
          0.9958526722639932,
          0.99618061251863,
          0.989847128977338,
          0.9936631757455584,
          0.9960201495841302,
          0.9936674498265632,
          0.996086005795534,
          0.9941362497279576,
          0.9941349518013128,
          0.9977943270387284,
          0.9899241552998966,
          0.9944802140201806,
          0.9883563564166326,
          0.9945912933044566,
          0.9621204028146838,
          0.961131973694962,
          0.7969356202564317,
          0.984932719384084,
          0.9853027178828054,
          0.9961224484216896,
          0.9982681576442493,
          0.9947425667322102,
          0.9889439285154136,
          0.9644608007477796,
          0.9916832848767648,
          0.938733362397956,
          0.9966109595363984,
          0.9914688260203756,
          0.9945585639564588,
          0.8239153328402232,
          0.9904871913052132,
          0.9488085267335276,
          0.9913835901927032,
          0.982759615451559,
          0.9604592974677798,
          0.9907449131318764,
          0.9936843613637591,
          0.9810168670309136,
          0.9906197629487212,
          0.9863385779574414,
          0.9959892623652872,
          0.9954877915097804,
          0.9896195154020896,
          0.98060358845296,
          0.9675517848544534,
          0.9853215383652052,
          0.9477142278905648,
          0.949734959804778,
          0.9784708681008678,
          0.9841111603910472,
          0.9222473124710008,
          0.9533269921030592,
          0.9423405926747068,
          0.9878495378160734,
          0.9845814299291232,
          0.9622405327415742,
          0.9893616628162776,
          0.9470079549902104,
          0.9690578717119886,
          0.9745488160667378,
          0.9447260089564932,
          0.9572251052069536,
          0.9821230019803332,
          0.9920864288519666,
          0.9920138692288584,
          0.9801156287063018,
          0.9842440030505486,
          0.9816165582383068,
          0.9932835977538323,
          0.8639869519029885,
          0.9527323372580976,
          0.9737621879064398,
          0.9744593272299544,
          0.9806176904476528,
          0.9826286737188644,
          0.9842232940958976,
          0.9975075185719804,
          0.984607119183354,
          0.9792251619721372,
          0.9727159320078506,
          0.9662920539071864,
          0.9939819738336308,
          0.9863806629877344,
          0.9041786494947388,
          0.8682549937774328,
          0.9847948584354288,
          0.9579699822217436,
          0.8878581107307782,
          0.9651279199429574,
          0.9901439643173982,
          0.9828139448696788,
          0.951524390575082,
          0.9785082976006436,
          0.9677475909674564,
          0.9892869831641397,
          0.9945772281427306,
          0.9815029908415258,
          0.9937531327543804,
          0.9939835284279152,
          0.9636748998405444,
          0.980796809605752,
          0.989772167655173,
          0.9841021959755428,
          0.9893304654738032,
          0.9803198599959086,
          0.9804213049140278,
          0.984991609028936,
          0.9812087835842188,
          0.9898692303383336,
          0.9636792923631736,
          0.9972743663186056,
          0.945251844192089,
          0.9932869371009444,
          0.945523445214204,
          0.9812167992604782,
          0.9876263280067928,
          0.9937662965102256,
          0.9884360252799892,
          0.9982270957905708,
          0.996387306947886,
          0.9883711884317188,
          0.98097215639561,
          0.98421130996741,
          0.998556399265508,
          0.9938383413973916,
          0.9951297929027284,
          0.987297550424962,
          0.9943476176950294,
          0.9810363380998506,
          0.9845408473088686,
          0.6008113682914552,
          0.978058832927659,
          0.992905788331507,
          0.9921720525889776,
          0.9870842629050646,
          0.9954280701721344,
          0.9825516824230314,
          0.9974386599804528,
          0.9961077980927594,
          0.9922727541272832,
          0.9887529203078564,
          0.9933153912358867,
          0.9860194854802978,
          0.982742828360706,
          0.9789675537194734,
          0.9865125027804648,
          0.9900725222319806,
          0.9904912556164184,
          0.9923056620825614,
          0.986535731477898,
          0.994052408472337,
          0.954874011543116,
          0.9912815902848428,
          0.9854672900793416,
          0.9937268986613974,
          0.9879568090410626,
          0.9819551995466144,
          0.9923316001075724,
          0.99414149763142,
          0.9910748401397708,
          0.9929115883675388,
          0.9951992073288676,
          0.988310542394156,
          0.9854742007120384,
          0.9344384196726726,
          0.9898782575342774,
          0.9914311446376768,
          0.9896963231555038,
          0.989964530541936,
          0.9913688973432336,
          0.9877021498715104,
          0.9951170014554516,
          0.9923214045803538,
          0.9969808472333418,
          0.9670722378491162,
          0.8675572342175568,
          0.960981996969753,
          0.9706246765728022,
          0.9876527573933984,
          0.987315751763074,
          0.9936269776374504,
          0.9933343125584506,
          0.9903144659988152,
          0.986186158155209,
          0.9908395359308316,
          0.9981593037020392,
          0.9944707006769844,
          0.9960799578149238,
          0.9940858334498374,
          0.9934527612661594,
          0.978818864178094,
          0.9651698193903632,
          0.993781099920674,
          0.9952436453196633,
          0.9937904265179746,
          0.9872286640667246,
          0.9797531822105008,
          0.9897210065680508,
          0.951396658943821,
          0.9952076637329444,
          0.9864241836673158,
          0.9944122022057174,
          0.9906249776878552,
          0.9649143218325148,
          0.8880422239000245,
          0.9782695741626676,
          0.9901044160804766,
          0.9927335914728396,
          0.996416138634536,
          0.997544480603514,
          0.9509403910922848,
          0.9250974897285844,
          0.952141083791769,
          0.9771228654171228,
          0.9756755953247128,
          0.9871885937842296,
          0.9856711654460572,
          0.9865313482258276,
          0.9897963992154488,
          0.9719257913125248,
          0.9920097030447274,
          0.988435784685441,
          0.9875418391987106,
          0.9880966155492252,
          0.9882470731432488,
          0.991463925150114,
          0.9824987371127106,
          0.9946319756498236,
          0.9912113854717658,
          0.9961642867921549,
          0.99314677232203,
          0.994869778915367,
          0.9920396005970048,
          0.98586648861869,
          0.992689686455804,
          0.9925009005946992,
          0.982533612541512,
          0.9965853116890766,
          0.9936722719774242,
          0.9881702078630452,
          0.983213276473916,
          0.997233156313883,
          0.9968609628459016,
          0.9938773396651596,
          0.9691635024198308,
          0.9916569636351392,
          0.987808284792804,
          0.9649442594280748,
          0.9920532161121706,
          0.9787371702930812,
          0.9955535703537344,
          0.991657082485398,
          0.994548437687538,
          0.9918023549800116,
          0.9575917857672762,
          0.9952749150448752,
          0.9981796020073072,
          0.9971261169791484,
          0.9887847449929608,
          0.9915037265781044,
          0.9914738135205672,
          0.9614316132571196,
          0.9974980954643924,
          0.9970959693896456,
          0.993554326212063,
          0.992987124184561,
          0.9870672042820392,
          0.9923649019113022,
          0.9490822655945818,
          0.9937540595091148,
          0.9935973116607082,
          0.9975095664966735,
          0.9972963988460376,
          0.9955838854638565,
          0.9941753751562324,
          0.9654576249262776,
          0.9849033790172724,
          0.9837670663460328,
          0.9786826955894612,
          0.9794569410051612,
          0.994331329547773,
          0.992142309632225,
          0.9836292805183672,
          0.9953772211750516,
          0.9906515116014282,
          0.9927426581631166,
          0.9933962152459742,
          0.985753804977176,
          0.9772840875601704,
          0.9697534511501956,
          0.9840889762735482,
          0.9782809688009858,
          0.9904569195564908,
          0.9953460344350852,
          0.989770791895057,
          0.9802137221097248,
          0.9908906097304256,
          0.9982717153334264,
          0.9971365540102992,
          0.993290051704955,
          0.9940911474338876,
          0.9829376451866656,
          0.9905111210462934,
          0.9748512140262428,
          0.9852392165247053,
          0.9781160497766612,
          0.9552882740056332,
          0.9832490098479976,
          0.9889773994955168,
          0.9880763514704756,
          0.9787683652743664,
          0.988094156830974,
          0.9878957969448124,
          0.9794032529371756,
          0.9904713912474769,
          0.973168997993102,
          0.9869904327702234,
          0.9602545493541154,
          0.9894682485129832,
          0.9956498134936328,
          0.9935563091380905,
          0.9883860486589396,
          0.9939540144968646,
          0.9926258604718574,
          0.9926204469722568,
          0.9910624032714922,
          0.9929549719562968,
          0.994822519538835,
          0.9981663069525772,
          0.9899649671737848
         ],
         "xaxis": "x",
         "yaxis": "y"
        }
       ],
       "layout": {
        "barmode": "relative",
        "legend": {
         "tracegroupgap": 0
        },
        "template": {
         "data": {
          "bar": [
           {
            "error_x": {
             "color": "#2a3f5f"
            },
            "error_y": {
             "color": "#2a3f5f"
            },
            "marker": {
             "line": {
              "color": "#E5ECF6",
              "width": 0.5
             },
             "pattern": {
              "fillmode": "overlay",
              "size": 10,
              "solidity": 0.2
             }
            },
            "type": "bar"
           }
          ],
          "barpolar": [
           {
            "marker": {
             "line": {
              "color": "#E5ECF6",
              "width": 0.5
             },
             "pattern": {
              "fillmode": "overlay",
              "size": 10,
              "solidity": 0.2
             }
            },
            "type": "barpolar"
           }
          ],
          "carpet": [
           {
            "aaxis": {
             "endlinecolor": "#2a3f5f",
             "gridcolor": "white",
             "linecolor": "white",
             "minorgridcolor": "white",
             "startlinecolor": "#2a3f5f"
            },
            "baxis": {
             "endlinecolor": "#2a3f5f",
             "gridcolor": "white",
             "linecolor": "white",
             "minorgridcolor": "white",
             "startlinecolor": "#2a3f5f"
            },
            "type": "carpet"
           }
          ],
          "choropleth": [
           {
            "colorbar": {
             "outlinewidth": 0,
             "ticks": ""
            },
            "type": "choropleth"
           }
          ],
          "contour": [
           {
            "colorbar": {
             "outlinewidth": 0,
             "ticks": ""
            },
            "colorscale": [
             [
              0,
              "#0d0887"
             ],
             [
              0.1111111111111111,
              "#46039f"
             ],
             [
              0.2222222222222222,
              "#7201a8"
             ],
             [
              0.3333333333333333,
              "#9c179e"
             ],
             [
              0.4444444444444444,
              "#bd3786"
             ],
             [
              0.5555555555555556,
              "#d8576b"
             ],
             [
              0.6666666666666666,
              "#ed7953"
             ],
             [
              0.7777777777777778,
              "#fb9f3a"
             ],
             [
              0.8888888888888888,
              "#fdca26"
             ],
             [
              1,
              "#f0f921"
             ]
            ],
            "type": "contour"
           }
          ],
          "contourcarpet": [
           {
            "colorbar": {
             "outlinewidth": 0,
             "ticks": ""
            },
            "type": "contourcarpet"
           }
          ],
          "heatmap": [
           {
            "colorbar": {
             "outlinewidth": 0,
             "ticks": ""
            },
            "colorscale": [
             [
              0,
              "#0d0887"
             ],
             [
              0.1111111111111111,
              "#46039f"
             ],
             [
              0.2222222222222222,
              "#7201a8"
             ],
             [
              0.3333333333333333,
              "#9c179e"
             ],
             [
              0.4444444444444444,
              "#bd3786"
             ],
             [
              0.5555555555555556,
              "#d8576b"
             ],
             [
              0.6666666666666666,
              "#ed7953"
             ],
             [
              0.7777777777777778,
              "#fb9f3a"
             ],
             [
              0.8888888888888888,
              "#fdca26"
             ],
             [
              1,
              "#f0f921"
             ]
            ],
            "type": "heatmap"
           }
          ],
          "heatmapgl": [
           {
            "colorbar": {
             "outlinewidth": 0,
             "ticks": ""
            },
            "colorscale": [
             [
              0,
              "#0d0887"
             ],
             [
              0.1111111111111111,
              "#46039f"
             ],
             [
              0.2222222222222222,
              "#7201a8"
             ],
             [
              0.3333333333333333,
              "#9c179e"
             ],
             [
              0.4444444444444444,
              "#bd3786"
             ],
             [
              0.5555555555555556,
              "#d8576b"
             ],
             [
              0.6666666666666666,
              "#ed7953"
             ],
             [
              0.7777777777777778,
              "#fb9f3a"
             ],
             [
              0.8888888888888888,
              "#fdca26"
             ],
             [
              1,
              "#f0f921"
             ]
            ],
            "type": "heatmapgl"
           }
          ],
          "histogram": [
           {
            "marker": {
             "pattern": {
              "fillmode": "overlay",
              "size": 10,
              "solidity": 0.2
             }
            },
            "type": "histogram"
           }
          ],
          "histogram2d": [
           {
            "colorbar": {
             "outlinewidth": 0,
             "ticks": ""
            },
            "colorscale": [
             [
              0,
              "#0d0887"
             ],
             [
              0.1111111111111111,
              "#46039f"
             ],
             [
              0.2222222222222222,
              "#7201a8"
             ],
             [
              0.3333333333333333,
              "#9c179e"
             ],
             [
              0.4444444444444444,
              "#bd3786"
             ],
             [
              0.5555555555555556,
              "#d8576b"
             ],
             [
              0.6666666666666666,
              "#ed7953"
             ],
             [
              0.7777777777777778,
              "#fb9f3a"
             ],
             [
              0.8888888888888888,
              "#fdca26"
             ],
             [
              1,
              "#f0f921"
             ]
            ],
            "type": "histogram2d"
           }
          ],
          "histogram2dcontour": [
           {
            "colorbar": {
             "outlinewidth": 0,
             "ticks": ""
            },
            "colorscale": [
             [
              0,
              "#0d0887"
             ],
             [
              0.1111111111111111,
              "#46039f"
             ],
             [
              0.2222222222222222,
              "#7201a8"
             ],
             [
              0.3333333333333333,
              "#9c179e"
             ],
             [
              0.4444444444444444,
              "#bd3786"
             ],
             [
              0.5555555555555556,
              "#d8576b"
             ],
             [
              0.6666666666666666,
              "#ed7953"
             ],
             [
              0.7777777777777778,
              "#fb9f3a"
             ],
             [
              0.8888888888888888,
              "#fdca26"
             ],
             [
              1,
              "#f0f921"
             ]
            ],
            "type": "histogram2dcontour"
           }
          ],
          "mesh3d": [
           {
            "colorbar": {
             "outlinewidth": 0,
             "ticks": ""
            },
            "type": "mesh3d"
           }
          ],
          "parcoords": [
           {
            "line": {
             "colorbar": {
              "outlinewidth": 0,
              "ticks": ""
             }
            },
            "type": "parcoords"
           }
          ],
          "pie": [
           {
            "automargin": true,
            "type": "pie"
           }
          ],
          "scatter": [
           {
            "fillpattern": {
             "fillmode": "overlay",
             "size": 10,
             "solidity": 0.2
            },
            "type": "scatter"
           }
          ],
          "scatter3d": [
           {
            "line": {
             "colorbar": {
              "outlinewidth": 0,
              "ticks": ""
             }
            },
            "marker": {
             "colorbar": {
              "outlinewidth": 0,
              "ticks": ""
             }
            },
            "type": "scatter3d"
           }
          ],
          "scattercarpet": [
           {
            "marker": {
             "colorbar": {
              "outlinewidth": 0,
              "ticks": ""
             }
            },
            "type": "scattercarpet"
           }
          ],
          "scattergeo": [
           {
            "marker": {
             "colorbar": {
              "outlinewidth": 0,
              "ticks": ""
             }
            },
            "type": "scattergeo"
           }
          ],
          "scattergl": [
           {
            "marker": {
             "colorbar": {
              "outlinewidth": 0,
              "ticks": ""
             }
            },
            "type": "scattergl"
           }
          ],
          "scattermapbox": [
           {
            "marker": {
             "colorbar": {
              "outlinewidth": 0,
              "ticks": ""
             }
            },
            "type": "scattermapbox"
           }
          ],
          "scatterpolar": [
           {
            "marker": {
             "colorbar": {
              "outlinewidth": 0,
              "ticks": ""
             }
            },
            "type": "scatterpolar"
           }
          ],
          "scatterpolargl": [
           {
            "marker": {
             "colorbar": {
              "outlinewidth": 0,
              "ticks": ""
             }
            },
            "type": "scatterpolargl"
           }
          ],
          "scatterternary": [
           {
            "marker": {
             "colorbar": {
              "outlinewidth": 0,
              "ticks": ""
             }
            },
            "type": "scatterternary"
           }
          ],
          "surface": [
           {
            "colorbar": {
             "outlinewidth": 0,
             "ticks": ""
            },
            "colorscale": [
             [
              0,
              "#0d0887"
             ],
             [
              0.1111111111111111,
              "#46039f"
             ],
             [
              0.2222222222222222,
              "#7201a8"
             ],
             [
              0.3333333333333333,
              "#9c179e"
             ],
             [
              0.4444444444444444,
              "#bd3786"
             ],
             [
              0.5555555555555556,
              "#d8576b"
             ],
             [
              0.6666666666666666,
              "#ed7953"
             ],
             [
              0.7777777777777778,
              "#fb9f3a"
             ],
             [
              0.8888888888888888,
              "#fdca26"
             ],
             [
              1,
              "#f0f921"
             ]
            ],
            "type": "surface"
           }
          ],
          "table": [
           {
            "cells": {
             "fill": {
              "color": "#EBF0F8"
             },
             "line": {
              "color": "white"
             }
            },
            "header": {
             "fill": {
              "color": "#C8D4E3"
             },
             "line": {
              "color": "white"
             }
            },
            "type": "table"
           }
          ]
         },
         "layout": {
          "annotationdefaults": {
           "arrowcolor": "#2a3f5f",
           "arrowhead": 0,
           "arrowwidth": 1
          },
          "autotypenumbers": "strict",
          "coloraxis": {
           "colorbar": {
            "outlinewidth": 0,
            "ticks": ""
           }
          },
          "colorscale": {
           "diverging": [
            [
             0,
             "#8e0152"
            ],
            [
             0.1,
             "#c51b7d"
            ],
            [
             0.2,
             "#de77ae"
            ],
            [
             0.3,
             "#f1b6da"
            ],
            [
             0.4,
             "#fde0ef"
            ],
            [
             0.5,
             "#f7f7f7"
            ],
            [
             0.6,
             "#e6f5d0"
            ],
            [
             0.7,
             "#b8e186"
            ],
            [
             0.8,
             "#7fbc41"
            ],
            [
             0.9,
             "#4d9221"
            ],
            [
             1,
             "#276419"
            ]
           ],
           "sequential": [
            [
             0,
             "#0d0887"
            ],
            [
             0.1111111111111111,
             "#46039f"
            ],
            [
             0.2222222222222222,
             "#7201a8"
            ],
            [
             0.3333333333333333,
             "#9c179e"
            ],
            [
             0.4444444444444444,
             "#bd3786"
            ],
            [
             0.5555555555555556,
             "#d8576b"
            ],
            [
             0.6666666666666666,
             "#ed7953"
            ],
            [
             0.7777777777777778,
             "#fb9f3a"
            ],
            [
             0.8888888888888888,
             "#fdca26"
            ],
            [
             1,
             "#f0f921"
            ]
           ],
           "sequentialminus": [
            [
             0,
             "#0d0887"
            ],
            [
             0.1111111111111111,
             "#46039f"
            ],
            [
             0.2222222222222222,
             "#7201a8"
            ],
            [
             0.3333333333333333,
             "#9c179e"
            ],
            [
             0.4444444444444444,
             "#bd3786"
            ],
            [
             0.5555555555555556,
             "#d8576b"
            ],
            [
             0.6666666666666666,
             "#ed7953"
            ],
            [
             0.7777777777777778,
             "#fb9f3a"
            ],
            [
             0.8888888888888888,
             "#fdca26"
            ],
            [
             1,
             "#f0f921"
            ]
           ]
          },
          "colorway": [
           "#636efa",
           "#EF553B",
           "#00cc96",
           "#ab63fa",
           "#FFA15A",
           "#19d3f3",
           "#FF6692",
           "#B6E880",
           "#FF97FF",
           "#FECB52"
          ],
          "font": {
           "color": "#2a3f5f"
          },
          "geo": {
           "bgcolor": "white",
           "lakecolor": "white",
           "landcolor": "#E5ECF6",
           "showlakes": true,
           "showland": true,
           "subunitcolor": "white"
          },
          "hoverlabel": {
           "align": "left"
          },
          "hovermode": "closest",
          "mapbox": {
           "style": "light"
          },
          "paper_bgcolor": "white",
          "plot_bgcolor": "#E5ECF6",
          "polar": {
           "angularaxis": {
            "gridcolor": "white",
            "linecolor": "white",
            "ticks": ""
           },
           "bgcolor": "#E5ECF6",
           "radialaxis": {
            "gridcolor": "white",
            "linecolor": "white",
            "ticks": ""
           }
          },
          "scene": {
           "xaxis": {
            "backgroundcolor": "#E5ECF6",
            "gridcolor": "white",
            "gridwidth": 2,
            "linecolor": "white",
            "showbackground": true,
            "ticks": "",
            "zerolinecolor": "white"
           },
           "yaxis": {
            "backgroundcolor": "#E5ECF6",
            "gridcolor": "white",
            "gridwidth": 2,
            "linecolor": "white",
            "showbackground": true,
            "ticks": "",
            "zerolinecolor": "white"
           },
           "zaxis": {
            "backgroundcolor": "#E5ECF6",
            "gridcolor": "white",
            "gridwidth": 2,
            "linecolor": "white",
            "showbackground": true,
            "ticks": "",
            "zerolinecolor": "white"
           }
          },
          "shapedefaults": {
           "line": {
            "color": "#2a3f5f"
           }
          },
          "ternary": {
           "aaxis": {
            "gridcolor": "white",
            "linecolor": "white",
            "ticks": ""
           },
           "baxis": {
            "gridcolor": "white",
            "linecolor": "white",
            "ticks": ""
           },
           "bgcolor": "#E5ECF6",
           "caxis": {
            "gridcolor": "white",
            "linecolor": "white",
            "ticks": ""
           }
          },
          "title": {
           "x": 0.05
          },
          "xaxis": {
           "automargin": true,
           "gridcolor": "white",
           "linecolor": "white",
           "ticks": "",
           "title": {
            "standoff": 15
           },
           "zerolinecolor": "white",
           "zerolinewidth": 2
          },
          "yaxis": {
           "automargin": true,
           "gridcolor": "white",
           "linecolor": "white",
           "ticks": "",
           "title": {
            "standoff": 15
           },
           "zerolinecolor": "white",
           "zerolinewidth": 2
          }
         }
        },
        "title": {
         "text": "Histograma R2 Datos Originales"
        },
        "xaxis": {
         "anchor": "y",
         "domain": [
          0,
          1
         ],
         "title": {
          "text": "R2"
         }
        },
        "yaxis": {
         "anchor": "x",
         "domain": [
          0,
          1
         ],
         "title": {
          "text": "count"
         }
        }
       }
      },
      "text/html": [
       "<div>                            <div id=\"8b9f3132-a2a5-4545-816a-a8983d441925\" class=\"plotly-graph-div\" style=\"height:525px; width:100%;\"></div>            <script type=\"text/javascript\">                require([\"plotly\"], function(Plotly) {                    window.PLOTLYENV=window.PLOTLYENV || {};                                    if (document.getElementById(\"8b9f3132-a2a5-4545-816a-a8983d441925\")) {                    Plotly.newPlot(                        \"8b9f3132-a2a5-4545-816a-a8983d441925\",                        [{\"alignmentgroup\":\"True\",\"bingroup\":\"x\",\"hovertemplate\":\"R2=%{x}<br>count=%{y}<extra></extra>\",\"legendgroup\":\"\",\"marker\":{\"color\":\"#636efa\",\"pattern\":{\"shape\":\"\"}},\"name\":\"\",\"nbinsx\":10,\"offsetgroup\":\"\",\"orientation\":\"v\",\"showlegend\":false,\"x\":[0.9950699206931763,0.9953064243316592,0.9803758560326914,0.969687839823834,0.9948357831239238,0.9928219987586664,0.9927594674062198,0.9879243524807954,0.9973212370592158,0.9890328875485622,0.989515695330778,0.9925651855871696,0.9925789568206208,0.9769713851520287,0.9848836419993012,0.9916018234628852,0.9938562736634162,0.9935086419012814,0.9915625425954516,0.9943018208382796,0.99130008107712,0.9974757965094104,0.9981321064547632,0.9716446084808666,0.9961678081550034,0.9909270191177596,0.9978362978396976,0.9958526722639932,0.99618061251863,0.989847128977338,0.9936631757455584,0.9960201495841302,0.9936674498265632,0.996086005795534,0.9941362497279576,0.9941349518013128,0.9977943270387284,0.9899241552998966,0.9944802140201806,0.9883563564166326,0.9945912933044566,0.9621204028146838,0.961131973694962,0.7969356202564317,0.984932719384084,0.9853027178828054,0.9961224484216896,0.9982681576442493,0.9947425667322102,0.9889439285154136,0.9644608007477796,0.9916832848767648,0.938733362397956,0.9966109595363984,0.9914688260203756,0.9945585639564588,0.8239153328402232,0.9904871913052132,0.9488085267335276,0.9913835901927032,0.982759615451559,0.9604592974677798,0.9907449131318764,0.9936843613637591,0.9810168670309136,0.9906197629487212,0.9863385779574414,0.9959892623652872,0.9954877915097804,0.9896195154020896,0.98060358845296,0.9675517848544534,0.9853215383652052,0.9477142278905648,0.949734959804778,0.9784708681008678,0.9841111603910472,0.9222473124710008,0.9533269921030592,0.9423405926747068,0.9878495378160734,0.9845814299291232,0.9622405327415742,0.9893616628162776,0.9470079549902104,0.9690578717119886,0.9745488160667378,0.9447260089564932,0.9572251052069536,0.9821230019803332,0.9920864288519666,0.9920138692288584,0.9801156287063018,0.9842440030505486,0.9816165582383068,0.9932835977538323,0.8639869519029885,0.9527323372580976,0.9737621879064398,0.9744593272299544,0.9806176904476528,0.9826286737188644,0.9842232940958976,0.9975075185719804,0.984607119183354,0.9792251619721372,0.9727159320078506,0.9662920539071864,0.9939819738336308,0.9863806629877344,0.9041786494947388,0.8682549937774328,0.9847948584354288,0.9579699822217436,0.8878581107307782,0.9651279199429574,0.9901439643173982,0.9828139448696788,0.951524390575082,0.9785082976006436,0.9677475909674564,0.9892869831641397,0.9945772281427306,0.9815029908415258,0.9937531327543804,0.9939835284279152,0.9636748998405444,0.980796809605752,0.989772167655173,0.9841021959755428,0.9893304654738032,0.9803198599959086,0.9804213049140278,0.984991609028936,0.9812087835842188,0.9898692303383336,0.9636792923631736,0.9972743663186056,0.945251844192089,0.9932869371009444,0.945523445214204,0.9812167992604782,0.9876263280067928,0.9937662965102256,0.9884360252799892,0.9982270957905708,0.996387306947886,0.9883711884317188,0.98097215639561,0.98421130996741,0.998556399265508,0.9938383413973916,0.9951297929027284,0.987297550424962,0.9943476176950294,0.9810363380998506,0.9845408473088686,0.6008113682914552,0.978058832927659,0.992905788331507,0.9921720525889776,0.9870842629050646,0.9954280701721344,0.9825516824230314,0.9974386599804528,0.9961077980927594,0.9922727541272832,0.9887529203078564,0.9933153912358867,0.9860194854802978,0.982742828360706,0.9789675537194734,0.9865125027804648,0.9900725222319806,0.9904912556164184,0.9923056620825614,0.986535731477898,0.994052408472337,0.954874011543116,0.9912815902848428,0.9854672900793416,0.9937268986613974,0.9879568090410626,0.9819551995466144,0.9923316001075724,0.99414149763142,0.9910748401397708,0.9929115883675388,0.9951992073288676,0.988310542394156,0.9854742007120384,0.9344384196726726,0.9898782575342774,0.9914311446376768,0.9896963231555038,0.989964530541936,0.9913688973432336,0.9877021498715104,0.9951170014554516,0.9923214045803538,0.9969808472333418,0.9670722378491162,0.8675572342175568,0.960981996969753,0.9706246765728022,0.9876527573933984,0.987315751763074,0.9936269776374504,0.9933343125584506,0.9903144659988152,0.986186158155209,0.9908395359308316,0.9981593037020392,0.9944707006769844,0.9960799578149238,0.9940858334498374,0.9934527612661594,0.978818864178094,0.9651698193903632,0.993781099920674,0.9952436453196633,0.9937904265179746,0.9872286640667246,0.9797531822105008,0.9897210065680508,0.951396658943821,0.9952076637329444,0.9864241836673158,0.9944122022057174,0.9906249776878552,0.9649143218325148,0.8880422239000245,0.9782695741626676,0.9901044160804766,0.9927335914728396,0.996416138634536,0.997544480603514,0.9509403910922848,0.9250974897285844,0.952141083791769,0.9771228654171228,0.9756755953247128,0.9871885937842296,0.9856711654460572,0.9865313482258276,0.9897963992154488,0.9719257913125248,0.9920097030447274,0.988435784685441,0.9875418391987106,0.9880966155492252,0.9882470731432488,0.991463925150114,0.9824987371127106,0.9946319756498236,0.9912113854717658,0.9961642867921549,0.99314677232203,0.994869778915367,0.9920396005970048,0.98586648861869,0.992689686455804,0.9925009005946992,0.982533612541512,0.9965853116890766,0.9936722719774242,0.9881702078630452,0.983213276473916,0.997233156313883,0.9968609628459016,0.9938773396651596,0.9691635024198308,0.9916569636351392,0.987808284792804,0.9649442594280748,0.9920532161121706,0.9787371702930812,0.9955535703537344,0.991657082485398,0.994548437687538,0.9918023549800116,0.9575917857672762,0.9952749150448752,0.9981796020073072,0.9971261169791484,0.9887847449929608,0.9915037265781044,0.9914738135205672,0.9614316132571196,0.9974980954643924,0.9970959693896456,0.993554326212063,0.992987124184561,0.9870672042820392,0.9923649019113022,0.9490822655945818,0.9937540595091148,0.9935973116607082,0.9975095664966735,0.9972963988460376,0.9955838854638565,0.9941753751562324,0.9654576249262776,0.9849033790172724,0.9837670663460328,0.9786826955894612,0.9794569410051612,0.994331329547773,0.992142309632225,0.9836292805183672,0.9953772211750516,0.9906515116014282,0.9927426581631166,0.9933962152459742,0.985753804977176,0.9772840875601704,0.9697534511501956,0.9840889762735482,0.9782809688009858,0.9904569195564908,0.9953460344350852,0.989770791895057,0.9802137221097248,0.9908906097304256,0.9982717153334264,0.9971365540102992,0.993290051704955,0.9940911474338876,0.9829376451866656,0.9905111210462934,0.9748512140262428,0.9852392165247053,0.9781160497766612,0.9552882740056332,0.9832490098479976,0.9889773994955168,0.9880763514704756,0.9787683652743664,0.988094156830974,0.9878957969448124,0.9794032529371756,0.9904713912474769,0.973168997993102,0.9869904327702234,0.9602545493541154,0.9894682485129832,0.9956498134936328,0.9935563091380905,0.9883860486589396,0.9939540144968646,0.9926258604718574,0.9926204469722568,0.9910624032714922,0.9929549719562968,0.994822519538835,0.9981663069525772,0.9899649671737848],\"xaxis\":\"x\",\"yaxis\":\"y\",\"type\":\"histogram\"}],                        {\"template\":{\"data\":{\"histogram2dcontour\":[{\"type\":\"histogram2dcontour\",\"colorbar\":{\"outlinewidth\":0,\"ticks\":\"\"},\"colorscale\":[[0.0,\"#0d0887\"],[0.1111111111111111,\"#46039f\"],[0.2222222222222222,\"#7201a8\"],[0.3333333333333333,\"#9c179e\"],[0.4444444444444444,\"#bd3786\"],[0.5555555555555556,\"#d8576b\"],[0.6666666666666666,\"#ed7953\"],[0.7777777777777778,\"#fb9f3a\"],[0.8888888888888888,\"#fdca26\"],[1.0,\"#f0f921\"]]}],\"choropleth\":[{\"type\":\"choropleth\",\"colorbar\":{\"outlinewidth\":0,\"ticks\":\"\"}}],\"histogram2d\":[{\"type\":\"histogram2d\",\"colorbar\":{\"outlinewidth\":0,\"ticks\":\"\"},\"colorscale\":[[0.0,\"#0d0887\"],[0.1111111111111111,\"#46039f\"],[0.2222222222222222,\"#7201a8\"],[0.3333333333333333,\"#9c179e\"],[0.4444444444444444,\"#bd3786\"],[0.5555555555555556,\"#d8576b\"],[0.6666666666666666,\"#ed7953\"],[0.7777777777777778,\"#fb9f3a\"],[0.8888888888888888,\"#fdca26\"],[1.0,\"#f0f921\"]]}],\"heatmap\":[{\"type\":\"heatmap\",\"colorbar\":{\"outlinewidth\":0,\"ticks\":\"\"},\"colorscale\":[[0.0,\"#0d0887\"],[0.1111111111111111,\"#46039f\"],[0.2222222222222222,\"#7201a8\"],[0.3333333333333333,\"#9c179e\"],[0.4444444444444444,\"#bd3786\"],[0.5555555555555556,\"#d8576b\"],[0.6666666666666666,\"#ed7953\"],[0.7777777777777778,\"#fb9f3a\"],[0.8888888888888888,\"#fdca26\"],[1.0,\"#f0f921\"]]}],\"heatmapgl\":[{\"type\":\"heatmapgl\",\"colorbar\":{\"outlinewidth\":0,\"ticks\":\"\"},\"colorscale\":[[0.0,\"#0d0887\"],[0.1111111111111111,\"#46039f\"],[0.2222222222222222,\"#7201a8\"],[0.3333333333333333,\"#9c179e\"],[0.4444444444444444,\"#bd3786\"],[0.5555555555555556,\"#d8576b\"],[0.6666666666666666,\"#ed7953\"],[0.7777777777777778,\"#fb9f3a\"],[0.8888888888888888,\"#fdca26\"],[1.0,\"#f0f921\"]]}],\"contourcarpet\":[{\"type\":\"contourcarpet\",\"colorbar\":{\"outlinewidth\":0,\"ticks\":\"\"}}],\"contour\":[{\"type\":\"contour\",\"colorbar\":{\"outlinewidth\":0,\"ticks\":\"\"},\"colorscale\":[[0.0,\"#0d0887\"],[0.1111111111111111,\"#46039f\"],[0.2222222222222222,\"#7201a8\"],[0.3333333333333333,\"#9c179e\"],[0.4444444444444444,\"#bd3786\"],[0.5555555555555556,\"#d8576b\"],[0.6666666666666666,\"#ed7953\"],[0.7777777777777778,\"#fb9f3a\"],[0.8888888888888888,\"#fdca26\"],[1.0,\"#f0f921\"]]}],\"surface\":[{\"type\":\"surface\",\"colorbar\":{\"outlinewidth\":0,\"ticks\":\"\"},\"colorscale\":[[0.0,\"#0d0887\"],[0.1111111111111111,\"#46039f\"],[0.2222222222222222,\"#7201a8\"],[0.3333333333333333,\"#9c179e\"],[0.4444444444444444,\"#bd3786\"],[0.5555555555555556,\"#d8576b\"],[0.6666666666666666,\"#ed7953\"],[0.7777777777777778,\"#fb9f3a\"],[0.8888888888888888,\"#fdca26\"],[1.0,\"#f0f921\"]]}],\"mesh3d\":[{\"type\":\"mesh3d\",\"colorbar\":{\"outlinewidth\":0,\"ticks\":\"\"}}],\"scatter\":[{\"fillpattern\":{\"fillmode\":\"overlay\",\"size\":10,\"solidity\":0.2},\"type\":\"scatter\"}],\"parcoords\":[{\"type\":\"parcoords\",\"line\":{\"colorbar\":{\"outlinewidth\":0,\"ticks\":\"\"}}}],\"scatterpolargl\":[{\"type\":\"scatterpolargl\",\"marker\":{\"colorbar\":{\"outlinewidth\":0,\"ticks\":\"\"}}}],\"bar\":[{\"error_x\":{\"color\":\"#2a3f5f\"},\"error_y\":{\"color\":\"#2a3f5f\"},\"marker\":{\"line\":{\"color\":\"#E5ECF6\",\"width\":0.5},\"pattern\":{\"fillmode\":\"overlay\",\"size\":10,\"solidity\":0.2}},\"type\":\"bar\"}],\"scattergeo\":[{\"type\":\"scattergeo\",\"marker\":{\"colorbar\":{\"outlinewidth\":0,\"ticks\":\"\"}}}],\"scatterpolar\":[{\"type\":\"scatterpolar\",\"marker\":{\"colorbar\":{\"outlinewidth\":0,\"ticks\":\"\"}}}],\"histogram\":[{\"marker\":{\"pattern\":{\"fillmode\":\"overlay\",\"size\":10,\"solidity\":0.2}},\"type\":\"histogram\"}],\"scattergl\":[{\"type\":\"scattergl\",\"marker\":{\"colorbar\":{\"outlinewidth\":0,\"ticks\":\"\"}}}],\"scatter3d\":[{\"type\":\"scatter3d\",\"line\":{\"colorbar\":{\"outlinewidth\":0,\"ticks\":\"\"}},\"marker\":{\"colorbar\":{\"outlinewidth\":0,\"ticks\":\"\"}}}],\"scattermapbox\":[{\"type\":\"scattermapbox\",\"marker\":{\"colorbar\":{\"outlinewidth\":0,\"ticks\":\"\"}}}],\"scatterternary\":[{\"type\":\"scatterternary\",\"marker\":{\"colorbar\":{\"outlinewidth\":0,\"ticks\":\"\"}}}],\"scattercarpet\":[{\"type\":\"scattercarpet\",\"marker\":{\"colorbar\":{\"outlinewidth\":0,\"ticks\":\"\"}}}],\"carpet\":[{\"aaxis\":{\"endlinecolor\":\"#2a3f5f\",\"gridcolor\":\"white\",\"linecolor\":\"white\",\"minorgridcolor\":\"white\",\"startlinecolor\":\"#2a3f5f\"},\"baxis\":{\"endlinecolor\":\"#2a3f5f\",\"gridcolor\":\"white\",\"linecolor\":\"white\",\"minorgridcolor\":\"white\",\"startlinecolor\":\"#2a3f5f\"},\"type\":\"carpet\"}],\"table\":[{\"cells\":{\"fill\":{\"color\":\"#EBF0F8\"},\"line\":{\"color\":\"white\"}},\"header\":{\"fill\":{\"color\":\"#C8D4E3\"},\"line\":{\"color\":\"white\"}},\"type\":\"table\"}],\"barpolar\":[{\"marker\":{\"line\":{\"color\":\"#E5ECF6\",\"width\":0.5},\"pattern\":{\"fillmode\":\"overlay\",\"size\":10,\"solidity\":0.2}},\"type\":\"barpolar\"}],\"pie\":[{\"automargin\":true,\"type\":\"pie\"}]},\"layout\":{\"autotypenumbers\":\"strict\",\"colorway\":[\"#636efa\",\"#EF553B\",\"#00cc96\",\"#ab63fa\",\"#FFA15A\",\"#19d3f3\",\"#FF6692\",\"#B6E880\",\"#FF97FF\",\"#FECB52\"],\"font\":{\"color\":\"#2a3f5f\"},\"hovermode\":\"closest\",\"hoverlabel\":{\"align\":\"left\"},\"paper_bgcolor\":\"white\",\"plot_bgcolor\":\"#E5ECF6\",\"polar\":{\"bgcolor\":\"#E5ECF6\",\"angularaxis\":{\"gridcolor\":\"white\",\"linecolor\":\"white\",\"ticks\":\"\"},\"radialaxis\":{\"gridcolor\":\"white\",\"linecolor\":\"white\",\"ticks\":\"\"}},\"ternary\":{\"bgcolor\":\"#E5ECF6\",\"aaxis\":{\"gridcolor\":\"white\",\"linecolor\":\"white\",\"ticks\":\"\"},\"baxis\":{\"gridcolor\":\"white\",\"linecolor\":\"white\",\"ticks\":\"\"},\"caxis\":{\"gridcolor\":\"white\",\"linecolor\":\"white\",\"ticks\":\"\"}},\"coloraxis\":{\"colorbar\":{\"outlinewidth\":0,\"ticks\":\"\"}},\"colorscale\":{\"sequential\":[[0.0,\"#0d0887\"],[0.1111111111111111,\"#46039f\"],[0.2222222222222222,\"#7201a8\"],[0.3333333333333333,\"#9c179e\"],[0.4444444444444444,\"#bd3786\"],[0.5555555555555556,\"#d8576b\"],[0.6666666666666666,\"#ed7953\"],[0.7777777777777778,\"#fb9f3a\"],[0.8888888888888888,\"#fdca26\"],[1.0,\"#f0f921\"]],\"sequentialminus\":[[0.0,\"#0d0887\"],[0.1111111111111111,\"#46039f\"],[0.2222222222222222,\"#7201a8\"],[0.3333333333333333,\"#9c179e\"],[0.4444444444444444,\"#bd3786\"],[0.5555555555555556,\"#d8576b\"],[0.6666666666666666,\"#ed7953\"],[0.7777777777777778,\"#fb9f3a\"],[0.8888888888888888,\"#fdca26\"],[1.0,\"#f0f921\"]],\"diverging\":[[0,\"#8e0152\"],[0.1,\"#c51b7d\"],[0.2,\"#de77ae\"],[0.3,\"#f1b6da\"],[0.4,\"#fde0ef\"],[0.5,\"#f7f7f7\"],[0.6,\"#e6f5d0\"],[0.7,\"#b8e186\"],[0.8,\"#7fbc41\"],[0.9,\"#4d9221\"],[1,\"#276419\"]]},\"xaxis\":{\"gridcolor\":\"white\",\"linecolor\":\"white\",\"ticks\":\"\",\"title\":{\"standoff\":15},\"zerolinecolor\":\"white\",\"automargin\":true,\"zerolinewidth\":2},\"yaxis\":{\"gridcolor\":\"white\",\"linecolor\":\"white\",\"ticks\":\"\",\"title\":{\"standoff\":15},\"zerolinecolor\":\"white\",\"automargin\":true,\"zerolinewidth\":2},\"scene\":{\"xaxis\":{\"backgroundcolor\":\"#E5ECF6\",\"gridcolor\":\"white\",\"linecolor\":\"white\",\"showbackground\":true,\"ticks\":\"\",\"zerolinecolor\":\"white\",\"gridwidth\":2},\"yaxis\":{\"backgroundcolor\":\"#E5ECF6\",\"gridcolor\":\"white\",\"linecolor\":\"white\",\"showbackground\":true,\"ticks\":\"\",\"zerolinecolor\":\"white\",\"gridwidth\":2},\"zaxis\":{\"backgroundcolor\":\"#E5ECF6\",\"gridcolor\":\"white\",\"linecolor\":\"white\",\"showbackground\":true,\"ticks\":\"\",\"zerolinecolor\":\"white\",\"gridwidth\":2}},\"shapedefaults\":{\"line\":{\"color\":\"#2a3f5f\"}},\"annotationdefaults\":{\"arrowcolor\":\"#2a3f5f\",\"arrowhead\":0,\"arrowwidth\":1},\"geo\":{\"bgcolor\":\"white\",\"landcolor\":\"#E5ECF6\",\"subunitcolor\":\"white\",\"showland\":true,\"showlakes\":true,\"lakecolor\":\"white\"},\"title\":{\"x\":0.05},\"mapbox\":{\"style\":\"light\"}}},\"xaxis\":{\"anchor\":\"y\",\"domain\":[0.0,1.0],\"title\":{\"text\":\"R2\"}},\"yaxis\":{\"anchor\":\"x\",\"domain\":[0.0,1.0],\"title\":{\"text\":\"count\"}},\"legend\":{\"tracegroupgap\":0},\"title\":{\"text\":\"Histograma R2 Datos Originales\"},\"barmode\":\"relative\"},                        {\"responsive\": true}                    ).then(function(){\n",
       "                            \n",
       "var gd = document.getElementById('8b9f3132-a2a5-4545-816a-a8983d441925');\n",
       "var x = new MutationObserver(function (mutations, observer) {{\n",
       "        var display = window.getComputedStyle(gd).display;\n",
       "        if (!display || display === 'none') {{\n",
       "            console.log([gd, 'removed!']);\n",
       "            Plotly.purge(gd);\n",
       "            observer.disconnect();\n",
       "        }}\n",
       "}});\n",
       "\n",
       "// Listen for the removal of the full notebook cells\n",
       "var notebookContainer = gd.closest('#notebook-container');\n",
       "if (notebookContainer) {{\n",
       "    x.observe(notebookContainer, {childList: true});\n",
       "}}\n",
       "\n",
       "// Listen for the clearing of the current output cell\n",
       "var outputEl = gd.closest('.output');\n",
       "if (outputEl) {{\n",
       "    x.observe(outputEl, {childList: true});\n",
       "}}\n",
       "\n",
       "                        })                };                });            </script>        </div>"
      ]
     },
     "metadata": {},
     "output_type": "display_data"
    }
   ],
   "source": [
    "fig = px.histogram(df_est_result, x=\"R2\", nbins=10, title=\"Histograma R2 Datos Originales\")\n",
    "fig.show()"
   ]
  },
  {
   "cell_type": "code",
   "execution_count": 6,
   "id": "fdde8f38",
   "metadata": {
    "hidden": true
   },
   "outputs": [
    {
     "data": {
      "application/vnd.plotly.v1+json": {
       "config": {
        "plotlyServerURL": "https://plot.ly"
       },
       "data": [
        {
         "hovertemplate": "FECHA-HORA=%{x}<br>MAPE=%{y}<extra></extra>",
         "legendgroup": "",
         "line": {
          "color": "#636efa",
          "dash": "solid"
         },
         "marker": {
          "symbol": "circle"
         },
         "mode": "lines",
         "name": "",
         "orientation": "v",
         "showlegend": false,
         "type": "scatter",
         "x": [
          "2021-05-08 23:00:00",
          "2021-05-09 23:00:00",
          "2021-05-10 23:00:00",
          "2021-05-11 23:00:00",
          "2021-05-12 23:00:00",
          "2021-05-13 23:00:00",
          "2021-05-14 23:00:00",
          "2021-05-15 23:00:00",
          "2021-05-16 23:00:00",
          "2021-05-17 23:00:00",
          "2021-05-18 23:00:00",
          "2021-05-19 23:00:00",
          "2021-05-20 23:00:00",
          "2021-05-21 23:00:00",
          "2021-05-22 23:00:00",
          "2021-05-23 23:00:00",
          "2021-05-24 23:00:00",
          "2021-05-25 23:00:00",
          "2021-05-26 23:00:00",
          "2021-05-27 23:00:00",
          "2021-05-28 23:00:00",
          "2021-05-29 23:00:00",
          "2021-05-30 23:00:00",
          "2021-05-31 23:00:00",
          "2021-06-01 23:00:00",
          "2021-06-02 23:00:00",
          "2021-06-03 23:00:00",
          "2021-06-04 23:00:00",
          "2021-06-05 23:00:00",
          "2021-06-06 23:00:00",
          "2021-06-07 23:00:00",
          "2021-06-08 23:00:00",
          "2021-06-09 23:00:00",
          "2021-06-10 23:00:00",
          "2021-06-11 23:00:00",
          "2021-06-12 23:00:00",
          "2021-06-13 23:00:00",
          "2021-06-14 23:00:00",
          "2021-06-15 23:00:00",
          "2021-06-16 23:00:00",
          "2021-06-17 23:00:00",
          "2021-06-18 23:00:00",
          "2021-06-19 23:00:00",
          "2021-06-20 23:00:00",
          "2021-06-21 23:00:00",
          "2021-06-22 23:00:00",
          "2021-06-23 23:00:00",
          "2021-06-24 23:00:00",
          "2021-06-25 23:00:00",
          "2021-06-26 23:00:00",
          "2021-06-27 23:00:00",
          "2021-06-28 23:00:00",
          "2021-06-29 23:00:00",
          "2021-06-30 23:00:00",
          "2021-07-01 23:00:00",
          "2021-07-02 23:00:00",
          "2021-07-03 23:00:00",
          "2021-07-04 23:00:00",
          "2021-07-05 23:00:00",
          "2021-07-06 23:00:00",
          "2021-07-07 23:00:00",
          "2021-07-08 23:00:00",
          "2021-07-09 23:00:00",
          "2021-07-10 23:00:00",
          "2021-07-11 23:00:00",
          "2021-07-12 23:00:00",
          "2021-07-13 23:00:00",
          "2021-07-14 23:00:00",
          "2021-07-15 23:00:00",
          "2021-07-16 23:00:00",
          "2021-07-17 23:00:00",
          "2021-07-18 23:00:00",
          "2021-07-19 23:00:00",
          "2021-07-20 23:00:00",
          "2021-07-21 23:00:00",
          "2021-07-22 23:00:00",
          "2021-07-23 23:00:00",
          "2021-07-24 23:00:00",
          "2021-07-25 23:00:00",
          "2021-07-26 23:00:00",
          "2021-07-27 23:00:00",
          "2021-07-28 23:00:00",
          "2021-07-29 23:00:00",
          "2021-07-30 23:00:00",
          "2021-07-31 23:00:00",
          "2021-08-01 23:00:00",
          "2021-08-02 23:00:00",
          "2021-08-03 23:00:00",
          "2021-08-04 23:00:00",
          "2021-08-05 23:00:00",
          "2021-08-06 23:00:00",
          "2021-08-07 23:00:00",
          "2021-08-08 23:00:00",
          "2021-08-09 23:00:00",
          "2021-08-10 23:00:00",
          "2021-08-11 23:00:00",
          "2021-08-12 23:00:00",
          "2021-08-13 23:00:00",
          "2021-08-14 23:00:00",
          "2021-08-15 23:00:00",
          "2021-08-16 23:00:00",
          "2021-08-17 23:00:00",
          "2021-08-18 23:00:00",
          "2021-08-19 23:00:00",
          "2021-08-20 23:00:00",
          "2021-08-21 23:00:00",
          "2021-08-22 23:00:00",
          "2021-08-23 23:00:00",
          "2021-08-24 23:00:00",
          "2021-08-25 23:00:00",
          "2021-08-26 23:00:00",
          "2021-08-27 23:00:00",
          "2021-08-28 23:00:00",
          "2021-08-29 23:00:00",
          "2021-08-30 23:00:00",
          "2021-08-31 23:00:00",
          "2021-09-01 23:00:00",
          "2021-09-02 23:00:00",
          "2021-09-03 23:00:00",
          "2021-09-04 23:00:00",
          "2021-09-05 23:00:00",
          "2021-09-06 23:00:00",
          "2021-09-07 23:00:00",
          "2021-09-08 23:00:00",
          "2021-09-09 23:00:00",
          "2021-09-10 23:00:00",
          "2021-09-11 23:00:00",
          "2021-09-12 23:00:00",
          "2021-09-13 23:00:00",
          "2021-09-14 23:00:00",
          "2021-09-15 23:00:00",
          "2021-09-16 23:00:00",
          "2021-09-17 23:00:00",
          "2021-09-18 23:00:00",
          "2021-09-19 23:00:00",
          "2021-09-20 23:00:00",
          "2021-09-21 23:00:00",
          "2021-09-22 23:00:00",
          "2021-09-23 23:00:00",
          "2021-09-24 23:00:00",
          "2021-09-25 23:00:00",
          "2021-09-26 23:00:00",
          "2021-09-27 23:00:00",
          "2021-09-28 23:00:00",
          "2021-09-29 23:00:00",
          "2021-09-30 23:00:00",
          "2021-10-01 23:00:00",
          "2021-10-02 23:00:00",
          "2021-10-03 23:00:00",
          "2021-10-04 23:00:00",
          "2021-10-05 23:00:00",
          "2021-10-06 23:00:00",
          "2021-10-07 23:00:00",
          "2021-10-08 23:00:00",
          "2021-10-09 23:00:00",
          "2021-10-10 23:00:00",
          "2021-10-11 23:00:00",
          "2021-10-12 23:00:00",
          "2021-10-13 23:00:00",
          "2021-10-14 23:00:00",
          "2021-10-15 23:00:00",
          "2021-10-16 23:00:00",
          "2021-10-17 23:00:00",
          "2021-10-18 23:00:00",
          "2021-10-19 23:00:00",
          "2021-10-20 23:00:00",
          "2021-10-21 23:00:00",
          "2021-10-22 23:00:00",
          "2021-10-23 23:00:00",
          "2021-10-24 23:00:00",
          "2021-10-25 23:00:00",
          "2021-10-26 23:00:00",
          "2021-10-27 23:00:00",
          "2021-10-28 23:00:00",
          "2021-10-29 23:00:00",
          "2021-10-30 23:00:00",
          "2021-10-31 23:00:00",
          "2021-11-01 23:00:00",
          "2021-11-02 23:00:00",
          "2021-11-03 23:00:00",
          "2021-11-04 23:00:00",
          "2021-11-05 23:00:00",
          "2021-11-06 23:00:00",
          "2021-11-07 23:00:00",
          "2021-11-08 23:00:00",
          "2021-11-09 23:00:00",
          "2021-11-10 23:00:00",
          "2021-11-11 23:00:00",
          "2021-11-12 23:00:00",
          "2021-11-13 23:00:00",
          "2021-11-14 23:00:00",
          "2021-11-15 23:00:00",
          "2021-11-16 23:00:00",
          "2021-11-17 23:00:00",
          "2021-11-18 23:00:00",
          "2021-11-19 23:00:00",
          "2021-11-20 23:00:00",
          "2021-11-21 23:00:00",
          "2021-11-22 23:00:00",
          "2021-11-23 23:00:00",
          "2021-11-24 23:00:00",
          "2021-11-25 23:00:00",
          "2021-11-26 23:00:00",
          "2021-11-27 23:00:00",
          "2021-11-28 23:00:00",
          "2021-11-29 23:00:00",
          "2021-11-30 23:00:00",
          "2021-12-01 23:00:00",
          "2021-12-02 23:00:00",
          "2021-12-03 23:00:00",
          "2021-12-04 23:00:00",
          "2021-12-05 23:00:00",
          "2021-12-06 23:00:00",
          "2021-12-07 23:00:00",
          "2021-12-08 23:00:00",
          "2021-12-09 23:00:00",
          "2021-12-10 23:00:00",
          "2021-12-11 23:00:00",
          "2021-12-12 23:00:00",
          "2021-12-13 23:00:00",
          "2021-12-14 23:00:00",
          "2021-12-15 23:00:00",
          "2021-12-16 23:00:00",
          "2021-12-17 23:00:00",
          "2021-12-18 23:00:00",
          "2021-12-19 23:00:00",
          "2021-12-20 23:00:00",
          "2021-12-21 23:00:00",
          "2021-12-22 23:00:00",
          "2021-12-23 23:00:00",
          "2021-12-24 23:00:00",
          "2021-12-25 23:00:00",
          "2021-12-26 23:00:00",
          "2021-12-27 23:00:00",
          "2021-12-28 23:00:00",
          "2021-12-29 23:00:00",
          "2021-12-30 23:00:00",
          "2021-12-31 23:00:00",
          "2022-01-01 23:00:00",
          "2022-01-02 23:00:00",
          "2022-01-03 23:00:00",
          "2022-01-04 23:00:00",
          "2022-01-05 23:00:00",
          "2022-01-06 23:00:00",
          "2022-01-07 23:00:00",
          "2022-01-08 23:00:00",
          "2022-01-09 23:00:00",
          "2022-01-10 23:00:00",
          "2022-01-11 23:00:00",
          "2022-01-12 23:00:00",
          "2022-01-13 23:00:00",
          "2022-01-14 23:00:00",
          "2022-01-15 23:00:00",
          "2022-01-16 23:00:00",
          "2022-01-17 23:00:00",
          "2022-01-18 23:00:00",
          "2022-01-19 23:00:00",
          "2022-01-20 23:00:00",
          "2022-01-21 23:00:00",
          "2022-01-22 23:00:00",
          "2022-01-23 23:00:00",
          "2022-01-24 23:00:00",
          "2022-01-25 23:00:00",
          "2022-01-26 23:00:00",
          "2022-01-27 23:00:00",
          "2022-01-28 23:00:00",
          "2022-01-29 23:00:00",
          "2022-01-30 23:00:00",
          "2022-01-31 23:00:00",
          "2022-02-01 23:00:00",
          "2022-02-02 23:00:00",
          "2022-02-03 23:00:00",
          "2022-02-04 23:00:00",
          "2022-02-05 23:00:00",
          "2022-02-06 23:00:00",
          "2022-02-07 23:00:00",
          "2022-02-08 23:00:00",
          "2022-02-09 23:00:00",
          "2022-02-10 23:00:00",
          "2022-02-11 23:00:00",
          "2022-02-12 23:00:00",
          "2022-02-13 23:00:00",
          "2022-02-14 23:00:00",
          "2022-02-15 23:00:00",
          "2022-02-16 23:00:00",
          "2022-02-17 23:00:00",
          "2022-02-18 23:00:00",
          "2022-02-19 23:00:00",
          "2022-02-20 23:00:00",
          "2022-02-21 23:00:00",
          "2022-02-22 23:00:00",
          "2022-02-23 23:00:00",
          "2022-02-24 23:00:00",
          "2022-02-25 23:00:00",
          "2022-02-26 23:00:00",
          "2022-02-27 23:00:00",
          "2022-02-28 23:00:00",
          "2022-03-01 23:00:00",
          "2022-03-02 23:00:00",
          "2022-03-03 23:00:00",
          "2022-03-04 23:00:00",
          "2022-03-05 23:00:00",
          "2022-03-06 23:00:00",
          "2022-03-07 23:00:00",
          "2022-03-08 23:00:00",
          "2022-03-09 23:00:00",
          "2022-03-10 23:00:00",
          "2022-03-11 23:00:00",
          "2022-03-12 23:00:00",
          "2022-03-13 23:00:00",
          "2022-03-14 23:00:00",
          "2022-03-15 23:00:00",
          "2022-03-16 23:00:00",
          "2022-03-17 23:00:00",
          "2022-03-18 23:00:00",
          "2022-03-19 23:00:00",
          "2022-03-20 23:00:00",
          "2022-03-21 23:00:00",
          "2022-03-22 23:00:00",
          "2022-03-23 23:00:00",
          "2022-03-24 23:00:00",
          "2022-03-25 23:00:00",
          "2022-03-26 23:00:00",
          "2022-03-27 23:00:00",
          "2022-03-28 23:00:00",
          "2022-03-29 23:00:00",
          "2022-03-30 23:00:00",
          "2022-03-31 23:00:00",
          "2022-04-01 23:00:00",
          "2022-04-02 23:00:00",
          "2022-04-03 23:00:00",
          "2022-04-04 23:00:00",
          "2022-04-05 23:00:00",
          "2022-04-06 23:00:00",
          "2022-04-07 23:00:00",
          "2022-04-08 23:00:00",
          "2022-04-09 23:00:00",
          "2022-04-10 23:00:00",
          "2022-04-11 23:00:00",
          "2022-04-12 23:00:00",
          "2022-04-13 23:00:00",
          "2022-04-14 23:00:00",
          "2022-04-15 23:00:00",
          "2022-04-16 23:00:00",
          "2022-04-17 23:00:00",
          "2022-04-18 23:00:00",
          "2022-04-19 23:00:00",
          "2022-04-20 23:00:00",
          "2022-04-21 23:00:00",
          "2022-04-22 23:00:00",
          "2022-04-23 23:00:00",
          "2022-04-24 23:00:00",
          "2022-04-25 23:00:00",
          "2022-04-26 23:00:00",
          "2022-04-27 23:00:00",
          "2022-04-28 23:00:00",
          "2022-04-29 23:00:00"
         ],
         "xaxis": "x",
         "y": [
          0.799191347753467,
          2.7605377173227,
          6.0554235375404994,
          4.667701917702364,
          6.674383452594802,
          1.6819433516577904,
          3.240488095146621,
          1.3160522532628176,
          0.6151957850082255,
          2.118705446898668,
          1.139014070960081,
          5.058520992657018,
          4.373524649427158,
          3.4137835693612173,
          6.64011542920992,
          2.730372908157058,
          3.4795015427753326,
          2.3361698545320286,
          1.864012494252908,
          1.9612251413393809,
          2.0223814553476496,
          0.8104840967524363,
          3.881003181770861,
          4.817091493641498,
          1.128219026498022,
          2.0387785356969066,
          0.8521639066196904,
          1.0274840591315109,
          2.2922265897328304,
          1.5198184999416922,
          1.972592566905967,
          2.0480344093528213,
          5.288180981899912,
          2.240061497281578,
          1.0327450928430544,
          1.4244880519538947,
          0.5131027275100597,
          2.2840816999642035,
          1.003984697234542,
          5.077467337788934,
          2.512443841928764,
          2.0868687145750657,
          5.072158825777941,
          4.886063851191889,
          1.6796869101344216,
          2.875194427743124,
          1.759105845361136,
          1.6938886255433498,
          1.8260552737040696,
          1.111791844915763,
          3.383663368559888,
          3.070865516944035,
          8.32636797685975,
          6.757393681125127,
          6.857198346264247,
          3.321204371194809,
          3.943785837250773,
          7.490611000784063,
          4.082268682262809,
          2.2778085286827783,
          1.35497436641187,
          2.951222601875302,
          4.9228294138990085,
          1.1233231542189015,
          4.17186882310294,
          2.059778314265054,
          2.7261233554345834,
          4.240115926998755,
          0.838545132213721,
          1.4969141256584633,
          1.6667239405634509,
          2.5348394571522426,
          3.350502097904498,
          7.387848658184677,
          2.4352687492647624,
          4.105853547524758,
          1.9963450129557485,
          4.807201440536644,
          3.94714396571962,
          6.532763937959574,
          1.6539392573894716,
          1.6023627971620231,
          2.1456927989313463,
          6.847938028712726,
          9.345329554760449,
          2.890113743714658,
          3.804652445478452,
          4.177030185281927,
          5.767286430708846,
          4.633119446312837,
          2.524812821524888,
          1.538446428432997,
          2.6752817074980904,
          1.9985054512888487,
          2.6214789337431443,
          1.3564310889364322,
          5.116499567372941,
          3.5209729395014278,
          5.050531588019831,
          1.4438767518034648,
          1.877575648320742,
          2.163051342987102,
          2.552114434799377,
          3.821766717318378,
          2.542273188248417,
          3.3231245758992967,
          3.898064829252182,
          3.0773551920116327,
          4.232321769745812,
          3.200734064817217,
          2.8116837308722014,
          5.036386845622952,
          2.1641664731778616,
          2.0416328495924816,
          8.347498829664147,
          16.64092983503188,
          6.683749763019874,
          4.161557853754528,
          4.750549908980676,
          3.942984496031968,
          2.615236136909824,
          3.7896123076917423,
          3.158649860397409,
          3.64839443866448,
          5.61822680976346,
          3.123713192791402,
          4.389860378598631,
          6.732619346659822,
          2.145043698394436,
          2.7866605548575896,
          6.125826024067404,
          2.669424228113443,
          1.7551938923413355,
          4.096593461857038,
          2.41367658962711,
          9.784731183640789,
          2.75515161802555,
          2.572043053795924,
          3.954518811417982,
          6.68023762112344,
          3.0038026180657877,
          4.121166510021864,
          4.131502325472916,
          2.990213853861924,
          2.201352604184174,
          3.408696487850868,
          0.6917000510204514,
          1.4585647418643162,
          2.742513894976487,
          9.352691872570308,
          1.639004593002409,
          1.2448024600765184,
          1.3636477324506846,
          3.0722973882670117,
          4.27869725407052,
          3.4880250183860046,
          3.6534323993415376,
          7.225732889665045,
          20.542364060638217,
          3.9320173748654175,
          4.919681876680308,
          6.368702172948358,
          1.2087220746342018,
          1.933911626879116,
          0.7959677746657965,
          4.805371213749985,
          1.700224721170149,
          4.017027318752767,
          2.152595345801038,
          1.2229416053432072,
          3.711409166378128,
          2.669856723589016,
          7.7179872122528925,
          1.802654079083184,
          4.415684549692175,
          1.063979407220648,
          3.2998333820989947,
          2.73759780159462,
          4.793323985977125,
          4.489538080942452,
          2.661868776409035,
          0.9430397377528912,
          1.3850796599448938,
          1.6564809952294848,
          2.2103655354409986,
          2.2901455709986736,
          2.419159180926227,
          4.836350604144074,
          2.324610717726725,
          1.9415818397162528,
          1.103680860082905,
          8.870536627894172,
          1.2924040729425172,
          1.910618280703996,
          4.98433328408929,
          1.083103405511371,
          5.05661186368496,
          2.231029747416001,
          1.380367472005358,
          1.1982956250483203,
          1.8467230054186032,
          2.2994296802008165,
          4.569980714476971,
          3.9454861298053143,
          6.11397295005904,
          6.106832161501387,
          2.1225510608146454,
          1.663709204783417,
          3.115067491056217,
          2.537129385713774,
          1.71572795365906,
          1.1527465428665806,
          1.0059664538791535,
          1.7963450373142775,
          0.635436042263956,
          3.013514239072822,
          2.006367705750606,
          1.913101917638524,
          1.6641568121123411,
          2.6862437286650054,
          2.069224789073026,
          3.8479053891677792,
          1.507924232687232,
          1.4444280317703948,
          1.3244117298774674,
          1.9966549246659815,
          0.9669163329886852,
          1.8473766476035811,
          2.25163782475591,
          1.3167825924389227,
          5.952773448960691,
          4.196421314214919,
          5.19653424743331,
          4.826508374080415,
          1.5741072512622425,
          1.807420444591072,
          0.9659386437855644,
          4.574053765771358,
          2.315825518248976,
          7.350935218319313,
          2.996533181906188,
          1.5267037000042774,
          0.941422847189228,
          1.2090796345146968,
          1.4998342285655628,
          3.0865156744448337,
          3.115180287404543,
          1.3961189712231572,
          1.0470001624332848,
          2.1824267989388195,
          3.635920117805587,
          2.554660930015845,
          1.5556054213343382,
          2.1928483891573367,
          1.9822441739179564,
          2.2744034956115438,
          2.59242028673149,
          1.3130035878024937,
          0.9108937488057306,
          2.154681839152163,
          1.9929421913982603,
          0.9322758265696351,
          0.784587003079216,
          2.070498526748171,
          0.6930061677857047,
          3.231388232164087,
          1.3124578450248834,
          1.628526101202301,
          1.060862880917654,
          1.1728092889334454,
          1.4976433161930218,
          2.067263438946319,
          1.2568489521041926,
          1.698569258378248,
          1.5453483937489465,
          1.5827555555348944,
          1.7484168897984054,
          0.7345856451861121,
          1.290665878275451,
          2.890121483160307,
          1.7015319007721303,
          4.134660442915522,
          1.3333934331411057,
          1.306194259733344,
          1.7770047622745453,
          1.554866511789052,
          1.0017670471348443,
          1.424228798256396,
          2.3495070953169512,
          1.561920493569635,
          2.8984622651585847,
          1.9092621459176768,
          1.386189547913407,
          1.4681148973092384,
          1.1232347996629135,
          1.713243070245879,
          2.2284282638347435,
          1.8658814555399037,
          1.0926884764482645,
          1.1695476302352787,
          0.992382385552345,
          1.1728203474280048,
          1.5374528878067777,
          1.7942513342832238,
          1.4535630177407064,
          1.609900906626382,
          1.4016824902836955,
          1.1918395755619249,
          1.180301770737731,
          0.8719444013399595,
          2.212041368832796,
          3.0729618169350106,
          0.8462734956361397,
          1.4872896293505256,
          1.906312897892656,
          2.0266677467797525,
          1.6845072967928736,
          2.728598347894953,
          2.103472449552653,
          4.845089379630879,
          1.8437665335826272,
          1.178703916902477,
          4.881702716066857,
          0.6883402170502189,
          0.4679652288362476,
          1.03723356770848,
          1.1055989786634235,
          2.1859395193653635,
          2.0751628848849264,
          0.8232699825598119,
          1.9002746862550903,
          3.95564819828804,
          1.547406741090849,
          5.040801885094776,
          5.267922099188905,
          1.581425047098482,
          1.071754813214685,
          1.4548247564830563,
          1.5325925850658997,
          3.440057802870325,
          2.169939710633777,
          0.8215984085232145,
          2.166148637096512,
          1.0890302079502143,
          6.849841173315892,
          6.288517554891691,
          0.8831235360205281,
          0.9629805630853416,
          3.1954136127066337,
          2.9507982623650832,
          2.936913331128304,
          3.5612662699492965,
          3.4530851688088458,
          6.935590882465998,
          0.9939136072353736,
          1.266674119847768,
          2.3105971450505915
         ],
         "yaxis": "y"
        }
       ],
       "layout": {
        "legend": {
         "tracegroupgap": 0
        },
        "template": {
         "data": {
          "bar": [
           {
            "error_x": {
             "color": "#2a3f5f"
            },
            "error_y": {
             "color": "#2a3f5f"
            },
            "marker": {
             "line": {
              "color": "#E5ECF6",
              "width": 0.5
             },
             "pattern": {
              "fillmode": "overlay",
              "size": 10,
              "solidity": 0.2
             }
            },
            "type": "bar"
           }
          ],
          "barpolar": [
           {
            "marker": {
             "line": {
              "color": "#E5ECF6",
              "width": 0.5
             },
             "pattern": {
              "fillmode": "overlay",
              "size": 10,
              "solidity": 0.2
             }
            },
            "type": "barpolar"
           }
          ],
          "carpet": [
           {
            "aaxis": {
             "endlinecolor": "#2a3f5f",
             "gridcolor": "white",
             "linecolor": "white",
             "minorgridcolor": "white",
             "startlinecolor": "#2a3f5f"
            },
            "baxis": {
             "endlinecolor": "#2a3f5f",
             "gridcolor": "white",
             "linecolor": "white",
             "minorgridcolor": "white",
             "startlinecolor": "#2a3f5f"
            },
            "type": "carpet"
           }
          ],
          "choropleth": [
           {
            "colorbar": {
             "outlinewidth": 0,
             "ticks": ""
            },
            "type": "choropleth"
           }
          ],
          "contour": [
           {
            "colorbar": {
             "outlinewidth": 0,
             "ticks": ""
            },
            "colorscale": [
             [
              0,
              "#0d0887"
             ],
             [
              0.1111111111111111,
              "#46039f"
             ],
             [
              0.2222222222222222,
              "#7201a8"
             ],
             [
              0.3333333333333333,
              "#9c179e"
             ],
             [
              0.4444444444444444,
              "#bd3786"
             ],
             [
              0.5555555555555556,
              "#d8576b"
             ],
             [
              0.6666666666666666,
              "#ed7953"
             ],
             [
              0.7777777777777778,
              "#fb9f3a"
             ],
             [
              0.8888888888888888,
              "#fdca26"
             ],
             [
              1,
              "#f0f921"
             ]
            ],
            "type": "contour"
           }
          ],
          "contourcarpet": [
           {
            "colorbar": {
             "outlinewidth": 0,
             "ticks": ""
            },
            "type": "contourcarpet"
           }
          ],
          "heatmap": [
           {
            "colorbar": {
             "outlinewidth": 0,
             "ticks": ""
            },
            "colorscale": [
             [
              0,
              "#0d0887"
             ],
             [
              0.1111111111111111,
              "#46039f"
             ],
             [
              0.2222222222222222,
              "#7201a8"
             ],
             [
              0.3333333333333333,
              "#9c179e"
             ],
             [
              0.4444444444444444,
              "#bd3786"
             ],
             [
              0.5555555555555556,
              "#d8576b"
             ],
             [
              0.6666666666666666,
              "#ed7953"
             ],
             [
              0.7777777777777778,
              "#fb9f3a"
             ],
             [
              0.8888888888888888,
              "#fdca26"
             ],
             [
              1,
              "#f0f921"
             ]
            ],
            "type": "heatmap"
           }
          ],
          "heatmapgl": [
           {
            "colorbar": {
             "outlinewidth": 0,
             "ticks": ""
            },
            "colorscale": [
             [
              0,
              "#0d0887"
             ],
             [
              0.1111111111111111,
              "#46039f"
             ],
             [
              0.2222222222222222,
              "#7201a8"
             ],
             [
              0.3333333333333333,
              "#9c179e"
             ],
             [
              0.4444444444444444,
              "#bd3786"
             ],
             [
              0.5555555555555556,
              "#d8576b"
             ],
             [
              0.6666666666666666,
              "#ed7953"
             ],
             [
              0.7777777777777778,
              "#fb9f3a"
             ],
             [
              0.8888888888888888,
              "#fdca26"
             ],
             [
              1,
              "#f0f921"
             ]
            ],
            "type": "heatmapgl"
           }
          ],
          "histogram": [
           {
            "marker": {
             "pattern": {
              "fillmode": "overlay",
              "size": 10,
              "solidity": 0.2
             }
            },
            "type": "histogram"
           }
          ],
          "histogram2d": [
           {
            "colorbar": {
             "outlinewidth": 0,
             "ticks": ""
            },
            "colorscale": [
             [
              0,
              "#0d0887"
             ],
             [
              0.1111111111111111,
              "#46039f"
             ],
             [
              0.2222222222222222,
              "#7201a8"
             ],
             [
              0.3333333333333333,
              "#9c179e"
             ],
             [
              0.4444444444444444,
              "#bd3786"
             ],
             [
              0.5555555555555556,
              "#d8576b"
             ],
             [
              0.6666666666666666,
              "#ed7953"
             ],
             [
              0.7777777777777778,
              "#fb9f3a"
             ],
             [
              0.8888888888888888,
              "#fdca26"
             ],
             [
              1,
              "#f0f921"
             ]
            ],
            "type": "histogram2d"
           }
          ],
          "histogram2dcontour": [
           {
            "colorbar": {
             "outlinewidth": 0,
             "ticks": ""
            },
            "colorscale": [
             [
              0,
              "#0d0887"
             ],
             [
              0.1111111111111111,
              "#46039f"
             ],
             [
              0.2222222222222222,
              "#7201a8"
             ],
             [
              0.3333333333333333,
              "#9c179e"
             ],
             [
              0.4444444444444444,
              "#bd3786"
             ],
             [
              0.5555555555555556,
              "#d8576b"
             ],
             [
              0.6666666666666666,
              "#ed7953"
             ],
             [
              0.7777777777777778,
              "#fb9f3a"
             ],
             [
              0.8888888888888888,
              "#fdca26"
             ],
             [
              1,
              "#f0f921"
             ]
            ],
            "type": "histogram2dcontour"
           }
          ],
          "mesh3d": [
           {
            "colorbar": {
             "outlinewidth": 0,
             "ticks": ""
            },
            "type": "mesh3d"
           }
          ],
          "parcoords": [
           {
            "line": {
             "colorbar": {
              "outlinewidth": 0,
              "ticks": ""
             }
            },
            "type": "parcoords"
           }
          ],
          "pie": [
           {
            "automargin": true,
            "type": "pie"
           }
          ],
          "scatter": [
           {
            "fillpattern": {
             "fillmode": "overlay",
             "size": 10,
             "solidity": 0.2
            },
            "type": "scatter"
           }
          ],
          "scatter3d": [
           {
            "line": {
             "colorbar": {
              "outlinewidth": 0,
              "ticks": ""
             }
            },
            "marker": {
             "colorbar": {
              "outlinewidth": 0,
              "ticks": ""
             }
            },
            "type": "scatter3d"
           }
          ],
          "scattercarpet": [
           {
            "marker": {
             "colorbar": {
              "outlinewidth": 0,
              "ticks": ""
             }
            },
            "type": "scattercarpet"
           }
          ],
          "scattergeo": [
           {
            "marker": {
             "colorbar": {
              "outlinewidth": 0,
              "ticks": ""
             }
            },
            "type": "scattergeo"
           }
          ],
          "scattergl": [
           {
            "marker": {
             "colorbar": {
              "outlinewidth": 0,
              "ticks": ""
             }
            },
            "type": "scattergl"
           }
          ],
          "scattermapbox": [
           {
            "marker": {
             "colorbar": {
              "outlinewidth": 0,
              "ticks": ""
             }
            },
            "type": "scattermapbox"
           }
          ],
          "scatterpolar": [
           {
            "marker": {
             "colorbar": {
              "outlinewidth": 0,
              "ticks": ""
             }
            },
            "type": "scatterpolar"
           }
          ],
          "scatterpolargl": [
           {
            "marker": {
             "colorbar": {
              "outlinewidth": 0,
              "ticks": ""
             }
            },
            "type": "scatterpolargl"
           }
          ],
          "scatterternary": [
           {
            "marker": {
             "colorbar": {
              "outlinewidth": 0,
              "ticks": ""
             }
            },
            "type": "scatterternary"
           }
          ],
          "surface": [
           {
            "colorbar": {
             "outlinewidth": 0,
             "ticks": ""
            },
            "colorscale": [
             [
              0,
              "#0d0887"
             ],
             [
              0.1111111111111111,
              "#46039f"
             ],
             [
              0.2222222222222222,
              "#7201a8"
             ],
             [
              0.3333333333333333,
              "#9c179e"
             ],
             [
              0.4444444444444444,
              "#bd3786"
             ],
             [
              0.5555555555555556,
              "#d8576b"
             ],
             [
              0.6666666666666666,
              "#ed7953"
             ],
             [
              0.7777777777777778,
              "#fb9f3a"
             ],
             [
              0.8888888888888888,
              "#fdca26"
             ],
             [
              1,
              "#f0f921"
             ]
            ],
            "type": "surface"
           }
          ],
          "table": [
           {
            "cells": {
             "fill": {
              "color": "#EBF0F8"
             },
             "line": {
              "color": "white"
             }
            },
            "header": {
             "fill": {
              "color": "#C8D4E3"
             },
             "line": {
              "color": "white"
             }
            },
            "type": "table"
           }
          ]
         },
         "layout": {
          "annotationdefaults": {
           "arrowcolor": "#2a3f5f",
           "arrowhead": 0,
           "arrowwidth": 1
          },
          "autotypenumbers": "strict",
          "coloraxis": {
           "colorbar": {
            "outlinewidth": 0,
            "ticks": ""
           }
          },
          "colorscale": {
           "diverging": [
            [
             0,
             "#8e0152"
            ],
            [
             0.1,
             "#c51b7d"
            ],
            [
             0.2,
             "#de77ae"
            ],
            [
             0.3,
             "#f1b6da"
            ],
            [
             0.4,
             "#fde0ef"
            ],
            [
             0.5,
             "#f7f7f7"
            ],
            [
             0.6,
             "#e6f5d0"
            ],
            [
             0.7,
             "#b8e186"
            ],
            [
             0.8,
             "#7fbc41"
            ],
            [
             0.9,
             "#4d9221"
            ],
            [
             1,
             "#276419"
            ]
           ],
           "sequential": [
            [
             0,
             "#0d0887"
            ],
            [
             0.1111111111111111,
             "#46039f"
            ],
            [
             0.2222222222222222,
             "#7201a8"
            ],
            [
             0.3333333333333333,
             "#9c179e"
            ],
            [
             0.4444444444444444,
             "#bd3786"
            ],
            [
             0.5555555555555556,
             "#d8576b"
            ],
            [
             0.6666666666666666,
             "#ed7953"
            ],
            [
             0.7777777777777778,
             "#fb9f3a"
            ],
            [
             0.8888888888888888,
             "#fdca26"
            ],
            [
             1,
             "#f0f921"
            ]
           ],
           "sequentialminus": [
            [
             0,
             "#0d0887"
            ],
            [
             0.1111111111111111,
             "#46039f"
            ],
            [
             0.2222222222222222,
             "#7201a8"
            ],
            [
             0.3333333333333333,
             "#9c179e"
            ],
            [
             0.4444444444444444,
             "#bd3786"
            ],
            [
             0.5555555555555556,
             "#d8576b"
            ],
            [
             0.6666666666666666,
             "#ed7953"
            ],
            [
             0.7777777777777778,
             "#fb9f3a"
            ],
            [
             0.8888888888888888,
             "#fdca26"
            ],
            [
             1,
             "#f0f921"
            ]
           ]
          },
          "colorway": [
           "#636efa",
           "#EF553B",
           "#00cc96",
           "#ab63fa",
           "#FFA15A",
           "#19d3f3",
           "#FF6692",
           "#B6E880",
           "#FF97FF",
           "#FECB52"
          ],
          "font": {
           "color": "#2a3f5f"
          },
          "geo": {
           "bgcolor": "white",
           "lakecolor": "white",
           "landcolor": "#E5ECF6",
           "showlakes": true,
           "showland": true,
           "subunitcolor": "white"
          },
          "hoverlabel": {
           "align": "left"
          },
          "hovermode": "closest",
          "mapbox": {
           "style": "light"
          },
          "paper_bgcolor": "white",
          "plot_bgcolor": "#E5ECF6",
          "polar": {
           "angularaxis": {
            "gridcolor": "white",
            "linecolor": "white",
            "ticks": ""
           },
           "bgcolor": "#E5ECF6",
           "radialaxis": {
            "gridcolor": "white",
            "linecolor": "white",
            "ticks": ""
           }
          },
          "scene": {
           "xaxis": {
            "backgroundcolor": "#E5ECF6",
            "gridcolor": "white",
            "gridwidth": 2,
            "linecolor": "white",
            "showbackground": true,
            "ticks": "",
            "zerolinecolor": "white"
           },
           "yaxis": {
            "backgroundcolor": "#E5ECF6",
            "gridcolor": "white",
            "gridwidth": 2,
            "linecolor": "white",
            "showbackground": true,
            "ticks": "",
            "zerolinecolor": "white"
           },
           "zaxis": {
            "backgroundcolor": "#E5ECF6",
            "gridcolor": "white",
            "gridwidth": 2,
            "linecolor": "white",
            "showbackground": true,
            "ticks": "",
            "zerolinecolor": "white"
           }
          },
          "shapedefaults": {
           "line": {
            "color": "#2a3f5f"
           }
          },
          "ternary": {
           "aaxis": {
            "gridcolor": "white",
            "linecolor": "white",
            "ticks": ""
           },
           "baxis": {
            "gridcolor": "white",
            "linecolor": "white",
            "ticks": ""
           },
           "bgcolor": "#E5ECF6",
           "caxis": {
            "gridcolor": "white",
            "linecolor": "white",
            "ticks": ""
           }
          },
          "title": {
           "x": 0.05
          },
          "xaxis": {
           "automargin": true,
           "gridcolor": "white",
           "linecolor": "white",
           "ticks": "",
           "title": {
            "standoff": 15
           },
           "zerolinecolor": "white",
           "zerolinewidth": 2
          },
          "yaxis": {
           "automargin": true,
           "gridcolor": "white",
           "linecolor": "white",
           "ticks": "",
           "title": {
            "standoff": 15
           },
           "zerolinecolor": "white",
           "zerolinewidth": 2
          }
         }
        },
        "title": {
         "text": "MAPE Pronostico Redes Neuronales Encoders"
        },
        "xaxis": {
         "anchor": "y",
         "domain": [
          0,
          1
         ],
         "title": {
          "text": "FECHA-HORA"
         }
        },
        "yaxis": {
         "anchor": "x",
         "domain": [
          0,
          1
         ],
         "title": {
          "text": "MAPE"
         }
        }
       }
      },
      "text/html": [
       "<div>                            <div id=\"57f20084-5b40-47cd-bb80-bd70a3f61a84\" class=\"plotly-graph-div\" style=\"height:525px; width:100%;\"></div>            <script type=\"text/javascript\">                require([\"plotly\"], function(Plotly) {                    window.PLOTLYENV=window.PLOTLYENV || {};                                    if (document.getElementById(\"57f20084-5b40-47cd-bb80-bd70a3f61a84\")) {                    Plotly.newPlot(                        \"57f20084-5b40-47cd-bb80-bd70a3f61a84\",                        [{\"hovertemplate\":\"FECHA-HORA=%{x}<br>MAPE=%{y}<extra></extra>\",\"legendgroup\":\"\",\"line\":{\"color\":\"#636efa\",\"dash\":\"solid\"},\"marker\":{\"symbol\":\"circle\"},\"mode\":\"lines\",\"name\":\"\",\"orientation\":\"v\",\"showlegend\":false,\"x\":[\"2021-05-08 23:00:00\",\"2021-05-09 23:00:00\",\"2021-05-10 23:00:00\",\"2021-05-11 23:00:00\",\"2021-05-12 23:00:00\",\"2021-05-13 23:00:00\",\"2021-05-14 23:00:00\",\"2021-05-15 23:00:00\",\"2021-05-16 23:00:00\",\"2021-05-17 23:00:00\",\"2021-05-18 23:00:00\",\"2021-05-19 23:00:00\",\"2021-05-20 23:00:00\",\"2021-05-21 23:00:00\",\"2021-05-22 23:00:00\",\"2021-05-23 23:00:00\",\"2021-05-24 23:00:00\",\"2021-05-25 23:00:00\",\"2021-05-26 23:00:00\",\"2021-05-27 23:00:00\",\"2021-05-28 23:00:00\",\"2021-05-29 23:00:00\",\"2021-05-30 23:00:00\",\"2021-05-31 23:00:00\",\"2021-06-01 23:00:00\",\"2021-06-02 23:00:00\",\"2021-06-03 23:00:00\",\"2021-06-04 23:00:00\",\"2021-06-05 23:00:00\",\"2021-06-06 23:00:00\",\"2021-06-07 23:00:00\",\"2021-06-08 23:00:00\",\"2021-06-09 23:00:00\",\"2021-06-10 23:00:00\",\"2021-06-11 23:00:00\",\"2021-06-12 23:00:00\",\"2021-06-13 23:00:00\",\"2021-06-14 23:00:00\",\"2021-06-15 23:00:00\",\"2021-06-16 23:00:00\",\"2021-06-17 23:00:00\",\"2021-06-18 23:00:00\",\"2021-06-19 23:00:00\",\"2021-06-20 23:00:00\",\"2021-06-21 23:00:00\",\"2021-06-22 23:00:00\",\"2021-06-23 23:00:00\",\"2021-06-24 23:00:00\",\"2021-06-25 23:00:00\",\"2021-06-26 23:00:00\",\"2021-06-27 23:00:00\",\"2021-06-28 23:00:00\",\"2021-06-29 23:00:00\",\"2021-06-30 23:00:00\",\"2021-07-01 23:00:00\",\"2021-07-02 23:00:00\",\"2021-07-03 23:00:00\",\"2021-07-04 23:00:00\",\"2021-07-05 23:00:00\",\"2021-07-06 23:00:00\",\"2021-07-07 23:00:00\",\"2021-07-08 23:00:00\",\"2021-07-09 23:00:00\",\"2021-07-10 23:00:00\",\"2021-07-11 23:00:00\",\"2021-07-12 23:00:00\",\"2021-07-13 23:00:00\",\"2021-07-14 23:00:00\",\"2021-07-15 23:00:00\",\"2021-07-16 23:00:00\",\"2021-07-17 23:00:00\",\"2021-07-18 23:00:00\",\"2021-07-19 23:00:00\",\"2021-07-20 23:00:00\",\"2021-07-21 23:00:00\",\"2021-07-22 23:00:00\",\"2021-07-23 23:00:00\",\"2021-07-24 23:00:00\",\"2021-07-25 23:00:00\",\"2021-07-26 23:00:00\",\"2021-07-27 23:00:00\",\"2021-07-28 23:00:00\",\"2021-07-29 23:00:00\",\"2021-07-30 23:00:00\",\"2021-07-31 23:00:00\",\"2021-08-01 23:00:00\",\"2021-08-02 23:00:00\",\"2021-08-03 23:00:00\",\"2021-08-04 23:00:00\",\"2021-08-05 23:00:00\",\"2021-08-06 23:00:00\",\"2021-08-07 23:00:00\",\"2021-08-08 23:00:00\",\"2021-08-09 23:00:00\",\"2021-08-10 23:00:00\",\"2021-08-11 23:00:00\",\"2021-08-12 23:00:00\",\"2021-08-13 23:00:00\",\"2021-08-14 23:00:00\",\"2021-08-15 23:00:00\",\"2021-08-16 23:00:00\",\"2021-08-17 23:00:00\",\"2021-08-18 23:00:00\",\"2021-08-19 23:00:00\",\"2021-08-20 23:00:00\",\"2021-08-21 23:00:00\",\"2021-08-22 23:00:00\",\"2021-08-23 23:00:00\",\"2021-08-24 23:00:00\",\"2021-08-25 23:00:00\",\"2021-08-26 23:00:00\",\"2021-08-27 23:00:00\",\"2021-08-28 23:00:00\",\"2021-08-29 23:00:00\",\"2021-08-30 23:00:00\",\"2021-08-31 23:00:00\",\"2021-09-01 23:00:00\",\"2021-09-02 23:00:00\",\"2021-09-03 23:00:00\",\"2021-09-04 23:00:00\",\"2021-09-05 23:00:00\",\"2021-09-06 23:00:00\",\"2021-09-07 23:00:00\",\"2021-09-08 23:00:00\",\"2021-09-09 23:00:00\",\"2021-09-10 23:00:00\",\"2021-09-11 23:00:00\",\"2021-09-12 23:00:00\",\"2021-09-13 23:00:00\",\"2021-09-14 23:00:00\",\"2021-09-15 23:00:00\",\"2021-09-16 23:00:00\",\"2021-09-17 23:00:00\",\"2021-09-18 23:00:00\",\"2021-09-19 23:00:00\",\"2021-09-20 23:00:00\",\"2021-09-21 23:00:00\",\"2021-09-22 23:00:00\",\"2021-09-23 23:00:00\",\"2021-09-24 23:00:00\",\"2021-09-25 23:00:00\",\"2021-09-26 23:00:00\",\"2021-09-27 23:00:00\",\"2021-09-28 23:00:00\",\"2021-09-29 23:00:00\",\"2021-09-30 23:00:00\",\"2021-10-01 23:00:00\",\"2021-10-02 23:00:00\",\"2021-10-03 23:00:00\",\"2021-10-04 23:00:00\",\"2021-10-05 23:00:00\",\"2021-10-06 23:00:00\",\"2021-10-07 23:00:00\",\"2021-10-08 23:00:00\",\"2021-10-09 23:00:00\",\"2021-10-10 23:00:00\",\"2021-10-11 23:00:00\",\"2021-10-12 23:00:00\",\"2021-10-13 23:00:00\",\"2021-10-14 23:00:00\",\"2021-10-15 23:00:00\",\"2021-10-16 23:00:00\",\"2021-10-17 23:00:00\",\"2021-10-18 23:00:00\",\"2021-10-19 23:00:00\",\"2021-10-20 23:00:00\",\"2021-10-21 23:00:00\",\"2021-10-22 23:00:00\",\"2021-10-23 23:00:00\",\"2021-10-24 23:00:00\",\"2021-10-25 23:00:00\",\"2021-10-26 23:00:00\",\"2021-10-27 23:00:00\",\"2021-10-28 23:00:00\",\"2021-10-29 23:00:00\",\"2021-10-30 23:00:00\",\"2021-10-31 23:00:00\",\"2021-11-01 23:00:00\",\"2021-11-02 23:00:00\",\"2021-11-03 23:00:00\",\"2021-11-04 23:00:00\",\"2021-11-05 23:00:00\",\"2021-11-06 23:00:00\",\"2021-11-07 23:00:00\",\"2021-11-08 23:00:00\",\"2021-11-09 23:00:00\",\"2021-11-10 23:00:00\",\"2021-11-11 23:00:00\",\"2021-11-12 23:00:00\",\"2021-11-13 23:00:00\",\"2021-11-14 23:00:00\",\"2021-11-15 23:00:00\",\"2021-11-16 23:00:00\",\"2021-11-17 23:00:00\",\"2021-11-18 23:00:00\",\"2021-11-19 23:00:00\",\"2021-11-20 23:00:00\",\"2021-11-21 23:00:00\",\"2021-11-22 23:00:00\",\"2021-11-23 23:00:00\",\"2021-11-24 23:00:00\",\"2021-11-25 23:00:00\",\"2021-11-26 23:00:00\",\"2021-11-27 23:00:00\",\"2021-11-28 23:00:00\",\"2021-11-29 23:00:00\",\"2021-11-30 23:00:00\",\"2021-12-01 23:00:00\",\"2021-12-02 23:00:00\",\"2021-12-03 23:00:00\",\"2021-12-04 23:00:00\",\"2021-12-05 23:00:00\",\"2021-12-06 23:00:00\",\"2021-12-07 23:00:00\",\"2021-12-08 23:00:00\",\"2021-12-09 23:00:00\",\"2021-12-10 23:00:00\",\"2021-12-11 23:00:00\",\"2021-12-12 23:00:00\",\"2021-12-13 23:00:00\",\"2021-12-14 23:00:00\",\"2021-12-15 23:00:00\",\"2021-12-16 23:00:00\",\"2021-12-17 23:00:00\",\"2021-12-18 23:00:00\",\"2021-12-19 23:00:00\",\"2021-12-20 23:00:00\",\"2021-12-21 23:00:00\",\"2021-12-22 23:00:00\",\"2021-12-23 23:00:00\",\"2021-12-24 23:00:00\",\"2021-12-25 23:00:00\",\"2021-12-26 23:00:00\",\"2021-12-27 23:00:00\",\"2021-12-28 23:00:00\",\"2021-12-29 23:00:00\",\"2021-12-30 23:00:00\",\"2021-12-31 23:00:00\",\"2022-01-01 23:00:00\",\"2022-01-02 23:00:00\",\"2022-01-03 23:00:00\",\"2022-01-04 23:00:00\",\"2022-01-05 23:00:00\",\"2022-01-06 23:00:00\",\"2022-01-07 23:00:00\",\"2022-01-08 23:00:00\",\"2022-01-09 23:00:00\",\"2022-01-10 23:00:00\",\"2022-01-11 23:00:00\",\"2022-01-12 23:00:00\",\"2022-01-13 23:00:00\",\"2022-01-14 23:00:00\",\"2022-01-15 23:00:00\",\"2022-01-16 23:00:00\",\"2022-01-17 23:00:00\",\"2022-01-18 23:00:00\",\"2022-01-19 23:00:00\",\"2022-01-20 23:00:00\",\"2022-01-21 23:00:00\",\"2022-01-22 23:00:00\",\"2022-01-23 23:00:00\",\"2022-01-24 23:00:00\",\"2022-01-25 23:00:00\",\"2022-01-26 23:00:00\",\"2022-01-27 23:00:00\",\"2022-01-28 23:00:00\",\"2022-01-29 23:00:00\",\"2022-01-30 23:00:00\",\"2022-01-31 23:00:00\",\"2022-02-01 23:00:00\",\"2022-02-02 23:00:00\",\"2022-02-03 23:00:00\",\"2022-02-04 23:00:00\",\"2022-02-05 23:00:00\",\"2022-02-06 23:00:00\",\"2022-02-07 23:00:00\",\"2022-02-08 23:00:00\",\"2022-02-09 23:00:00\",\"2022-02-10 23:00:00\",\"2022-02-11 23:00:00\",\"2022-02-12 23:00:00\",\"2022-02-13 23:00:00\",\"2022-02-14 23:00:00\",\"2022-02-15 23:00:00\",\"2022-02-16 23:00:00\",\"2022-02-17 23:00:00\",\"2022-02-18 23:00:00\",\"2022-02-19 23:00:00\",\"2022-02-20 23:00:00\",\"2022-02-21 23:00:00\",\"2022-02-22 23:00:00\",\"2022-02-23 23:00:00\",\"2022-02-24 23:00:00\",\"2022-02-25 23:00:00\",\"2022-02-26 23:00:00\",\"2022-02-27 23:00:00\",\"2022-02-28 23:00:00\",\"2022-03-01 23:00:00\",\"2022-03-02 23:00:00\",\"2022-03-03 23:00:00\",\"2022-03-04 23:00:00\",\"2022-03-05 23:00:00\",\"2022-03-06 23:00:00\",\"2022-03-07 23:00:00\",\"2022-03-08 23:00:00\",\"2022-03-09 23:00:00\",\"2022-03-10 23:00:00\",\"2022-03-11 23:00:00\",\"2022-03-12 23:00:00\",\"2022-03-13 23:00:00\",\"2022-03-14 23:00:00\",\"2022-03-15 23:00:00\",\"2022-03-16 23:00:00\",\"2022-03-17 23:00:00\",\"2022-03-18 23:00:00\",\"2022-03-19 23:00:00\",\"2022-03-20 23:00:00\",\"2022-03-21 23:00:00\",\"2022-03-22 23:00:00\",\"2022-03-23 23:00:00\",\"2022-03-24 23:00:00\",\"2022-03-25 23:00:00\",\"2022-03-26 23:00:00\",\"2022-03-27 23:00:00\",\"2022-03-28 23:00:00\",\"2022-03-29 23:00:00\",\"2022-03-30 23:00:00\",\"2022-03-31 23:00:00\",\"2022-04-01 23:00:00\",\"2022-04-02 23:00:00\",\"2022-04-03 23:00:00\",\"2022-04-04 23:00:00\",\"2022-04-05 23:00:00\",\"2022-04-06 23:00:00\",\"2022-04-07 23:00:00\",\"2022-04-08 23:00:00\",\"2022-04-09 23:00:00\",\"2022-04-10 23:00:00\",\"2022-04-11 23:00:00\",\"2022-04-12 23:00:00\",\"2022-04-13 23:00:00\",\"2022-04-14 23:00:00\",\"2022-04-15 23:00:00\",\"2022-04-16 23:00:00\",\"2022-04-17 23:00:00\",\"2022-04-18 23:00:00\",\"2022-04-19 23:00:00\",\"2022-04-20 23:00:00\",\"2022-04-21 23:00:00\",\"2022-04-22 23:00:00\",\"2022-04-23 23:00:00\",\"2022-04-24 23:00:00\",\"2022-04-25 23:00:00\",\"2022-04-26 23:00:00\",\"2022-04-27 23:00:00\",\"2022-04-28 23:00:00\",\"2022-04-29 23:00:00\"],\"xaxis\":\"x\",\"y\":[0.799191347753467,2.7605377173227,6.0554235375404994,4.667701917702364,6.674383452594802,1.6819433516577904,3.240488095146621,1.3160522532628176,0.6151957850082255,2.118705446898668,1.139014070960081,5.058520992657018,4.373524649427158,3.4137835693612173,6.64011542920992,2.730372908157058,3.4795015427753326,2.3361698545320286,1.864012494252908,1.9612251413393809,2.0223814553476496,0.8104840967524363,3.881003181770861,4.817091493641498,1.128219026498022,2.0387785356969066,0.8521639066196904,1.0274840591315109,2.2922265897328304,1.5198184999416922,1.972592566905967,2.0480344093528213,5.288180981899912,2.240061497281578,1.0327450928430544,1.4244880519538947,0.5131027275100597,2.2840816999642035,1.003984697234542,5.077467337788934,2.512443841928764,2.0868687145750657,5.072158825777941,4.886063851191889,1.6796869101344216,2.875194427743124,1.759105845361136,1.6938886255433498,1.8260552737040696,1.111791844915763,3.383663368559888,3.070865516944035,8.32636797685975,6.757393681125127,6.857198346264247,3.321204371194809,3.943785837250773,7.490611000784063,4.082268682262809,2.2778085286827783,1.35497436641187,2.951222601875302,4.9228294138990085,1.1233231542189015,4.17186882310294,2.059778314265054,2.7261233554345834,4.240115926998755,0.838545132213721,1.4969141256584633,1.6667239405634509,2.5348394571522426,3.350502097904498,7.387848658184677,2.4352687492647624,4.105853547524758,1.9963450129557485,4.807201440536644,3.94714396571962,6.532763937959574,1.6539392573894716,1.6023627971620231,2.1456927989313463,6.847938028712726,9.345329554760449,2.890113743714658,3.804652445478452,4.177030185281927,5.767286430708846,4.633119446312837,2.524812821524888,1.538446428432997,2.6752817074980904,1.9985054512888487,2.6214789337431443,1.3564310889364322,5.116499567372941,3.5209729395014278,5.050531588019831,1.4438767518034648,1.877575648320742,2.163051342987102,2.552114434799377,3.821766717318378,2.542273188248417,3.3231245758992967,3.898064829252182,3.0773551920116327,4.232321769745812,3.200734064817217,2.8116837308722014,5.036386845622952,2.1641664731778616,2.0416328495924816,8.347498829664147,16.64092983503188,6.683749763019874,4.161557853754528,4.750549908980676,3.942984496031968,2.615236136909824,3.7896123076917423,3.158649860397409,3.64839443866448,5.61822680976346,3.123713192791402,4.389860378598631,6.732619346659822,2.145043698394436,2.7866605548575896,6.125826024067404,2.669424228113443,1.7551938923413355,4.096593461857038,2.41367658962711,9.784731183640789,2.75515161802555,2.572043053795924,3.954518811417982,6.68023762112344,3.0038026180657877,4.121166510021864,4.131502325472916,2.990213853861924,2.201352604184174,3.408696487850868,0.6917000510204514,1.4585647418643162,2.742513894976487,9.352691872570308,1.639004593002409,1.2448024600765184,1.3636477324506846,3.0722973882670117,4.27869725407052,3.4880250183860046,3.6534323993415376,7.225732889665045,20.542364060638217,3.9320173748654175,4.919681876680308,6.368702172948358,1.2087220746342018,1.933911626879116,0.7959677746657965,4.805371213749985,1.700224721170149,4.017027318752767,2.152595345801038,1.2229416053432072,3.711409166378128,2.669856723589016,7.7179872122528925,1.802654079083184,4.415684549692175,1.063979407220648,3.2998333820989947,2.73759780159462,4.793323985977125,4.489538080942452,2.661868776409035,0.9430397377528912,1.3850796599448938,1.6564809952294848,2.2103655354409986,2.2901455709986736,2.419159180926227,4.836350604144074,2.324610717726725,1.9415818397162528,1.103680860082905,8.870536627894172,1.2924040729425172,1.910618280703996,4.98433328408929,1.083103405511371,5.05661186368496,2.231029747416001,1.380367472005358,1.1982956250483203,1.8467230054186032,2.2994296802008165,4.569980714476971,3.9454861298053143,6.11397295005904,6.106832161501387,2.1225510608146454,1.663709204783417,3.115067491056217,2.537129385713774,1.71572795365906,1.1527465428665806,1.0059664538791535,1.7963450373142775,0.635436042263956,3.013514239072822,2.006367705750606,1.913101917638524,1.6641568121123411,2.6862437286650054,2.069224789073026,3.8479053891677792,1.507924232687232,1.4444280317703948,1.3244117298774674,1.9966549246659815,0.9669163329886852,1.8473766476035811,2.25163782475591,1.3167825924389227,5.952773448960691,4.196421314214919,5.19653424743331,4.826508374080415,1.5741072512622425,1.807420444591072,0.9659386437855644,4.574053765771358,2.315825518248976,7.350935218319313,2.996533181906188,1.5267037000042774,0.941422847189228,1.2090796345146968,1.4998342285655628,3.0865156744448337,3.115180287404543,1.3961189712231572,1.0470001624332848,2.1824267989388195,3.635920117805587,2.554660930015845,1.5556054213343382,2.1928483891573367,1.9822441739179564,2.2744034956115438,2.59242028673149,1.3130035878024937,0.9108937488057306,2.154681839152163,1.9929421913982603,0.9322758265696351,0.784587003079216,2.070498526748171,0.6930061677857047,3.231388232164087,1.3124578450248834,1.628526101202301,1.060862880917654,1.1728092889334454,1.4976433161930218,2.067263438946319,1.2568489521041926,1.698569258378248,1.5453483937489465,1.5827555555348944,1.7484168897984054,0.7345856451861121,1.290665878275451,2.890121483160307,1.7015319007721303,4.134660442915522,1.3333934331411057,1.306194259733344,1.7770047622745453,1.554866511789052,1.0017670471348443,1.424228798256396,2.3495070953169512,1.561920493569635,2.8984622651585847,1.9092621459176768,1.386189547913407,1.4681148973092384,1.1232347996629135,1.713243070245879,2.2284282638347435,1.8658814555399037,1.0926884764482645,1.1695476302352787,0.992382385552345,1.1728203474280048,1.5374528878067777,1.7942513342832238,1.4535630177407064,1.609900906626382,1.4016824902836955,1.1918395755619249,1.180301770737731,0.8719444013399595,2.212041368832796,3.0729618169350106,0.8462734956361397,1.4872896293505256,1.906312897892656,2.0266677467797525,1.6845072967928736,2.728598347894953,2.103472449552653,4.845089379630879,1.8437665335826272,1.178703916902477,4.881702716066857,0.6883402170502189,0.4679652288362476,1.03723356770848,1.1055989786634235,2.1859395193653635,2.0751628848849264,0.8232699825598119,1.9002746862550903,3.95564819828804,1.547406741090849,5.040801885094776,5.267922099188905,1.581425047098482,1.071754813214685,1.4548247564830563,1.5325925850658997,3.440057802870325,2.169939710633777,0.8215984085232145,2.166148637096512,1.0890302079502143,6.849841173315892,6.288517554891691,0.8831235360205281,0.9629805630853416,3.1954136127066337,2.9507982623650832,2.936913331128304,3.5612662699492965,3.4530851688088458,6.935590882465998,0.9939136072353736,1.266674119847768,2.3105971450505915],\"yaxis\":\"y\",\"type\":\"scatter\"}],                        {\"template\":{\"data\":{\"histogram2dcontour\":[{\"type\":\"histogram2dcontour\",\"colorbar\":{\"outlinewidth\":0,\"ticks\":\"\"},\"colorscale\":[[0.0,\"#0d0887\"],[0.1111111111111111,\"#46039f\"],[0.2222222222222222,\"#7201a8\"],[0.3333333333333333,\"#9c179e\"],[0.4444444444444444,\"#bd3786\"],[0.5555555555555556,\"#d8576b\"],[0.6666666666666666,\"#ed7953\"],[0.7777777777777778,\"#fb9f3a\"],[0.8888888888888888,\"#fdca26\"],[1.0,\"#f0f921\"]]}],\"choropleth\":[{\"type\":\"choropleth\",\"colorbar\":{\"outlinewidth\":0,\"ticks\":\"\"}}],\"histogram2d\":[{\"type\":\"histogram2d\",\"colorbar\":{\"outlinewidth\":0,\"ticks\":\"\"},\"colorscale\":[[0.0,\"#0d0887\"],[0.1111111111111111,\"#46039f\"],[0.2222222222222222,\"#7201a8\"],[0.3333333333333333,\"#9c179e\"],[0.4444444444444444,\"#bd3786\"],[0.5555555555555556,\"#d8576b\"],[0.6666666666666666,\"#ed7953\"],[0.7777777777777778,\"#fb9f3a\"],[0.8888888888888888,\"#fdca26\"],[1.0,\"#f0f921\"]]}],\"heatmap\":[{\"type\":\"heatmap\",\"colorbar\":{\"outlinewidth\":0,\"ticks\":\"\"},\"colorscale\":[[0.0,\"#0d0887\"],[0.1111111111111111,\"#46039f\"],[0.2222222222222222,\"#7201a8\"],[0.3333333333333333,\"#9c179e\"],[0.4444444444444444,\"#bd3786\"],[0.5555555555555556,\"#d8576b\"],[0.6666666666666666,\"#ed7953\"],[0.7777777777777778,\"#fb9f3a\"],[0.8888888888888888,\"#fdca26\"],[1.0,\"#f0f921\"]]}],\"heatmapgl\":[{\"type\":\"heatmapgl\",\"colorbar\":{\"outlinewidth\":0,\"ticks\":\"\"},\"colorscale\":[[0.0,\"#0d0887\"],[0.1111111111111111,\"#46039f\"],[0.2222222222222222,\"#7201a8\"],[0.3333333333333333,\"#9c179e\"],[0.4444444444444444,\"#bd3786\"],[0.5555555555555556,\"#d8576b\"],[0.6666666666666666,\"#ed7953\"],[0.7777777777777778,\"#fb9f3a\"],[0.8888888888888888,\"#fdca26\"],[1.0,\"#f0f921\"]]}],\"contourcarpet\":[{\"type\":\"contourcarpet\",\"colorbar\":{\"outlinewidth\":0,\"ticks\":\"\"}}],\"contour\":[{\"type\":\"contour\",\"colorbar\":{\"outlinewidth\":0,\"ticks\":\"\"},\"colorscale\":[[0.0,\"#0d0887\"],[0.1111111111111111,\"#46039f\"],[0.2222222222222222,\"#7201a8\"],[0.3333333333333333,\"#9c179e\"],[0.4444444444444444,\"#bd3786\"],[0.5555555555555556,\"#d8576b\"],[0.6666666666666666,\"#ed7953\"],[0.7777777777777778,\"#fb9f3a\"],[0.8888888888888888,\"#fdca26\"],[1.0,\"#f0f921\"]]}],\"surface\":[{\"type\":\"surface\",\"colorbar\":{\"outlinewidth\":0,\"ticks\":\"\"},\"colorscale\":[[0.0,\"#0d0887\"],[0.1111111111111111,\"#46039f\"],[0.2222222222222222,\"#7201a8\"],[0.3333333333333333,\"#9c179e\"],[0.4444444444444444,\"#bd3786\"],[0.5555555555555556,\"#d8576b\"],[0.6666666666666666,\"#ed7953\"],[0.7777777777777778,\"#fb9f3a\"],[0.8888888888888888,\"#fdca26\"],[1.0,\"#f0f921\"]]}],\"mesh3d\":[{\"type\":\"mesh3d\",\"colorbar\":{\"outlinewidth\":0,\"ticks\":\"\"}}],\"scatter\":[{\"fillpattern\":{\"fillmode\":\"overlay\",\"size\":10,\"solidity\":0.2},\"type\":\"scatter\"}],\"parcoords\":[{\"type\":\"parcoords\",\"line\":{\"colorbar\":{\"outlinewidth\":0,\"ticks\":\"\"}}}],\"scatterpolargl\":[{\"type\":\"scatterpolargl\",\"marker\":{\"colorbar\":{\"outlinewidth\":0,\"ticks\":\"\"}}}],\"bar\":[{\"error_x\":{\"color\":\"#2a3f5f\"},\"error_y\":{\"color\":\"#2a3f5f\"},\"marker\":{\"line\":{\"color\":\"#E5ECF6\",\"width\":0.5},\"pattern\":{\"fillmode\":\"overlay\",\"size\":10,\"solidity\":0.2}},\"type\":\"bar\"}],\"scattergeo\":[{\"type\":\"scattergeo\",\"marker\":{\"colorbar\":{\"outlinewidth\":0,\"ticks\":\"\"}}}],\"scatterpolar\":[{\"type\":\"scatterpolar\",\"marker\":{\"colorbar\":{\"outlinewidth\":0,\"ticks\":\"\"}}}],\"histogram\":[{\"marker\":{\"pattern\":{\"fillmode\":\"overlay\",\"size\":10,\"solidity\":0.2}},\"type\":\"histogram\"}],\"scattergl\":[{\"type\":\"scattergl\",\"marker\":{\"colorbar\":{\"outlinewidth\":0,\"ticks\":\"\"}}}],\"scatter3d\":[{\"type\":\"scatter3d\",\"line\":{\"colorbar\":{\"outlinewidth\":0,\"ticks\":\"\"}},\"marker\":{\"colorbar\":{\"outlinewidth\":0,\"ticks\":\"\"}}}],\"scattermapbox\":[{\"type\":\"scattermapbox\",\"marker\":{\"colorbar\":{\"outlinewidth\":0,\"ticks\":\"\"}}}],\"scatterternary\":[{\"type\":\"scatterternary\",\"marker\":{\"colorbar\":{\"outlinewidth\":0,\"ticks\":\"\"}}}],\"scattercarpet\":[{\"type\":\"scattercarpet\",\"marker\":{\"colorbar\":{\"outlinewidth\":0,\"ticks\":\"\"}}}],\"carpet\":[{\"aaxis\":{\"endlinecolor\":\"#2a3f5f\",\"gridcolor\":\"white\",\"linecolor\":\"white\",\"minorgridcolor\":\"white\",\"startlinecolor\":\"#2a3f5f\"},\"baxis\":{\"endlinecolor\":\"#2a3f5f\",\"gridcolor\":\"white\",\"linecolor\":\"white\",\"minorgridcolor\":\"white\",\"startlinecolor\":\"#2a3f5f\"},\"type\":\"carpet\"}],\"table\":[{\"cells\":{\"fill\":{\"color\":\"#EBF0F8\"},\"line\":{\"color\":\"white\"}},\"header\":{\"fill\":{\"color\":\"#C8D4E3\"},\"line\":{\"color\":\"white\"}},\"type\":\"table\"}],\"barpolar\":[{\"marker\":{\"line\":{\"color\":\"#E5ECF6\",\"width\":0.5},\"pattern\":{\"fillmode\":\"overlay\",\"size\":10,\"solidity\":0.2}},\"type\":\"barpolar\"}],\"pie\":[{\"automargin\":true,\"type\":\"pie\"}]},\"layout\":{\"autotypenumbers\":\"strict\",\"colorway\":[\"#636efa\",\"#EF553B\",\"#00cc96\",\"#ab63fa\",\"#FFA15A\",\"#19d3f3\",\"#FF6692\",\"#B6E880\",\"#FF97FF\",\"#FECB52\"],\"font\":{\"color\":\"#2a3f5f\"},\"hovermode\":\"closest\",\"hoverlabel\":{\"align\":\"left\"},\"paper_bgcolor\":\"white\",\"plot_bgcolor\":\"#E5ECF6\",\"polar\":{\"bgcolor\":\"#E5ECF6\",\"angularaxis\":{\"gridcolor\":\"white\",\"linecolor\":\"white\",\"ticks\":\"\"},\"radialaxis\":{\"gridcolor\":\"white\",\"linecolor\":\"white\",\"ticks\":\"\"}},\"ternary\":{\"bgcolor\":\"#E5ECF6\",\"aaxis\":{\"gridcolor\":\"white\",\"linecolor\":\"white\",\"ticks\":\"\"},\"baxis\":{\"gridcolor\":\"white\",\"linecolor\":\"white\",\"ticks\":\"\"},\"caxis\":{\"gridcolor\":\"white\",\"linecolor\":\"white\",\"ticks\":\"\"}},\"coloraxis\":{\"colorbar\":{\"outlinewidth\":0,\"ticks\":\"\"}},\"colorscale\":{\"sequential\":[[0.0,\"#0d0887\"],[0.1111111111111111,\"#46039f\"],[0.2222222222222222,\"#7201a8\"],[0.3333333333333333,\"#9c179e\"],[0.4444444444444444,\"#bd3786\"],[0.5555555555555556,\"#d8576b\"],[0.6666666666666666,\"#ed7953\"],[0.7777777777777778,\"#fb9f3a\"],[0.8888888888888888,\"#fdca26\"],[1.0,\"#f0f921\"]],\"sequentialminus\":[[0.0,\"#0d0887\"],[0.1111111111111111,\"#46039f\"],[0.2222222222222222,\"#7201a8\"],[0.3333333333333333,\"#9c179e\"],[0.4444444444444444,\"#bd3786\"],[0.5555555555555556,\"#d8576b\"],[0.6666666666666666,\"#ed7953\"],[0.7777777777777778,\"#fb9f3a\"],[0.8888888888888888,\"#fdca26\"],[1.0,\"#f0f921\"]],\"diverging\":[[0,\"#8e0152\"],[0.1,\"#c51b7d\"],[0.2,\"#de77ae\"],[0.3,\"#f1b6da\"],[0.4,\"#fde0ef\"],[0.5,\"#f7f7f7\"],[0.6,\"#e6f5d0\"],[0.7,\"#b8e186\"],[0.8,\"#7fbc41\"],[0.9,\"#4d9221\"],[1,\"#276419\"]]},\"xaxis\":{\"gridcolor\":\"white\",\"linecolor\":\"white\",\"ticks\":\"\",\"title\":{\"standoff\":15},\"zerolinecolor\":\"white\",\"automargin\":true,\"zerolinewidth\":2},\"yaxis\":{\"gridcolor\":\"white\",\"linecolor\":\"white\",\"ticks\":\"\",\"title\":{\"standoff\":15},\"zerolinecolor\":\"white\",\"automargin\":true,\"zerolinewidth\":2},\"scene\":{\"xaxis\":{\"backgroundcolor\":\"#E5ECF6\",\"gridcolor\":\"white\",\"linecolor\":\"white\",\"showbackground\":true,\"ticks\":\"\",\"zerolinecolor\":\"white\",\"gridwidth\":2},\"yaxis\":{\"backgroundcolor\":\"#E5ECF6\",\"gridcolor\":\"white\",\"linecolor\":\"white\",\"showbackground\":true,\"ticks\":\"\",\"zerolinecolor\":\"white\",\"gridwidth\":2},\"zaxis\":{\"backgroundcolor\":\"#E5ECF6\",\"gridcolor\":\"white\",\"linecolor\":\"white\",\"showbackground\":true,\"ticks\":\"\",\"zerolinecolor\":\"white\",\"gridwidth\":2}},\"shapedefaults\":{\"line\":{\"color\":\"#2a3f5f\"}},\"annotationdefaults\":{\"arrowcolor\":\"#2a3f5f\",\"arrowhead\":0,\"arrowwidth\":1},\"geo\":{\"bgcolor\":\"white\",\"landcolor\":\"#E5ECF6\",\"subunitcolor\":\"white\",\"showland\":true,\"showlakes\":true,\"lakecolor\":\"white\"},\"title\":{\"x\":0.05},\"mapbox\":{\"style\":\"light\"}}},\"xaxis\":{\"anchor\":\"y\",\"domain\":[0.0,1.0],\"title\":{\"text\":\"FECHA-HORA\"}},\"yaxis\":{\"anchor\":\"x\",\"domain\":[0.0,1.0],\"title\":{\"text\":\"MAPE\"}},\"legend\":{\"tracegroupgap\":0},\"title\":{\"text\":\"MAPE Pronostico Redes Neuronales Encoders\"}},                        {\"responsive\": true}                    ).then(function(){\n",
       "                            \n",
       "var gd = document.getElementById('57f20084-5b40-47cd-bb80-bd70a3f61a84');\n",
       "var x = new MutationObserver(function (mutations, observer) {{\n",
       "        var display = window.getComputedStyle(gd).display;\n",
       "        if (!display || display === 'none') {{\n",
       "            console.log([gd, 'removed!']);\n",
       "            Plotly.purge(gd);\n",
       "            observer.disconnect();\n",
       "        }}\n",
       "}});\n",
       "\n",
       "// Listen for the removal of the full notebook cells\n",
       "var notebookContainer = gd.closest('#notebook-container');\n",
       "if (notebookContainer) {{\n",
       "    x.observe(notebookContainer, {childList: true});\n",
       "}}\n",
       "\n",
       "// Listen for the clearing of the current output cell\n",
       "var outputEl = gd.closest('.output');\n",
       "if (outputEl) {{\n",
       "    x.observe(outputEl, {childList: true});\n",
       "}}\n",
       "\n",
       "                        })                };                });            </script>        </div>"
      ]
     },
     "metadata": {},
     "output_type": "display_data"
    }
   ],
   "source": [
    "### Además de esto poner el histograma del df_est_result.MAPE y de df_est_result.R2\n",
    "\n",
    "fig = px.line(df_est_result,x='FECHA-HORA', y='MAPE' ,title=\"MAPE Pronostico Redes Neuronales Encoders\")\n",
    "fig.show()"
   ]
  },
  {
   "cell_type": "code",
   "execution_count": 7,
   "id": "df4245dd",
   "metadata": {
    "hidden": true
   },
   "outputs": [
    {
     "data": {
      "application/vnd.plotly.v1+json": {
       "config": {
        "plotlyServerURL": "https://plot.ly"
       },
       "data": [
        {
         "hovertemplate": "FECHA-HORA=%{x}<br>R2=%{y}<extra></extra>",
         "legendgroup": "",
         "line": {
          "color": "#636efa",
          "dash": "solid"
         },
         "marker": {
          "symbol": "circle"
         },
         "mode": "lines",
         "name": "",
         "orientation": "v",
         "showlegend": false,
         "type": "scatter",
         "x": [
          "2021-05-08 23:00:00",
          "2021-05-09 23:00:00",
          "2021-05-10 23:00:00",
          "2021-05-11 23:00:00",
          "2021-05-12 23:00:00",
          "2021-05-13 23:00:00",
          "2021-05-14 23:00:00",
          "2021-05-15 23:00:00",
          "2021-05-16 23:00:00",
          "2021-05-17 23:00:00",
          "2021-05-18 23:00:00",
          "2021-05-19 23:00:00",
          "2021-05-20 23:00:00",
          "2021-05-21 23:00:00",
          "2021-05-22 23:00:00",
          "2021-05-23 23:00:00",
          "2021-05-24 23:00:00",
          "2021-05-25 23:00:00",
          "2021-05-26 23:00:00",
          "2021-05-27 23:00:00",
          "2021-05-28 23:00:00",
          "2021-05-29 23:00:00",
          "2021-05-30 23:00:00",
          "2021-05-31 23:00:00",
          "2021-06-01 23:00:00",
          "2021-06-02 23:00:00",
          "2021-06-03 23:00:00",
          "2021-06-04 23:00:00",
          "2021-06-05 23:00:00",
          "2021-06-06 23:00:00",
          "2021-06-07 23:00:00",
          "2021-06-08 23:00:00",
          "2021-06-09 23:00:00",
          "2021-06-10 23:00:00",
          "2021-06-11 23:00:00",
          "2021-06-12 23:00:00",
          "2021-06-13 23:00:00",
          "2021-06-14 23:00:00",
          "2021-06-15 23:00:00",
          "2021-06-16 23:00:00",
          "2021-06-17 23:00:00",
          "2021-06-18 23:00:00",
          "2021-06-19 23:00:00",
          "2021-06-20 23:00:00",
          "2021-06-21 23:00:00",
          "2021-06-22 23:00:00",
          "2021-06-23 23:00:00",
          "2021-06-24 23:00:00",
          "2021-06-25 23:00:00",
          "2021-06-26 23:00:00",
          "2021-06-27 23:00:00",
          "2021-06-28 23:00:00",
          "2021-06-29 23:00:00",
          "2021-06-30 23:00:00",
          "2021-07-01 23:00:00",
          "2021-07-02 23:00:00",
          "2021-07-03 23:00:00",
          "2021-07-04 23:00:00",
          "2021-07-05 23:00:00",
          "2021-07-06 23:00:00",
          "2021-07-07 23:00:00",
          "2021-07-08 23:00:00",
          "2021-07-09 23:00:00",
          "2021-07-10 23:00:00",
          "2021-07-11 23:00:00",
          "2021-07-12 23:00:00",
          "2021-07-13 23:00:00",
          "2021-07-14 23:00:00",
          "2021-07-15 23:00:00",
          "2021-07-16 23:00:00",
          "2021-07-17 23:00:00",
          "2021-07-18 23:00:00",
          "2021-07-19 23:00:00",
          "2021-07-20 23:00:00",
          "2021-07-21 23:00:00",
          "2021-07-22 23:00:00",
          "2021-07-23 23:00:00",
          "2021-07-24 23:00:00",
          "2021-07-25 23:00:00",
          "2021-07-26 23:00:00",
          "2021-07-27 23:00:00",
          "2021-07-28 23:00:00",
          "2021-07-29 23:00:00",
          "2021-07-30 23:00:00",
          "2021-07-31 23:00:00",
          "2021-08-01 23:00:00",
          "2021-08-02 23:00:00",
          "2021-08-03 23:00:00",
          "2021-08-04 23:00:00",
          "2021-08-05 23:00:00",
          "2021-08-06 23:00:00",
          "2021-08-07 23:00:00",
          "2021-08-08 23:00:00",
          "2021-08-09 23:00:00",
          "2021-08-10 23:00:00",
          "2021-08-11 23:00:00",
          "2021-08-12 23:00:00",
          "2021-08-13 23:00:00",
          "2021-08-14 23:00:00",
          "2021-08-15 23:00:00",
          "2021-08-16 23:00:00",
          "2021-08-17 23:00:00",
          "2021-08-18 23:00:00",
          "2021-08-19 23:00:00",
          "2021-08-20 23:00:00",
          "2021-08-21 23:00:00",
          "2021-08-22 23:00:00",
          "2021-08-23 23:00:00",
          "2021-08-24 23:00:00",
          "2021-08-25 23:00:00",
          "2021-08-26 23:00:00",
          "2021-08-27 23:00:00",
          "2021-08-28 23:00:00",
          "2021-08-29 23:00:00",
          "2021-08-30 23:00:00",
          "2021-08-31 23:00:00",
          "2021-09-01 23:00:00",
          "2021-09-02 23:00:00",
          "2021-09-03 23:00:00",
          "2021-09-04 23:00:00",
          "2021-09-05 23:00:00",
          "2021-09-06 23:00:00",
          "2021-09-07 23:00:00",
          "2021-09-08 23:00:00",
          "2021-09-09 23:00:00",
          "2021-09-10 23:00:00",
          "2021-09-11 23:00:00",
          "2021-09-12 23:00:00",
          "2021-09-13 23:00:00",
          "2021-09-14 23:00:00",
          "2021-09-15 23:00:00",
          "2021-09-16 23:00:00",
          "2021-09-17 23:00:00",
          "2021-09-18 23:00:00",
          "2021-09-19 23:00:00",
          "2021-09-20 23:00:00",
          "2021-09-21 23:00:00",
          "2021-09-22 23:00:00",
          "2021-09-23 23:00:00",
          "2021-09-24 23:00:00",
          "2021-09-25 23:00:00",
          "2021-09-26 23:00:00",
          "2021-09-27 23:00:00",
          "2021-09-28 23:00:00",
          "2021-09-29 23:00:00",
          "2021-09-30 23:00:00",
          "2021-10-01 23:00:00",
          "2021-10-02 23:00:00",
          "2021-10-03 23:00:00",
          "2021-10-04 23:00:00",
          "2021-10-05 23:00:00",
          "2021-10-06 23:00:00",
          "2021-10-07 23:00:00",
          "2021-10-08 23:00:00",
          "2021-10-09 23:00:00",
          "2021-10-10 23:00:00",
          "2021-10-11 23:00:00",
          "2021-10-12 23:00:00",
          "2021-10-13 23:00:00",
          "2021-10-14 23:00:00",
          "2021-10-15 23:00:00",
          "2021-10-16 23:00:00",
          "2021-10-17 23:00:00",
          "2021-10-18 23:00:00",
          "2021-10-19 23:00:00",
          "2021-10-20 23:00:00",
          "2021-10-21 23:00:00",
          "2021-10-22 23:00:00",
          "2021-10-23 23:00:00",
          "2021-10-24 23:00:00",
          "2021-10-25 23:00:00",
          "2021-10-26 23:00:00",
          "2021-10-27 23:00:00",
          "2021-10-28 23:00:00",
          "2021-10-29 23:00:00",
          "2021-10-30 23:00:00",
          "2021-10-31 23:00:00",
          "2021-11-01 23:00:00",
          "2021-11-02 23:00:00",
          "2021-11-03 23:00:00",
          "2021-11-04 23:00:00",
          "2021-11-05 23:00:00",
          "2021-11-06 23:00:00",
          "2021-11-07 23:00:00",
          "2021-11-08 23:00:00",
          "2021-11-09 23:00:00",
          "2021-11-10 23:00:00",
          "2021-11-11 23:00:00",
          "2021-11-12 23:00:00",
          "2021-11-13 23:00:00",
          "2021-11-14 23:00:00",
          "2021-11-15 23:00:00",
          "2021-11-16 23:00:00",
          "2021-11-17 23:00:00",
          "2021-11-18 23:00:00",
          "2021-11-19 23:00:00",
          "2021-11-20 23:00:00",
          "2021-11-21 23:00:00",
          "2021-11-22 23:00:00",
          "2021-11-23 23:00:00",
          "2021-11-24 23:00:00",
          "2021-11-25 23:00:00",
          "2021-11-26 23:00:00",
          "2021-11-27 23:00:00",
          "2021-11-28 23:00:00",
          "2021-11-29 23:00:00",
          "2021-11-30 23:00:00",
          "2021-12-01 23:00:00",
          "2021-12-02 23:00:00",
          "2021-12-03 23:00:00",
          "2021-12-04 23:00:00",
          "2021-12-05 23:00:00",
          "2021-12-06 23:00:00",
          "2021-12-07 23:00:00",
          "2021-12-08 23:00:00",
          "2021-12-09 23:00:00",
          "2021-12-10 23:00:00",
          "2021-12-11 23:00:00",
          "2021-12-12 23:00:00",
          "2021-12-13 23:00:00",
          "2021-12-14 23:00:00",
          "2021-12-15 23:00:00",
          "2021-12-16 23:00:00",
          "2021-12-17 23:00:00",
          "2021-12-18 23:00:00",
          "2021-12-19 23:00:00",
          "2021-12-20 23:00:00",
          "2021-12-21 23:00:00",
          "2021-12-22 23:00:00",
          "2021-12-23 23:00:00",
          "2021-12-24 23:00:00",
          "2021-12-25 23:00:00",
          "2021-12-26 23:00:00",
          "2021-12-27 23:00:00",
          "2021-12-28 23:00:00",
          "2021-12-29 23:00:00",
          "2021-12-30 23:00:00",
          "2021-12-31 23:00:00",
          "2022-01-01 23:00:00",
          "2022-01-02 23:00:00",
          "2022-01-03 23:00:00",
          "2022-01-04 23:00:00",
          "2022-01-05 23:00:00",
          "2022-01-06 23:00:00",
          "2022-01-07 23:00:00",
          "2022-01-08 23:00:00",
          "2022-01-09 23:00:00",
          "2022-01-10 23:00:00",
          "2022-01-11 23:00:00",
          "2022-01-12 23:00:00",
          "2022-01-13 23:00:00",
          "2022-01-14 23:00:00",
          "2022-01-15 23:00:00",
          "2022-01-16 23:00:00",
          "2022-01-17 23:00:00",
          "2022-01-18 23:00:00",
          "2022-01-19 23:00:00",
          "2022-01-20 23:00:00",
          "2022-01-21 23:00:00",
          "2022-01-22 23:00:00",
          "2022-01-23 23:00:00",
          "2022-01-24 23:00:00",
          "2022-01-25 23:00:00",
          "2022-01-26 23:00:00",
          "2022-01-27 23:00:00",
          "2022-01-28 23:00:00",
          "2022-01-29 23:00:00",
          "2022-01-30 23:00:00",
          "2022-01-31 23:00:00",
          "2022-02-01 23:00:00",
          "2022-02-02 23:00:00",
          "2022-02-03 23:00:00",
          "2022-02-04 23:00:00",
          "2022-02-05 23:00:00",
          "2022-02-06 23:00:00",
          "2022-02-07 23:00:00",
          "2022-02-08 23:00:00",
          "2022-02-09 23:00:00",
          "2022-02-10 23:00:00",
          "2022-02-11 23:00:00",
          "2022-02-12 23:00:00",
          "2022-02-13 23:00:00",
          "2022-02-14 23:00:00",
          "2022-02-15 23:00:00",
          "2022-02-16 23:00:00",
          "2022-02-17 23:00:00",
          "2022-02-18 23:00:00",
          "2022-02-19 23:00:00",
          "2022-02-20 23:00:00",
          "2022-02-21 23:00:00",
          "2022-02-22 23:00:00",
          "2022-02-23 23:00:00",
          "2022-02-24 23:00:00",
          "2022-02-25 23:00:00",
          "2022-02-26 23:00:00",
          "2022-02-27 23:00:00",
          "2022-02-28 23:00:00",
          "2022-03-01 23:00:00",
          "2022-03-02 23:00:00",
          "2022-03-03 23:00:00",
          "2022-03-04 23:00:00",
          "2022-03-05 23:00:00",
          "2022-03-06 23:00:00",
          "2022-03-07 23:00:00",
          "2022-03-08 23:00:00",
          "2022-03-09 23:00:00",
          "2022-03-10 23:00:00",
          "2022-03-11 23:00:00",
          "2022-03-12 23:00:00",
          "2022-03-13 23:00:00",
          "2022-03-14 23:00:00",
          "2022-03-15 23:00:00",
          "2022-03-16 23:00:00",
          "2022-03-17 23:00:00",
          "2022-03-18 23:00:00",
          "2022-03-19 23:00:00",
          "2022-03-20 23:00:00",
          "2022-03-21 23:00:00",
          "2022-03-22 23:00:00",
          "2022-03-23 23:00:00",
          "2022-03-24 23:00:00",
          "2022-03-25 23:00:00",
          "2022-03-26 23:00:00",
          "2022-03-27 23:00:00",
          "2022-03-28 23:00:00",
          "2022-03-29 23:00:00",
          "2022-03-30 23:00:00",
          "2022-03-31 23:00:00",
          "2022-04-01 23:00:00",
          "2022-04-02 23:00:00",
          "2022-04-03 23:00:00",
          "2022-04-04 23:00:00",
          "2022-04-05 23:00:00",
          "2022-04-06 23:00:00",
          "2022-04-07 23:00:00",
          "2022-04-08 23:00:00",
          "2022-04-09 23:00:00",
          "2022-04-10 23:00:00",
          "2022-04-11 23:00:00",
          "2022-04-12 23:00:00",
          "2022-04-13 23:00:00",
          "2022-04-14 23:00:00",
          "2022-04-15 23:00:00",
          "2022-04-16 23:00:00",
          "2022-04-17 23:00:00",
          "2022-04-18 23:00:00",
          "2022-04-19 23:00:00",
          "2022-04-20 23:00:00",
          "2022-04-21 23:00:00",
          "2022-04-22 23:00:00",
          "2022-04-23 23:00:00",
          "2022-04-24 23:00:00",
          "2022-04-25 23:00:00",
          "2022-04-26 23:00:00",
          "2022-04-27 23:00:00",
          "2022-04-28 23:00:00",
          "2022-04-29 23:00:00"
         ],
         "xaxis": "x",
         "y": [
          0.9950699206931763,
          0.9953064243316592,
          0.9803758560326914,
          0.969687839823834,
          0.9948357831239238,
          0.9928219987586664,
          0.9927594674062198,
          0.9879243524807954,
          0.9973212370592158,
          0.9890328875485622,
          0.989515695330778,
          0.9925651855871696,
          0.9925789568206208,
          0.9769713851520287,
          0.9848836419993012,
          0.9916018234628852,
          0.9938562736634162,
          0.9935086419012814,
          0.9915625425954516,
          0.9943018208382796,
          0.99130008107712,
          0.9974757965094104,
          0.9981321064547632,
          0.9716446084808666,
          0.9961678081550034,
          0.9909270191177596,
          0.9978362978396976,
          0.9958526722639932,
          0.99618061251863,
          0.989847128977338,
          0.9936631757455584,
          0.9960201495841302,
          0.9936674498265632,
          0.996086005795534,
          0.9941362497279576,
          0.9941349518013128,
          0.9977943270387284,
          0.9899241552998966,
          0.9944802140201806,
          0.9883563564166326,
          0.9945912933044566,
          0.9621204028146838,
          0.961131973694962,
          0.7969356202564317,
          0.984932719384084,
          0.9853027178828054,
          0.9961224484216896,
          0.9982681576442493,
          0.9947425667322102,
          0.9889439285154136,
          0.9644608007477796,
          0.9916832848767648,
          0.938733362397956,
          0.9966109595363984,
          0.9914688260203756,
          0.9945585639564588,
          0.8239153328402232,
          0.9904871913052132,
          0.9488085267335276,
          0.9913835901927032,
          0.982759615451559,
          0.9604592974677798,
          0.9907449131318764,
          0.9936843613637591,
          0.9810168670309136,
          0.9906197629487212,
          0.9863385779574414,
          0.9959892623652872,
          0.9954877915097804,
          0.9896195154020896,
          0.98060358845296,
          0.9675517848544534,
          0.9853215383652052,
          0.9477142278905648,
          0.949734959804778,
          0.9784708681008678,
          0.9841111603910472,
          0.9222473124710008,
          0.9533269921030592,
          0.9423405926747068,
          0.9878495378160734,
          0.9845814299291232,
          0.9622405327415742,
          0.9893616628162776,
          0.9470079549902104,
          0.9690578717119886,
          0.9745488160667378,
          0.9447260089564932,
          0.9572251052069536,
          0.9821230019803332,
          0.9920864288519666,
          0.9920138692288584,
          0.9801156287063018,
          0.9842440030505486,
          0.9816165582383068,
          0.9932835977538323,
          0.8639869519029885,
          0.9527323372580976,
          0.9737621879064398,
          0.9744593272299544,
          0.9806176904476528,
          0.9826286737188644,
          0.9842232940958976,
          0.9975075185719804,
          0.984607119183354,
          0.9792251619721372,
          0.9727159320078506,
          0.9662920539071864,
          0.9939819738336308,
          0.9863806629877344,
          0.9041786494947388,
          0.8682549937774328,
          0.9847948584354288,
          0.9579699822217436,
          0.8878581107307782,
          0.9651279199429574,
          0.9901439643173982,
          0.9828139448696788,
          0.951524390575082,
          0.9785082976006436,
          0.9677475909674564,
          0.9892869831641397,
          0.9945772281427306,
          0.9815029908415258,
          0.9937531327543804,
          0.9939835284279152,
          0.9636748998405444,
          0.980796809605752,
          0.989772167655173,
          0.9841021959755428,
          0.9893304654738032,
          0.9803198599959086,
          0.9804213049140278,
          0.984991609028936,
          0.9812087835842188,
          0.9898692303383336,
          0.9636792923631736,
          0.9972743663186056,
          0.945251844192089,
          0.9932869371009444,
          0.945523445214204,
          0.9812167992604782,
          0.9876263280067928,
          0.9937662965102256,
          0.9884360252799892,
          0.9982270957905708,
          0.996387306947886,
          0.9883711884317188,
          0.98097215639561,
          0.98421130996741,
          0.998556399265508,
          0.9938383413973916,
          0.9951297929027284,
          0.987297550424962,
          0.9943476176950294,
          0.9810363380998506,
          0.9845408473088686,
          0.6008113682914552,
          0.978058832927659,
          0.992905788331507,
          0.9921720525889776,
          0.9870842629050646,
          0.9954280701721344,
          0.9825516824230314,
          0.9974386599804528,
          0.9961077980927594,
          0.9922727541272832,
          0.9887529203078564,
          0.9933153912358867,
          0.9860194854802978,
          0.982742828360706,
          0.9789675537194734,
          0.9865125027804648,
          0.9900725222319806,
          0.9904912556164184,
          0.9923056620825614,
          0.986535731477898,
          0.994052408472337,
          0.954874011543116,
          0.9912815902848428,
          0.9854672900793416,
          0.9937268986613974,
          0.9879568090410626,
          0.9819551995466144,
          0.9923316001075724,
          0.99414149763142,
          0.9910748401397708,
          0.9929115883675388,
          0.9951992073288676,
          0.988310542394156,
          0.9854742007120384,
          0.9344384196726726,
          0.9898782575342774,
          0.9914311446376768,
          0.9896963231555038,
          0.989964530541936,
          0.9913688973432336,
          0.9877021498715104,
          0.9951170014554516,
          0.9923214045803538,
          0.9969808472333418,
          0.9670722378491162,
          0.8675572342175568,
          0.960981996969753,
          0.9706246765728022,
          0.9876527573933984,
          0.987315751763074,
          0.9936269776374504,
          0.9933343125584506,
          0.9903144659988152,
          0.986186158155209,
          0.9908395359308316,
          0.9981593037020392,
          0.9944707006769844,
          0.9960799578149238,
          0.9940858334498374,
          0.9934527612661594,
          0.978818864178094,
          0.9651698193903632,
          0.993781099920674,
          0.9952436453196633,
          0.9937904265179746,
          0.9872286640667246,
          0.9797531822105008,
          0.9897210065680508,
          0.951396658943821,
          0.9952076637329444,
          0.9864241836673158,
          0.9944122022057174,
          0.9906249776878552,
          0.9649143218325148,
          0.8880422239000245,
          0.9782695741626676,
          0.9901044160804766,
          0.9927335914728396,
          0.996416138634536,
          0.997544480603514,
          0.9509403910922848,
          0.9250974897285844,
          0.952141083791769,
          0.9771228654171228,
          0.9756755953247128,
          0.9871885937842296,
          0.9856711654460572,
          0.9865313482258276,
          0.9897963992154488,
          0.9719257913125248,
          0.9920097030447274,
          0.988435784685441,
          0.9875418391987106,
          0.9880966155492252,
          0.9882470731432488,
          0.991463925150114,
          0.9824987371127106,
          0.9946319756498236,
          0.9912113854717658,
          0.9961642867921549,
          0.99314677232203,
          0.994869778915367,
          0.9920396005970048,
          0.98586648861869,
          0.992689686455804,
          0.9925009005946992,
          0.982533612541512,
          0.9965853116890766,
          0.9936722719774242,
          0.9881702078630452,
          0.983213276473916,
          0.997233156313883,
          0.9968609628459016,
          0.9938773396651596,
          0.9691635024198308,
          0.9916569636351392,
          0.987808284792804,
          0.9649442594280748,
          0.9920532161121706,
          0.9787371702930812,
          0.9955535703537344,
          0.991657082485398,
          0.994548437687538,
          0.9918023549800116,
          0.9575917857672762,
          0.9952749150448752,
          0.9981796020073072,
          0.9971261169791484,
          0.9887847449929608,
          0.9915037265781044,
          0.9914738135205672,
          0.9614316132571196,
          0.9974980954643924,
          0.9970959693896456,
          0.993554326212063,
          0.992987124184561,
          0.9870672042820392,
          0.9923649019113022,
          0.9490822655945818,
          0.9937540595091148,
          0.9935973116607082,
          0.9975095664966735,
          0.9972963988460376,
          0.9955838854638565,
          0.9941753751562324,
          0.9654576249262776,
          0.9849033790172724,
          0.9837670663460328,
          0.9786826955894612,
          0.9794569410051612,
          0.994331329547773,
          0.992142309632225,
          0.9836292805183672,
          0.9953772211750516,
          0.9906515116014282,
          0.9927426581631166,
          0.9933962152459742,
          0.985753804977176,
          0.9772840875601704,
          0.9697534511501956,
          0.9840889762735482,
          0.9782809688009858,
          0.9904569195564908,
          0.9953460344350852,
          0.989770791895057,
          0.9802137221097248,
          0.9908906097304256,
          0.9982717153334264,
          0.9971365540102992,
          0.993290051704955,
          0.9940911474338876,
          0.9829376451866656,
          0.9905111210462934,
          0.9748512140262428,
          0.9852392165247053,
          0.9781160497766612,
          0.9552882740056332,
          0.9832490098479976,
          0.9889773994955168,
          0.9880763514704756,
          0.9787683652743664,
          0.988094156830974,
          0.9878957969448124,
          0.9794032529371756,
          0.9904713912474769,
          0.973168997993102,
          0.9869904327702234,
          0.9602545493541154,
          0.9894682485129832,
          0.9956498134936328,
          0.9935563091380905,
          0.9883860486589396,
          0.9939540144968646,
          0.9926258604718574,
          0.9926204469722568,
          0.9910624032714922,
          0.9929549719562968,
          0.994822519538835,
          0.9981663069525772,
          0.9899649671737848
         ],
         "yaxis": "y"
        }
       ],
       "layout": {
        "legend": {
         "tracegroupgap": 0
        },
        "template": {
         "data": {
          "bar": [
           {
            "error_x": {
             "color": "#2a3f5f"
            },
            "error_y": {
             "color": "#2a3f5f"
            },
            "marker": {
             "line": {
              "color": "#E5ECF6",
              "width": 0.5
             },
             "pattern": {
              "fillmode": "overlay",
              "size": 10,
              "solidity": 0.2
             }
            },
            "type": "bar"
           }
          ],
          "barpolar": [
           {
            "marker": {
             "line": {
              "color": "#E5ECF6",
              "width": 0.5
             },
             "pattern": {
              "fillmode": "overlay",
              "size": 10,
              "solidity": 0.2
             }
            },
            "type": "barpolar"
           }
          ],
          "carpet": [
           {
            "aaxis": {
             "endlinecolor": "#2a3f5f",
             "gridcolor": "white",
             "linecolor": "white",
             "minorgridcolor": "white",
             "startlinecolor": "#2a3f5f"
            },
            "baxis": {
             "endlinecolor": "#2a3f5f",
             "gridcolor": "white",
             "linecolor": "white",
             "minorgridcolor": "white",
             "startlinecolor": "#2a3f5f"
            },
            "type": "carpet"
           }
          ],
          "choropleth": [
           {
            "colorbar": {
             "outlinewidth": 0,
             "ticks": ""
            },
            "type": "choropleth"
           }
          ],
          "contour": [
           {
            "colorbar": {
             "outlinewidth": 0,
             "ticks": ""
            },
            "colorscale": [
             [
              0,
              "#0d0887"
             ],
             [
              0.1111111111111111,
              "#46039f"
             ],
             [
              0.2222222222222222,
              "#7201a8"
             ],
             [
              0.3333333333333333,
              "#9c179e"
             ],
             [
              0.4444444444444444,
              "#bd3786"
             ],
             [
              0.5555555555555556,
              "#d8576b"
             ],
             [
              0.6666666666666666,
              "#ed7953"
             ],
             [
              0.7777777777777778,
              "#fb9f3a"
             ],
             [
              0.8888888888888888,
              "#fdca26"
             ],
             [
              1,
              "#f0f921"
             ]
            ],
            "type": "contour"
           }
          ],
          "contourcarpet": [
           {
            "colorbar": {
             "outlinewidth": 0,
             "ticks": ""
            },
            "type": "contourcarpet"
           }
          ],
          "heatmap": [
           {
            "colorbar": {
             "outlinewidth": 0,
             "ticks": ""
            },
            "colorscale": [
             [
              0,
              "#0d0887"
             ],
             [
              0.1111111111111111,
              "#46039f"
             ],
             [
              0.2222222222222222,
              "#7201a8"
             ],
             [
              0.3333333333333333,
              "#9c179e"
             ],
             [
              0.4444444444444444,
              "#bd3786"
             ],
             [
              0.5555555555555556,
              "#d8576b"
             ],
             [
              0.6666666666666666,
              "#ed7953"
             ],
             [
              0.7777777777777778,
              "#fb9f3a"
             ],
             [
              0.8888888888888888,
              "#fdca26"
             ],
             [
              1,
              "#f0f921"
             ]
            ],
            "type": "heatmap"
           }
          ],
          "heatmapgl": [
           {
            "colorbar": {
             "outlinewidth": 0,
             "ticks": ""
            },
            "colorscale": [
             [
              0,
              "#0d0887"
             ],
             [
              0.1111111111111111,
              "#46039f"
             ],
             [
              0.2222222222222222,
              "#7201a8"
             ],
             [
              0.3333333333333333,
              "#9c179e"
             ],
             [
              0.4444444444444444,
              "#bd3786"
             ],
             [
              0.5555555555555556,
              "#d8576b"
             ],
             [
              0.6666666666666666,
              "#ed7953"
             ],
             [
              0.7777777777777778,
              "#fb9f3a"
             ],
             [
              0.8888888888888888,
              "#fdca26"
             ],
             [
              1,
              "#f0f921"
             ]
            ],
            "type": "heatmapgl"
           }
          ],
          "histogram": [
           {
            "marker": {
             "pattern": {
              "fillmode": "overlay",
              "size": 10,
              "solidity": 0.2
             }
            },
            "type": "histogram"
           }
          ],
          "histogram2d": [
           {
            "colorbar": {
             "outlinewidth": 0,
             "ticks": ""
            },
            "colorscale": [
             [
              0,
              "#0d0887"
             ],
             [
              0.1111111111111111,
              "#46039f"
             ],
             [
              0.2222222222222222,
              "#7201a8"
             ],
             [
              0.3333333333333333,
              "#9c179e"
             ],
             [
              0.4444444444444444,
              "#bd3786"
             ],
             [
              0.5555555555555556,
              "#d8576b"
             ],
             [
              0.6666666666666666,
              "#ed7953"
             ],
             [
              0.7777777777777778,
              "#fb9f3a"
             ],
             [
              0.8888888888888888,
              "#fdca26"
             ],
             [
              1,
              "#f0f921"
             ]
            ],
            "type": "histogram2d"
           }
          ],
          "histogram2dcontour": [
           {
            "colorbar": {
             "outlinewidth": 0,
             "ticks": ""
            },
            "colorscale": [
             [
              0,
              "#0d0887"
             ],
             [
              0.1111111111111111,
              "#46039f"
             ],
             [
              0.2222222222222222,
              "#7201a8"
             ],
             [
              0.3333333333333333,
              "#9c179e"
             ],
             [
              0.4444444444444444,
              "#bd3786"
             ],
             [
              0.5555555555555556,
              "#d8576b"
             ],
             [
              0.6666666666666666,
              "#ed7953"
             ],
             [
              0.7777777777777778,
              "#fb9f3a"
             ],
             [
              0.8888888888888888,
              "#fdca26"
             ],
             [
              1,
              "#f0f921"
             ]
            ],
            "type": "histogram2dcontour"
           }
          ],
          "mesh3d": [
           {
            "colorbar": {
             "outlinewidth": 0,
             "ticks": ""
            },
            "type": "mesh3d"
           }
          ],
          "parcoords": [
           {
            "line": {
             "colorbar": {
              "outlinewidth": 0,
              "ticks": ""
             }
            },
            "type": "parcoords"
           }
          ],
          "pie": [
           {
            "automargin": true,
            "type": "pie"
           }
          ],
          "scatter": [
           {
            "fillpattern": {
             "fillmode": "overlay",
             "size": 10,
             "solidity": 0.2
            },
            "type": "scatter"
           }
          ],
          "scatter3d": [
           {
            "line": {
             "colorbar": {
              "outlinewidth": 0,
              "ticks": ""
             }
            },
            "marker": {
             "colorbar": {
              "outlinewidth": 0,
              "ticks": ""
             }
            },
            "type": "scatter3d"
           }
          ],
          "scattercarpet": [
           {
            "marker": {
             "colorbar": {
              "outlinewidth": 0,
              "ticks": ""
             }
            },
            "type": "scattercarpet"
           }
          ],
          "scattergeo": [
           {
            "marker": {
             "colorbar": {
              "outlinewidth": 0,
              "ticks": ""
             }
            },
            "type": "scattergeo"
           }
          ],
          "scattergl": [
           {
            "marker": {
             "colorbar": {
              "outlinewidth": 0,
              "ticks": ""
             }
            },
            "type": "scattergl"
           }
          ],
          "scattermapbox": [
           {
            "marker": {
             "colorbar": {
              "outlinewidth": 0,
              "ticks": ""
             }
            },
            "type": "scattermapbox"
           }
          ],
          "scatterpolar": [
           {
            "marker": {
             "colorbar": {
              "outlinewidth": 0,
              "ticks": ""
             }
            },
            "type": "scatterpolar"
           }
          ],
          "scatterpolargl": [
           {
            "marker": {
             "colorbar": {
              "outlinewidth": 0,
              "ticks": ""
             }
            },
            "type": "scatterpolargl"
           }
          ],
          "scatterternary": [
           {
            "marker": {
             "colorbar": {
              "outlinewidth": 0,
              "ticks": ""
             }
            },
            "type": "scatterternary"
           }
          ],
          "surface": [
           {
            "colorbar": {
             "outlinewidth": 0,
             "ticks": ""
            },
            "colorscale": [
             [
              0,
              "#0d0887"
             ],
             [
              0.1111111111111111,
              "#46039f"
             ],
             [
              0.2222222222222222,
              "#7201a8"
             ],
             [
              0.3333333333333333,
              "#9c179e"
             ],
             [
              0.4444444444444444,
              "#bd3786"
             ],
             [
              0.5555555555555556,
              "#d8576b"
             ],
             [
              0.6666666666666666,
              "#ed7953"
             ],
             [
              0.7777777777777778,
              "#fb9f3a"
             ],
             [
              0.8888888888888888,
              "#fdca26"
             ],
             [
              1,
              "#f0f921"
             ]
            ],
            "type": "surface"
           }
          ],
          "table": [
           {
            "cells": {
             "fill": {
              "color": "#EBF0F8"
             },
             "line": {
              "color": "white"
             }
            },
            "header": {
             "fill": {
              "color": "#C8D4E3"
             },
             "line": {
              "color": "white"
             }
            },
            "type": "table"
           }
          ]
         },
         "layout": {
          "annotationdefaults": {
           "arrowcolor": "#2a3f5f",
           "arrowhead": 0,
           "arrowwidth": 1
          },
          "autotypenumbers": "strict",
          "coloraxis": {
           "colorbar": {
            "outlinewidth": 0,
            "ticks": ""
           }
          },
          "colorscale": {
           "diverging": [
            [
             0,
             "#8e0152"
            ],
            [
             0.1,
             "#c51b7d"
            ],
            [
             0.2,
             "#de77ae"
            ],
            [
             0.3,
             "#f1b6da"
            ],
            [
             0.4,
             "#fde0ef"
            ],
            [
             0.5,
             "#f7f7f7"
            ],
            [
             0.6,
             "#e6f5d0"
            ],
            [
             0.7,
             "#b8e186"
            ],
            [
             0.8,
             "#7fbc41"
            ],
            [
             0.9,
             "#4d9221"
            ],
            [
             1,
             "#276419"
            ]
           ],
           "sequential": [
            [
             0,
             "#0d0887"
            ],
            [
             0.1111111111111111,
             "#46039f"
            ],
            [
             0.2222222222222222,
             "#7201a8"
            ],
            [
             0.3333333333333333,
             "#9c179e"
            ],
            [
             0.4444444444444444,
             "#bd3786"
            ],
            [
             0.5555555555555556,
             "#d8576b"
            ],
            [
             0.6666666666666666,
             "#ed7953"
            ],
            [
             0.7777777777777778,
             "#fb9f3a"
            ],
            [
             0.8888888888888888,
             "#fdca26"
            ],
            [
             1,
             "#f0f921"
            ]
           ],
           "sequentialminus": [
            [
             0,
             "#0d0887"
            ],
            [
             0.1111111111111111,
             "#46039f"
            ],
            [
             0.2222222222222222,
             "#7201a8"
            ],
            [
             0.3333333333333333,
             "#9c179e"
            ],
            [
             0.4444444444444444,
             "#bd3786"
            ],
            [
             0.5555555555555556,
             "#d8576b"
            ],
            [
             0.6666666666666666,
             "#ed7953"
            ],
            [
             0.7777777777777778,
             "#fb9f3a"
            ],
            [
             0.8888888888888888,
             "#fdca26"
            ],
            [
             1,
             "#f0f921"
            ]
           ]
          },
          "colorway": [
           "#636efa",
           "#EF553B",
           "#00cc96",
           "#ab63fa",
           "#FFA15A",
           "#19d3f3",
           "#FF6692",
           "#B6E880",
           "#FF97FF",
           "#FECB52"
          ],
          "font": {
           "color": "#2a3f5f"
          },
          "geo": {
           "bgcolor": "white",
           "lakecolor": "white",
           "landcolor": "#E5ECF6",
           "showlakes": true,
           "showland": true,
           "subunitcolor": "white"
          },
          "hoverlabel": {
           "align": "left"
          },
          "hovermode": "closest",
          "mapbox": {
           "style": "light"
          },
          "paper_bgcolor": "white",
          "plot_bgcolor": "#E5ECF6",
          "polar": {
           "angularaxis": {
            "gridcolor": "white",
            "linecolor": "white",
            "ticks": ""
           },
           "bgcolor": "#E5ECF6",
           "radialaxis": {
            "gridcolor": "white",
            "linecolor": "white",
            "ticks": ""
           }
          },
          "scene": {
           "xaxis": {
            "backgroundcolor": "#E5ECF6",
            "gridcolor": "white",
            "gridwidth": 2,
            "linecolor": "white",
            "showbackground": true,
            "ticks": "",
            "zerolinecolor": "white"
           },
           "yaxis": {
            "backgroundcolor": "#E5ECF6",
            "gridcolor": "white",
            "gridwidth": 2,
            "linecolor": "white",
            "showbackground": true,
            "ticks": "",
            "zerolinecolor": "white"
           },
           "zaxis": {
            "backgroundcolor": "#E5ECF6",
            "gridcolor": "white",
            "gridwidth": 2,
            "linecolor": "white",
            "showbackground": true,
            "ticks": "",
            "zerolinecolor": "white"
           }
          },
          "shapedefaults": {
           "line": {
            "color": "#2a3f5f"
           }
          },
          "ternary": {
           "aaxis": {
            "gridcolor": "white",
            "linecolor": "white",
            "ticks": ""
           },
           "baxis": {
            "gridcolor": "white",
            "linecolor": "white",
            "ticks": ""
           },
           "bgcolor": "#E5ECF6",
           "caxis": {
            "gridcolor": "white",
            "linecolor": "white",
            "ticks": ""
           }
          },
          "title": {
           "x": 0.05
          },
          "xaxis": {
           "automargin": true,
           "gridcolor": "white",
           "linecolor": "white",
           "ticks": "",
           "title": {
            "standoff": 15
           },
           "zerolinecolor": "white",
           "zerolinewidth": 2
          },
          "yaxis": {
           "automargin": true,
           "gridcolor": "white",
           "linecolor": "white",
           "ticks": "",
           "title": {
            "standoff": 15
           },
           "zerolinecolor": "white",
           "zerolinewidth": 2
          }
         }
        },
        "title": {
         "text": "R2 Score Pronostico Redes Neuronales Encoders"
        },
        "xaxis": {
         "anchor": "y",
         "domain": [
          0,
          1
         ],
         "title": {
          "text": "FECHA-HORA"
         }
        },
        "yaxis": {
         "anchor": "x",
         "domain": [
          0,
          1
         ],
         "title": {
          "text": "R2"
         }
        }
       }
      },
      "text/html": [
       "<div>                            <div id=\"f636d8f2-a93d-48db-a938-163f24b2224c\" class=\"plotly-graph-div\" style=\"height:525px; width:100%;\"></div>            <script type=\"text/javascript\">                require([\"plotly\"], function(Plotly) {                    window.PLOTLYENV=window.PLOTLYENV || {};                                    if (document.getElementById(\"f636d8f2-a93d-48db-a938-163f24b2224c\")) {                    Plotly.newPlot(                        \"f636d8f2-a93d-48db-a938-163f24b2224c\",                        [{\"hovertemplate\":\"FECHA-HORA=%{x}<br>R2=%{y}<extra></extra>\",\"legendgroup\":\"\",\"line\":{\"color\":\"#636efa\",\"dash\":\"solid\"},\"marker\":{\"symbol\":\"circle\"},\"mode\":\"lines\",\"name\":\"\",\"orientation\":\"v\",\"showlegend\":false,\"x\":[\"2021-05-08 23:00:00\",\"2021-05-09 23:00:00\",\"2021-05-10 23:00:00\",\"2021-05-11 23:00:00\",\"2021-05-12 23:00:00\",\"2021-05-13 23:00:00\",\"2021-05-14 23:00:00\",\"2021-05-15 23:00:00\",\"2021-05-16 23:00:00\",\"2021-05-17 23:00:00\",\"2021-05-18 23:00:00\",\"2021-05-19 23:00:00\",\"2021-05-20 23:00:00\",\"2021-05-21 23:00:00\",\"2021-05-22 23:00:00\",\"2021-05-23 23:00:00\",\"2021-05-24 23:00:00\",\"2021-05-25 23:00:00\",\"2021-05-26 23:00:00\",\"2021-05-27 23:00:00\",\"2021-05-28 23:00:00\",\"2021-05-29 23:00:00\",\"2021-05-30 23:00:00\",\"2021-05-31 23:00:00\",\"2021-06-01 23:00:00\",\"2021-06-02 23:00:00\",\"2021-06-03 23:00:00\",\"2021-06-04 23:00:00\",\"2021-06-05 23:00:00\",\"2021-06-06 23:00:00\",\"2021-06-07 23:00:00\",\"2021-06-08 23:00:00\",\"2021-06-09 23:00:00\",\"2021-06-10 23:00:00\",\"2021-06-11 23:00:00\",\"2021-06-12 23:00:00\",\"2021-06-13 23:00:00\",\"2021-06-14 23:00:00\",\"2021-06-15 23:00:00\",\"2021-06-16 23:00:00\",\"2021-06-17 23:00:00\",\"2021-06-18 23:00:00\",\"2021-06-19 23:00:00\",\"2021-06-20 23:00:00\",\"2021-06-21 23:00:00\",\"2021-06-22 23:00:00\",\"2021-06-23 23:00:00\",\"2021-06-24 23:00:00\",\"2021-06-25 23:00:00\",\"2021-06-26 23:00:00\",\"2021-06-27 23:00:00\",\"2021-06-28 23:00:00\",\"2021-06-29 23:00:00\",\"2021-06-30 23:00:00\",\"2021-07-01 23:00:00\",\"2021-07-02 23:00:00\",\"2021-07-03 23:00:00\",\"2021-07-04 23:00:00\",\"2021-07-05 23:00:00\",\"2021-07-06 23:00:00\",\"2021-07-07 23:00:00\",\"2021-07-08 23:00:00\",\"2021-07-09 23:00:00\",\"2021-07-10 23:00:00\",\"2021-07-11 23:00:00\",\"2021-07-12 23:00:00\",\"2021-07-13 23:00:00\",\"2021-07-14 23:00:00\",\"2021-07-15 23:00:00\",\"2021-07-16 23:00:00\",\"2021-07-17 23:00:00\",\"2021-07-18 23:00:00\",\"2021-07-19 23:00:00\",\"2021-07-20 23:00:00\",\"2021-07-21 23:00:00\",\"2021-07-22 23:00:00\",\"2021-07-23 23:00:00\",\"2021-07-24 23:00:00\",\"2021-07-25 23:00:00\",\"2021-07-26 23:00:00\",\"2021-07-27 23:00:00\",\"2021-07-28 23:00:00\",\"2021-07-29 23:00:00\",\"2021-07-30 23:00:00\",\"2021-07-31 23:00:00\",\"2021-08-01 23:00:00\",\"2021-08-02 23:00:00\",\"2021-08-03 23:00:00\",\"2021-08-04 23:00:00\",\"2021-08-05 23:00:00\",\"2021-08-06 23:00:00\",\"2021-08-07 23:00:00\",\"2021-08-08 23:00:00\",\"2021-08-09 23:00:00\",\"2021-08-10 23:00:00\",\"2021-08-11 23:00:00\",\"2021-08-12 23:00:00\",\"2021-08-13 23:00:00\",\"2021-08-14 23:00:00\",\"2021-08-15 23:00:00\",\"2021-08-16 23:00:00\",\"2021-08-17 23:00:00\",\"2021-08-18 23:00:00\",\"2021-08-19 23:00:00\",\"2021-08-20 23:00:00\",\"2021-08-21 23:00:00\",\"2021-08-22 23:00:00\",\"2021-08-23 23:00:00\",\"2021-08-24 23:00:00\",\"2021-08-25 23:00:00\",\"2021-08-26 23:00:00\",\"2021-08-27 23:00:00\",\"2021-08-28 23:00:00\",\"2021-08-29 23:00:00\",\"2021-08-30 23:00:00\",\"2021-08-31 23:00:00\",\"2021-09-01 23:00:00\",\"2021-09-02 23:00:00\",\"2021-09-03 23:00:00\",\"2021-09-04 23:00:00\",\"2021-09-05 23:00:00\",\"2021-09-06 23:00:00\",\"2021-09-07 23:00:00\",\"2021-09-08 23:00:00\",\"2021-09-09 23:00:00\",\"2021-09-10 23:00:00\",\"2021-09-11 23:00:00\",\"2021-09-12 23:00:00\",\"2021-09-13 23:00:00\",\"2021-09-14 23:00:00\",\"2021-09-15 23:00:00\",\"2021-09-16 23:00:00\",\"2021-09-17 23:00:00\",\"2021-09-18 23:00:00\",\"2021-09-19 23:00:00\",\"2021-09-20 23:00:00\",\"2021-09-21 23:00:00\",\"2021-09-22 23:00:00\",\"2021-09-23 23:00:00\",\"2021-09-24 23:00:00\",\"2021-09-25 23:00:00\",\"2021-09-26 23:00:00\",\"2021-09-27 23:00:00\",\"2021-09-28 23:00:00\",\"2021-09-29 23:00:00\",\"2021-09-30 23:00:00\",\"2021-10-01 23:00:00\",\"2021-10-02 23:00:00\",\"2021-10-03 23:00:00\",\"2021-10-04 23:00:00\",\"2021-10-05 23:00:00\",\"2021-10-06 23:00:00\",\"2021-10-07 23:00:00\",\"2021-10-08 23:00:00\",\"2021-10-09 23:00:00\",\"2021-10-10 23:00:00\",\"2021-10-11 23:00:00\",\"2021-10-12 23:00:00\",\"2021-10-13 23:00:00\",\"2021-10-14 23:00:00\",\"2021-10-15 23:00:00\",\"2021-10-16 23:00:00\",\"2021-10-17 23:00:00\",\"2021-10-18 23:00:00\",\"2021-10-19 23:00:00\",\"2021-10-20 23:00:00\",\"2021-10-21 23:00:00\",\"2021-10-22 23:00:00\",\"2021-10-23 23:00:00\",\"2021-10-24 23:00:00\",\"2021-10-25 23:00:00\",\"2021-10-26 23:00:00\",\"2021-10-27 23:00:00\",\"2021-10-28 23:00:00\",\"2021-10-29 23:00:00\",\"2021-10-30 23:00:00\",\"2021-10-31 23:00:00\",\"2021-11-01 23:00:00\",\"2021-11-02 23:00:00\",\"2021-11-03 23:00:00\",\"2021-11-04 23:00:00\",\"2021-11-05 23:00:00\",\"2021-11-06 23:00:00\",\"2021-11-07 23:00:00\",\"2021-11-08 23:00:00\",\"2021-11-09 23:00:00\",\"2021-11-10 23:00:00\",\"2021-11-11 23:00:00\",\"2021-11-12 23:00:00\",\"2021-11-13 23:00:00\",\"2021-11-14 23:00:00\",\"2021-11-15 23:00:00\",\"2021-11-16 23:00:00\",\"2021-11-17 23:00:00\",\"2021-11-18 23:00:00\",\"2021-11-19 23:00:00\",\"2021-11-20 23:00:00\",\"2021-11-21 23:00:00\",\"2021-11-22 23:00:00\",\"2021-11-23 23:00:00\",\"2021-11-24 23:00:00\",\"2021-11-25 23:00:00\",\"2021-11-26 23:00:00\",\"2021-11-27 23:00:00\",\"2021-11-28 23:00:00\",\"2021-11-29 23:00:00\",\"2021-11-30 23:00:00\",\"2021-12-01 23:00:00\",\"2021-12-02 23:00:00\",\"2021-12-03 23:00:00\",\"2021-12-04 23:00:00\",\"2021-12-05 23:00:00\",\"2021-12-06 23:00:00\",\"2021-12-07 23:00:00\",\"2021-12-08 23:00:00\",\"2021-12-09 23:00:00\",\"2021-12-10 23:00:00\",\"2021-12-11 23:00:00\",\"2021-12-12 23:00:00\",\"2021-12-13 23:00:00\",\"2021-12-14 23:00:00\",\"2021-12-15 23:00:00\",\"2021-12-16 23:00:00\",\"2021-12-17 23:00:00\",\"2021-12-18 23:00:00\",\"2021-12-19 23:00:00\",\"2021-12-20 23:00:00\",\"2021-12-21 23:00:00\",\"2021-12-22 23:00:00\",\"2021-12-23 23:00:00\",\"2021-12-24 23:00:00\",\"2021-12-25 23:00:00\",\"2021-12-26 23:00:00\",\"2021-12-27 23:00:00\",\"2021-12-28 23:00:00\",\"2021-12-29 23:00:00\",\"2021-12-30 23:00:00\",\"2021-12-31 23:00:00\",\"2022-01-01 23:00:00\",\"2022-01-02 23:00:00\",\"2022-01-03 23:00:00\",\"2022-01-04 23:00:00\",\"2022-01-05 23:00:00\",\"2022-01-06 23:00:00\",\"2022-01-07 23:00:00\",\"2022-01-08 23:00:00\",\"2022-01-09 23:00:00\",\"2022-01-10 23:00:00\",\"2022-01-11 23:00:00\",\"2022-01-12 23:00:00\",\"2022-01-13 23:00:00\",\"2022-01-14 23:00:00\",\"2022-01-15 23:00:00\",\"2022-01-16 23:00:00\",\"2022-01-17 23:00:00\",\"2022-01-18 23:00:00\",\"2022-01-19 23:00:00\",\"2022-01-20 23:00:00\",\"2022-01-21 23:00:00\",\"2022-01-22 23:00:00\",\"2022-01-23 23:00:00\",\"2022-01-24 23:00:00\",\"2022-01-25 23:00:00\",\"2022-01-26 23:00:00\",\"2022-01-27 23:00:00\",\"2022-01-28 23:00:00\",\"2022-01-29 23:00:00\",\"2022-01-30 23:00:00\",\"2022-01-31 23:00:00\",\"2022-02-01 23:00:00\",\"2022-02-02 23:00:00\",\"2022-02-03 23:00:00\",\"2022-02-04 23:00:00\",\"2022-02-05 23:00:00\",\"2022-02-06 23:00:00\",\"2022-02-07 23:00:00\",\"2022-02-08 23:00:00\",\"2022-02-09 23:00:00\",\"2022-02-10 23:00:00\",\"2022-02-11 23:00:00\",\"2022-02-12 23:00:00\",\"2022-02-13 23:00:00\",\"2022-02-14 23:00:00\",\"2022-02-15 23:00:00\",\"2022-02-16 23:00:00\",\"2022-02-17 23:00:00\",\"2022-02-18 23:00:00\",\"2022-02-19 23:00:00\",\"2022-02-20 23:00:00\",\"2022-02-21 23:00:00\",\"2022-02-22 23:00:00\",\"2022-02-23 23:00:00\",\"2022-02-24 23:00:00\",\"2022-02-25 23:00:00\",\"2022-02-26 23:00:00\",\"2022-02-27 23:00:00\",\"2022-02-28 23:00:00\",\"2022-03-01 23:00:00\",\"2022-03-02 23:00:00\",\"2022-03-03 23:00:00\",\"2022-03-04 23:00:00\",\"2022-03-05 23:00:00\",\"2022-03-06 23:00:00\",\"2022-03-07 23:00:00\",\"2022-03-08 23:00:00\",\"2022-03-09 23:00:00\",\"2022-03-10 23:00:00\",\"2022-03-11 23:00:00\",\"2022-03-12 23:00:00\",\"2022-03-13 23:00:00\",\"2022-03-14 23:00:00\",\"2022-03-15 23:00:00\",\"2022-03-16 23:00:00\",\"2022-03-17 23:00:00\",\"2022-03-18 23:00:00\",\"2022-03-19 23:00:00\",\"2022-03-20 23:00:00\",\"2022-03-21 23:00:00\",\"2022-03-22 23:00:00\",\"2022-03-23 23:00:00\",\"2022-03-24 23:00:00\",\"2022-03-25 23:00:00\",\"2022-03-26 23:00:00\",\"2022-03-27 23:00:00\",\"2022-03-28 23:00:00\",\"2022-03-29 23:00:00\",\"2022-03-30 23:00:00\",\"2022-03-31 23:00:00\",\"2022-04-01 23:00:00\",\"2022-04-02 23:00:00\",\"2022-04-03 23:00:00\",\"2022-04-04 23:00:00\",\"2022-04-05 23:00:00\",\"2022-04-06 23:00:00\",\"2022-04-07 23:00:00\",\"2022-04-08 23:00:00\",\"2022-04-09 23:00:00\",\"2022-04-10 23:00:00\",\"2022-04-11 23:00:00\",\"2022-04-12 23:00:00\",\"2022-04-13 23:00:00\",\"2022-04-14 23:00:00\",\"2022-04-15 23:00:00\",\"2022-04-16 23:00:00\",\"2022-04-17 23:00:00\",\"2022-04-18 23:00:00\",\"2022-04-19 23:00:00\",\"2022-04-20 23:00:00\",\"2022-04-21 23:00:00\",\"2022-04-22 23:00:00\",\"2022-04-23 23:00:00\",\"2022-04-24 23:00:00\",\"2022-04-25 23:00:00\",\"2022-04-26 23:00:00\",\"2022-04-27 23:00:00\",\"2022-04-28 23:00:00\",\"2022-04-29 23:00:00\"],\"xaxis\":\"x\",\"y\":[0.9950699206931763,0.9953064243316592,0.9803758560326914,0.969687839823834,0.9948357831239238,0.9928219987586664,0.9927594674062198,0.9879243524807954,0.9973212370592158,0.9890328875485622,0.989515695330778,0.9925651855871696,0.9925789568206208,0.9769713851520287,0.9848836419993012,0.9916018234628852,0.9938562736634162,0.9935086419012814,0.9915625425954516,0.9943018208382796,0.99130008107712,0.9974757965094104,0.9981321064547632,0.9716446084808666,0.9961678081550034,0.9909270191177596,0.9978362978396976,0.9958526722639932,0.99618061251863,0.989847128977338,0.9936631757455584,0.9960201495841302,0.9936674498265632,0.996086005795534,0.9941362497279576,0.9941349518013128,0.9977943270387284,0.9899241552998966,0.9944802140201806,0.9883563564166326,0.9945912933044566,0.9621204028146838,0.961131973694962,0.7969356202564317,0.984932719384084,0.9853027178828054,0.9961224484216896,0.9982681576442493,0.9947425667322102,0.9889439285154136,0.9644608007477796,0.9916832848767648,0.938733362397956,0.9966109595363984,0.9914688260203756,0.9945585639564588,0.8239153328402232,0.9904871913052132,0.9488085267335276,0.9913835901927032,0.982759615451559,0.9604592974677798,0.9907449131318764,0.9936843613637591,0.9810168670309136,0.9906197629487212,0.9863385779574414,0.9959892623652872,0.9954877915097804,0.9896195154020896,0.98060358845296,0.9675517848544534,0.9853215383652052,0.9477142278905648,0.949734959804778,0.9784708681008678,0.9841111603910472,0.9222473124710008,0.9533269921030592,0.9423405926747068,0.9878495378160734,0.9845814299291232,0.9622405327415742,0.9893616628162776,0.9470079549902104,0.9690578717119886,0.9745488160667378,0.9447260089564932,0.9572251052069536,0.9821230019803332,0.9920864288519666,0.9920138692288584,0.9801156287063018,0.9842440030505486,0.9816165582383068,0.9932835977538323,0.8639869519029885,0.9527323372580976,0.9737621879064398,0.9744593272299544,0.9806176904476528,0.9826286737188644,0.9842232940958976,0.9975075185719804,0.984607119183354,0.9792251619721372,0.9727159320078506,0.9662920539071864,0.9939819738336308,0.9863806629877344,0.9041786494947388,0.8682549937774328,0.9847948584354288,0.9579699822217436,0.8878581107307782,0.9651279199429574,0.9901439643173982,0.9828139448696788,0.951524390575082,0.9785082976006436,0.9677475909674564,0.9892869831641397,0.9945772281427306,0.9815029908415258,0.9937531327543804,0.9939835284279152,0.9636748998405444,0.980796809605752,0.989772167655173,0.9841021959755428,0.9893304654738032,0.9803198599959086,0.9804213049140278,0.984991609028936,0.9812087835842188,0.9898692303383336,0.9636792923631736,0.9972743663186056,0.945251844192089,0.9932869371009444,0.945523445214204,0.9812167992604782,0.9876263280067928,0.9937662965102256,0.9884360252799892,0.9982270957905708,0.996387306947886,0.9883711884317188,0.98097215639561,0.98421130996741,0.998556399265508,0.9938383413973916,0.9951297929027284,0.987297550424962,0.9943476176950294,0.9810363380998506,0.9845408473088686,0.6008113682914552,0.978058832927659,0.992905788331507,0.9921720525889776,0.9870842629050646,0.9954280701721344,0.9825516824230314,0.9974386599804528,0.9961077980927594,0.9922727541272832,0.9887529203078564,0.9933153912358867,0.9860194854802978,0.982742828360706,0.9789675537194734,0.9865125027804648,0.9900725222319806,0.9904912556164184,0.9923056620825614,0.986535731477898,0.994052408472337,0.954874011543116,0.9912815902848428,0.9854672900793416,0.9937268986613974,0.9879568090410626,0.9819551995466144,0.9923316001075724,0.99414149763142,0.9910748401397708,0.9929115883675388,0.9951992073288676,0.988310542394156,0.9854742007120384,0.9344384196726726,0.9898782575342774,0.9914311446376768,0.9896963231555038,0.989964530541936,0.9913688973432336,0.9877021498715104,0.9951170014554516,0.9923214045803538,0.9969808472333418,0.9670722378491162,0.8675572342175568,0.960981996969753,0.9706246765728022,0.9876527573933984,0.987315751763074,0.9936269776374504,0.9933343125584506,0.9903144659988152,0.986186158155209,0.9908395359308316,0.9981593037020392,0.9944707006769844,0.9960799578149238,0.9940858334498374,0.9934527612661594,0.978818864178094,0.9651698193903632,0.993781099920674,0.9952436453196633,0.9937904265179746,0.9872286640667246,0.9797531822105008,0.9897210065680508,0.951396658943821,0.9952076637329444,0.9864241836673158,0.9944122022057174,0.9906249776878552,0.9649143218325148,0.8880422239000245,0.9782695741626676,0.9901044160804766,0.9927335914728396,0.996416138634536,0.997544480603514,0.9509403910922848,0.9250974897285844,0.952141083791769,0.9771228654171228,0.9756755953247128,0.9871885937842296,0.9856711654460572,0.9865313482258276,0.9897963992154488,0.9719257913125248,0.9920097030447274,0.988435784685441,0.9875418391987106,0.9880966155492252,0.9882470731432488,0.991463925150114,0.9824987371127106,0.9946319756498236,0.9912113854717658,0.9961642867921549,0.99314677232203,0.994869778915367,0.9920396005970048,0.98586648861869,0.992689686455804,0.9925009005946992,0.982533612541512,0.9965853116890766,0.9936722719774242,0.9881702078630452,0.983213276473916,0.997233156313883,0.9968609628459016,0.9938773396651596,0.9691635024198308,0.9916569636351392,0.987808284792804,0.9649442594280748,0.9920532161121706,0.9787371702930812,0.9955535703537344,0.991657082485398,0.994548437687538,0.9918023549800116,0.9575917857672762,0.9952749150448752,0.9981796020073072,0.9971261169791484,0.9887847449929608,0.9915037265781044,0.9914738135205672,0.9614316132571196,0.9974980954643924,0.9970959693896456,0.993554326212063,0.992987124184561,0.9870672042820392,0.9923649019113022,0.9490822655945818,0.9937540595091148,0.9935973116607082,0.9975095664966735,0.9972963988460376,0.9955838854638565,0.9941753751562324,0.9654576249262776,0.9849033790172724,0.9837670663460328,0.9786826955894612,0.9794569410051612,0.994331329547773,0.992142309632225,0.9836292805183672,0.9953772211750516,0.9906515116014282,0.9927426581631166,0.9933962152459742,0.985753804977176,0.9772840875601704,0.9697534511501956,0.9840889762735482,0.9782809688009858,0.9904569195564908,0.9953460344350852,0.989770791895057,0.9802137221097248,0.9908906097304256,0.9982717153334264,0.9971365540102992,0.993290051704955,0.9940911474338876,0.9829376451866656,0.9905111210462934,0.9748512140262428,0.9852392165247053,0.9781160497766612,0.9552882740056332,0.9832490098479976,0.9889773994955168,0.9880763514704756,0.9787683652743664,0.988094156830974,0.9878957969448124,0.9794032529371756,0.9904713912474769,0.973168997993102,0.9869904327702234,0.9602545493541154,0.9894682485129832,0.9956498134936328,0.9935563091380905,0.9883860486589396,0.9939540144968646,0.9926258604718574,0.9926204469722568,0.9910624032714922,0.9929549719562968,0.994822519538835,0.9981663069525772,0.9899649671737848],\"yaxis\":\"y\",\"type\":\"scatter\"}],                        {\"template\":{\"data\":{\"histogram2dcontour\":[{\"type\":\"histogram2dcontour\",\"colorbar\":{\"outlinewidth\":0,\"ticks\":\"\"},\"colorscale\":[[0.0,\"#0d0887\"],[0.1111111111111111,\"#46039f\"],[0.2222222222222222,\"#7201a8\"],[0.3333333333333333,\"#9c179e\"],[0.4444444444444444,\"#bd3786\"],[0.5555555555555556,\"#d8576b\"],[0.6666666666666666,\"#ed7953\"],[0.7777777777777778,\"#fb9f3a\"],[0.8888888888888888,\"#fdca26\"],[1.0,\"#f0f921\"]]}],\"choropleth\":[{\"type\":\"choropleth\",\"colorbar\":{\"outlinewidth\":0,\"ticks\":\"\"}}],\"histogram2d\":[{\"type\":\"histogram2d\",\"colorbar\":{\"outlinewidth\":0,\"ticks\":\"\"},\"colorscale\":[[0.0,\"#0d0887\"],[0.1111111111111111,\"#46039f\"],[0.2222222222222222,\"#7201a8\"],[0.3333333333333333,\"#9c179e\"],[0.4444444444444444,\"#bd3786\"],[0.5555555555555556,\"#d8576b\"],[0.6666666666666666,\"#ed7953\"],[0.7777777777777778,\"#fb9f3a\"],[0.8888888888888888,\"#fdca26\"],[1.0,\"#f0f921\"]]}],\"heatmap\":[{\"type\":\"heatmap\",\"colorbar\":{\"outlinewidth\":0,\"ticks\":\"\"},\"colorscale\":[[0.0,\"#0d0887\"],[0.1111111111111111,\"#46039f\"],[0.2222222222222222,\"#7201a8\"],[0.3333333333333333,\"#9c179e\"],[0.4444444444444444,\"#bd3786\"],[0.5555555555555556,\"#d8576b\"],[0.6666666666666666,\"#ed7953\"],[0.7777777777777778,\"#fb9f3a\"],[0.8888888888888888,\"#fdca26\"],[1.0,\"#f0f921\"]]}],\"heatmapgl\":[{\"type\":\"heatmapgl\",\"colorbar\":{\"outlinewidth\":0,\"ticks\":\"\"},\"colorscale\":[[0.0,\"#0d0887\"],[0.1111111111111111,\"#46039f\"],[0.2222222222222222,\"#7201a8\"],[0.3333333333333333,\"#9c179e\"],[0.4444444444444444,\"#bd3786\"],[0.5555555555555556,\"#d8576b\"],[0.6666666666666666,\"#ed7953\"],[0.7777777777777778,\"#fb9f3a\"],[0.8888888888888888,\"#fdca26\"],[1.0,\"#f0f921\"]]}],\"contourcarpet\":[{\"type\":\"contourcarpet\",\"colorbar\":{\"outlinewidth\":0,\"ticks\":\"\"}}],\"contour\":[{\"type\":\"contour\",\"colorbar\":{\"outlinewidth\":0,\"ticks\":\"\"},\"colorscale\":[[0.0,\"#0d0887\"],[0.1111111111111111,\"#46039f\"],[0.2222222222222222,\"#7201a8\"],[0.3333333333333333,\"#9c179e\"],[0.4444444444444444,\"#bd3786\"],[0.5555555555555556,\"#d8576b\"],[0.6666666666666666,\"#ed7953\"],[0.7777777777777778,\"#fb9f3a\"],[0.8888888888888888,\"#fdca26\"],[1.0,\"#f0f921\"]]}],\"surface\":[{\"type\":\"surface\",\"colorbar\":{\"outlinewidth\":0,\"ticks\":\"\"},\"colorscale\":[[0.0,\"#0d0887\"],[0.1111111111111111,\"#46039f\"],[0.2222222222222222,\"#7201a8\"],[0.3333333333333333,\"#9c179e\"],[0.4444444444444444,\"#bd3786\"],[0.5555555555555556,\"#d8576b\"],[0.6666666666666666,\"#ed7953\"],[0.7777777777777778,\"#fb9f3a\"],[0.8888888888888888,\"#fdca26\"],[1.0,\"#f0f921\"]]}],\"mesh3d\":[{\"type\":\"mesh3d\",\"colorbar\":{\"outlinewidth\":0,\"ticks\":\"\"}}],\"scatter\":[{\"fillpattern\":{\"fillmode\":\"overlay\",\"size\":10,\"solidity\":0.2},\"type\":\"scatter\"}],\"parcoords\":[{\"type\":\"parcoords\",\"line\":{\"colorbar\":{\"outlinewidth\":0,\"ticks\":\"\"}}}],\"scatterpolargl\":[{\"type\":\"scatterpolargl\",\"marker\":{\"colorbar\":{\"outlinewidth\":0,\"ticks\":\"\"}}}],\"bar\":[{\"error_x\":{\"color\":\"#2a3f5f\"},\"error_y\":{\"color\":\"#2a3f5f\"},\"marker\":{\"line\":{\"color\":\"#E5ECF6\",\"width\":0.5},\"pattern\":{\"fillmode\":\"overlay\",\"size\":10,\"solidity\":0.2}},\"type\":\"bar\"}],\"scattergeo\":[{\"type\":\"scattergeo\",\"marker\":{\"colorbar\":{\"outlinewidth\":0,\"ticks\":\"\"}}}],\"scatterpolar\":[{\"type\":\"scatterpolar\",\"marker\":{\"colorbar\":{\"outlinewidth\":0,\"ticks\":\"\"}}}],\"histogram\":[{\"marker\":{\"pattern\":{\"fillmode\":\"overlay\",\"size\":10,\"solidity\":0.2}},\"type\":\"histogram\"}],\"scattergl\":[{\"type\":\"scattergl\",\"marker\":{\"colorbar\":{\"outlinewidth\":0,\"ticks\":\"\"}}}],\"scatter3d\":[{\"type\":\"scatter3d\",\"line\":{\"colorbar\":{\"outlinewidth\":0,\"ticks\":\"\"}},\"marker\":{\"colorbar\":{\"outlinewidth\":0,\"ticks\":\"\"}}}],\"scattermapbox\":[{\"type\":\"scattermapbox\",\"marker\":{\"colorbar\":{\"outlinewidth\":0,\"ticks\":\"\"}}}],\"scatterternary\":[{\"type\":\"scatterternary\",\"marker\":{\"colorbar\":{\"outlinewidth\":0,\"ticks\":\"\"}}}],\"scattercarpet\":[{\"type\":\"scattercarpet\",\"marker\":{\"colorbar\":{\"outlinewidth\":0,\"ticks\":\"\"}}}],\"carpet\":[{\"aaxis\":{\"endlinecolor\":\"#2a3f5f\",\"gridcolor\":\"white\",\"linecolor\":\"white\",\"minorgridcolor\":\"white\",\"startlinecolor\":\"#2a3f5f\"},\"baxis\":{\"endlinecolor\":\"#2a3f5f\",\"gridcolor\":\"white\",\"linecolor\":\"white\",\"minorgridcolor\":\"white\",\"startlinecolor\":\"#2a3f5f\"},\"type\":\"carpet\"}],\"table\":[{\"cells\":{\"fill\":{\"color\":\"#EBF0F8\"},\"line\":{\"color\":\"white\"}},\"header\":{\"fill\":{\"color\":\"#C8D4E3\"},\"line\":{\"color\":\"white\"}},\"type\":\"table\"}],\"barpolar\":[{\"marker\":{\"line\":{\"color\":\"#E5ECF6\",\"width\":0.5},\"pattern\":{\"fillmode\":\"overlay\",\"size\":10,\"solidity\":0.2}},\"type\":\"barpolar\"}],\"pie\":[{\"automargin\":true,\"type\":\"pie\"}]},\"layout\":{\"autotypenumbers\":\"strict\",\"colorway\":[\"#636efa\",\"#EF553B\",\"#00cc96\",\"#ab63fa\",\"#FFA15A\",\"#19d3f3\",\"#FF6692\",\"#B6E880\",\"#FF97FF\",\"#FECB52\"],\"font\":{\"color\":\"#2a3f5f\"},\"hovermode\":\"closest\",\"hoverlabel\":{\"align\":\"left\"},\"paper_bgcolor\":\"white\",\"plot_bgcolor\":\"#E5ECF6\",\"polar\":{\"bgcolor\":\"#E5ECF6\",\"angularaxis\":{\"gridcolor\":\"white\",\"linecolor\":\"white\",\"ticks\":\"\"},\"radialaxis\":{\"gridcolor\":\"white\",\"linecolor\":\"white\",\"ticks\":\"\"}},\"ternary\":{\"bgcolor\":\"#E5ECF6\",\"aaxis\":{\"gridcolor\":\"white\",\"linecolor\":\"white\",\"ticks\":\"\"},\"baxis\":{\"gridcolor\":\"white\",\"linecolor\":\"white\",\"ticks\":\"\"},\"caxis\":{\"gridcolor\":\"white\",\"linecolor\":\"white\",\"ticks\":\"\"}},\"coloraxis\":{\"colorbar\":{\"outlinewidth\":0,\"ticks\":\"\"}},\"colorscale\":{\"sequential\":[[0.0,\"#0d0887\"],[0.1111111111111111,\"#46039f\"],[0.2222222222222222,\"#7201a8\"],[0.3333333333333333,\"#9c179e\"],[0.4444444444444444,\"#bd3786\"],[0.5555555555555556,\"#d8576b\"],[0.6666666666666666,\"#ed7953\"],[0.7777777777777778,\"#fb9f3a\"],[0.8888888888888888,\"#fdca26\"],[1.0,\"#f0f921\"]],\"sequentialminus\":[[0.0,\"#0d0887\"],[0.1111111111111111,\"#46039f\"],[0.2222222222222222,\"#7201a8\"],[0.3333333333333333,\"#9c179e\"],[0.4444444444444444,\"#bd3786\"],[0.5555555555555556,\"#d8576b\"],[0.6666666666666666,\"#ed7953\"],[0.7777777777777778,\"#fb9f3a\"],[0.8888888888888888,\"#fdca26\"],[1.0,\"#f0f921\"]],\"diverging\":[[0,\"#8e0152\"],[0.1,\"#c51b7d\"],[0.2,\"#de77ae\"],[0.3,\"#f1b6da\"],[0.4,\"#fde0ef\"],[0.5,\"#f7f7f7\"],[0.6,\"#e6f5d0\"],[0.7,\"#b8e186\"],[0.8,\"#7fbc41\"],[0.9,\"#4d9221\"],[1,\"#276419\"]]},\"xaxis\":{\"gridcolor\":\"white\",\"linecolor\":\"white\",\"ticks\":\"\",\"title\":{\"standoff\":15},\"zerolinecolor\":\"white\",\"automargin\":true,\"zerolinewidth\":2},\"yaxis\":{\"gridcolor\":\"white\",\"linecolor\":\"white\",\"ticks\":\"\",\"title\":{\"standoff\":15},\"zerolinecolor\":\"white\",\"automargin\":true,\"zerolinewidth\":2},\"scene\":{\"xaxis\":{\"backgroundcolor\":\"#E5ECF6\",\"gridcolor\":\"white\",\"linecolor\":\"white\",\"showbackground\":true,\"ticks\":\"\",\"zerolinecolor\":\"white\",\"gridwidth\":2},\"yaxis\":{\"backgroundcolor\":\"#E5ECF6\",\"gridcolor\":\"white\",\"linecolor\":\"white\",\"showbackground\":true,\"ticks\":\"\",\"zerolinecolor\":\"white\",\"gridwidth\":2},\"zaxis\":{\"backgroundcolor\":\"#E5ECF6\",\"gridcolor\":\"white\",\"linecolor\":\"white\",\"showbackground\":true,\"ticks\":\"\",\"zerolinecolor\":\"white\",\"gridwidth\":2}},\"shapedefaults\":{\"line\":{\"color\":\"#2a3f5f\"}},\"annotationdefaults\":{\"arrowcolor\":\"#2a3f5f\",\"arrowhead\":0,\"arrowwidth\":1},\"geo\":{\"bgcolor\":\"white\",\"landcolor\":\"#E5ECF6\",\"subunitcolor\":\"white\",\"showland\":true,\"showlakes\":true,\"lakecolor\":\"white\"},\"title\":{\"x\":0.05},\"mapbox\":{\"style\":\"light\"}}},\"xaxis\":{\"anchor\":\"y\",\"domain\":[0.0,1.0],\"title\":{\"text\":\"FECHA-HORA\"}},\"yaxis\":{\"anchor\":\"x\",\"domain\":[0.0,1.0],\"title\":{\"text\":\"R2\"}},\"legend\":{\"tracegroupgap\":0},\"title\":{\"text\":\"R2 Score Pronostico Redes Neuronales Encoders\"}},                        {\"responsive\": true}                    ).then(function(){\n",
       "                            \n",
       "var gd = document.getElementById('f636d8f2-a93d-48db-a938-163f24b2224c');\n",
       "var x = new MutationObserver(function (mutations, observer) {{\n",
       "        var display = window.getComputedStyle(gd).display;\n",
       "        if (!display || display === 'none') {{\n",
       "            console.log([gd, 'removed!']);\n",
       "            Plotly.purge(gd);\n",
       "            observer.disconnect();\n",
       "        }}\n",
       "}});\n",
       "\n",
       "// Listen for the removal of the full notebook cells\n",
       "var notebookContainer = gd.closest('#notebook-container');\n",
       "if (notebookContainer) {{\n",
       "    x.observe(notebookContainer, {childList: true});\n",
       "}}\n",
       "\n",
       "// Listen for the clearing of the current output cell\n",
       "var outputEl = gd.closest('.output');\n",
       "if (outputEl) {{\n",
       "    x.observe(outputEl, {childList: true});\n",
       "}}\n",
       "\n",
       "                        })                };                });            </script>        </div>"
      ]
     },
     "metadata": {},
     "output_type": "display_data"
    }
   ],
   "source": [
    "fig = px.line(df_est_result,x='FECHA-HORA', y='R2' ,title=\"R2 Score Pronostico Redes Neuronales Encoders\")\n",
    "fig.show()"
   ]
  },
  {
   "cell_type": "markdown",
   "id": "bf87cb75",
   "metadata": {
    "heading_collapsed": true
   },
   "source": [
    "## 6.   Model export"
   ]
  },
  {
   "cell_type": "markdown",
   "id": "bae147ec",
   "metadata": {},
   "source": [
    "**H5** is a file format to store structured data, it's not a model by itself. Keras saves models in this format as it can easily store the weights and model configuration in a single file."
   ]
  },
  {
   "cell_type": "code",
   "execution_count": 41,
   "id": "2f816541",
   "metadata": {
    "hidden": true
   },
   "outputs": [],
   "source": [
    "modelo.save('./outputs/h5/modelo.h5')"
   ]
  },
  {
   "cell_type": "code",
   "execution_count": 42,
   "id": "64eb30dc",
   "metadata": {
    "hidden": true
   },
   "outputs": [
    {
     "data": {
      "image/png": "[encoded data removed]",
      "text/plain": [
       "<IPython.core.display.Image object>"
      ]
     },
     "execution_count": 42,
     "metadata": {},
     "output_type": "execute_result"
    }
   ],
   "source": [
    "from IPython import display\n",
    "display.Image(\"https://mcd.unison.mx/wp-content/themes/awaken/img/logo_mcd.png\", embed = True)"
   ]
  },
  {
   "cell_type": "markdown",
   "id": "1d7dc08d",
   "metadata": {
    "hidden": true
   },
   "source": [
    "<summary>\n",
    "    <font size=\"4\" color=\"gray\"> Maestría en Ciencia de Datos | Universidad de Sonora </font>\n",
    "</summary>\n",
    "<font size=\"1\" color=\"gray\"> Blvd. Luis Encinas y Rosales s/n Col. Centro. Edificio 3K1 planta baja C.P. 83000, Hermosillo, Sonora, México </font>\n",
    "<font size=\"1\" color=\"gray\"> mcd@unison.mx </font>\n",
    "<font size=\"1\" color=\"gray\"> Tel: +52 (662) 259 2155  </font>"
   ]
  }
 ],
 "metadata": {
  "kernelspec": {
   "display_name": "Python 3 (ipykernel)",
   "language": "python",
   "name": "python3"
  },
  "language_info": {
   "codemirror_mode": {
    "name": "ipython",
    "version": 3
   },
   "file_extension": ".py",
   "mimetype": "text/x-python",
   "name": "python",
   "nbconvert_exporter": "python",
   "pygments_lexer": "ipython3",
   "version": "3.9.12"
  }
 },
 "nbformat": 4,
 "nbformat_minor": 5
}
