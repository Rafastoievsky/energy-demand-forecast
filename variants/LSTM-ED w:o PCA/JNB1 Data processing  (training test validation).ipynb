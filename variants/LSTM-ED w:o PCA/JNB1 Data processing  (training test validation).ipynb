{
 "cells": [
  {
   "cell_type": "markdown",
   "id": "0c408ce4",
   "metadata": {},
   "source": [
    "![spam](img/JB1.png)"
   ]
  },
  {
   "cell_type": "code",
   "execution_count": 1,
   "id": "e054f61a",
   "metadata": {},
   "outputs": [],
   "source": [
    "import warnings\n",
    "warnings.filterwarnings('ignore')"
   ]
  },
  {
   "cell_type": "markdown",
   "id": "9c0b28f1",
   "metadata": {
    "heading_collapsed": true
   },
   "source": [
    "## 1.   Dataset preprocessing"
   ]
  },
  {
   "cell_type": "markdown",
   "id": "0dd9a27a",
   "metadata": {
    "hidden": true
   },
   "source": [
    "<summary>\n",
    "    <font size=\"4\" color=\"orange\"><b>1.1 Importing libraries and functions</b></font>\n",
    "</summary>"
   ]
  },
  {
   "cell_type": "code",
   "execution_count": 2,
   "id": "5a7c2c32",
   "metadata": {
    "hidden": true
   },
   "outputs": [],
   "source": [
    "# Basic libraries\n",
    "import numpy as np\n",
    "import pandas as pd\n",
    "\n",
    "# Normalization libraries\n",
    "from sklearn.preprocessing import MinMaxScaler\n",
    "from sklearn.metrics import r2_score\n",
    "from sklearn.decomposition import PCA\n",
    "import pickle as pk"
   ]
  },
  {
   "cell_type": "code",
   "execution_count": 3,
   "id": "de30b86c",
   "metadata": {
    "hidden": true
   },
   "outputs": [],
   "source": [
    "# Importing PCA functions for futher processing\n",
    "%run \"./funciones/pcafunction.ipynb\""
   ]
  },
  {
   "cell_type": "markdown",
   "id": "38b00905",
   "metadata": {
    "hidden": true
   },
   "source": [
    "<summary>\n",
    "    <font size=\"4\" color=\"orange\"><b>1.2 Loading CENACE database: 49 input variables </b></font>\n",
    "</summary>"
   ]
  },
  {
   "cell_type": "markdown",
   "id": "a2cd7ed1",
   "metadata": {
    "hidden": true
   },
   "source": [
    "<img src=\"img/calendarsymbol.png\" width=\"40\" img align=\"left\" />  \n",
    "\n",
    "<font size=\"3\" color=\"palevioletred\"><b>Exogenous Calendar Features </b></font>"
   ]
  },
  {
   "cell_type": "markdown",
   "id": "e2b6d6d8",
   "metadata": {
    "hidden": true
   },
   "source": [
    "* **FECHA** (yy-mm-dd): Date\n",
    "\n",
    "\"Holiday\" (0|1) indicator:\n",
    "\n",
    "* **Lunes_Festivo**: Holiday Monday\n",
    "\n",
    "* **Martes_PostFestivo**: Day after holiday Monday\n",
    "\n",
    "* **Semana_Santa**: Holy Week\n",
    "\n",
    "* **1_Mayo**: May 1\n",
    "\n",
    "* **10_Mayo**: May 10\n",
    "\n",
    "* **16_Sep**: September 16\n",
    "\n",
    "* **2_Nov.**: November 2\n",
    "\n",
    "* **Pre-Navidad_y_new_year**: Day before Christmas or New Year\n",
    "\n",
    "* **Navidad_y_new_year**: Christmas or New Year\n",
    "\n",
    "* **Post-Navidad_y_new_year**: Day after Christmas or New Year"
   ]
  },
  {
   "cell_type": "markdown",
   "id": "dcece77a",
   "metadata": {
    "hidden": true
   },
   "source": [
    "<img src=\"img/lightsymbol.png\" alt=\"drawing\" width=\"25\" img align=\"left\" />  \n",
    "\n",
    "<font size=\"3\" color=\"palevioletred\"><b>Endogenous Feature</b></font>"
   ]
  },
  {
   "cell_type": "markdown",
   "id": "8570e17e",
   "metadata": {
    "hidden": true
   },
   "source": [
    "* **DEM_GCRNO_H$i$** (MW): Load energy demand in GCRNO (Gerencia de Control de Noroeste)  zone from hour $i$ to hour $i+1$ of the corresponding date, for $i=0,\\dots 23$."
   ]
  },
  {
   "cell_type": "markdown",
   "id": "4201c1b8",
   "metadata": {
    "hidden": true
   },
   "source": [
    "<img src=\"img/meteosymbol.png\" alt=\"drawing\" width=\"60\" img align=\"left\" />\n",
    "\n",
    "<font size=\"3\" color=\"palevioletred\"><b>Exogenous Meteorological Features</b></font>"
   ]
  },
  {
   "cell_type": "markdown",
   "id": "1763af59",
   "metadata": {
    "hidden": true
   },
   "source": [
    "* **TMAX-CAB**, **TMIN-CAB**, **TMAX-HMO**, **TMIN-HMO**, **TMAX-OBR**, **TMIN-OBR**,**TMAX-LMO**, **TMIN-LMO**, **TMAX-CUL**, **TMIN-CUL** ($^\\circ$C): Maximum and minimum temperature in Caborca, Hermosillo, Ciudad Obregón, Los Mochis and Culiacán, respectively.\n",
    "\n",
    "* **PREC_HMO_mm**, **PREC_OBR_mm**, **PREC_LMO_mm**, **PREC_CUL_mm**  (mm/h): Precipitation in Hermosillo, Ciudad Obregón, Los Mochis and Culiacán, respectively.\n",
    "\n"
   ]
  },
  {
   "cell_type": "code",
   "execution_count": 4,
   "id": "089c1ac3",
   "metadata": {
    "hidden": true
   },
   "outputs": [
    {
     "data": {
      "text/plain": [
       "Index(['FECHA', 'DEM_GCRNO_H0', 'DEM_GCRNO_H1', 'DEM_GCRNO_H2', 'DEM_GCRNO_H3',\n",
       "       'DEM_GCRNO_H4', 'DEM_GCRNO_H5', 'DEM_GCRNO_H6', 'DEM_GCRNO_H7',\n",
       "       'DEM_GCRNO_H8', 'DEM_GCRNO_H9', 'DEM_GCRNO_H10', 'DEM_GCRNO_H11',\n",
       "       'DEM_GCRNO_H12', 'DEM_GCRNO_H13', 'DEM_GCRNO_H14', 'DEM_GCRNO_H15',\n",
       "       'DEM_GCRNO_H16', 'DEM_GCRNO_H17', 'DEM_GCRNO_H18', 'DEM_GCRNO_H19',\n",
       "       'DEM_GCRNO_H20', 'DEM_GCRNO_H21', 'DEM_GCRNO_H22', 'DEM_GCRNO_H23',\n",
       "       'TMAX-CAB', 'TMAX-HMO', 'TMAX-OBR', 'TMAX-LMO', 'TMAX-CUL', 'TMIN-CAB',\n",
       "       'TMIN-HMO', 'TMIN-OBR', 'TMIN-LMO', 'TMIN-CUL', 'PREC_HMO_MM',\n",
       "       'PREC_OBR_MM', 'PREC_LMO_MM', 'PREC_CUL_MM', 'LUNES_FESTIVO',\n",
       "       'MARTES_POSTFESTIVO', 'SEMANA_SANTA', '1_MAYO', '10_MAYO', '16_SEP',\n",
       "       '2_NOV.', 'PRE-NAVIDAD_Y_NEW_YEAR', 'NAVIDAD_Y_NEW_YEAR',\n",
       "       'POST-NAVIDAD_Y_NEW_YEAR'],\n",
       "      dtype='object')"
      ]
     },
     "execution_count": 4,
     "metadata": {},
     "output_type": "execute_result"
    }
   ],
   "source": [
    "# Importing load energy consumption CENACE database\n",
    "url = \"./inputs/Dataset GCRNO120522 DF.xlsx\" #data\n",
    "gcrno = pd.read_excel(url)\n",
    "gcrno.columns"
   ]
  },
  {
   "cell_type": "markdown",
   "id": "f4db94db",
   "metadata": {
    "hidden": true
   },
   "source": [
    "<summary>\n",
    "    <font size=\"4\" color=\"orange\"><b>1.3. Dataframe rearrangement</b></font>\n",
    "</summary>\n",
    "\n",
    "The above dataframe will be transorm in a new one with:\n",
    "\n",
    "* *INSTANCES* (index):\n",
    "\n",
    "    **FECHA-HORA** (Date-Hour) specified in the format yyyy-mm-dd hh:00:00\n",
    "    \n",
    "    \n",
    "* *FEATURES*: \n",
    "\n",
    "    **DEMANDA** Load energy demand\n",
    "    \n",
    "    **DIA** (Day)\n",
    "       0 Monday \n",
    "       1 Tuesday \n",
    "       2 Wednesday \n",
    "       3 Thursday \n",
    "       4 Friday \n",
    "       5 Saturday \n",
    "       6 Sunday\n",
    "    \n",
    "    **HORA** (Hour 0–23)\n",
    "      \n",
    "    **MES** (Month)\n",
    "       1 January\n",
    "       2 February\n",
    "       3 March\n",
    "       4 April\n",
    "       5 May\n",
    "       6 Jun\n",
    "       7 July\n",
    "       8 August\n",
    "       9 September\n",
    "       10 Octuber\n",
    "       11 November\n",
    "       12 December\n",
    "    \n",
    "    And the following characteristics with constant value with respect to the day **TMAX-CAB**, **TMIN-CAB**, **TMAX-HMO**, **TMIN-HMO**, **TMAX-OBR**, **TMIN-OBR**,**TMAX-LMO**, **TMIN-LMO**, **TMAX-CUL**, **TMIN-CUL**, **PREC_HMO_MM**, **PREC_OBR_MM**, **PREC_LMO_MM**, **PREC_CUL_MM**, **LUNES_FESTIVO**, **MARTES_POSTFESTIVO**, **SEMANA_SANTA**, **1_MAYO**, **10_MAYO**, **16_SEP**, **2_NOV.**, **PRE-NAVIDAD_Y_NEW_YEAR**, **NAVIDAD_Y_NEW_YEAR**, **POST-NAVIDAD_Y_NEW_YEAR**."
   ]
  },
  {
   "cell_type": "code",
   "execution_count": 5,
   "id": "aa7a1bac",
   "metadata": {
    "hidden": true
   },
   "outputs": [],
   "source": [
    "# Transposing hours columns from the original dataframe into rows\n",
    "consumo_data = gcrno.melt(\n",
    "    id_vars= ['FECHA'],\n",
    "    value_vars= [f'DEM_GCRNO_H{i}' for i in range(24)],\n",
    "    var_name=\"HORA\",\n",
    "    value_name=\"DEMANDA\"\n",
    ").replace(\n",
    "    {f'DEM_GCRNO_H{i}': i for i in range(24)}\n",
    ")\n",
    "# Creating Day, Hour and Month columns\n",
    "consumo_data.index = consumo_data.FECHA + pd.to_timedelta(consumo_data.HORA, unit='h')\n",
    "consumo_data.sort_index(inplace=True)\n",
    "consumo_data.drop(columns=['HORA'], inplace=True)\n",
    "consumo_data = consumo_data.asfreq('h', method='pad')\n",
    "consumo_data['FECHAHORA'] = consumo_data.index\n",
    "consumo_data[\"DIA\"] = consumo_data.index.weekday\n",
    "consumo_data[\"HORA\"] = consumo_data.index.hour\n",
    "consumo_data[\"MES\"] = consumo_data.index.month"
   ]
  },
  {
   "cell_type": "code",
   "execution_count": 6,
   "id": "1cef35b0",
   "metadata": {
    "hidden": true
   },
   "outputs": [],
   "source": [
    "# Adding columns of exogenous variables\n",
    "exogenas = gcrno[['FECHA','TMAX-CAB', 'TMAX-HMO', 'TMAX-OBR', 'TMAX-LMO', 'TMAX-CUL', 'TMIN-CAB',\n",
    "       'TMIN-HMO', 'TMIN-OBR', 'TMIN-LMO', 'TMIN-CUL', 'PREC_HMO_MM',\n",
    "       'PREC_OBR_MM', 'PREC_LMO_MM', 'PREC_CUL_MM', 'LUNES_FESTIVO',\n",
    "       'MARTES_POSTFESTIVO', 'SEMANA_SANTA', '1_MAYO', '10_MAYO', '16_SEP',\n",
    "       '2_NOV.', 'PRE-NAVIDAD_Y_NEW_YEAR', 'NAVIDAD_Y_NEW_YEAR',\n",
    "       'POST-NAVIDAD_Y_NEW_YEAR']]\n",
    "consumo = pd.merge(consumo_data, exogenas, on='FECHA', how='left')"
   ]
  },
  {
   "cell_type": "code",
   "execution_count": 7,
   "id": "b501f9d4",
   "metadata": {
    "hidden": true
   },
   "outputs": [],
   "source": [
    "# Setting as index the DATE-HOUR\n",
    "del consumo['FECHA']\n",
    "consumo.set_index(\"FECHAHORA\", inplace=True)\n",
    "consumo=consumo.asfreq('h')"
   ]
  },
  {
   "cell_type": "code",
   "execution_count": 8,
   "id": "4ea3095e",
   "metadata": {
    "hidden": true
   },
   "outputs": [
    {
     "name": "stdout",
     "output_type": "stream",
     "text": [
      "<class 'pandas.core.frame.DataFrame'>\n",
      "DatetimeIndex: 134664 entries, 2007-01-01 00:00:00 to 2022-05-12 23:00:00\n",
      "Freq: H\n",
      "Data columns (total 28 columns):\n",
      " #   Column                   Non-Null Count   Dtype  \n",
      "---  ------                   --------------   -----  \n",
      " 0   DEMANDA                  134664 non-null  int64  \n",
      " 1   DIA                      134664 non-null  int64  \n",
      " 2   HORA                     134664 non-null  int64  \n",
      " 3   MES                      134664 non-null  int64  \n",
      " 4   TMAX-CAB                 134664 non-null  float64\n",
      " 5   TMAX-HMO                 134664 non-null  float64\n",
      " 6   TMAX-OBR                 134664 non-null  float64\n",
      " 7   TMAX-LMO                 134664 non-null  float64\n",
      " 8   TMAX-CUL                 134664 non-null  float64\n",
      " 9   TMIN-CAB                 134664 non-null  float64\n",
      " 10  TMIN-HMO                 134664 non-null  float64\n",
      " 11  TMIN-OBR                 134664 non-null  float64\n",
      " 12  TMIN-LMO                 134664 non-null  float64\n",
      " 13  TMIN-CUL                 134664 non-null  float64\n",
      " 14  PREC_HMO_MM              134664 non-null  float64\n",
      " 15  PREC_OBR_MM              134664 non-null  float64\n",
      " 16  PREC_LMO_MM              134664 non-null  float64\n",
      " 17  PREC_CUL_MM              134664 non-null  float64\n",
      " 18  LUNES_FESTIVO            134664 non-null  int64  \n",
      " 19  MARTES_POSTFESTIVO       134664 non-null  int64  \n",
      " 20  SEMANA_SANTA             134664 non-null  int64  \n",
      " 21  1_MAYO                   134664 non-null  int64  \n",
      " 22  10_MAYO                  134664 non-null  int64  \n",
      " 23  16_SEP                   134664 non-null  int64  \n",
      " 24  2_NOV.                   134664 non-null  int64  \n",
      " 25  PRE-NAVIDAD_Y_NEW_YEAR   134664 non-null  int64  \n",
      " 26  NAVIDAD_Y_NEW_YEAR       134664 non-null  int64  \n",
      " 27  POST-NAVIDAD_Y_NEW_YEAR  134664 non-null  int64  \n",
      "dtypes: float64(14), int64(14)\n",
      "memory usage: 29.8 MB\n"
     ]
    }
   ],
   "source": [
    "# Verifying existence of missing data \n",
    "consumo.info()"
   ]
  },
  {
   "cell_type": "code",
   "execution_count": 9,
   "id": "31526672",
   "metadata": {
    "hidden": true
   },
   "outputs": [],
   "source": [
    "# Adding Date-Hour as 'duplicate' column for flexibility\n",
    "consumo['FECHA-HORA'] = consumo.index"
   ]
  },
  {
   "cell_type": "markdown",
   "id": "5bb6175c",
   "metadata": {
    "heading_collapsed": true
   },
   "source": [
    "## 2.   Splitting data into training, test and validation sets"
   ]
  },
  {
   "cell_type": "markdown",
   "id": "a1848576",
   "metadata": {
    "hidden": true
   },
   "source": [
    "\n",
    "* Training: 70 %\n",
    "* Validation 20 %\n",
    "* Test: 10 %\n",
    "\n",
    "For periodic retraining use all available data and separate just a validation set for the optimization process."
   ]
  },
  {
   "cell_type": "code",
   "execution_count": 10,
   "id": "26be1c95",
   "metadata": {
    "hidden": true
   },
   "outputs": [],
   "source": [
    "# Splitting the dataset into training, test and validation sets\n",
    "df_train = consumo[consumo['FECHA-HORA'] < '2020-12-31 00:00:00']\n",
    "df_test   = consumo[(consumo['FECHA-HORA'] >= '2021-04-30 00:00:00') \n",
    "                   & (consumo['FECHA-HORA'] < '2022-04-30 00:00:00')]\n",
    "df_val  = consumo[(consumo['FECHA-HORA'] >= '2020-12-31 00:00:00') &\n",
    "                          (consumo['FECHA-HORA'] <= '2021-04-29 00:00:00') ]"
   ]
  },
  {
   "cell_type": "markdown",
   "id": "1d3718d1",
   "metadata": {
    "heading_collapsed": true
   },
   "source": [
    "## 3.    Feature engineering"
   ]
  },
  {
   "cell_type": "markdown",
   "id": "ea71edb7",
   "metadata": {
    "hidden": true
   },
   "source": [
    "The  <font size=\"3\" color=\"palevioletred\"><b>random features</b></font> of the training dataframe are recoded (via a principal component procedure) on the features:\n",
    "\n",
    "\n",
    "* **PC1_MAX, PC2_MAX, PC1_TMIN, PC2_TMIN, PCI_PREC, PC2_PREC** \n",
    "\n",
    "\n",
    "The features **PC2_TMAX**  and **PC2_TMIN** will be ignored later to avoid linear redundance. Then, these and the rest of the features are rescaled into the closed interval $[-1,1]$. The parameters of both procedures are exported and then applied in the test and validation set."
   ]
  },
  {
   "cell_type": "markdown",
   "id": "4e461c31",
   "metadata": {
    "hidden": true
   },
   "source": [
    "<summary>\n",
    "    <font size=\"4\" color=\"orange\"><b>3.2. Rescaling all features into a closed interval $[-1,1]$ </b></font>\n",
    "</summary>"
   ]
  },
  {
   "cell_type": "code",
   "execution_count": 11,
   "id": "bd7f222e",
   "metadata": {
    "hidden": true
   },
   "outputs": [],
   "source": [
    "Features = ['DEMANDA', 'MES', 'DIA', 'HORA','TMAX-CAB', 'TMAX-HMO', 'TMAX-OBR', \n",
    "            'TMAX-LMO', 'TMAX-CUL', 'TMIN-CAB',\n",
    "       'TMIN-HMO', 'TMIN-OBR', 'TMIN-LMO', 'TMIN-CUL', 'PREC_HMO_MM',\n",
    "       'PREC_OBR_MM', 'PREC_LMO_MM', 'PREC_CUL_MM', 'LUNES_FESTIVO',\n",
    "       'MARTES_POSTFESTIVO', 'SEMANA_SANTA', '1_MAYO', '10_MAYO', '16_SEP',\n",
    "       '2_NOV.', 'PRE-NAVIDAD_Y_NEW_YEAR', 'NAVIDAD_Y_NEW_YEAR',\n",
    "       'POST-NAVIDAD_Y_NEW_YEAR']"
   ]
  },
  {
   "cell_type": "code",
   "execution_count": 12,
   "id": "bcc20af1",
   "metadata": {
    "hidden": true,
    "scrolled": true
   },
   "outputs": [],
   "source": [
    "# Rescaling training set\n",
    "train = df_train\n",
    "scalers = {}  # Un diccionario con los scalers\n",
    "\n",
    "for attr in Features:\n",
    "    scaler = MinMaxScaler(feature_range=(-1, 1))\n",
    "    s_s = scaler.fit_transform(train[attr].values.reshape(-1,1))\n",
    "    scalers[attr] = scaler\n",
    "    train[attr] = s_s.ravel()\n",
    "#train.info()\n",
    "\n",
    "# Applying training parameters to:\n",
    "# Validation set \n",
    "val = df_val\n",
    "for attr in Features:\n",
    "    scaler = scalers[attr]\n",
    "    s_s = scaler.transform(val[attr].values.reshape(-1,1))\n",
    "    val[attr] = s_s.ravel()\n",
    "# Test set\n",
    "test = df_test\n",
    "for attr in Features:\n",
    "    scaler = scalers[attr]\n",
    "    s_s = scaler.transform(test[attr].values.reshape(-1,1))\n",
    "    test[attr] = s_s.ravel()"
   ]
  },
  {
   "cell_type": "code",
   "execution_count": 13,
   "id": "70e9a1ac",
   "metadata": {},
   "outputs": [],
   "source": [
    "test.to_csv('./outputs/PCA/scaled_test.csv')"
   ]
  },
  {
   "cell_type": "code",
   "execution_count": 14,
   "id": "39b26450",
   "metadata": {
    "hidden": true
   },
   "outputs": [],
   "source": [
    "# exporting processing parameters for use outside the notebook\n",
    "pk.dump(scalers, open(\"./outputs/DataProcessing/scalers.pkl\",\"wb\"))"
   ]
  },
  {
   "cell_type": "markdown",
   "id": "85d79a18",
   "metadata": {
    "hidden": true
   },
   "source": [
    "<summary>\n",
    "    <font size=\"4\" color=\"orange\"><b>3.3 Training set view</b></font>\n",
    "</summary>"
   ]
  },
  {
   "cell_type": "code",
   "execution_count": 15,
   "id": "3b8ff2be",
   "metadata": {},
   "outputs": [
    {
     "data": {
      "text/html": [
       "<div>\n",
       "<style scoped>\n",
       "    .dataframe tbody tr th:only-of-type {\n",
       "        vertical-align: middle;\n",
       "    }\n",
       "\n",
       "    .dataframe tbody tr th {\n",
       "        vertical-align: top;\n",
       "    }\n",
       "\n",
       "    .dataframe thead th {\n",
       "        text-align: right;\n",
       "    }\n",
       "</style>\n",
       "<table border=\"1\" class=\"dataframe\">\n",
       "  <thead>\n",
       "    <tr style=\"text-align: right;\">\n",
       "      <th></th>\n",
       "      <th>DEMANDA</th>\n",
       "      <th>DIA</th>\n",
       "      <th>HORA</th>\n",
       "      <th>MES</th>\n",
       "      <th>TMAX-CAB</th>\n",
       "      <th>TMAX-HMO</th>\n",
       "      <th>TMAX-OBR</th>\n",
       "      <th>TMAX-LMO</th>\n",
       "      <th>TMAX-CUL</th>\n",
       "      <th>TMIN-CAB</th>\n",
       "      <th>...</th>\n",
       "      <th>MARTES_POSTFESTIVO</th>\n",
       "      <th>SEMANA_SANTA</th>\n",
       "      <th>1_MAYO</th>\n",
       "      <th>10_MAYO</th>\n",
       "      <th>16_SEP</th>\n",
       "      <th>2_NOV.</th>\n",
       "      <th>PRE-NAVIDAD_Y_NEW_YEAR</th>\n",
       "      <th>NAVIDAD_Y_NEW_YEAR</th>\n",
       "      <th>POST-NAVIDAD_Y_NEW_YEAR</th>\n",
       "      <th>FECHA-HORA</th>\n",
       "    </tr>\n",
       "    <tr>\n",
       "      <th>FECHAHORA</th>\n",
       "      <th></th>\n",
       "      <th></th>\n",
       "      <th></th>\n",
       "      <th></th>\n",
       "      <th></th>\n",
       "      <th></th>\n",
       "      <th></th>\n",
       "      <th></th>\n",
       "      <th></th>\n",
       "      <th></th>\n",
       "      <th></th>\n",
       "      <th></th>\n",
       "      <th></th>\n",
       "      <th></th>\n",
       "      <th></th>\n",
       "      <th></th>\n",
       "      <th></th>\n",
       "      <th></th>\n",
       "      <th></th>\n",
       "      <th></th>\n",
       "      <th></th>\n",
       "    </tr>\n",
       "  </thead>\n",
       "  <tbody>\n",
       "    <tr>\n",
       "      <th>2007-01-01 00:00:00</th>\n",
       "      <td>-0.799354</td>\n",
       "      <td>-1.000000</td>\n",
       "      <td>-1.000000</td>\n",
       "      <td>-1.0</td>\n",
       "      <td>-0.414634</td>\n",
       "      <td>-0.318735</td>\n",
       "      <td>-0.257143</td>\n",
       "      <td>0.090909</td>\n",
       "      <td>-0.111111</td>\n",
       "      <td>-0.55</td>\n",
       "      <td>...</td>\n",
       "      <td>-1.0</td>\n",
       "      <td>-1.0</td>\n",
       "      <td>-1.0</td>\n",
       "      <td>-1.0</td>\n",
       "      <td>-1.0</td>\n",
       "      <td>-1.0</td>\n",
       "      <td>-1.0</td>\n",
       "      <td>1.0</td>\n",
       "      <td>-1.0</td>\n",
       "      <td>2007-01-01 00:00:00</td>\n",
       "    </tr>\n",
       "    <tr>\n",
       "      <th>2007-01-01 01:00:00</th>\n",
       "      <td>-0.844096</td>\n",
       "      <td>-1.000000</td>\n",
       "      <td>-0.913043</td>\n",
       "      <td>-1.0</td>\n",
       "      <td>-0.414634</td>\n",
       "      <td>-0.318735</td>\n",
       "      <td>-0.257143</td>\n",
       "      <td>0.090909</td>\n",
       "      <td>-0.111111</td>\n",
       "      <td>-0.55</td>\n",
       "      <td>...</td>\n",
       "      <td>-1.0</td>\n",
       "      <td>-1.0</td>\n",
       "      <td>-1.0</td>\n",
       "      <td>-1.0</td>\n",
       "      <td>-1.0</td>\n",
       "      <td>-1.0</td>\n",
       "      <td>-1.0</td>\n",
       "      <td>1.0</td>\n",
       "      <td>-1.0</td>\n",
       "      <td>2007-01-01 01:00:00</td>\n",
       "    </tr>\n",
       "    <tr>\n",
       "      <th>2007-01-01 02:00:00</th>\n",
       "      <td>-0.863469</td>\n",
       "      <td>-1.000000</td>\n",
       "      <td>-0.826087</td>\n",
       "      <td>-1.0</td>\n",
       "      <td>-0.414634</td>\n",
       "      <td>-0.318735</td>\n",
       "      <td>-0.257143</td>\n",
       "      <td>0.090909</td>\n",
       "      <td>-0.111111</td>\n",
       "      <td>-0.55</td>\n",
       "      <td>...</td>\n",
       "      <td>-1.0</td>\n",
       "      <td>-1.0</td>\n",
       "      <td>-1.0</td>\n",
       "      <td>-1.0</td>\n",
       "      <td>-1.0</td>\n",
       "      <td>-1.0</td>\n",
       "      <td>-1.0</td>\n",
       "      <td>1.0</td>\n",
       "      <td>-1.0</td>\n",
       "      <td>2007-01-01 02:00:00</td>\n",
       "    </tr>\n",
       "    <tr>\n",
       "      <th>2007-01-01 03:00:00</th>\n",
       "      <td>-0.878690</td>\n",
       "      <td>-1.000000</td>\n",
       "      <td>-0.739130</td>\n",
       "      <td>-1.0</td>\n",
       "      <td>-0.414634</td>\n",
       "      <td>-0.318735</td>\n",
       "      <td>-0.257143</td>\n",
       "      <td>0.090909</td>\n",
       "      <td>-0.111111</td>\n",
       "      <td>-0.55</td>\n",
       "      <td>...</td>\n",
       "      <td>-1.0</td>\n",
       "      <td>-1.0</td>\n",
       "      <td>-1.0</td>\n",
       "      <td>-1.0</td>\n",
       "      <td>-1.0</td>\n",
       "      <td>-1.0</td>\n",
       "      <td>-1.0</td>\n",
       "      <td>1.0</td>\n",
       "      <td>-1.0</td>\n",
       "      <td>2007-01-01 03:00:00</td>\n",
       "    </tr>\n",
       "    <tr>\n",
       "      <th>2007-01-01 04:00:00</th>\n",
       "      <td>-0.903598</td>\n",
       "      <td>-1.000000</td>\n",
       "      <td>-0.652174</td>\n",
       "      <td>-1.0</td>\n",
       "      <td>-0.414634</td>\n",
       "      <td>-0.318735</td>\n",
       "      <td>-0.257143</td>\n",
       "      <td>0.090909</td>\n",
       "      <td>-0.111111</td>\n",
       "      <td>-0.55</td>\n",
       "      <td>...</td>\n",
       "      <td>-1.0</td>\n",
       "      <td>-1.0</td>\n",
       "      <td>-1.0</td>\n",
       "      <td>-1.0</td>\n",
       "      <td>-1.0</td>\n",
       "      <td>-1.0</td>\n",
       "      <td>-1.0</td>\n",
       "      <td>1.0</td>\n",
       "      <td>-1.0</td>\n",
       "      <td>2007-01-01 04:00:00</td>\n",
       "    </tr>\n",
       "    <tr>\n",
       "      <th>...</th>\n",
       "      <td>...</td>\n",
       "      <td>...</td>\n",
       "      <td>...</td>\n",
       "      <td>...</td>\n",
       "      <td>...</td>\n",
       "      <td>...</td>\n",
       "      <td>...</td>\n",
       "      <td>...</td>\n",
       "      <td>...</td>\n",
       "      <td>...</td>\n",
       "      <td>...</td>\n",
       "      <td>...</td>\n",
       "      <td>...</td>\n",
       "      <td>...</td>\n",
       "      <td>...</td>\n",
       "      <td>...</td>\n",
       "      <td>...</td>\n",
       "      <td>...</td>\n",
       "      <td>...</td>\n",
       "      <td>...</td>\n",
       "      <td>...</td>\n",
       "    </tr>\n",
       "    <tr>\n",
       "      <th>2020-12-30 19:00:00</th>\n",
       "      <td>-0.434041</td>\n",
       "      <td>-0.333333</td>\n",
       "      <td>0.652174</td>\n",
       "      <td>1.0</td>\n",
       "      <td>-0.536585</td>\n",
       "      <td>-0.318735</td>\n",
       "      <td>-0.542857</td>\n",
       "      <td>-0.303030</td>\n",
       "      <td>-0.740741</td>\n",
       "      <td>-0.55</td>\n",
       "      <td>...</td>\n",
       "      <td>-1.0</td>\n",
       "      <td>-1.0</td>\n",
       "      <td>-1.0</td>\n",
       "      <td>-1.0</td>\n",
       "      <td>-1.0</td>\n",
       "      <td>-1.0</td>\n",
       "      <td>-1.0</td>\n",
       "      <td>-1.0</td>\n",
       "      <td>-1.0</td>\n",
       "      <td>2020-12-30 19:00:00</td>\n",
       "    </tr>\n",
       "    <tr>\n",
       "      <th>2020-12-30 20:00:00</th>\n",
       "      <td>-0.381919</td>\n",
       "      <td>-0.333333</td>\n",
       "      <td>0.739130</td>\n",
       "      <td>1.0</td>\n",
       "      <td>-0.536585</td>\n",
       "      <td>-0.318735</td>\n",
       "      <td>-0.542857</td>\n",
       "      <td>-0.303030</td>\n",
       "      <td>-0.740741</td>\n",
       "      <td>-0.55</td>\n",
       "      <td>...</td>\n",
       "      <td>-1.0</td>\n",
       "      <td>-1.0</td>\n",
       "      <td>-1.0</td>\n",
       "      <td>-1.0</td>\n",
       "      <td>-1.0</td>\n",
       "      <td>-1.0</td>\n",
       "      <td>-1.0</td>\n",
       "      <td>-1.0</td>\n",
       "      <td>-1.0</td>\n",
       "      <td>2020-12-30 20:00:00</td>\n",
       "    </tr>\n",
       "    <tr>\n",
       "      <th>2020-12-30 21:00:00</th>\n",
       "      <td>-0.387454</td>\n",
       "      <td>-0.333333</td>\n",
       "      <td>0.826087</td>\n",
       "      <td>1.0</td>\n",
       "      <td>-0.536585</td>\n",
       "      <td>-0.318735</td>\n",
       "      <td>-0.542857</td>\n",
       "      <td>-0.303030</td>\n",
       "      <td>-0.740741</td>\n",
       "      <td>-0.55</td>\n",
       "      <td>...</td>\n",
       "      <td>-1.0</td>\n",
       "      <td>-1.0</td>\n",
       "      <td>-1.0</td>\n",
       "      <td>-1.0</td>\n",
       "      <td>-1.0</td>\n",
       "      <td>-1.0</td>\n",
       "      <td>-1.0</td>\n",
       "      <td>-1.0</td>\n",
       "      <td>-1.0</td>\n",
       "      <td>2020-12-30 21:00:00</td>\n",
       "    </tr>\n",
       "    <tr>\n",
       "      <th>2020-12-30 22:00:00</th>\n",
       "      <td>-0.392989</td>\n",
       "      <td>-0.333333</td>\n",
       "      <td>0.913043</td>\n",
       "      <td>1.0</td>\n",
       "      <td>-0.536585</td>\n",
       "      <td>-0.318735</td>\n",
       "      <td>-0.542857</td>\n",
       "      <td>-0.303030</td>\n",
       "      <td>-0.740741</td>\n",
       "      <td>-0.55</td>\n",
       "      <td>...</td>\n",
       "      <td>-1.0</td>\n",
       "      <td>-1.0</td>\n",
       "      <td>-1.0</td>\n",
       "      <td>-1.0</td>\n",
       "      <td>-1.0</td>\n",
       "      <td>-1.0</td>\n",
       "      <td>-1.0</td>\n",
       "      <td>-1.0</td>\n",
       "      <td>-1.0</td>\n",
       "      <td>2020-12-30 22:00:00</td>\n",
       "    </tr>\n",
       "    <tr>\n",
       "      <th>2020-12-30 23:00:00</th>\n",
       "      <td>-0.423432</td>\n",
       "      <td>-0.333333</td>\n",
       "      <td>1.000000</td>\n",
       "      <td>1.0</td>\n",
       "      <td>-0.536585</td>\n",
       "      <td>-0.318735</td>\n",
       "      <td>-0.542857</td>\n",
       "      <td>-0.303030</td>\n",
       "      <td>-0.740741</td>\n",
       "      <td>-0.55</td>\n",
       "      <td>...</td>\n",
       "      <td>-1.0</td>\n",
       "      <td>-1.0</td>\n",
       "      <td>-1.0</td>\n",
       "      <td>-1.0</td>\n",
       "      <td>-1.0</td>\n",
       "      <td>-1.0</td>\n",
       "      <td>-1.0</td>\n",
       "      <td>-1.0</td>\n",
       "      <td>-1.0</td>\n",
       "      <td>2020-12-30 23:00:00</td>\n",
       "    </tr>\n",
       "  </tbody>\n",
       "</table>\n",
       "<p>122712 rows × 29 columns</p>\n",
       "</div>"
      ],
      "text/plain": [
       "                      DEMANDA       DIA      HORA  MES  TMAX-CAB  TMAX-HMO  \\\n",
       "FECHAHORA                                                                    \n",
       "2007-01-01 00:00:00 -0.799354 -1.000000 -1.000000 -1.0 -0.414634 -0.318735   \n",
       "2007-01-01 01:00:00 -0.844096 -1.000000 -0.913043 -1.0 -0.414634 -0.318735   \n",
       "2007-01-01 02:00:00 -0.863469 -1.000000 -0.826087 -1.0 -0.414634 -0.318735   \n",
       "2007-01-01 03:00:00 -0.878690 -1.000000 -0.739130 -1.0 -0.414634 -0.318735   \n",
       "2007-01-01 04:00:00 -0.903598 -1.000000 -0.652174 -1.0 -0.414634 -0.318735   \n",
       "...                       ...       ...       ...  ...       ...       ...   \n",
       "2020-12-30 19:00:00 -0.434041 -0.333333  0.652174  1.0 -0.536585 -0.318735   \n",
       "2020-12-30 20:00:00 -0.381919 -0.333333  0.739130  1.0 -0.536585 -0.318735   \n",
       "2020-12-30 21:00:00 -0.387454 -0.333333  0.826087  1.0 -0.536585 -0.318735   \n",
       "2020-12-30 22:00:00 -0.392989 -0.333333  0.913043  1.0 -0.536585 -0.318735   \n",
       "2020-12-30 23:00:00 -0.423432 -0.333333  1.000000  1.0 -0.536585 -0.318735   \n",
       "\n",
       "                     TMAX-OBR  TMAX-LMO  TMAX-CUL  TMIN-CAB  ...  \\\n",
       "FECHAHORA                                                    ...   \n",
       "2007-01-01 00:00:00 -0.257143  0.090909 -0.111111     -0.55  ...   \n",
       "2007-01-01 01:00:00 -0.257143  0.090909 -0.111111     -0.55  ...   \n",
       "2007-01-01 02:00:00 -0.257143  0.090909 -0.111111     -0.55  ...   \n",
       "2007-01-01 03:00:00 -0.257143  0.090909 -0.111111     -0.55  ...   \n",
       "2007-01-01 04:00:00 -0.257143  0.090909 -0.111111     -0.55  ...   \n",
       "...                       ...       ...       ...       ...  ...   \n",
       "2020-12-30 19:00:00 -0.542857 -0.303030 -0.740741     -0.55  ...   \n",
       "2020-12-30 20:00:00 -0.542857 -0.303030 -0.740741     -0.55  ...   \n",
       "2020-12-30 21:00:00 -0.542857 -0.303030 -0.740741     -0.55  ...   \n",
       "2020-12-30 22:00:00 -0.542857 -0.303030 -0.740741     -0.55  ...   \n",
       "2020-12-30 23:00:00 -0.542857 -0.303030 -0.740741     -0.55  ...   \n",
       "\n",
       "                     MARTES_POSTFESTIVO  SEMANA_SANTA  1_MAYO  10_MAYO  \\\n",
       "FECHAHORA                                                                \n",
       "2007-01-01 00:00:00                -1.0          -1.0    -1.0     -1.0   \n",
       "2007-01-01 01:00:00                -1.0          -1.0    -1.0     -1.0   \n",
       "2007-01-01 02:00:00                -1.0          -1.0    -1.0     -1.0   \n",
       "2007-01-01 03:00:00                -1.0          -1.0    -1.0     -1.0   \n",
       "2007-01-01 04:00:00                -1.0          -1.0    -1.0     -1.0   \n",
       "...                                 ...           ...     ...      ...   \n",
       "2020-12-30 19:00:00                -1.0          -1.0    -1.0     -1.0   \n",
       "2020-12-30 20:00:00                -1.0          -1.0    -1.0     -1.0   \n",
       "2020-12-30 21:00:00                -1.0          -1.0    -1.0     -1.0   \n",
       "2020-12-30 22:00:00                -1.0          -1.0    -1.0     -1.0   \n",
       "2020-12-30 23:00:00                -1.0          -1.0    -1.0     -1.0   \n",
       "\n",
       "                     16_SEP  2_NOV.  PRE-NAVIDAD_Y_NEW_YEAR  \\\n",
       "FECHAHORA                                                     \n",
       "2007-01-01 00:00:00    -1.0    -1.0                    -1.0   \n",
       "2007-01-01 01:00:00    -1.0    -1.0                    -1.0   \n",
       "2007-01-01 02:00:00    -1.0    -1.0                    -1.0   \n",
       "2007-01-01 03:00:00    -1.0    -1.0                    -1.0   \n",
       "2007-01-01 04:00:00    -1.0    -1.0                    -1.0   \n",
       "...                     ...     ...                     ...   \n",
       "2020-12-30 19:00:00    -1.0    -1.0                    -1.0   \n",
       "2020-12-30 20:00:00    -1.0    -1.0                    -1.0   \n",
       "2020-12-30 21:00:00    -1.0    -1.0                    -1.0   \n",
       "2020-12-30 22:00:00    -1.0    -1.0                    -1.0   \n",
       "2020-12-30 23:00:00    -1.0    -1.0                    -1.0   \n",
       "\n",
       "                     NAVIDAD_Y_NEW_YEAR  POST-NAVIDAD_Y_NEW_YEAR  \\\n",
       "FECHAHORA                                                          \n",
       "2007-01-01 00:00:00                 1.0                     -1.0   \n",
       "2007-01-01 01:00:00                 1.0                     -1.0   \n",
       "2007-01-01 02:00:00                 1.0                     -1.0   \n",
       "2007-01-01 03:00:00                 1.0                     -1.0   \n",
       "2007-01-01 04:00:00                 1.0                     -1.0   \n",
       "...                                 ...                      ...   \n",
       "2020-12-30 19:00:00                -1.0                     -1.0   \n",
       "2020-12-30 20:00:00                -1.0                     -1.0   \n",
       "2020-12-30 21:00:00                -1.0                     -1.0   \n",
       "2020-12-30 22:00:00                -1.0                     -1.0   \n",
       "2020-12-30 23:00:00                -1.0                     -1.0   \n",
       "\n",
       "                             FECHA-HORA  \n",
       "FECHAHORA                                \n",
       "2007-01-01 00:00:00 2007-01-01 00:00:00  \n",
       "2007-01-01 01:00:00 2007-01-01 01:00:00  \n",
       "2007-01-01 02:00:00 2007-01-01 02:00:00  \n",
       "2007-01-01 03:00:00 2007-01-01 03:00:00  \n",
       "2007-01-01 04:00:00 2007-01-01 04:00:00  \n",
       "...                                 ...  \n",
       "2020-12-30 19:00:00 2020-12-30 19:00:00  \n",
       "2020-12-30 20:00:00 2020-12-30 20:00:00  \n",
       "2020-12-30 21:00:00 2020-12-30 21:00:00  \n",
       "2020-12-30 22:00:00 2020-12-30 22:00:00  \n",
       "2020-12-30 23:00:00 2020-12-30 23:00:00  \n",
       "\n",
       "[122712 rows x 29 columns]"
      ]
     },
     "execution_count": 15,
     "metadata": {},
     "output_type": "execute_result"
    }
   ],
   "source": [
    "train"
   ]
  },
  {
   "cell_type": "code",
   "execution_count": 16,
   "id": "6147a168",
   "metadata": {
    "hidden": true
   },
   "outputs": [
    {
     "data": {
      "text/html": [
       "<div>\n",
       "<style scoped>\n",
       "    .dataframe tbody tr th:only-of-type {\n",
       "        vertical-align: middle;\n",
       "    }\n",
       "\n",
       "    .dataframe tbody tr th {\n",
       "        vertical-align: top;\n",
       "    }\n",
       "\n",
       "    .dataframe thead th {\n",
       "        text-align: right;\n",
       "    }\n",
       "</style>\n",
       "<table border=\"1\" class=\"dataframe\">\n",
       "  <thead>\n",
       "    <tr style=\"text-align: right;\">\n",
       "      <th></th>\n",
       "      <th>DEMANDA</th>\n",
       "      <th>MES</th>\n",
       "      <th>DIA</th>\n",
       "      <th>HORA</th>\n",
       "      <th>LUNES_FESTIVO</th>\n",
       "      <th>NAVIDAD_Y_NEW_YEAR</th>\n",
       "    </tr>\n",
       "    <tr>\n",
       "      <th>FECHAHORA</th>\n",
       "      <th></th>\n",
       "      <th></th>\n",
       "      <th></th>\n",
       "      <th></th>\n",
       "      <th></th>\n",
       "      <th></th>\n",
       "    </tr>\n",
       "  </thead>\n",
       "  <tbody>\n",
       "    <tr>\n",
       "      <th>2007-01-01 00:00:00</th>\n",
       "      <td>-0.799354</td>\n",
       "      <td>-1.0</td>\n",
       "      <td>-1.000000</td>\n",
       "      <td>-1.000000</td>\n",
       "      <td>-1.0</td>\n",
       "      <td>1.0</td>\n",
       "    </tr>\n",
       "    <tr>\n",
       "      <th>2007-01-01 01:00:00</th>\n",
       "      <td>-0.844096</td>\n",
       "      <td>-1.0</td>\n",
       "      <td>-1.000000</td>\n",
       "      <td>-0.913043</td>\n",
       "      <td>-1.0</td>\n",
       "      <td>1.0</td>\n",
       "    </tr>\n",
       "    <tr>\n",
       "      <th>2007-01-01 02:00:00</th>\n",
       "      <td>-0.863469</td>\n",
       "      <td>-1.0</td>\n",
       "      <td>-1.000000</td>\n",
       "      <td>-0.826087</td>\n",
       "      <td>-1.0</td>\n",
       "      <td>1.0</td>\n",
       "    </tr>\n",
       "    <tr>\n",
       "      <th>2007-01-01 03:00:00</th>\n",
       "      <td>-0.878690</td>\n",
       "      <td>-1.0</td>\n",
       "      <td>-1.000000</td>\n",
       "      <td>-0.739130</td>\n",
       "      <td>-1.0</td>\n",
       "      <td>1.0</td>\n",
       "    </tr>\n",
       "    <tr>\n",
       "      <th>2007-01-01 04:00:00</th>\n",
       "      <td>-0.903598</td>\n",
       "      <td>-1.0</td>\n",
       "      <td>-1.000000</td>\n",
       "      <td>-0.652174</td>\n",
       "      <td>-1.0</td>\n",
       "      <td>1.0</td>\n",
       "    </tr>\n",
       "    <tr>\n",
       "      <th>...</th>\n",
       "      <td>...</td>\n",
       "      <td>...</td>\n",
       "      <td>...</td>\n",
       "      <td>...</td>\n",
       "      <td>...</td>\n",
       "      <td>...</td>\n",
       "    </tr>\n",
       "    <tr>\n",
       "      <th>2020-12-30 19:00:00</th>\n",
       "      <td>-0.434041</td>\n",
       "      <td>1.0</td>\n",
       "      <td>-0.333333</td>\n",
       "      <td>0.652174</td>\n",
       "      <td>-1.0</td>\n",
       "      <td>-1.0</td>\n",
       "    </tr>\n",
       "    <tr>\n",
       "      <th>2020-12-30 20:00:00</th>\n",
       "      <td>-0.381919</td>\n",
       "      <td>1.0</td>\n",
       "      <td>-0.333333</td>\n",
       "      <td>0.739130</td>\n",
       "      <td>-1.0</td>\n",
       "      <td>-1.0</td>\n",
       "    </tr>\n",
       "    <tr>\n",
       "      <th>2020-12-30 21:00:00</th>\n",
       "      <td>-0.387454</td>\n",
       "      <td>1.0</td>\n",
       "      <td>-0.333333</td>\n",
       "      <td>0.826087</td>\n",
       "      <td>-1.0</td>\n",
       "      <td>-1.0</td>\n",
       "    </tr>\n",
       "    <tr>\n",
       "      <th>2020-12-30 22:00:00</th>\n",
       "      <td>-0.392989</td>\n",
       "      <td>1.0</td>\n",
       "      <td>-0.333333</td>\n",
       "      <td>0.913043</td>\n",
       "      <td>-1.0</td>\n",
       "      <td>-1.0</td>\n",
       "    </tr>\n",
       "    <tr>\n",
       "      <th>2020-12-30 23:00:00</th>\n",
       "      <td>-0.423432</td>\n",
       "      <td>1.0</td>\n",
       "      <td>-0.333333</td>\n",
       "      <td>1.000000</td>\n",
       "      <td>-1.0</td>\n",
       "      <td>-1.0</td>\n",
       "    </tr>\n",
       "  </tbody>\n",
       "</table>\n",
       "<p>122712 rows × 6 columns</p>\n",
       "</div>"
      ],
      "text/plain": [
       "                      DEMANDA  MES       DIA      HORA  LUNES_FESTIVO  \\\n",
       "FECHAHORA                                                               \n",
       "2007-01-01 00:00:00 -0.799354 -1.0 -1.000000 -1.000000           -1.0   \n",
       "2007-01-01 01:00:00 -0.844096 -1.0 -1.000000 -0.913043           -1.0   \n",
       "2007-01-01 02:00:00 -0.863469 -1.0 -1.000000 -0.826087           -1.0   \n",
       "2007-01-01 03:00:00 -0.878690 -1.0 -1.000000 -0.739130           -1.0   \n",
       "2007-01-01 04:00:00 -0.903598 -1.0 -1.000000 -0.652174           -1.0   \n",
       "...                       ...  ...       ...       ...            ...   \n",
       "2020-12-30 19:00:00 -0.434041  1.0 -0.333333  0.652174           -1.0   \n",
       "2020-12-30 20:00:00 -0.381919  1.0 -0.333333  0.739130           -1.0   \n",
       "2020-12-30 21:00:00 -0.387454  1.0 -0.333333  0.826087           -1.0   \n",
       "2020-12-30 22:00:00 -0.392989  1.0 -0.333333  0.913043           -1.0   \n",
       "2020-12-30 23:00:00 -0.423432  1.0 -0.333333  1.000000           -1.0   \n",
       "\n",
       "                     NAVIDAD_Y_NEW_YEAR  \n",
       "FECHAHORA                                \n",
       "2007-01-01 00:00:00                 1.0  \n",
       "2007-01-01 01:00:00                 1.0  \n",
       "2007-01-01 02:00:00                 1.0  \n",
       "2007-01-01 03:00:00                 1.0  \n",
       "2007-01-01 04:00:00                 1.0  \n",
       "...                                 ...  \n",
       "2020-12-30 19:00:00                -1.0  \n",
       "2020-12-30 20:00:00                -1.0  \n",
       "2020-12-30 21:00:00                -1.0  \n",
       "2020-12-30 22:00:00                -1.0  \n",
       "2020-12-30 23:00:00                -1.0  \n",
       "\n",
       "[122712 rows x 6 columns]"
      ]
     },
     "execution_count": 16,
     "metadata": {},
     "output_type": "execute_result"
    }
   ],
   "source": [
    "train[['DEMANDA',  'MES', 'DIA', 'HORA','LUNES_FESTIVO','NAVIDAD_Y_NEW_YEAR' ]]"
   ]
  },
  {
   "cell_type": "markdown",
   "id": "880bd7e4",
   "metadata": {
    "heading_collapsed": true
   },
   "source": [
    "## 4. Setting the tensors for the encoder"
   ]
  },
  {
   "cell_type": "markdown",
   "id": "707a737d",
   "metadata": {
    "hidden": true
   },
   "source": [
    "<summary>\n",
    "    <font size=\"3\" color=\"palevioletred\"><b>Hyperparameters</b></font>\n",
    "</summary>"
   ]
  },
  {
   "cell_type": "markdown",
   "id": "8f81a90c",
   "metadata": {
    "hidden": true
   },
   "source": [
    "* **past** $= (24 \\times 7) + 12 = 180$:  Number of instances considered before the day to forecast \n",
    "\n",
    "* **skip** $= 12$: Number of instances to skip between the past and the future, this is because CENACE personnel require a 12-hour window to process the information and estimate the forecast\n",
    "\n",
    "* **future** $= 24$: Number of instances to forecast \n",
    "\n",
    "\n",
    "e.g \n",
    "\n",
    "<img src=\"img/time_line.png\" alt=\"drawing\" width=\"200\"/>\n",
    "\n",
    "\n",
    "From hyperparameters we get:\n",
    "\n",
    "* $m$ = Number of pieces of instances of size $past+skip+future$ that fit on the training, validation and test set, respectively.\n"
   ]
  },
  {
   "cell_type": "markdown",
   "id": "f2a216df",
   "metadata": {
    "hidden": true
   },
   "source": [
    "<summary>\n",
    "    <font size=\"3\" color=\"palevioletred\"><b>Tensors dimension</b></font>\n",
    "</summary>"
   ]
  },
  {
   "cell_type": "markdown",
   "id": "0e023544",
   "metadata": {
    "hidden": true
   },
   "source": [
    "Past tensors:\n",
    "\n",
    "$$X_{past,n,m}$$\n",
    "\n",
    "\n",
    "* $n = 18$: number of features\n",
    "\n",
    "Future tensors:\n",
    "\n",
    "$$Y_{future,1,m}$$\n",
    "\n",
    "* $1$ means that we only consider the load energy demand in the corresponding instance\n",
    "\n",
    "<img src=\"img/tensors.png\" alt=\"drawing\" width=\"400\"/>\n"
   ]
  },
  {
   "cell_type": "markdown",
   "id": "041f9556",
   "metadata": {
    "hidden": true
   },
   "source": [
    "<summary>\n",
    "    <font size=\"3\" color=\"palevioletred\"><b>Past tensors features</b></font>\n",
    "</summary>"
   ]
  },
  {
   "cell_type": "markdown",
   "id": "96ecb819",
   "metadata": {
    "hidden": true
   },
   "source": [
    "\n",
    "ENDOGENOUS: Load energy demand in GCRNO at instance yyy-mm-dd hh:mm:ss\n",
    "\n",
    "* **DEMANDA** \n",
    "\n",
    "EXOGENOUS: \n",
    "\n",
    "Meteorological data\n",
    "\n",
    "* **PC1_TMAX**, **PC1_TMIN**, **PC1_PREC**, **PC2_PREC**\n",
    "\n",
    "Seasonality codification: day in the week, hour in the day, month in the year\n",
    "\n",
    "* **DIA**, **HORA**, **MES**\n",
    "\n",
    "Holidays binary features \n",
    "\n",
    "* **LUNES_FESTIVO**, **MARTES_POSTFESTIVO**, **SEMANA_SANTA**, **1_MAYO**, **10_MAYO**, **16_SEP**, **2_NOV.**, **PRE-NAVIDAD_Y_NEW_YEAR**, **NAVIDAD_Y_NEW_YEAR**, **POST-NAVIDAD_Y_NEW_YEAR**.\n",
    "\n",
    "After the end of the process, the columns corresponding to holidays will be have different meaning: e.g. the value 1 in **LUNES_FESTIVO** at instance 2022-03-10 21:00:00 means that the *next day* 2022-03-11 is \"holiday Monday\". The same for the other holiday. The codification of the day-time instance will be lost.\n"
   ]
  },
  {
   "cell_type": "markdown",
   "id": "d1fb45d0",
   "metadata": {
    "hidden": true
   },
   "source": [
    "<summary>\n",
    "    <font size=\"4\" color=\"orange\"><b>4.1 Setting  $X,Y$ tensors for training, validation and test sets</b></font>\n",
    "</summary>"
   ]
  },
  {
   "cell_type": "code",
   "execution_count": 17,
   "id": "6d6ce983",
   "metadata": {
    "hidden": true
   },
   "outputs": [],
   "source": [
    "# Setting hyperparameters\n",
    "n_pasado = (24 * 7) + 12\n",
    "n_futuro = 24\n",
    "n_salto = 12 "
   ]
  },
  {
   "cell_type": "code",
   "execution_count": 18,
   "id": "d6a1cd79",
   "metadata": {
    "hidden": true
   },
   "outputs": [],
   "source": [
    "def divide_series(series, indicadores, n_pasado, n_futuro, n_salto, es_train=True):\n",
    "    \"\"\"\n",
    "    n_pasado: number of past observations for the encoder\n",
    "    n_futuro: number of future observations\n",
    "    n_salto: from where future observations start to count\n",
    "    \"\"\"\n",
    "    X, y = list(), list() # Vamos a crear listas y al final hacemos ndarrays\n",
    "    generador = range(len(series)) if es_train else range(0, len(series), n_futuro)\n",
    "\n",
    "    for ini in generador:\n",
    "        fin_anterior = ini + n_pasado\n",
    "        fin_actual = fin_anterior + n_salto + n_futuro\n",
    "        if fin_actual > len(series):\n",
    "            break\n",
    "        pasado = series[ini: fin_anterior, :]\n",
    "        if len(indicadores) > 0: # replace next day value in \"Holidays\" features\n",
    "            for i in range(indicadores.shape[1]):\n",
    "                pasado = np.c_[pasado, indicadores[fin_anterior + n_salto + 1, i] * np.ones((n_pasado, 1))]\n",
    "        futuro = series[fin_anterior + n_salto: fin_actual,[0]]\n",
    "        X.append(pasado)\n",
    "        y.append(futuro)\n",
    "            \n",
    "    return np.array(X), np.array(y)"
   ]
  },
  {
   "cell_type": "code",
   "execution_count": 19,
   "id": "4b6272e3",
   "metadata": {
    "hidden": true
   },
   "outputs": [],
   "source": [
    "# Setting past tensors features\n",
    "features = ['DEMANDA', \n",
    "            'MES', \n",
    "            'DIA', \n",
    "            'HORA',\n",
    "            'TMAX-CAB', \n",
    "            'TMAX-HMO', \n",
    "            'TMAX-OBR', \n",
    "            'TMAX-LMO', \n",
    "            'TMAX-CUL', \n",
    "            'TMIN-CAB',\n",
    "            'TMIN-HMO', \n",
    "            'TMIN-OBR', \n",
    "            'TMIN-LMO', \n",
    "            'TMIN-CUL', \n",
    "            'PREC_HMO_MM',\n",
    "            'PREC_OBR_MM', \n",
    "            'PREC_LMO_MM', \n",
    "            'PREC_CUL_MM'\n",
    "           ]\n",
    "nominal_features = ['LUNES_FESTIVO',\n",
    "                    'MARTES_POSTFESTIVO', \n",
    "                    'SEMANA_SANTA', \n",
    "                    '1_MAYO', \n",
    "                    '10_MAYO', \n",
    "                    '16_SEP',\n",
    "                    '2_NOV.', \n",
    "                    'PRE-NAVIDAD_Y_NEW_YEAR', \n",
    "                    'NAVIDAD_Y_NEW_YEAR',\n",
    "                    'POST-NAVIDAD_Y_NEW_YEAR'\n",
    "                    ]"
   ]
  },
  {
   "cell_type": "code",
   "execution_count": 20,
   "id": "d200f3b3",
   "metadata": {
    "hidden": true
   },
   "outputs": [],
   "source": [
    "n_attr = len(features) + len(nominal_features)\n",
    "# Setting the tensors\n",
    "X_train, y_train = divide_series(train[features].values,train[nominal_features].values, n_pasado, n_futuro, n_salto)\n",
    "X_val, y_val = divide_series(val[features].values, val[nominal_features].values, n_pasado, n_futuro, n_salto)\n",
    "X_test, y_test = divide_series(test[features].values, test[nominal_features].values, n_pasado, n_futuro, n_salto, es_train=False)"
   ]
  },
  {
   "cell_type": "code",
   "execution_count": 21,
   "id": "51d94e14",
   "metadata": {
    "hidden": true
   },
   "outputs": [
    {
     "data": {
      "text/plain": [
       "(122497, 180, 28)"
      ]
     },
     "execution_count": 21,
     "metadata": {},
     "output_type": "execute_result"
    }
   ],
   "source": [
    "X_train.shape"
   ]
  },
  {
   "cell_type": "code",
   "execution_count": 22,
   "id": "89a6de66",
   "metadata": {},
   "outputs": [
    {
     "data": {
      "text/plain": [
       "(2642, 180, 28)"
      ]
     },
     "execution_count": 22,
     "metadata": {},
     "output_type": "execute_result"
    }
   ],
   "source": [
    "X_val.shape"
   ]
  },
  {
   "cell_type": "code",
   "execution_count": 23,
   "id": "037f8472",
   "metadata": {},
   "outputs": [
    {
     "data": {
      "text/plain": [
       "(357, 180, 28)"
      ]
     },
     "execution_count": 23,
     "metadata": {},
     "output_type": "execute_result"
    }
   ],
   "source": [
    "X_test.shape"
   ]
  },
  {
   "cell_type": "markdown",
   "id": "2d1b6f17",
   "metadata": {
    "hidden": true
   },
   "source": [
    "<summary>\n",
    "    <font size=\"4\" color=\"orange\"><b>4.2  Exporting tensors</b></font>\n",
    "</summary>"
   ]
  },
  {
   "cell_type": "code",
   "execution_count": 24,
   "id": "68ed2268",
   "metadata": {
    "hidden": true
   },
   "outputs": [],
   "source": [
    "np.save('./outputs/split/X_train.npy', X_train)\n",
    "np.save('./outputs/split/X_val.npy', X_val)\n",
    "np.save('./outputs/split/X_test.npy', X_test)\n",
    "np.save('./outputs/split/y_train.npy', y_train)\n",
    "np.save('./outputs/split/y_val.npy', y_val)\n",
    "np.save('./outputs/split/y_test.npy', y_test)"
   ]
  },
  {
   "cell_type": "code",
   "execution_count": 25,
   "id": "bc367407",
   "metadata": {
    "hidden": true
   },
   "outputs": [
    {
     "data": {
      "image/png": "[encoded data removed]",
      "text/plain": [
       "<IPython.core.display.Image object>"
      ]
     },
     "execution_count": 25,
     "metadata": {},
     "output_type": "execute_result"
    }
   ],
   "source": [
    "from IPython import display\n",
    "display.Image(\"https://mcd.unison.mx/wp-content/themes/awaken/img/logo_mcd.png\", embed = True)"
   ]
  },
  {
   "cell_type": "markdown",
   "id": "bec571e5",
   "metadata": {
    "hidden": true
   },
   "source": [
    "<summary>\n",
    "    <font size=\"4\" color=\"gray\"> Maestría en Ciencia de Datos | Universidad de Sonora </font>\n",
    "</summary>\n",
    "<font size=\"1\" color=\"gray\"> Blvd. Luis Encinas y Rosales s/n Col. Centro. Edificio 3K1 planta baja C.P. 83000, Hermosillo, Sonora, México </font>\n",
    "<font size=\"1\" color=\"gray\"> mcd@unison.mx </font>\n",
    "<font size=\"1\" color=\"gray\"> Tel: +52 (662) 259 2155  </font>"
   ]
  },
  {
   "cell_type": "markdown",
   "id": "485adc07",
   "metadata": {
    "hidden": true
   },
   "source": [
    "\n"
   ]
  },
  {
   "cell_type": "code",
   "execution_count": null,
   "id": "5ee928e4",
   "metadata": {
    "hidden": true
   },
   "outputs": [],
   "source": []
  }
 ],
 "metadata": {
  "kernelspec": {
   "display_name": "Python 3 (ipykernel)",
   "language": "python",
   "name": "python3"
  },
  "language_info": {
   "codemirror_mode": {
    "name": "ipython",
    "version": 3
   },
   "file_extension": ".py",
   "mimetype": "text/x-python",
   "name": "python",
   "nbconvert_exporter": "python",
   "pygments_lexer": "ipython3",
   "version": "3.9.12"
  }
 },
 "nbformat": 4,
 "nbformat_minor": 5
}
