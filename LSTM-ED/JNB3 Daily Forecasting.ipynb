{
 "cells": [
  {
   "cell_type": "markdown",
   "id": "447ce06f",
   "metadata": {},
   "source": [
    "![spam](img/JB3.png)"
   ]
  },
  {
   "cell_type": "code",
   "execution_count": 1,
   "id": "ae299e7b",
   "metadata": {},
   "outputs": [],
   "source": [
    "import warnings\n",
    "warnings.filterwarnings('ignore')"
   ]
  },
  {
   "cell_type": "markdown",
   "id": "f37146e0",
   "metadata": {
    "heading_collapsed": true
   },
   "source": [
    "## 1.   Importing libraries, functions and model"
   ]
  },
  {
   "cell_type": "code",
   "execution_count": 2,
   "id": "5a7c2c32",
   "metadata": {
    "hidden": true
   },
   "outputs": [
    {
     "name": "stdout",
     "output_type": "stream",
     "text": [
      "Requirement already satisfied: openpyxl in /Users/rafaelarce/miniforge3/envs/env-tf/lib/python3.9/site-packages (3.0.9)\r\n",
      "Requirement already satisfied: et-xmlfile in /Users/rafaelarce/miniforge3/envs/env-tf/lib/python3.9/site-packages (from openpyxl) (1.1.0)\r\n"
     ]
    }
   ],
   "source": [
    "# Basic libraries\n",
    "import numpy as np\n",
    "import pandas as pd\n",
    "import matplotlib.pyplot as plt\n",
    "\n",
    "\n",
    "# Normalization libraries\n",
    "from sklearn.preprocessing import MinMaxScaler\n",
    "from sklearn.metrics import mean_absolute_percentage_error, r2_score\n",
    "from sklearn.decomposition import PCA\n",
    "\n",
    "#Tensorflow con keras\n",
    "import tensorflow as tf\n",
    "from tensorflow import keras\n",
    "\n",
    "from tensorflow.keras import layers\n",
    "from tensorflow.keras.models import load_model\n",
    "\n",
    "# Easy graphs with plotly\n",
    "import plotly.express as px\n",
    "import plotly.graph_objects as go\n",
    "\n",
    "# Matplotlib graphics custumization\n",
    "plt.style.use('ggplot')\n",
    "plt.rcParams['figure.figsize'] = (15,7)\n",
    "import pickle as pk\n",
    "\n",
    "!pip install openpyxl\n",
    "# import xlrd\n",
    "\n",
    "# Statistics\n",
    "import scipy\n",
    "from scipy import stats"
   ]
  },
  {
   "cell_type": "code",
   "execution_count": 3,
   "id": "d6289049",
   "metadata": {
    "hidden": true
   },
   "outputs": [],
   "source": [
    "# Getting PCA functions\n",
    "%run \"./funciones/pcafunction.ipynb\""
   ]
  },
  {
   "cell_type": "code",
   "execution_count": 4,
   "id": "edefcf27",
   "metadata": {
    "hidden": true
   },
   "outputs": [
    {
     "name": "stdout",
     "output_type": "stream",
     "text": [
      "Metal device set to: Apple M1 Max\n"
     ]
    },
    {
     "name": "stderr",
     "output_type": "stream",
     "text": [
      "2022-08-12 19:58:54.693882: I tensorflow/core/common_runtime/pluggable_device/pluggable_device_factory.cc:305] Could not identify NUMA node of platform GPU ID 0, defaulting to 0. Your kernel may not have been built with NUMA support.\n",
      "2022-08-12 19:58:54.694010: I tensorflow/core/common_runtime/pluggable_device/pluggable_device_factory.cc:271] Created TensorFlow device (/job:localhost/replica:0/task:0/device:GPU:0 with 0 MB memory) -> physical PluggableDevice (device: 0, name: METAL, pci bus id: <undefined>)\n"
     ]
    }
   ],
   "source": [
    "# Getting the model\n",
    "modelo = load_model(\"./outputs/h5/modelo.h5\")"
   ]
  },
  {
   "cell_type": "markdown",
   "id": "c715206d",
   "metadata": {
    "hidden": true
   },
   "source": [
    "<summary>\n",
    "    <font size=\"4\" color=\"orange\"><b>1.1 Setting the parameters according to the tensors created in JNB1</b></font>\n",
    "</summary>\n"
   ]
  },
  {
   "cell_type": "code",
   "execution_count": 5,
   "id": "30e1308b",
   "metadata": {
    "hidden": true
   },
   "outputs": [],
   "source": [
    "n_pasado = (24 * 7) + 12\n",
    "n_futuro = 24\n",
    "n_salto = 12"
   ]
  },
  {
   "cell_type": "markdown",
   "id": "9eb396f3",
   "metadata": {
    "heading_collapsed": true
   },
   "source": [
    "## 2.   Dataset preprocessing"
   ]
  },
  {
   "cell_type": "markdown",
   "id": "b08efcf0",
   "metadata": {
    "heading_collapsed": true,
    "hidden": true
   },
   "source": [
    "* The last time-line instance has to be the day before you want to forecast at 11:00:00. e.g. if we want to make the forecast for December 13, 2021, the last instance has to be 2021-12-12 11:00:00\n",
    "* We also create the data frame with holidays information of the day to forecast"
   ]
  },
  {
   "cell_type": "markdown",
   "id": "0a7141b7",
   "metadata": {
    "hidden": true
   },
   "source": [
    "<summary>\n",
    "    <font size=\"4\" color=\"orange\"><b>1.1 Loading CENACE database </b></font>\n",
    "</summary>"
   ]
  },
  {
   "cell_type": "code",
   "execution_count": 6,
   "id": "3656f3c8",
   "metadata": {
    "hidden": true
   },
   "outputs": [],
   "source": [
    "url = \"./inputs/Dataset GCRNO120522 DF.xlsx\" #data #data\n",
    "gcrno = pd.read_excel(url)"
   ]
  },
  {
   "cell_type": "markdown",
   "id": "23f25e4b",
   "metadata": {
    "hidden": true
   },
   "source": [
    "<summary>\n",
    "    <font size=\"4\" color=\"orange\"><b>1.2. Dataframe rearrangement</b></font>\n",
    "</summary>"
   ]
  },
  {
   "cell_type": "code",
   "execution_count": 7,
   "id": "68b7bb9c",
   "metadata": {
    "hidden": true
   },
   "outputs": [],
   "source": [
    "# Transposing hours columns from the original dataframe into rows\n",
    "consumo_data = gcrno.melt(\n",
    "    id_vars= ['FECHA'],\n",
    "    value_vars= [f'DEM_GCRNO_H{i}' for i in range(24)],\n",
    "    var_name=\"Hora\",\n",
    "    value_name=\"Demanda\"\n",
    ").replace(\n",
    "    {f'DEM_GCRNO_H{i}': i for i in range(24)}\n",
    ")\n",
    "\n",
    "consumo_data.index = consumo_data.FECHA + pd.to_timedelta(consumo_data.Hora, unit='h')\n",
    "consumo_data.sort_index(inplace=True)\n",
    "consumo_data.drop(columns=['Hora'], inplace=True)\n",
    "consumo_data = consumo_data.asfreq('H', method='pad')\n",
    "consumo_data['Fecha-Hora'] = consumo_data.index\n",
    "consumo_data[\"Dia\"] = consumo_data.index.weekday\n",
    "consumo_data[\"Hora\"] = consumo_data.index.hour\n",
    "consumo_data[\"Mes\"] = consumo_data.index.month"
   ]
  },
  {
   "cell_type": "code",
   "execution_count": 8,
   "id": "3f3ab0dd",
   "metadata": {
    "hidden": true
   },
   "outputs": [],
   "source": [
    "# Adding columns of exogenous variables\n",
    "exogenas = gcrno[['FECHA','TMAX-CAB', 'TMAX-HMO', 'TMAX-OBR', 'TMAX-LMO', 'TMAX-CUL', 'TMIN-CAB',\n",
    "       'TMIN-HMO', 'TMIN-OBR', 'TMIN-LMO', 'TMIN-CUL', 'PREC_HMO_MM',\n",
    "       'PREC_OBR_MM', 'PREC_LMO_MM', 'PREC_CUL_MM', 'LUNES_FESTIVO',\n",
    "       'MARTES_POSTFESTIVO', 'SEMANA_SANTA', '1_MAYO', '10_MAYO', '16_SEP',\n",
    "       '2_NOV.', 'PRE-NAVIDAD_Y_NEW_YEAR', 'NAVIDAD_Y_NEW_YEAR',\n",
    "       'POST-NAVIDAD_Y_NEW_YEAR']]\n",
    "consumo = pd.merge(consumo_data, exogenas, on='FECHA', how='left')"
   ]
  },
  {
   "cell_type": "code",
   "execution_count": 9,
   "id": "0ca2a7a3",
   "metadata": {
    "hidden": true
   },
   "outputs": [
    {
     "data": {
      "text/html": [
       "<div>\n",
       "<style scoped>\n",
       "    .dataframe tbody tr th:only-of-type {\n",
       "        vertical-align: middle;\n",
       "    }\n",
       "\n",
       "    .dataframe tbody tr th {\n",
       "        vertical-align: top;\n",
       "    }\n",
       "\n",
       "    .dataframe thead th {\n",
       "        text-align: right;\n",
       "    }\n",
       "</style>\n",
       "<table border=\"1\" class=\"dataframe\">\n",
       "  <thead>\n",
       "    <tr style=\"text-align: right;\">\n",
       "      <th></th>\n",
       "      <th>FECHA</th>\n",
       "      <th>Demanda</th>\n",
       "      <th>Dia</th>\n",
       "      <th>Hora</th>\n",
       "      <th>Mes</th>\n",
       "      <th>TMAX-CAB</th>\n",
       "      <th>TMAX-HMO</th>\n",
       "      <th>TMAX-OBR</th>\n",
       "      <th>TMAX-LMO</th>\n",
       "      <th>TMAX-CUL</th>\n",
       "      <th>...</th>\n",
       "      <th>MARTES_POSTFESTIVO</th>\n",
       "      <th>SEMANA_SANTA</th>\n",
       "      <th>1_MAYO</th>\n",
       "      <th>10_MAYO</th>\n",
       "      <th>16_SEP</th>\n",
       "      <th>2_NOV.</th>\n",
       "      <th>PRE-NAVIDAD_Y_NEW_YEAR</th>\n",
       "      <th>NAVIDAD_Y_NEW_YEAR</th>\n",
       "      <th>POST-NAVIDAD_Y_NEW_YEAR</th>\n",
       "      <th>Fecha-Hora</th>\n",
       "    </tr>\n",
       "    <tr>\n",
       "      <th>Fecha-Hora</th>\n",
       "      <th></th>\n",
       "      <th></th>\n",
       "      <th></th>\n",
       "      <th></th>\n",
       "      <th></th>\n",
       "      <th></th>\n",
       "      <th></th>\n",
       "      <th></th>\n",
       "      <th></th>\n",
       "      <th></th>\n",
       "      <th></th>\n",
       "      <th></th>\n",
       "      <th></th>\n",
       "      <th></th>\n",
       "      <th></th>\n",
       "      <th></th>\n",
       "      <th></th>\n",
       "      <th></th>\n",
       "      <th></th>\n",
       "      <th></th>\n",
       "      <th></th>\n",
       "    </tr>\n",
       "  </thead>\n",
       "  <tbody>\n",
       "    <tr>\n",
       "      <th>2007-01-01 00:00:00</th>\n",
       "      <td>2007-01-01</td>\n",
       "      <td>1394</td>\n",
       "      <td>0</td>\n",
       "      <td>0</td>\n",
       "      <td>1</td>\n",
       "      <td>21.0</td>\n",
       "      <td>22.0</td>\n",
       "      <td>25.0</td>\n",
       "      <td>30.0</td>\n",
       "      <td>29.0</td>\n",
       "      <td>...</td>\n",
       "      <td>0</td>\n",
       "      <td>0</td>\n",
       "      <td>0</td>\n",
       "      <td>0</td>\n",
       "      <td>0</td>\n",
       "      <td>0</td>\n",
       "      <td>0</td>\n",
       "      <td>1</td>\n",
       "      <td>0</td>\n",
       "      <td>2007-01-01 00:00:00</td>\n",
       "    </tr>\n",
       "    <tr>\n",
       "      <th>2007-01-01 01:00:00</th>\n",
       "      <td>2007-01-01</td>\n",
       "      <td>1297</td>\n",
       "      <td>0</td>\n",
       "      <td>1</td>\n",
       "      <td>1</td>\n",
       "      <td>21.0</td>\n",
       "      <td>22.0</td>\n",
       "      <td>25.0</td>\n",
       "      <td>30.0</td>\n",
       "      <td>29.0</td>\n",
       "      <td>...</td>\n",
       "      <td>0</td>\n",
       "      <td>0</td>\n",
       "      <td>0</td>\n",
       "      <td>0</td>\n",
       "      <td>0</td>\n",
       "      <td>0</td>\n",
       "      <td>0</td>\n",
       "      <td>1</td>\n",
       "      <td>0</td>\n",
       "      <td>2007-01-01 01:00:00</td>\n",
       "    </tr>\n",
       "    <tr>\n",
       "      <th>2007-01-01 02:00:00</th>\n",
       "      <td>2007-01-01</td>\n",
       "      <td>1255</td>\n",
       "      <td>0</td>\n",
       "      <td>2</td>\n",
       "      <td>1</td>\n",
       "      <td>21.0</td>\n",
       "      <td>22.0</td>\n",
       "      <td>25.0</td>\n",
       "      <td>30.0</td>\n",
       "      <td>29.0</td>\n",
       "      <td>...</td>\n",
       "      <td>0</td>\n",
       "      <td>0</td>\n",
       "      <td>0</td>\n",
       "      <td>0</td>\n",
       "      <td>0</td>\n",
       "      <td>0</td>\n",
       "      <td>0</td>\n",
       "      <td>1</td>\n",
       "      <td>0</td>\n",
       "      <td>2007-01-01 02:00:00</td>\n",
       "    </tr>\n",
       "    <tr>\n",
       "      <th>2007-01-01 03:00:00</th>\n",
       "      <td>2007-01-01</td>\n",
       "      <td>1222</td>\n",
       "      <td>0</td>\n",
       "      <td>3</td>\n",
       "      <td>1</td>\n",
       "      <td>21.0</td>\n",
       "      <td>22.0</td>\n",
       "      <td>25.0</td>\n",
       "      <td>30.0</td>\n",
       "      <td>29.0</td>\n",
       "      <td>...</td>\n",
       "      <td>0</td>\n",
       "      <td>0</td>\n",
       "      <td>0</td>\n",
       "      <td>0</td>\n",
       "      <td>0</td>\n",
       "      <td>0</td>\n",
       "      <td>0</td>\n",
       "      <td>1</td>\n",
       "      <td>0</td>\n",
       "      <td>2007-01-01 03:00:00</td>\n",
       "    </tr>\n",
       "    <tr>\n",
       "      <th>2007-01-01 04:00:00</th>\n",
       "      <td>2007-01-01</td>\n",
       "      <td>1168</td>\n",
       "      <td>0</td>\n",
       "      <td>4</td>\n",
       "      <td>1</td>\n",
       "      <td>21.0</td>\n",
       "      <td>22.0</td>\n",
       "      <td>25.0</td>\n",
       "      <td>30.0</td>\n",
       "      <td>29.0</td>\n",
       "      <td>...</td>\n",
       "      <td>0</td>\n",
       "      <td>0</td>\n",
       "      <td>0</td>\n",
       "      <td>0</td>\n",
       "      <td>0</td>\n",
       "      <td>0</td>\n",
       "      <td>0</td>\n",
       "      <td>1</td>\n",
       "      <td>0</td>\n",
       "      <td>2007-01-01 04:00:00</td>\n",
       "    </tr>\n",
       "    <tr>\n",
       "      <th>...</th>\n",
       "      <td>...</td>\n",
       "      <td>...</td>\n",
       "      <td>...</td>\n",
       "      <td>...</td>\n",
       "      <td>...</td>\n",
       "      <td>...</td>\n",
       "      <td>...</td>\n",
       "      <td>...</td>\n",
       "      <td>...</td>\n",
       "      <td>...</td>\n",
       "      <td>...</td>\n",
       "      <td>...</td>\n",
       "      <td>...</td>\n",
       "      <td>...</td>\n",
       "      <td>...</td>\n",
       "      <td>...</td>\n",
       "      <td>...</td>\n",
       "      <td>...</td>\n",
       "      <td>...</td>\n",
       "      <td>...</td>\n",
       "      <td>...</td>\n",
       "    </tr>\n",
       "    <tr>\n",
       "      <th>2022-05-12 19:00:00</th>\n",
       "      <td>2022-05-12</td>\n",
       "      <td>3861</td>\n",
       "      <td>3</td>\n",
       "      <td>19</td>\n",
       "      <td>5</td>\n",
       "      <td>34.0</td>\n",
       "      <td>37.0</td>\n",
       "      <td>38.0</td>\n",
       "      <td>36.0</td>\n",
       "      <td>40.0</td>\n",
       "      <td>...</td>\n",
       "      <td>0</td>\n",
       "      <td>0</td>\n",
       "      <td>0</td>\n",
       "      <td>0</td>\n",
       "      <td>0</td>\n",
       "      <td>0</td>\n",
       "      <td>0</td>\n",
       "      <td>0</td>\n",
       "      <td>0</td>\n",
       "      <td>2022-05-12 19:00:00</td>\n",
       "    </tr>\n",
       "    <tr>\n",
       "      <th>2022-05-12 20:00:00</th>\n",
       "      <td>2022-05-12</td>\n",
       "      <td>3668</td>\n",
       "      <td>3</td>\n",
       "      <td>20</td>\n",
       "      <td>5</td>\n",
       "      <td>34.0</td>\n",
       "      <td>37.0</td>\n",
       "      <td>38.0</td>\n",
       "      <td>36.0</td>\n",
       "      <td>40.0</td>\n",
       "      <td>...</td>\n",
       "      <td>0</td>\n",
       "      <td>0</td>\n",
       "      <td>0</td>\n",
       "      <td>0</td>\n",
       "      <td>0</td>\n",
       "      <td>0</td>\n",
       "      <td>0</td>\n",
       "      <td>0</td>\n",
       "      <td>0</td>\n",
       "      <td>2022-05-12 20:00:00</td>\n",
       "    </tr>\n",
       "    <tr>\n",
       "      <th>2022-05-12 21:00:00</th>\n",
       "      <td>2022-05-12</td>\n",
       "      <td>3692</td>\n",
       "      <td>3</td>\n",
       "      <td>21</td>\n",
       "      <td>5</td>\n",
       "      <td>34.0</td>\n",
       "      <td>37.0</td>\n",
       "      <td>38.0</td>\n",
       "      <td>36.0</td>\n",
       "      <td>40.0</td>\n",
       "      <td>...</td>\n",
       "      <td>0</td>\n",
       "      <td>0</td>\n",
       "      <td>0</td>\n",
       "      <td>0</td>\n",
       "      <td>0</td>\n",
       "      <td>0</td>\n",
       "      <td>0</td>\n",
       "      <td>0</td>\n",
       "      <td>0</td>\n",
       "      <td>2022-05-12 21:00:00</td>\n",
       "    </tr>\n",
       "    <tr>\n",
       "      <th>2022-05-12 22:00:00</th>\n",
       "      <td>2022-05-12</td>\n",
       "      <td>3777</td>\n",
       "      <td>3</td>\n",
       "      <td>22</td>\n",
       "      <td>5</td>\n",
       "      <td>34.0</td>\n",
       "      <td>37.0</td>\n",
       "      <td>38.0</td>\n",
       "      <td>36.0</td>\n",
       "      <td>40.0</td>\n",
       "      <td>...</td>\n",
       "      <td>0</td>\n",
       "      <td>0</td>\n",
       "      <td>0</td>\n",
       "      <td>0</td>\n",
       "      <td>0</td>\n",
       "      <td>0</td>\n",
       "      <td>0</td>\n",
       "      <td>0</td>\n",
       "      <td>0</td>\n",
       "      <td>2022-05-12 22:00:00</td>\n",
       "    </tr>\n",
       "    <tr>\n",
       "      <th>2022-05-12 23:00:00</th>\n",
       "      <td>2022-05-12</td>\n",
       "      <td>3796</td>\n",
       "      <td>3</td>\n",
       "      <td>23</td>\n",
       "      <td>5</td>\n",
       "      <td>34.0</td>\n",
       "      <td>37.0</td>\n",
       "      <td>38.0</td>\n",
       "      <td>36.0</td>\n",
       "      <td>40.0</td>\n",
       "      <td>...</td>\n",
       "      <td>0</td>\n",
       "      <td>0</td>\n",
       "      <td>0</td>\n",
       "      <td>0</td>\n",
       "      <td>0</td>\n",
       "      <td>0</td>\n",
       "      <td>0</td>\n",
       "      <td>0</td>\n",
       "      <td>0</td>\n",
       "      <td>2022-05-12 23:00:00</td>\n",
       "    </tr>\n",
       "  </tbody>\n",
       "</table>\n",
       "<p>134664 rows × 30 columns</p>\n",
       "</div>"
      ],
      "text/plain": [
       "                         FECHA  Demanda  Dia  Hora  Mes  TMAX-CAB  TMAX-HMO  \\\n",
       "Fecha-Hora                                                                    \n",
       "2007-01-01 00:00:00 2007-01-01     1394    0     0    1      21.0      22.0   \n",
       "2007-01-01 01:00:00 2007-01-01     1297    0     1    1      21.0      22.0   \n",
       "2007-01-01 02:00:00 2007-01-01     1255    0     2    1      21.0      22.0   \n",
       "2007-01-01 03:00:00 2007-01-01     1222    0     3    1      21.0      22.0   \n",
       "2007-01-01 04:00:00 2007-01-01     1168    0     4    1      21.0      22.0   \n",
       "...                        ...      ...  ...   ...  ...       ...       ...   \n",
       "2022-05-12 19:00:00 2022-05-12     3861    3    19    5      34.0      37.0   \n",
       "2022-05-12 20:00:00 2022-05-12     3668    3    20    5      34.0      37.0   \n",
       "2022-05-12 21:00:00 2022-05-12     3692    3    21    5      34.0      37.0   \n",
       "2022-05-12 22:00:00 2022-05-12     3777    3    22    5      34.0      37.0   \n",
       "2022-05-12 23:00:00 2022-05-12     3796    3    23    5      34.0      37.0   \n",
       "\n",
       "                     TMAX-OBR  TMAX-LMO  TMAX-CUL  ...  MARTES_POSTFESTIVO  \\\n",
       "Fecha-Hora                                         ...                       \n",
       "2007-01-01 00:00:00      25.0      30.0      29.0  ...                   0   \n",
       "2007-01-01 01:00:00      25.0      30.0      29.0  ...                   0   \n",
       "2007-01-01 02:00:00      25.0      30.0      29.0  ...                   0   \n",
       "2007-01-01 03:00:00      25.0      30.0      29.0  ...                   0   \n",
       "2007-01-01 04:00:00      25.0      30.0      29.0  ...                   0   \n",
       "...                       ...       ...       ...  ...                 ...   \n",
       "2022-05-12 19:00:00      38.0      36.0      40.0  ...                   0   \n",
       "2022-05-12 20:00:00      38.0      36.0      40.0  ...                   0   \n",
       "2022-05-12 21:00:00      38.0      36.0      40.0  ...                   0   \n",
       "2022-05-12 22:00:00      38.0      36.0      40.0  ...                   0   \n",
       "2022-05-12 23:00:00      38.0      36.0      40.0  ...                   0   \n",
       "\n",
       "                     SEMANA_SANTA  1_MAYO  10_MAYO  16_SEP  2_NOV.  \\\n",
       "Fecha-Hora                                                           \n",
       "2007-01-01 00:00:00             0       0        0       0       0   \n",
       "2007-01-01 01:00:00             0       0        0       0       0   \n",
       "2007-01-01 02:00:00             0       0        0       0       0   \n",
       "2007-01-01 03:00:00             0       0        0       0       0   \n",
       "2007-01-01 04:00:00             0       0        0       0       0   \n",
       "...                           ...     ...      ...     ...     ...   \n",
       "2022-05-12 19:00:00             0       0        0       0       0   \n",
       "2022-05-12 20:00:00             0       0        0       0       0   \n",
       "2022-05-12 21:00:00             0       0        0       0       0   \n",
       "2022-05-12 22:00:00             0       0        0       0       0   \n",
       "2022-05-12 23:00:00             0       0        0       0       0   \n",
       "\n",
       "                     PRE-NAVIDAD_Y_NEW_YEAR  NAVIDAD_Y_NEW_YEAR  \\\n",
       "Fecha-Hora                                                        \n",
       "2007-01-01 00:00:00                       0                   1   \n",
       "2007-01-01 01:00:00                       0                   1   \n",
       "2007-01-01 02:00:00                       0                   1   \n",
       "2007-01-01 03:00:00                       0                   1   \n",
       "2007-01-01 04:00:00                       0                   1   \n",
       "...                                     ...                 ...   \n",
       "2022-05-12 19:00:00                       0                   0   \n",
       "2022-05-12 20:00:00                       0                   0   \n",
       "2022-05-12 21:00:00                       0                   0   \n",
       "2022-05-12 22:00:00                       0                   0   \n",
       "2022-05-12 23:00:00                       0                   0   \n",
       "\n",
       "                     POST-NAVIDAD_Y_NEW_YEAR          Fecha-Hora  \n",
       "Fecha-Hora                                                        \n",
       "2007-01-01 00:00:00                        0 2007-01-01 00:00:00  \n",
       "2007-01-01 01:00:00                        0 2007-01-01 01:00:00  \n",
       "2007-01-01 02:00:00                        0 2007-01-01 02:00:00  \n",
       "2007-01-01 03:00:00                        0 2007-01-01 03:00:00  \n",
       "2007-01-01 04:00:00                        0 2007-01-01 04:00:00  \n",
       "...                                      ...                 ...  \n",
       "2022-05-12 19:00:00                        0 2022-05-12 19:00:00  \n",
       "2022-05-12 20:00:00                        0 2022-05-12 20:00:00  \n",
       "2022-05-12 21:00:00                        0 2022-05-12 21:00:00  \n",
       "2022-05-12 22:00:00                        0 2022-05-12 22:00:00  \n",
       "2022-05-12 23:00:00                        0 2022-05-12 23:00:00  \n",
       "\n",
       "[134664 rows x 30 columns]"
      ]
     },
     "execution_count": 9,
     "metadata": {},
     "output_type": "execute_result"
    }
   ],
   "source": [
    "# Setting as index the DATE-HOUR\n",
    "consumo.set_index(\"Fecha-Hora\", inplace=True)\n",
    "consumo=consumo.asfreq('h')\n",
    "consumo['Fecha-Hora'] = consumo.index\n",
    "\n",
    "# Result\n",
    "consumo"
   ]
  },
  {
   "cell_type": "code",
   "execution_count": 10,
   "id": "2a0d853a",
   "metadata": {},
   "outputs": [
    {
     "data": {
      "text/html": [
       "<div>\n",
       "<style scoped>\n",
       "    .dataframe tbody tr th:only-of-type {\n",
       "        vertical-align: middle;\n",
       "    }\n",
       "\n",
       "    .dataframe tbody tr th {\n",
       "        vertical-align: top;\n",
       "    }\n",
       "\n",
       "    .dataframe thead th {\n",
       "        text-align: right;\n",
       "    }\n",
       "</style>\n",
       "<table border=\"1\" class=\"dataframe\">\n",
       "  <thead>\n",
       "    <tr style=\"text-align: right;\">\n",
       "      <th></th>\n",
       "      <th>FECHA</th>\n",
       "      <th>Demanda</th>\n",
       "      <th>Dia</th>\n",
       "      <th>Hora</th>\n",
       "      <th>Mes</th>\n",
       "      <th>TMAX-CAB</th>\n",
       "      <th>TMAX-HMO</th>\n",
       "      <th>TMAX-OBR</th>\n",
       "      <th>TMAX-LMO</th>\n",
       "      <th>TMAX-CUL</th>\n",
       "      <th>...</th>\n",
       "      <th>MARTES_POSTFESTIVO</th>\n",
       "      <th>SEMANA_SANTA</th>\n",
       "      <th>1_MAYO</th>\n",
       "      <th>10_MAYO</th>\n",
       "      <th>16_SEP</th>\n",
       "      <th>2_NOV.</th>\n",
       "      <th>PRE-NAVIDAD_Y_NEW_YEAR</th>\n",
       "      <th>NAVIDAD_Y_NEW_YEAR</th>\n",
       "      <th>POST-NAVIDAD_Y_NEW_YEAR</th>\n",
       "      <th>Fecha-Hora</th>\n",
       "    </tr>\n",
       "    <tr>\n",
       "      <th>Fecha-Hora</th>\n",
       "      <th></th>\n",
       "      <th></th>\n",
       "      <th></th>\n",
       "      <th></th>\n",
       "      <th></th>\n",
       "      <th></th>\n",
       "      <th></th>\n",
       "      <th></th>\n",
       "      <th></th>\n",
       "      <th></th>\n",
       "      <th></th>\n",
       "      <th></th>\n",
       "      <th></th>\n",
       "      <th></th>\n",
       "      <th></th>\n",
       "      <th></th>\n",
       "      <th></th>\n",
       "      <th></th>\n",
       "      <th></th>\n",
       "      <th></th>\n",
       "      <th></th>\n",
       "    </tr>\n",
       "  </thead>\n",
       "  <tbody>\n",
       "    <tr>\n",
       "      <th>2007-01-01 00:00:00</th>\n",
       "      <td>2007-01-01</td>\n",
       "      <td>1394</td>\n",
       "      <td>0</td>\n",
       "      <td>0</td>\n",
       "      <td>1</td>\n",
       "      <td>21.0</td>\n",
       "      <td>22.0</td>\n",
       "      <td>25.0</td>\n",
       "      <td>30.0</td>\n",
       "      <td>29.0</td>\n",
       "      <td>...</td>\n",
       "      <td>0</td>\n",
       "      <td>0</td>\n",
       "      <td>0</td>\n",
       "      <td>0</td>\n",
       "      <td>0</td>\n",
       "      <td>0</td>\n",
       "      <td>0</td>\n",
       "      <td>1</td>\n",
       "      <td>0</td>\n",
       "      <td>2007-01-01 00:00:00</td>\n",
       "    </tr>\n",
       "    <tr>\n",
       "      <th>2007-01-01 01:00:00</th>\n",
       "      <td>2007-01-01</td>\n",
       "      <td>1297</td>\n",
       "      <td>0</td>\n",
       "      <td>1</td>\n",
       "      <td>1</td>\n",
       "      <td>21.0</td>\n",
       "      <td>22.0</td>\n",
       "      <td>25.0</td>\n",
       "      <td>30.0</td>\n",
       "      <td>29.0</td>\n",
       "      <td>...</td>\n",
       "      <td>0</td>\n",
       "      <td>0</td>\n",
       "      <td>0</td>\n",
       "      <td>0</td>\n",
       "      <td>0</td>\n",
       "      <td>0</td>\n",
       "      <td>0</td>\n",
       "      <td>1</td>\n",
       "      <td>0</td>\n",
       "      <td>2007-01-01 01:00:00</td>\n",
       "    </tr>\n",
       "    <tr>\n",
       "      <th>2007-01-01 02:00:00</th>\n",
       "      <td>2007-01-01</td>\n",
       "      <td>1255</td>\n",
       "      <td>0</td>\n",
       "      <td>2</td>\n",
       "      <td>1</td>\n",
       "      <td>21.0</td>\n",
       "      <td>22.0</td>\n",
       "      <td>25.0</td>\n",
       "      <td>30.0</td>\n",
       "      <td>29.0</td>\n",
       "      <td>...</td>\n",
       "      <td>0</td>\n",
       "      <td>0</td>\n",
       "      <td>0</td>\n",
       "      <td>0</td>\n",
       "      <td>0</td>\n",
       "      <td>0</td>\n",
       "      <td>0</td>\n",
       "      <td>1</td>\n",
       "      <td>0</td>\n",
       "      <td>2007-01-01 02:00:00</td>\n",
       "    </tr>\n",
       "    <tr>\n",
       "      <th>2007-01-01 03:00:00</th>\n",
       "      <td>2007-01-01</td>\n",
       "      <td>1222</td>\n",
       "      <td>0</td>\n",
       "      <td>3</td>\n",
       "      <td>1</td>\n",
       "      <td>21.0</td>\n",
       "      <td>22.0</td>\n",
       "      <td>25.0</td>\n",
       "      <td>30.0</td>\n",
       "      <td>29.0</td>\n",
       "      <td>...</td>\n",
       "      <td>0</td>\n",
       "      <td>0</td>\n",
       "      <td>0</td>\n",
       "      <td>0</td>\n",
       "      <td>0</td>\n",
       "      <td>0</td>\n",
       "      <td>0</td>\n",
       "      <td>1</td>\n",
       "      <td>0</td>\n",
       "      <td>2007-01-01 03:00:00</td>\n",
       "    </tr>\n",
       "    <tr>\n",
       "      <th>2007-01-01 04:00:00</th>\n",
       "      <td>2007-01-01</td>\n",
       "      <td>1168</td>\n",
       "      <td>0</td>\n",
       "      <td>4</td>\n",
       "      <td>1</td>\n",
       "      <td>21.0</td>\n",
       "      <td>22.0</td>\n",
       "      <td>25.0</td>\n",
       "      <td>30.0</td>\n",
       "      <td>29.0</td>\n",
       "      <td>...</td>\n",
       "      <td>0</td>\n",
       "      <td>0</td>\n",
       "      <td>0</td>\n",
       "      <td>0</td>\n",
       "      <td>0</td>\n",
       "      <td>0</td>\n",
       "      <td>0</td>\n",
       "      <td>1</td>\n",
       "      <td>0</td>\n",
       "      <td>2007-01-01 04:00:00</td>\n",
       "    </tr>\n",
       "    <tr>\n",
       "      <th>...</th>\n",
       "      <td>...</td>\n",
       "      <td>...</td>\n",
       "      <td>...</td>\n",
       "      <td>...</td>\n",
       "      <td>...</td>\n",
       "      <td>...</td>\n",
       "      <td>...</td>\n",
       "      <td>...</td>\n",
       "      <td>...</td>\n",
       "      <td>...</td>\n",
       "      <td>...</td>\n",
       "      <td>...</td>\n",
       "      <td>...</td>\n",
       "      <td>...</td>\n",
       "      <td>...</td>\n",
       "      <td>...</td>\n",
       "      <td>...</td>\n",
       "      <td>...</td>\n",
       "      <td>...</td>\n",
       "      <td>...</td>\n",
       "      <td>...</td>\n",
       "    </tr>\n",
       "    <tr>\n",
       "      <th>2022-04-29 19:00:00</th>\n",
       "      <td>2022-04-29</td>\n",
       "      <td>3294</td>\n",
       "      <td>4</td>\n",
       "      <td>19</td>\n",
       "      <td>4</td>\n",
       "      <td>30.0</td>\n",
       "      <td>37.0</td>\n",
       "      <td>35.0</td>\n",
       "      <td>36.0</td>\n",
       "      <td>37.0</td>\n",
       "      <td>...</td>\n",
       "      <td>0</td>\n",
       "      <td>0</td>\n",
       "      <td>0</td>\n",
       "      <td>0</td>\n",
       "      <td>0</td>\n",
       "      <td>0</td>\n",
       "      <td>0</td>\n",
       "      <td>0</td>\n",
       "      <td>0</td>\n",
       "      <td>2022-04-29 19:00:00</td>\n",
       "    </tr>\n",
       "    <tr>\n",
       "      <th>2022-04-29 20:00:00</th>\n",
       "      <td>2022-04-29</td>\n",
       "      <td>3123</td>\n",
       "      <td>4</td>\n",
       "      <td>20</td>\n",
       "      <td>4</td>\n",
       "      <td>30.0</td>\n",
       "      <td>37.0</td>\n",
       "      <td>35.0</td>\n",
       "      <td>36.0</td>\n",
       "      <td>37.0</td>\n",
       "      <td>...</td>\n",
       "      <td>0</td>\n",
       "      <td>0</td>\n",
       "      <td>0</td>\n",
       "      <td>0</td>\n",
       "      <td>0</td>\n",
       "      <td>0</td>\n",
       "      <td>0</td>\n",
       "      <td>0</td>\n",
       "      <td>0</td>\n",
       "      <td>2022-04-29 20:00:00</td>\n",
       "    </tr>\n",
       "    <tr>\n",
       "      <th>2022-04-29 21:00:00</th>\n",
       "      <td>2022-04-29</td>\n",
       "      <td>3170</td>\n",
       "      <td>4</td>\n",
       "      <td>21</td>\n",
       "      <td>4</td>\n",
       "      <td>30.0</td>\n",
       "      <td>37.0</td>\n",
       "      <td>35.0</td>\n",
       "      <td>36.0</td>\n",
       "      <td>37.0</td>\n",
       "      <td>...</td>\n",
       "      <td>0</td>\n",
       "      <td>0</td>\n",
       "      <td>0</td>\n",
       "      <td>0</td>\n",
       "      <td>0</td>\n",
       "      <td>0</td>\n",
       "      <td>0</td>\n",
       "      <td>0</td>\n",
       "      <td>0</td>\n",
       "      <td>2022-04-29 21:00:00</td>\n",
       "    </tr>\n",
       "    <tr>\n",
       "      <th>2022-04-29 22:00:00</th>\n",
       "      <td>2022-04-29</td>\n",
       "      <td>3208</td>\n",
       "      <td>4</td>\n",
       "      <td>22</td>\n",
       "      <td>4</td>\n",
       "      <td>30.0</td>\n",
       "      <td>37.0</td>\n",
       "      <td>35.0</td>\n",
       "      <td>36.0</td>\n",
       "      <td>37.0</td>\n",
       "      <td>...</td>\n",
       "      <td>0</td>\n",
       "      <td>0</td>\n",
       "      <td>0</td>\n",
       "      <td>0</td>\n",
       "      <td>0</td>\n",
       "      <td>0</td>\n",
       "      <td>0</td>\n",
       "      <td>0</td>\n",
       "      <td>0</td>\n",
       "      <td>2022-04-29 22:00:00</td>\n",
       "    </tr>\n",
       "    <tr>\n",
       "      <th>2022-04-29 23:00:00</th>\n",
       "      <td>2022-04-29</td>\n",
       "      <td>3211</td>\n",
       "      <td>4</td>\n",
       "      <td>23</td>\n",
       "      <td>4</td>\n",
       "      <td>30.0</td>\n",
       "      <td>37.0</td>\n",
       "      <td>35.0</td>\n",
       "      <td>36.0</td>\n",
       "      <td>37.0</td>\n",
       "      <td>...</td>\n",
       "      <td>0</td>\n",
       "      <td>0</td>\n",
       "      <td>0</td>\n",
       "      <td>0</td>\n",
       "      <td>0</td>\n",
       "      <td>0</td>\n",
       "      <td>0</td>\n",
       "      <td>0</td>\n",
       "      <td>0</td>\n",
       "      <td>2022-04-29 23:00:00</td>\n",
       "    </tr>\n",
       "  </tbody>\n",
       "</table>\n",
       "<p>134352 rows × 30 columns</p>\n",
       "</div>"
      ],
      "text/plain": [
       "                         FECHA  Demanda  Dia  Hora  Mes  TMAX-CAB  TMAX-HMO  \\\n",
       "Fecha-Hora                                                                    \n",
       "2007-01-01 00:00:00 2007-01-01     1394    0     0    1      21.0      22.0   \n",
       "2007-01-01 01:00:00 2007-01-01     1297    0     1    1      21.0      22.0   \n",
       "2007-01-01 02:00:00 2007-01-01     1255    0     2    1      21.0      22.0   \n",
       "2007-01-01 03:00:00 2007-01-01     1222    0     3    1      21.0      22.0   \n",
       "2007-01-01 04:00:00 2007-01-01     1168    0     4    1      21.0      22.0   \n",
       "...                        ...      ...  ...   ...  ...       ...       ...   \n",
       "2022-04-29 19:00:00 2022-04-29     3294    4    19    4      30.0      37.0   \n",
       "2022-04-29 20:00:00 2022-04-29     3123    4    20    4      30.0      37.0   \n",
       "2022-04-29 21:00:00 2022-04-29     3170    4    21    4      30.0      37.0   \n",
       "2022-04-29 22:00:00 2022-04-29     3208    4    22    4      30.0      37.0   \n",
       "2022-04-29 23:00:00 2022-04-29     3211    4    23    4      30.0      37.0   \n",
       "\n",
       "                     TMAX-OBR  TMAX-LMO  TMAX-CUL  ...  MARTES_POSTFESTIVO  \\\n",
       "Fecha-Hora                                         ...                       \n",
       "2007-01-01 00:00:00      25.0      30.0      29.0  ...                   0   \n",
       "2007-01-01 01:00:00      25.0      30.0      29.0  ...                   0   \n",
       "2007-01-01 02:00:00      25.0      30.0      29.0  ...                   0   \n",
       "2007-01-01 03:00:00      25.0      30.0      29.0  ...                   0   \n",
       "2007-01-01 04:00:00      25.0      30.0      29.0  ...                   0   \n",
       "...                       ...       ...       ...  ...                 ...   \n",
       "2022-04-29 19:00:00      35.0      36.0      37.0  ...                   0   \n",
       "2022-04-29 20:00:00      35.0      36.0      37.0  ...                   0   \n",
       "2022-04-29 21:00:00      35.0      36.0      37.0  ...                   0   \n",
       "2022-04-29 22:00:00      35.0      36.0      37.0  ...                   0   \n",
       "2022-04-29 23:00:00      35.0      36.0      37.0  ...                   0   \n",
       "\n",
       "                     SEMANA_SANTA  1_MAYO  10_MAYO  16_SEP  2_NOV.  \\\n",
       "Fecha-Hora                                                           \n",
       "2007-01-01 00:00:00             0       0        0       0       0   \n",
       "2007-01-01 01:00:00             0       0        0       0       0   \n",
       "2007-01-01 02:00:00             0       0        0       0       0   \n",
       "2007-01-01 03:00:00             0       0        0       0       0   \n",
       "2007-01-01 04:00:00             0       0        0       0       0   \n",
       "...                           ...     ...      ...     ...     ...   \n",
       "2022-04-29 19:00:00             0       0        0       0       0   \n",
       "2022-04-29 20:00:00             0       0        0       0       0   \n",
       "2022-04-29 21:00:00             0       0        0       0       0   \n",
       "2022-04-29 22:00:00             0       0        0       0       0   \n",
       "2022-04-29 23:00:00             0       0        0       0       0   \n",
       "\n",
       "                     PRE-NAVIDAD_Y_NEW_YEAR  NAVIDAD_Y_NEW_YEAR  \\\n",
       "Fecha-Hora                                                        \n",
       "2007-01-01 00:00:00                       0                   1   \n",
       "2007-01-01 01:00:00                       0                   1   \n",
       "2007-01-01 02:00:00                       0                   1   \n",
       "2007-01-01 03:00:00                       0                   1   \n",
       "2007-01-01 04:00:00                       0                   1   \n",
       "...                                     ...                 ...   \n",
       "2022-04-29 19:00:00                       0                   0   \n",
       "2022-04-29 20:00:00                       0                   0   \n",
       "2022-04-29 21:00:00                       0                   0   \n",
       "2022-04-29 22:00:00                       0                   0   \n",
       "2022-04-29 23:00:00                       0                   0   \n",
       "\n",
       "                     POST-NAVIDAD_Y_NEW_YEAR          Fecha-Hora  \n",
       "Fecha-Hora                                                        \n",
       "2007-01-01 00:00:00                        0 2007-01-01 00:00:00  \n",
       "2007-01-01 01:00:00                        0 2007-01-01 01:00:00  \n",
       "2007-01-01 02:00:00                        0 2007-01-01 02:00:00  \n",
       "2007-01-01 03:00:00                        0 2007-01-01 03:00:00  \n",
       "2007-01-01 04:00:00                        0 2007-01-01 04:00:00  \n",
       "...                                      ...                 ...  \n",
       "2022-04-29 19:00:00                        0 2022-04-29 19:00:00  \n",
       "2022-04-29 20:00:00                        0 2022-04-29 20:00:00  \n",
       "2022-04-29 21:00:00                        0 2022-04-29 21:00:00  \n",
       "2022-04-29 22:00:00                        0 2022-04-29 22:00:00  \n",
       "2022-04-29 23:00:00                        0 2022-04-29 23:00:00  \n",
       "\n",
       "[134352 rows x 30 columns]"
      ]
     },
     "execution_count": 10,
     "metadata": {},
     "output_type": "execute_result"
    }
   ],
   "source": [
    "consumo = consumo[consumo['Fecha-Hora']< '2022-04-30 00:00:00']\n",
    "consumo"
   ]
  },
  {
   "cell_type": "code",
   "execution_count": 11,
   "id": "37cd575b",
   "metadata": {
    "hidden": true
   },
   "outputs": [
    {
     "name": "stdout",
     "output_type": "stream",
     "text": [
      "<class 'pandas.core.frame.DataFrame'>\n",
      "DatetimeIndex: 134352 entries, 2007-01-01 00:00:00 to 2022-04-29 23:00:00\n",
      "Freq: H\n",
      "Data columns (total 30 columns):\n",
      " #   Column                   Non-Null Count   Dtype         \n",
      "---  ------                   --------------   -----         \n",
      " 0   FECHA                    134352 non-null  datetime64[ns]\n",
      " 1   Demanda                  134352 non-null  int64         \n",
      " 2   Dia                      134352 non-null  int64         \n",
      " 3   Hora                     134352 non-null  int64         \n",
      " 4   Mes                      134352 non-null  int64         \n",
      " 5   TMAX-CAB                 134352 non-null  float64       \n",
      " 6   TMAX-HMO                 134352 non-null  float64       \n",
      " 7   TMAX-OBR                 134352 non-null  float64       \n",
      " 8   TMAX-LMO                 134352 non-null  float64       \n",
      " 9   TMAX-CUL                 134352 non-null  float64       \n",
      " 10  TMIN-CAB                 134352 non-null  float64       \n",
      " 11  TMIN-HMO                 134352 non-null  float64       \n",
      " 12  TMIN-OBR                 134352 non-null  float64       \n",
      " 13  TMIN-LMO                 134352 non-null  float64       \n",
      " 14  TMIN-CUL                 134352 non-null  float64       \n",
      " 15  PREC_HMO_MM              134352 non-null  float64       \n",
      " 16  PREC_OBR_MM              134352 non-null  float64       \n",
      " 17  PREC_LMO_MM              134352 non-null  float64       \n",
      " 18  PREC_CUL_MM              134352 non-null  float64       \n",
      " 19  LUNES_FESTIVO            134352 non-null  int64         \n",
      " 20  MARTES_POSTFESTIVO       134352 non-null  int64         \n",
      " 21  SEMANA_SANTA             134352 non-null  int64         \n",
      " 22  1_MAYO                   134352 non-null  int64         \n",
      " 23  10_MAYO                  134352 non-null  int64         \n",
      " 24  16_SEP                   134352 non-null  int64         \n",
      " 25  2_NOV.                   134352 non-null  int64         \n",
      " 26  PRE-NAVIDAD_Y_NEW_YEAR   134352 non-null  int64         \n",
      " 27  NAVIDAD_Y_NEW_YEAR       134352 non-null  int64         \n",
      " 28  POST-NAVIDAD_Y_NEW_YEAR  134352 non-null  int64         \n",
      " 29  Fecha-Hora               134352 non-null  datetime64[ns]\n",
      "dtypes: datetime64[ns](2), float64(14), int64(14)\n",
      "memory usage: 31.8 MB\n"
     ]
    }
   ],
   "source": [
    "consumo.info()"
   ]
  },
  {
   "cell_type": "code",
   "execution_count": 12,
   "id": "f4ecaa85",
   "metadata": {
    "hidden": true
   },
   "outputs": [
    {
     "data": {
      "text/html": [
       "<div>\n",
       "<style scoped>\n",
       "    .dataframe tbody tr th:only-of-type {\n",
       "        vertical-align: middle;\n",
       "    }\n",
       "\n",
       "    .dataframe tbody tr th {\n",
       "        vertical-align: top;\n",
       "    }\n",
       "\n",
       "    .dataframe thead th {\n",
       "        text-align: right;\n",
       "    }\n",
       "</style>\n",
       "<table border=\"1\" class=\"dataframe\">\n",
       "  <thead>\n",
       "    <tr style=\"text-align: right;\">\n",
       "      <th></th>\n",
       "      <th>FECHA</th>\n",
       "      <th>Demanda</th>\n",
       "      <th>Dia</th>\n",
       "      <th>Hora</th>\n",
       "      <th>Mes</th>\n",
       "      <th>TMAX-CAB</th>\n",
       "      <th>TMAX-HMO</th>\n",
       "      <th>TMAX-OBR</th>\n",
       "      <th>TMAX-LMO</th>\n",
       "      <th>TMAX-CUL</th>\n",
       "      <th>...</th>\n",
       "      <th>MARTES_POSTFESTIVO</th>\n",
       "      <th>SEMANA_SANTA</th>\n",
       "      <th>1_MAYO</th>\n",
       "      <th>10_MAYO</th>\n",
       "      <th>16_SEP</th>\n",
       "      <th>2_NOV.</th>\n",
       "      <th>PRE-NAVIDAD_Y_NEW_YEAR</th>\n",
       "      <th>NAVIDAD_Y_NEW_YEAR</th>\n",
       "      <th>POST-NAVIDAD_Y_NEW_YEAR</th>\n",
       "      <th>Fecha-Hora</th>\n",
       "    </tr>\n",
       "    <tr>\n",
       "      <th>Fecha-Hora</th>\n",
       "      <th></th>\n",
       "      <th></th>\n",
       "      <th></th>\n",
       "      <th></th>\n",
       "      <th></th>\n",
       "      <th></th>\n",
       "      <th></th>\n",
       "      <th></th>\n",
       "      <th></th>\n",
       "      <th></th>\n",
       "      <th></th>\n",
       "      <th></th>\n",
       "      <th></th>\n",
       "      <th></th>\n",
       "      <th></th>\n",
       "      <th></th>\n",
       "      <th></th>\n",
       "      <th></th>\n",
       "      <th></th>\n",
       "      <th></th>\n",
       "      <th></th>\n",
       "    </tr>\n",
       "  </thead>\n",
       "  <tbody>\n",
       "    <tr>\n",
       "      <th>2022-04-22 00:00:00</th>\n",
       "      <td>2022-04-22</td>\n",
       "      <td>3169</td>\n",
       "      <td>4</td>\n",
       "      <td>0</td>\n",
       "      <td>4</td>\n",
       "      <td>32.0</td>\n",
       "      <td>35.0</td>\n",
       "      <td>34.0</td>\n",
       "      <td>34.0</td>\n",
       "      <td>35.0</td>\n",
       "      <td>...</td>\n",
       "      <td>0</td>\n",
       "      <td>0</td>\n",
       "      <td>0</td>\n",
       "      <td>0</td>\n",
       "      <td>0</td>\n",
       "      <td>0</td>\n",
       "      <td>0</td>\n",
       "      <td>0</td>\n",
       "      <td>0</td>\n",
       "      <td>2022-04-22 00:00:00</td>\n",
       "    </tr>\n",
       "    <tr>\n",
       "      <th>2022-04-22 01:00:00</th>\n",
       "      <td>2022-04-22</td>\n",
       "      <td>3055</td>\n",
       "      <td>4</td>\n",
       "      <td>1</td>\n",
       "      <td>4</td>\n",
       "      <td>32.0</td>\n",
       "      <td>35.0</td>\n",
       "      <td>34.0</td>\n",
       "      <td>34.0</td>\n",
       "      <td>35.0</td>\n",
       "      <td>...</td>\n",
       "      <td>0</td>\n",
       "      <td>0</td>\n",
       "      <td>0</td>\n",
       "      <td>0</td>\n",
       "      <td>0</td>\n",
       "      <td>0</td>\n",
       "      <td>0</td>\n",
       "      <td>0</td>\n",
       "      <td>0</td>\n",
       "      <td>2022-04-22 01:00:00</td>\n",
       "    </tr>\n",
       "    <tr>\n",
       "      <th>2022-04-22 02:00:00</th>\n",
       "      <td>2022-04-22</td>\n",
       "      <td>2918</td>\n",
       "      <td>4</td>\n",
       "      <td>2</td>\n",
       "      <td>4</td>\n",
       "      <td>32.0</td>\n",
       "      <td>35.0</td>\n",
       "      <td>34.0</td>\n",
       "      <td>34.0</td>\n",
       "      <td>35.0</td>\n",
       "      <td>...</td>\n",
       "      <td>0</td>\n",
       "      <td>0</td>\n",
       "      <td>0</td>\n",
       "      <td>0</td>\n",
       "      <td>0</td>\n",
       "      <td>0</td>\n",
       "      <td>0</td>\n",
       "      <td>0</td>\n",
       "      <td>0</td>\n",
       "      <td>2022-04-22 02:00:00</td>\n",
       "    </tr>\n",
       "    <tr>\n",
       "      <th>2022-04-22 03:00:00</th>\n",
       "      <td>2022-04-22</td>\n",
       "      <td>2790</td>\n",
       "      <td>4</td>\n",
       "      <td>3</td>\n",
       "      <td>4</td>\n",
       "      <td>32.0</td>\n",
       "      <td>35.0</td>\n",
       "      <td>34.0</td>\n",
       "      <td>34.0</td>\n",
       "      <td>35.0</td>\n",
       "      <td>...</td>\n",
       "      <td>0</td>\n",
       "      <td>0</td>\n",
       "      <td>0</td>\n",
       "      <td>0</td>\n",
       "      <td>0</td>\n",
       "      <td>0</td>\n",
       "      <td>0</td>\n",
       "      <td>0</td>\n",
       "      <td>0</td>\n",
       "      <td>2022-04-22 03:00:00</td>\n",
       "    </tr>\n",
       "    <tr>\n",
       "      <th>2022-04-22 04:00:00</th>\n",
       "      <td>2022-04-22</td>\n",
       "      <td>2685</td>\n",
       "      <td>4</td>\n",
       "      <td>4</td>\n",
       "      <td>4</td>\n",
       "      <td>32.0</td>\n",
       "      <td>35.0</td>\n",
       "      <td>34.0</td>\n",
       "      <td>34.0</td>\n",
       "      <td>35.0</td>\n",
       "      <td>...</td>\n",
       "      <td>0</td>\n",
       "      <td>0</td>\n",
       "      <td>0</td>\n",
       "      <td>0</td>\n",
       "      <td>0</td>\n",
       "      <td>0</td>\n",
       "      <td>0</td>\n",
       "      <td>0</td>\n",
       "      <td>0</td>\n",
       "      <td>2022-04-22 04:00:00</td>\n",
       "    </tr>\n",
       "    <tr>\n",
       "      <th>...</th>\n",
       "      <td>...</td>\n",
       "      <td>...</td>\n",
       "      <td>...</td>\n",
       "      <td>...</td>\n",
       "      <td>...</td>\n",
       "      <td>...</td>\n",
       "      <td>...</td>\n",
       "      <td>...</td>\n",
       "      <td>...</td>\n",
       "      <td>...</td>\n",
       "      <td>...</td>\n",
       "      <td>...</td>\n",
       "      <td>...</td>\n",
       "      <td>...</td>\n",
       "      <td>...</td>\n",
       "      <td>...</td>\n",
       "      <td>...</td>\n",
       "      <td>...</td>\n",
       "      <td>...</td>\n",
       "      <td>...</td>\n",
       "      <td>...</td>\n",
       "    </tr>\n",
       "    <tr>\n",
       "      <th>2022-04-29 07:00:00</th>\n",
       "      <td>2022-04-29</td>\n",
       "      <td>2542</td>\n",
       "      <td>4</td>\n",
       "      <td>7</td>\n",
       "      <td>4</td>\n",
       "      <td>30.0</td>\n",
       "      <td>37.0</td>\n",
       "      <td>35.0</td>\n",
       "      <td>36.0</td>\n",
       "      <td>37.0</td>\n",
       "      <td>...</td>\n",
       "      <td>0</td>\n",
       "      <td>0</td>\n",
       "      <td>0</td>\n",
       "      <td>0</td>\n",
       "      <td>0</td>\n",
       "      <td>0</td>\n",
       "      <td>0</td>\n",
       "      <td>0</td>\n",
       "      <td>0</td>\n",
       "      <td>2022-04-29 07:00:00</td>\n",
       "    </tr>\n",
       "    <tr>\n",
       "      <th>2022-04-29 08:00:00</th>\n",
       "      <td>2022-04-29</td>\n",
       "      <td>2530</td>\n",
       "      <td>4</td>\n",
       "      <td>8</td>\n",
       "      <td>4</td>\n",
       "      <td>30.0</td>\n",
       "      <td>37.0</td>\n",
       "      <td>35.0</td>\n",
       "      <td>36.0</td>\n",
       "      <td>37.0</td>\n",
       "      <td>...</td>\n",
       "      <td>0</td>\n",
       "      <td>0</td>\n",
       "      <td>0</td>\n",
       "      <td>0</td>\n",
       "      <td>0</td>\n",
       "      <td>0</td>\n",
       "      <td>0</td>\n",
       "      <td>0</td>\n",
       "      <td>0</td>\n",
       "      <td>2022-04-29 08:00:00</td>\n",
       "    </tr>\n",
       "    <tr>\n",
       "      <th>2022-04-29 09:00:00</th>\n",
       "      <td>2022-04-29</td>\n",
       "      <td>2634</td>\n",
       "      <td>4</td>\n",
       "      <td>9</td>\n",
       "      <td>4</td>\n",
       "      <td>30.0</td>\n",
       "      <td>37.0</td>\n",
       "      <td>35.0</td>\n",
       "      <td>36.0</td>\n",
       "      <td>37.0</td>\n",
       "      <td>...</td>\n",
       "      <td>0</td>\n",
       "      <td>0</td>\n",
       "      <td>0</td>\n",
       "      <td>0</td>\n",
       "      <td>0</td>\n",
       "      <td>0</td>\n",
       "      <td>0</td>\n",
       "      <td>0</td>\n",
       "      <td>0</td>\n",
       "      <td>2022-04-29 09:00:00</td>\n",
       "    </tr>\n",
       "    <tr>\n",
       "      <th>2022-04-29 10:00:00</th>\n",
       "      <td>2022-04-29</td>\n",
       "      <td>2722</td>\n",
       "      <td>4</td>\n",
       "      <td>10</td>\n",
       "      <td>4</td>\n",
       "      <td>30.0</td>\n",
       "      <td>37.0</td>\n",
       "      <td>35.0</td>\n",
       "      <td>36.0</td>\n",
       "      <td>37.0</td>\n",
       "      <td>...</td>\n",
       "      <td>0</td>\n",
       "      <td>0</td>\n",
       "      <td>0</td>\n",
       "      <td>0</td>\n",
       "      <td>0</td>\n",
       "      <td>0</td>\n",
       "      <td>0</td>\n",
       "      <td>0</td>\n",
       "      <td>0</td>\n",
       "      <td>2022-04-29 10:00:00</td>\n",
       "    </tr>\n",
       "    <tr>\n",
       "      <th>2022-04-29 11:00:00</th>\n",
       "      <td>2022-04-29</td>\n",
       "      <td>2862</td>\n",
       "      <td>4</td>\n",
       "      <td>11</td>\n",
       "      <td>4</td>\n",
       "      <td>30.0</td>\n",
       "      <td>37.0</td>\n",
       "      <td>35.0</td>\n",
       "      <td>36.0</td>\n",
       "      <td>37.0</td>\n",
       "      <td>...</td>\n",
       "      <td>0</td>\n",
       "      <td>0</td>\n",
       "      <td>0</td>\n",
       "      <td>0</td>\n",
       "      <td>0</td>\n",
       "      <td>0</td>\n",
       "      <td>0</td>\n",
       "      <td>0</td>\n",
       "      <td>0</td>\n",
       "      <td>2022-04-29 11:00:00</td>\n",
       "    </tr>\n",
       "  </tbody>\n",
       "</table>\n",
       "<p>180 rows × 30 columns</p>\n",
       "</div>"
      ],
      "text/plain": [
       "                         FECHA  Demanda  Dia  Hora  Mes  TMAX-CAB  TMAX-HMO  \\\n",
       "Fecha-Hora                                                                    \n",
       "2022-04-22 00:00:00 2022-04-22     3169    4     0    4      32.0      35.0   \n",
       "2022-04-22 01:00:00 2022-04-22     3055    4     1    4      32.0      35.0   \n",
       "2022-04-22 02:00:00 2022-04-22     2918    4     2    4      32.0      35.0   \n",
       "2022-04-22 03:00:00 2022-04-22     2790    4     3    4      32.0      35.0   \n",
       "2022-04-22 04:00:00 2022-04-22     2685    4     4    4      32.0      35.0   \n",
       "...                        ...      ...  ...   ...  ...       ...       ...   \n",
       "2022-04-29 07:00:00 2022-04-29     2542    4     7    4      30.0      37.0   \n",
       "2022-04-29 08:00:00 2022-04-29     2530    4     8    4      30.0      37.0   \n",
       "2022-04-29 09:00:00 2022-04-29     2634    4     9    4      30.0      37.0   \n",
       "2022-04-29 10:00:00 2022-04-29     2722    4    10    4      30.0      37.0   \n",
       "2022-04-29 11:00:00 2022-04-29     2862    4    11    4      30.0      37.0   \n",
       "\n",
       "                     TMAX-OBR  TMAX-LMO  TMAX-CUL  ...  MARTES_POSTFESTIVO  \\\n",
       "Fecha-Hora                                         ...                       \n",
       "2022-04-22 00:00:00      34.0      34.0      35.0  ...                   0   \n",
       "2022-04-22 01:00:00      34.0      34.0      35.0  ...                   0   \n",
       "2022-04-22 02:00:00      34.0      34.0      35.0  ...                   0   \n",
       "2022-04-22 03:00:00      34.0      34.0      35.0  ...                   0   \n",
       "2022-04-22 04:00:00      34.0      34.0      35.0  ...                   0   \n",
       "...                       ...       ...       ...  ...                 ...   \n",
       "2022-04-29 07:00:00      35.0      36.0      37.0  ...                   0   \n",
       "2022-04-29 08:00:00      35.0      36.0      37.0  ...                   0   \n",
       "2022-04-29 09:00:00      35.0      36.0      37.0  ...                   0   \n",
       "2022-04-29 10:00:00      35.0      36.0      37.0  ...                   0   \n",
       "2022-04-29 11:00:00      35.0      36.0      37.0  ...                   0   \n",
       "\n",
       "                     SEMANA_SANTA  1_MAYO  10_MAYO  16_SEP  2_NOV.  \\\n",
       "Fecha-Hora                                                           \n",
       "2022-04-22 00:00:00             0       0        0       0       0   \n",
       "2022-04-22 01:00:00             0       0        0       0       0   \n",
       "2022-04-22 02:00:00             0       0        0       0       0   \n",
       "2022-04-22 03:00:00             0       0        0       0       0   \n",
       "2022-04-22 04:00:00             0       0        0       0       0   \n",
       "...                           ...     ...      ...     ...     ...   \n",
       "2022-04-29 07:00:00             0       0        0       0       0   \n",
       "2022-04-29 08:00:00             0       0        0       0       0   \n",
       "2022-04-29 09:00:00             0       0        0       0       0   \n",
       "2022-04-29 10:00:00             0       0        0       0       0   \n",
       "2022-04-29 11:00:00             0       0        0       0       0   \n",
       "\n",
       "                     PRE-NAVIDAD_Y_NEW_YEAR  NAVIDAD_Y_NEW_YEAR  \\\n",
       "Fecha-Hora                                                        \n",
       "2022-04-22 00:00:00                       0                   0   \n",
       "2022-04-22 01:00:00                       0                   0   \n",
       "2022-04-22 02:00:00                       0                   0   \n",
       "2022-04-22 03:00:00                       0                   0   \n",
       "2022-04-22 04:00:00                       0                   0   \n",
       "...                                     ...                 ...   \n",
       "2022-04-29 07:00:00                       0                   0   \n",
       "2022-04-29 08:00:00                       0                   0   \n",
       "2022-04-29 09:00:00                       0                   0   \n",
       "2022-04-29 10:00:00                       0                   0   \n",
       "2022-04-29 11:00:00                       0                   0   \n",
       "\n",
       "                     POST-NAVIDAD_Y_NEW_YEAR          Fecha-Hora  \n",
       "Fecha-Hora                                                        \n",
       "2022-04-22 00:00:00                        0 2022-04-22 00:00:00  \n",
       "2022-04-22 01:00:00                        0 2022-04-22 01:00:00  \n",
       "2022-04-22 02:00:00                        0 2022-04-22 02:00:00  \n",
       "2022-04-22 03:00:00                        0 2022-04-22 03:00:00  \n",
       "2022-04-22 04:00:00                        0 2022-04-22 04:00:00  \n",
       "...                                      ...                 ...  \n",
       "2022-04-29 07:00:00                        0 2022-04-29 07:00:00  \n",
       "2022-04-29 08:00:00                        0 2022-04-29 08:00:00  \n",
       "2022-04-29 09:00:00                        0 2022-04-29 09:00:00  \n",
       "2022-04-29 10:00:00                        0 2022-04-29 10:00:00  \n",
       "2022-04-29 11:00:00                        0 2022-04-29 11:00:00  \n",
       "\n",
       "[180 rows x 30 columns]"
      ]
     },
     "execution_count": 12,
     "metadata": {},
     "output_type": "execute_result"
    }
   ],
   "source": [
    "consumo_pre = consumo.iloc[-(n_pasado + n_salto):-12]\n",
    "consumo_pre"
   ]
  },
  {
   "cell_type": "markdown",
   "id": "5889adb6",
   "metadata": {
    "hidden": true
   },
   "source": [
    "<summary>\n",
    "    <font size=\"4\" color=\"orange\"><b>1.3. Replacing holidays data with the corresponding next day data </b></font>\n",
    "</summary>"
   ]
  },
  {
   "cell_type": "code",
   "execution_count": 13,
   "id": "dd23db6a",
   "metadata": {
    "hidden": true
   },
   "outputs": [
    {
     "data": {
      "text/plain": [
       "array([[0, 0, 0, ..., 0, 0, 0],\n",
       "       [0, 0, 0, ..., 0, 0, 0],\n",
       "       [0, 0, 0, ..., 0, 0, 0],\n",
       "       ...,\n",
       "       [0, 0, 0, ..., 0, 0, 0],\n",
       "       [0, 0, 0, ..., 0, 0, 0],\n",
       "       [0, 0, 0, ..., 0, 0, 0]])"
      ]
     },
     "execution_count": 13,
     "metadata": {},
     "output_type": "execute_result"
    }
   ],
   "source": [
    "# Array of holiday data from 00:00:00 of the next day\n",
    "festivos = consumo_pre.iloc[24:,19:29].values\n",
    "festivos"
   ]
  },
  {
   "cell_type": "code",
   "execution_count": 14,
   "id": "38abe2cd",
   "metadata": {
    "hidden": true
   },
   "outputs": [],
   "source": [
    "# Adding holiday data of the day to forecasting\n",
    "future_fest =[[0,0,0,0,0,0,0,0,0,0]] \n",
    "\n",
    "# Adding an array with 24 copies representing the last 24h\n",
    "for i in range(24):\n",
    "    festivos = np.append(festivos, future_fest, axis=0)"
   ]
  },
  {
   "cell_type": "code",
   "execution_count": 15,
   "id": "0ff3a779",
   "metadata": {
    "hidden": true
   },
   "outputs": [],
   "source": [
    "# Substitution of the array with the information of holidays of the next day in dataframe \"consumo\"\n",
    "for i in range(180):\n",
    "    consumo_pre.iloc[i:i+1,19:29] = festivos[i]   "
   ]
  },
  {
   "cell_type": "code",
   "execution_count": 16,
   "id": "d4226dd0",
   "metadata": {
    "hidden": true
   },
   "outputs": [
    {
     "data": {
      "text/html": [
       "<div>\n",
       "<style scoped>\n",
       "    .dataframe tbody tr th:only-of-type {\n",
       "        vertical-align: middle;\n",
       "    }\n",
       "\n",
       "    .dataframe tbody tr th {\n",
       "        vertical-align: top;\n",
       "    }\n",
       "\n",
       "    .dataframe thead th {\n",
       "        text-align: right;\n",
       "    }\n",
       "</style>\n",
       "<table border=\"1\" class=\"dataframe\">\n",
       "  <thead>\n",
       "    <tr style=\"text-align: right;\">\n",
       "      <th></th>\n",
       "      <th>LUNES_FESTIVO</th>\n",
       "      <th>MARTES_POSTFESTIVO</th>\n",
       "      <th>SEMANA_SANTA</th>\n",
       "      <th>1_MAYO</th>\n",
       "      <th>10_MAYO</th>\n",
       "      <th>16_SEP</th>\n",
       "      <th>2_NOV.</th>\n",
       "      <th>PRE-NAVIDAD_Y_NEW_YEAR</th>\n",
       "      <th>NAVIDAD_Y_NEW_YEAR</th>\n",
       "      <th>POST-NAVIDAD_Y_NEW_YEAR</th>\n",
       "    </tr>\n",
       "    <tr>\n",
       "      <th>Fecha-Hora</th>\n",
       "      <th></th>\n",
       "      <th></th>\n",
       "      <th></th>\n",
       "      <th></th>\n",
       "      <th></th>\n",
       "      <th></th>\n",
       "      <th></th>\n",
       "      <th></th>\n",
       "      <th></th>\n",
       "      <th></th>\n",
       "    </tr>\n",
       "  </thead>\n",
       "  <tbody>\n",
       "    <tr>\n",
       "      <th>2022-04-28 11:00:00</th>\n",
       "      <td>0</td>\n",
       "      <td>0</td>\n",
       "      <td>0</td>\n",
       "      <td>0</td>\n",
       "      <td>0</td>\n",
       "      <td>0</td>\n",
       "      <td>0</td>\n",
       "      <td>0</td>\n",
       "      <td>0</td>\n",
       "      <td>0</td>\n",
       "    </tr>\n",
       "    <tr>\n",
       "      <th>2022-04-28 12:00:00</th>\n",
       "      <td>0</td>\n",
       "      <td>0</td>\n",
       "      <td>0</td>\n",
       "      <td>0</td>\n",
       "      <td>0</td>\n",
       "      <td>0</td>\n",
       "      <td>0</td>\n",
       "      <td>0</td>\n",
       "      <td>0</td>\n",
       "      <td>0</td>\n",
       "    </tr>\n",
       "    <tr>\n",
       "      <th>2022-04-28 13:00:00</th>\n",
       "      <td>0</td>\n",
       "      <td>0</td>\n",
       "      <td>0</td>\n",
       "      <td>0</td>\n",
       "      <td>0</td>\n",
       "      <td>0</td>\n",
       "      <td>0</td>\n",
       "      <td>0</td>\n",
       "      <td>0</td>\n",
       "      <td>0</td>\n",
       "    </tr>\n",
       "    <tr>\n",
       "      <th>2022-04-28 14:00:00</th>\n",
       "      <td>0</td>\n",
       "      <td>0</td>\n",
       "      <td>0</td>\n",
       "      <td>0</td>\n",
       "      <td>0</td>\n",
       "      <td>0</td>\n",
       "      <td>0</td>\n",
       "      <td>0</td>\n",
       "      <td>0</td>\n",
       "      <td>0</td>\n",
       "    </tr>\n",
       "    <tr>\n",
       "      <th>2022-04-28 15:00:00</th>\n",
       "      <td>0</td>\n",
       "      <td>0</td>\n",
       "      <td>0</td>\n",
       "      <td>0</td>\n",
       "      <td>0</td>\n",
       "      <td>0</td>\n",
       "      <td>0</td>\n",
       "      <td>0</td>\n",
       "      <td>0</td>\n",
       "      <td>0</td>\n",
       "    </tr>\n",
       "    <tr>\n",
       "      <th>2022-04-28 16:00:00</th>\n",
       "      <td>0</td>\n",
       "      <td>0</td>\n",
       "      <td>0</td>\n",
       "      <td>0</td>\n",
       "      <td>0</td>\n",
       "      <td>0</td>\n",
       "      <td>0</td>\n",
       "      <td>0</td>\n",
       "      <td>0</td>\n",
       "      <td>0</td>\n",
       "    </tr>\n",
       "    <tr>\n",
       "      <th>2022-04-28 17:00:00</th>\n",
       "      <td>0</td>\n",
       "      <td>0</td>\n",
       "      <td>0</td>\n",
       "      <td>0</td>\n",
       "      <td>0</td>\n",
       "      <td>0</td>\n",
       "      <td>0</td>\n",
       "      <td>0</td>\n",
       "      <td>0</td>\n",
       "      <td>0</td>\n",
       "    </tr>\n",
       "    <tr>\n",
       "      <th>2022-04-28 18:00:00</th>\n",
       "      <td>0</td>\n",
       "      <td>0</td>\n",
       "      <td>0</td>\n",
       "      <td>0</td>\n",
       "      <td>0</td>\n",
       "      <td>0</td>\n",
       "      <td>0</td>\n",
       "      <td>0</td>\n",
       "      <td>0</td>\n",
       "      <td>0</td>\n",
       "    </tr>\n",
       "    <tr>\n",
       "      <th>2022-04-28 19:00:00</th>\n",
       "      <td>0</td>\n",
       "      <td>0</td>\n",
       "      <td>0</td>\n",
       "      <td>0</td>\n",
       "      <td>0</td>\n",
       "      <td>0</td>\n",
       "      <td>0</td>\n",
       "      <td>0</td>\n",
       "      <td>0</td>\n",
       "      <td>0</td>\n",
       "    </tr>\n",
       "    <tr>\n",
       "      <th>2022-04-28 20:00:00</th>\n",
       "      <td>0</td>\n",
       "      <td>0</td>\n",
       "      <td>0</td>\n",
       "      <td>0</td>\n",
       "      <td>0</td>\n",
       "      <td>0</td>\n",
       "      <td>0</td>\n",
       "      <td>0</td>\n",
       "      <td>0</td>\n",
       "      <td>0</td>\n",
       "    </tr>\n",
       "    <tr>\n",
       "      <th>2022-04-28 21:00:00</th>\n",
       "      <td>0</td>\n",
       "      <td>0</td>\n",
       "      <td>0</td>\n",
       "      <td>0</td>\n",
       "      <td>0</td>\n",
       "      <td>0</td>\n",
       "      <td>0</td>\n",
       "      <td>0</td>\n",
       "      <td>0</td>\n",
       "      <td>0</td>\n",
       "    </tr>\n",
       "    <tr>\n",
       "      <th>2022-04-28 22:00:00</th>\n",
       "      <td>0</td>\n",
       "      <td>0</td>\n",
       "      <td>0</td>\n",
       "      <td>0</td>\n",
       "      <td>0</td>\n",
       "      <td>0</td>\n",
       "      <td>0</td>\n",
       "      <td>0</td>\n",
       "      <td>0</td>\n",
       "      <td>0</td>\n",
       "    </tr>\n",
       "    <tr>\n",
       "      <th>2022-04-28 23:00:00</th>\n",
       "      <td>0</td>\n",
       "      <td>0</td>\n",
       "      <td>0</td>\n",
       "      <td>0</td>\n",
       "      <td>0</td>\n",
       "      <td>0</td>\n",
       "      <td>0</td>\n",
       "      <td>0</td>\n",
       "      <td>0</td>\n",
       "      <td>0</td>\n",
       "    </tr>\n",
       "    <tr>\n",
       "      <th>2022-04-29 00:00:00</th>\n",
       "      <td>0</td>\n",
       "      <td>0</td>\n",
       "      <td>0</td>\n",
       "      <td>0</td>\n",
       "      <td>0</td>\n",
       "      <td>0</td>\n",
       "      <td>0</td>\n",
       "      <td>0</td>\n",
       "      <td>0</td>\n",
       "      <td>0</td>\n",
       "    </tr>\n",
       "    <tr>\n",
       "      <th>2022-04-29 01:00:00</th>\n",
       "      <td>0</td>\n",
       "      <td>0</td>\n",
       "      <td>0</td>\n",
       "      <td>0</td>\n",
       "      <td>0</td>\n",
       "      <td>0</td>\n",
       "      <td>0</td>\n",
       "      <td>0</td>\n",
       "      <td>0</td>\n",
       "      <td>0</td>\n",
       "    </tr>\n",
       "    <tr>\n",
       "      <th>2022-04-29 02:00:00</th>\n",
       "      <td>0</td>\n",
       "      <td>0</td>\n",
       "      <td>0</td>\n",
       "      <td>0</td>\n",
       "      <td>0</td>\n",
       "      <td>0</td>\n",
       "      <td>0</td>\n",
       "      <td>0</td>\n",
       "      <td>0</td>\n",
       "      <td>0</td>\n",
       "    </tr>\n",
       "    <tr>\n",
       "      <th>2022-04-29 03:00:00</th>\n",
       "      <td>0</td>\n",
       "      <td>0</td>\n",
       "      <td>0</td>\n",
       "      <td>0</td>\n",
       "      <td>0</td>\n",
       "      <td>0</td>\n",
       "      <td>0</td>\n",
       "      <td>0</td>\n",
       "      <td>0</td>\n",
       "      <td>0</td>\n",
       "    </tr>\n",
       "    <tr>\n",
       "      <th>2022-04-29 04:00:00</th>\n",
       "      <td>0</td>\n",
       "      <td>0</td>\n",
       "      <td>0</td>\n",
       "      <td>0</td>\n",
       "      <td>0</td>\n",
       "      <td>0</td>\n",
       "      <td>0</td>\n",
       "      <td>0</td>\n",
       "      <td>0</td>\n",
       "      <td>0</td>\n",
       "    </tr>\n",
       "    <tr>\n",
       "      <th>2022-04-29 05:00:00</th>\n",
       "      <td>0</td>\n",
       "      <td>0</td>\n",
       "      <td>0</td>\n",
       "      <td>0</td>\n",
       "      <td>0</td>\n",
       "      <td>0</td>\n",
       "      <td>0</td>\n",
       "      <td>0</td>\n",
       "      <td>0</td>\n",
       "      <td>0</td>\n",
       "    </tr>\n",
       "    <tr>\n",
       "      <th>2022-04-29 06:00:00</th>\n",
       "      <td>0</td>\n",
       "      <td>0</td>\n",
       "      <td>0</td>\n",
       "      <td>0</td>\n",
       "      <td>0</td>\n",
       "      <td>0</td>\n",
       "      <td>0</td>\n",
       "      <td>0</td>\n",
       "      <td>0</td>\n",
       "      <td>0</td>\n",
       "    </tr>\n",
       "    <tr>\n",
       "      <th>2022-04-29 07:00:00</th>\n",
       "      <td>0</td>\n",
       "      <td>0</td>\n",
       "      <td>0</td>\n",
       "      <td>0</td>\n",
       "      <td>0</td>\n",
       "      <td>0</td>\n",
       "      <td>0</td>\n",
       "      <td>0</td>\n",
       "      <td>0</td>\n",
       "      <td>0</td>\n",
       "    </tr>\n",
       "    <tr>\n",
       "      <th>2022-04-29 08:00:00</th>\n",
       "      <td>0</td>\n",
       "      <td>0</td>\n",
       "      <td>0</td>\n",
       "      <td>0</td>\n",
       "      <td>0</td>\n",
       "      <td>0</td>\n",
       "      <td>0</td>\n",
       "      <td>0</td>\n",
       "      <td>0</td>\n",
       "      <td>0</td>\n",
       "    </tr>\n",
       "    <tr>\n",
       "      <th>2022-04-29 09:00:00</th>\n",
       "      <td>0</td>\n",
       "      <td>0</td>\n",
       "      <td>0</td>\n",
       "      <td>0</td>\n",
       "      <td>0</td>\n",
       "      <td>0</td>\n",
       "      <td>0</td>\n",
       "      <td>0</td>\n",
       "      <td>0</td>\n",
       "      <td>0</td>\n",
       "    </tr>\n",
       "    <tr>\n",
       "      <th>2022-04-29 10:00:00</th>\n",
       "      <td>0</td>\n",
       "      <td>0</td>\n",
       "      <td>0</td>\n",
       "      <td>0</td>\n",
       "      <td>0</td>\n",
       "      <td>0</td>\n",
       "      <td>0</td>\n",
       "      <td>0</td>\n",
       "      <td>0</td>\n",
       "      <td>0</td>\n",
       "    </tr>\n",
       "    <tr>\n",
       "      <th>2022-04-29 11:00:00</th>\n",
       "      <td>0</td>\n",
       "      <td>0</td>\n",
       "      <td>0</td>\n",
       "      <td>0</td>\n",
       "      <td>0</td>\n",
       "      <td>0</td>\n",
       "      <td>0</td>\n",
       "      <td>0</td>\n",
       "      <td>0</td>\n",
       "      <td>0</td>\n",
       "    </tr>\n",
       "  </tbody>\n",
       "</table>\n",
       "</div>"
      ],
      "text/plain": [
       "                     LUNES_FESTIVO  MARTES_POSTFESTIVO  SEMANA_SANTA  1_MAYO  \\\n",
       "Fecha-Hora                                                                     \n",
       "2022-04-28 11:00:00              0                   0             0       0   \n",
       "2022-04-28 12:00:00              0                   0             0       0   \n",
       "2022-04-28 13:00:00              0                   0             0       0   \n",
       "2022-04-28 14:00:00              0                   0             0       0   \n",
       "2022-04-28 15:00:00              0                   0             0       0   \n",
       "2022-04-28 16:00:00              0                   0             0       0   \n",
       "2022-04-28 17:00:00              0                   0             0       0   \n",
       "2022-04-28 18:00:00              0                   0             0       0   \n",
       "2022-04-28 19:00:00              0                   0             0       0   \n",
       "2022-04-28 20:00:00              0                   0             0       0   \n",
       "2022-04-28 21:00:00              0                   0             0       0   \n",
       "2022-04-28 22:00:00              0                   0             0       0   \n",
       "2022-04-28 23:00:00              0                   0             0       0   \n",
       "2022-04-29 00:00:00              0                   0             0       0   \n",
       "2022-04-29 01:00:00              0                   0             0       0   \n",
       "2022-04-29 02:00:00              0                   0             0       0   \n",
       "2022-04-29 03:00:00              0                   0             0       0   \n",
       "2022-04-29 04:00:00              0                   0             0       0   \n",
       "2022-04-29 05:00:00              0                   0             0       0   \n",
       "2022-04-29 06:00:00              0                   0             0       0   \n",
       "2022-04-29 07:00:00              0                   0             0       0   \n",
       "2022-04-29 08:00:00              0                   0             0       0   \n",
       "2022-04-29 09:00:00              0                   0             0       0   \n",
       "2022-04-29 10:00:00              0                   0             0       0   \n",
       "2022-04-29 11:00:00              0                   0             0       0   \n",
       "\n",
       "                     10_MAYO  16_SEP  2_NOV.  PRE-NAVIDAD_Y_NEW_YEAR  \\\n",
       "Fecha-Hora                                                             \n",
       "2022-04-28 11:00:00        0       0       0                       0   \n",
       "2022-04-28 12:00:00        0       0       0                       0   \n",
       "2022-04-28 13:00:00        0       0       0                       0   \n",
       "2022-04-28 14:00:00        0       0       0                       0   \n",
       "2022-04-28 15:00:00        0       0       0                       0   \n",
       "2022-04-28 16:00:00        0       0       0                       0   \n",
       "2022-04-28 17:00:00        0       0       0                       0   \n",
       "2022-04-28 18:00:00        0       0       0                       0   \n",
       "2022-04-28 19:00:00        0       0       0                       0   \n",
       "2022-04-28 20:00:00        0       0       0                       0   \n",
       "2022-04-28 21:00:00        0       0       0                       0   \n",
       "2022-04-28 22:00:00        0       0       0                       0   \n",
       "2022-04-28 23:00:00        0       0       0                       0   \n",
       "2022-04-29 00:00:00        0       0       0                       0   \n",
       "2022-04-29 01:00:00        0       0       0                       0   \n",
       "2022-04-29 02:00:00        0       0       0                       0   \n",
       "2022-04-29 03:00:00        0       0       0                       0   \n",
       "2022-04-29 04:00:00        0       0       0                       0   \n",
       "2022-04-29 05:00:00        0       0       0                       0   \n",
       "2022-04-29 06:00:00        0       0       0                       0   \n",
       "2022-04-29 07:00:00        0       0       0                       0   \n",
       "2022-04-29 08:00:00        0       0       0                       0   \n",
       "2022-04-29 09:00:00        0       0       0                       0   \n",
       "2022-04-29 10:00:00        0       0       0                       0   \n",
       "2022-04-29 11:00:00        0       0       0                       0   \n",
       "\n",
       "                     NAVIDAD_Y_NEW_YEAR  POST-NAVIDAD_Y_NEW_YEAR  \n",
       "Fecha-Hora                                                        \n",
       "2022-04-28 11:00:00                   0                        0  \n",
       "2022-04-28 12:00:00                   0                        0  \n",
       "2022-04-28 13:00:00                   0                        0  \n",
       "2022-04-28 14:00:00                   0                        0  \n",
       "2022-04-28 15:00:00                   0                        0  \n",
       "2022-04-28 16:00:00                   0                        0  \n",
       "2022-04-28 17:00:00                   0                        0  \n",
       "2022-04-28 18:00:00                   0                        0  \n",
       "2022-04-28 19:00:00                   0                        0  \n",
       "2022-04-28 20:00:00                   0                        0  \n",
       "2022-04-28 21:00:00                   0                        0  \n",
       "2022-04-28 22:00:00                   0                        0  \n",
       "2022-04-28 23:00:00                   0                        0  \n",
       "2022-04-29 00:00:00                   0                        0  \n",
       "2022-04-29 01:00:00                   0                        0  \n",
       "2022-04-29 02:00:00                   0                        0  \n",
       "2022-04-29 03:00:00                   0                        0  \n",
       "2022-04-29 04:00:00                   0                        0  \n",
       "2022-04-29 05:00:00                   0                        0  \n",
       "2022-04-29 06:00:00                   0                        0  \n",
       "2022-04-29 07:00:00                   0                        0  \n",
       "2022-04-29 08:00:00                   0                        0  \n",
       "2022-04-29 09:00:00                   0                        0  \n",
       "2022-04-29 10:00:00                   0                        0  \n",
       "2022-04-29 11:00:00                   0                        0  "
      ]
     },
     "execution_count": 16,
     "metadata": {},
     "output_type": "execute_result"
    }
   ],
   "source": [
    "consumo_pre.iloc[155:,19:29]"
   ]
  },
  {
   "cell_type": "code",
   "execution_count": 17,
   "id": "f9d955b8",
   "metadata": {
    "hidden": true
   },
   "outputs": [
    {
     "data": {
      "text/plain": [
       "180"
      ]
     },
     "execution_count": 17,
     "metadata": {},
     "output_type": "execute_result"
    }
   ],
   "source": [
    "y = consumo_pre[\"Fecha-Hora\"].values\n",
    "len(y)"
   ]
  },
  {
   "cell_type": "markdown",
   "id": "fae6183d",
   "metadata": {
    "heading_collapsed": true
   },
   "source": [
    "## 3. Feature engineering"
   ]
  },
  {
   "cell_type": "markdown",
   "id": "112f690e",
   "metadata": {
    "heading_collapsed": true,
    "hidden": true
   },
   "source": [
    "* PCA procedure is applied with the training set parameters\n",
    "* Scaling data to the closed interval [-1,1]"
   ]
  },
  {
   "cell_type": "markdown",
   "id": "907a1efb",
   "metadata": {
    "hidden": true
   },
   "source": [
    "<summary>\n",
    "    <font size=\"4\" color=\"orange\"><b>3.1 PCA procedure </b></font>\n",
    "</summary>"
   ]
  },
  {
   "cell_type": "code",
   "execution_count": 18,
   "id": "1302b703",
   "metadata": {
    "hidden": true
   },
   "outputs": [],
   "source": [
    "# Getting the training set parámeters\n",
    "pca_clima = pk.load(open(\"./outputs/PCA/pca_clima.pkl\",\"rb\"))\n",
    "scaler_model_clima= pk.load(open(\"./outputs/PCA/scaler_model_clima.pkl\",\"rb\"))"
   ]
  },
  {
   "cell_type": "code",
   "execution_count": 19,
   "id": "6343a1c4",
   "metadata": {},
   "outputs": [
    {
     "data": {
      "text/html": [
       "<div>\n",
       "<style scoped>\n",
       "    .dataframe tbody tr th:only-of-type {\n",
       "        vertical-align: middle;\n",
       "    }\n",
       "\n",
       "    .dataframe tbody tr th {\n",
       "        vertical-align: top;\n",
       "    }\n",
       "\n",
       "    .dataframe thead th {\n",
       "        text-align: right;\n",
       "    }\n",
       "</style>\n",
       "<table border=\"1\" class=\"dataframe\">\n",
       "  <thead>\n",
       "    <tr style=\"text-align: right;\">\n",
       "      <th></th>\n",
       "      <th>FECHA</th>\n",
       "      <th>DEMANDA</th>\n",
       "      <th>DIA</th>\n",
       "      <th>HORA</th>\n",
       "      <th>MES</th>\n",
       "      <th>TMAX-CAB</th>\n",
       "      <th>TMAX-HMO</th>\n",
       "      <th>TMAX-OBR</th>\n",
       "      <th>TMAX-LMO</th>\n",
       "      <th>TMAX-CUL</th>\n",
       "      <th>...</th>\n",
       "      <th>MARTES_POSTFESTIVO</th>\n",
       "      <th>SEMANA_SANTA</th>\n",
       "      <th>1_MAYO</th>\n",
       "      <th>10_MAYO</th>\n",
       "      <th>16_SEP</th>\n",
       "      <th>2_NOV.</th>\n",
       "      <th>PRE-NAVIDAD_Y_NEW_YEAR</th>\n",
       "      <th>NAVIDAD_Y_NEW_YEAR</th>\n",
       "      <th>POST-NAVIDAD_Y_NEW_YEAR</th>\n",
       "      <th>FECHA-HORA</th>\n",
       "    </tr>\n",
       "    <tr>\n",
       "      <th>Fecha-Hora</th>\n",
       "      <th></th>\n",
       "      <th></th>\n",
       "      <th></th>\n",
       "      <th></th>\n",
       "      <th></th>\n",
       "      <th></th>\n",
       "      <th></th>\n",
       "      <th></th>\n",
       "      <th></th>\n",
       "      <th></th>\n",
       "      <th></th>\n",
       "      <th></th>\n",
       "      <th></th>\n",
       "      <th></th>\n",
       "      <th></th>\n",
       "      <th></th>\n",
       "      <th></th>\n",
       "      <th></th>\n",
       "      <th></th>\n",
       "      <th></th>\n",
       "      <th></th>\n",
       "    </tr>\n",
       "  </thead>\n",
       "  <tbody>\n",
       "    <tr>\n",
       "      <th>2022-04-22 00:00:00</th>\n",
       "      <td>2022-04-22</td>\n",
       "      <td>3169</td>\n",
       "      <td>4</td>\n",
       "      <td>0</td>\n",
       "      <td>4</td>\n",
       "      <td>32.0</td>\n",
       "      <td>35.0</td>\n",
       "      <td>34.0</td>\n",
       "      <td>34.0</td>\n",
       "      <td>35.0</td>\n",
       "      <td>...</td>\n",
       "      <td>0</td>\n",
       "      <td>0</td>\n",
       "      <td>0</td>\n",
       "      <td>0</td>\n",
       "      <td>0</td>\n",
       "      <td>0</td>\n",
       "      <td>0</td>\n",
       "      <td>0</td>\n",
       "      <td>0</td>\n",
       "      <td>2022-04-22 00:00:00</td>\n",
       "    </tr>\n",
       "    <tr>\n",
       "      <th>2022-04-22 01:00:00</th>\n",
       "      <td>2022-04-22</td>\n",
       "      <td>3055</td>\n",
       "      <td>4</td>\n",
       "      <td>1</td>\n",
       "      <td>4</td>\n",
       "      <td>32.0</td>\n",
       "      <td>35.0</td>\n",
       "      <td>34.0</td>\n",
       "      <td>34.0</td>\n",
       "      <td>35.0</td>\n",
       "      <td>...</td>\n",
       "      <td>0</td>\n",
       "      <td>0</td>\n",
       "      <td>0</td>\n",
       "      <td>0</td>\n",
       "      <td>0</td>\n",
       "      <td>0</td>\n",
       "      <td>0</td>\n",
       "      <td>0</td>\n",
       "      <td>0</td>\n",
       "      <td>2022-04-22 01:00:00</td>\n",
       "    </tr>\n",
       "    <tr>\n",
       "      <th>2022-04-22 02:00:00</th>\n",
       "      <td>2022-04-22</td>\n",
       "      <td>2918</td>\n",
       "      <td>4</td>\n",
       "      <td>2</td>\n",
       "      <td>4</td>\n",
       "      <td>32.0</td>\n",
       "      <td>35.0</td>\n",
       "      <td>34.0</td>\n",
       "      <td>34.0</td>\n",
       "      <td>35.0</td>\n",
       "      <td>...</td>\n",
       "      <td>0</td>\n",
       "      <td>0</td>\n",
       "      <td>0</td>\n",
       "      <td>0</td>\n",
       "      <td>0</td>\n",
       "      <td>0</td>\n",
       "      <td>0</td>\n",
       "      <td>0</td>\n",
       "      <td>0</td>\n",
       "      <td>2022-04-22 02:00:00</td>\n",
       "    </tr>\n",
       "    <tr>\n",
       "      <th>2022-04-22 03:00:00</th>\n",
       "      <td>2022-04-22</td>\n",
       "      <td>2790</td>\n",
       "      <td>4</td>\n",
       "      <td>3</td>\n",
       "      <td>4</td>\n",
       "      <td>32.0</td>\n",
       "      <td>35.0</td>\n",
       "      <td>34.0</td>\n",
       "      <td>34.0</td>\n",
       "      <td>35.0</td>\n",
       "      <td>...</td>\n",
       "      <td>0</td>\n",
       "      <td>0</td>\n",
       "      <td>0</td>\n",
       "      <td>0</td>\n",
       "      <td>0</td>\n",
       "      <td>0</td>\n",
       "      <td>0</td>\n",
       "      <td>0</td>\n",
       "      <td>0</td>\n",
       "      <td>2022-04-22 03:00:00</td>\n",
       "    </tr>\n",
       "    <tr>\n",
       "      <th>2022-04-22 04:00:00</th>\n",
       "      <td>2022-04-22</td>\n",
       "      <td>2685</td>\n",
       "      <td>4</td>\n",
       "      <td>4</td>\n",
       "      <td>4</td>\n",
       "      <td>32.0</td>\n",
       "      <td>35.0</td>\n",
       "      <td>34.0</td>\n",
       "      <td>34.0</td>\n",
       "      <td>35.0</td>\n",
       "      <td>...</td>\n",
       "      <td>0</td>\n",
       "      <td>0</td>\n",
       "      <td>0</td>\n",
       "      <td>0</td>\n",
       "      <td>0</td>\n",
       "      <td>0</td>\n",
       "      <td>0</td>\n",
       "      <td>0</td>\n",
       "      <td>0</td>\n",
       "      <td>2022-04-22 04:00:00</td>\n",
       "    </tr>\n",
       "    <tr>\n",
       "      <th>...</th>\n",
       "      <td>...</td>\n",
       "      <td>...</td>\n",
       "      <td>...</td>\n",
       "      <td>...</td>\n",
       "      <td>...</td>\n",
       "      <td>...</td>\n",
       "      <td>...</td>\n",
       "      <td>...</td>\n",
       "      <td>...</td>\n",
       "      <td>...</td>\n",
       "      <td>...</td>\n",
       "      <td>...</td>\n",
       "      <td>...</td>\n",
       "      <td>...</td>\n",
       "      <td>...</td>\n",
       "      <td>...</td>\n",
       "      <td>...</td>\n",
       "      <td>...</td>\n",
       "      <td>...</td>\n",
       "      <td>...</td>\n",
       "      <td>...</td>\n",
       "    </tr>\n",
       "    <tr>\n",
       "      <th>2022-04-29 07:00:00</th>\n",
       "      <td>2022-04-29</td>\n",
       "      <td>2542</td>\n",
       "      <td>4</td>\n",
       "      <td>7</td>\n",
       "      <td>4</td>\n",
       "      <td>30.0</td>\n",
       "      <td>37.0</td>\n",
       "      <td>35.0</td>\n",
       "      <td>36.0</td>\n",
       "      <td>37.0</td>\n",
       "      <td>...</td>\n",
       "      <td>0</td>\n",
       "      <td>0</td>\n",
       "      <td>0</td>\n",
       "      <td>0</td>\n",
       "      <td>0</td>\n",
       "      <td>0</td>\n",
       "      <td>0</td>\n",
       "      <td>0</td>\n",
       "      <td>0</td>\n",
       "      <td>2022-04-29 07:00:00</td>\n",
       "    </tr>\n",
       "    <tr>\n",
       "      <th>2022-04-29 08:00:00</th>\n",
       "      <td>2022-04-29</td>\n",
       "      <td>2530</td>\n",
       "      <td>4</td>\n",
       "      <td>8</td>\n",
       "      <td>4</td>\n",
       "      <td>30.0</td>\n",
       "      <td>37.0</td>\n",
       "      <td>35.0</td>\n",
       "      <td>36.0</td>\n",
       "      <td>37.0</td>\n",
       "      <td>...</td>\n",
       "      <td>0</td>\n",
       "      <td>0</td>\n",
       "      <td>0</td>\n",
       "      <td>0</td>\n",
       "      <td>0</td>\n",
       "      <td>0</td>\n",
       "      <td>0</td>\n",
       "      <td>0</td>\n",
       "      <td>0</td>\n",
       "      <td>2022-04-29 08:00:00</td>\n",
       "    </tr>\n",
       "    <tr>\n",
       "      <th>2022-04-29 09:00:00</th>\n",
       "      <td>2022-04-29</td>\n",
       "      <td>2634</td>\n",
       "      <td>4</td>\n",
       "      <td>9</td>\n",
       "      <td>4</td>\n",
       "      <td>30.0</td>\n",
       "      <td>37.0</td>\n",
       "      <td>35.0</td>\n",
       "      <td>36.0</td>\n",
       "      <td>37.0</td>\n",
       "      <td>...</td>\n",
       "      <td>0</td>\n",
       "      <td>0</td>\n",
       "      <td>0</td>\n",
       "      <td>0</td>\n",
       "      <td>0</td>\n",
       "      <td>0</td>\n",
       "      <td>0</td>\n",
       "      <td>0</td>\n",
       "      <td>0</td>\n",
       "      <td>2022-04-29 09:00:00</td>\n",
       "    </tr>\n",
       "    <tr>\n",
       "      <th>2022-04-29 10:00:00</th>\n",
       "      <td>2022-04-29</td>\n",
       "      <td>2722</td>\n",
       "      <td>4</td>\n",
       "      <td>10</td>\n",
       "      <td>4</td>\n",
       "      <td>30.0</td>\n",
       "      <td>37.0</td>\n",
       "      <td>35.0</td>\n",
       "      <td>36.0</td>\n",
       "      <td>37.0</td>\n",
       "      <td>...</td>\n",
       "      <td>0</td>\n",
       "      <td>0</td>\n",
       "      <td>0</td>\n",
       "      <td>0</td>\n",
       "      <td>0</td>\n",
       "      <td>0</td>\n",
       "      <td>0</td>\n",
       "      <td>0</td>\n",
       "      <td>0</td>\n",
       "      <td>2022-04-29 10:00:00</td>\n",
       "    </tr>\n",
       "    <tr>\n",
       "      <th>2022-04-29 11:00:00</th>\n",
       "      <td>2022-04-29</td>\n",
       "      <td>2862</td>\n",
       "      <td>4</td>\n",
       "      <td>11</td>\n",
       "      <td>4</td>\n",
       "      <td>30.0</td>\n",
       "      <td>37.0</td>\n",
       "      <td>35.0</td>\n",
       "      <td>36.0</td>\n",
       "      <td>37.0</td>\n",
       "      <td>...</td>\n",
       "      <td>0</td>\n",
       "      <td>0</td>\n",
       "      <td>0</td>\n",
       "      <td>0</td>\n",
       "      <td>0</td>\n",
       "      <td>0</td>\n",
       "      <td>0</td>\n",
       "      <td>0</td>\n",
       "      <td>0</td>\n",
       "      <td>2022-04-29 11:00:00</td>\n",
       "    </tr>\n",
       "  </tbody>\n",
       "</table>\n",
       "<p>180 rows × 30 columns</p>\n",
       "</div>"
      ],
      "text/plain": [
       "                         FECHA  DEMANDA  DIA  HORA  MES  TMAX-CAB  TMAX-HMO  \\\n",
       "Fecha-Hora                                                                    \n",
       "2022-04-22 00:00:00 2022-04-22     3169    4     0    4      32.0      35.0   \n",
       "2022-04-22 01:00:00 2022-04-22     3055    4     1    4      32.0      35.0   \n",
       "2022-04-22 02:00:00 2022-04-22     2918    4     2    4      32.0      35.0   \n",
       "2022-04-22 03:00:00 2022-04-22     2790    4     3    4      32.0      35.0   \n",
       "2022-04-22 04:00:00 2022-04-22     2685    4     4    4      32.0      35.0   \n",
       "...                        ...      ...  ...   ...  ...       ...       ...   \n",
       "2022-04-29 07:00:00 2022-04-29     2542    4     7    4      30.0      37.0   \n",
       "2022-04-29 08:00:00 2022-04-29     2530    4     8    4      30.0      37.0   \n",
       "2022-04-29 09:00:00 2022-04-29     2634    4     9    4      30.0      37.0   \n",
       "2022-04-29 10:00:00 2022-04-29     2722    4    10    4      30.0      37.0   \n",
       "2022-04-29 11:00:00 2022-04-29     2862    4    11    4      30.0      37.0   \n",
       "\n",
       "                     TMAX-OBR  TMAX-LMO  TMAX-CUL  ...  MARTES_POSTFESTIVO  \\\n",
       "Fecha-Hora                                         ...                       \n",
       "2022-04-22 00:00:00      34.0      34.0      35.0  ...                   0   \n",
       "2022-04-22 01:00:00      34.0      34.0      35.0  ...                   0   \n",
       "2022-04-22 02:00:00      34.0      34.0      35.0  ...                   0   \n",
       "2022-04-22 03:00:00      34.0      34.0      35.0  ...                   0   \n",
       "2022-04-22 04:00:00      34.0      34.0      35.0  ...                   0   \n",
       "...                       ...       ...       ...  ...                 ...   \n",
       "2022-04-29 07:00:00      35.0      36.0      37.0  ...                   0   \n",
       "2022-04-29 08:00:00      35.0      36.0      37.0  ...                   0   \n",
       "2022-04-29 09:00:00      35.0      36.0      37.0  ...                   0   \n",
       "2022-04-29 10:00:00      35.0      36.0      37.0  ...                   0   \n",
       "2022-04-29 11:00:00      35.0      36.0      37.0  ...                   0   \n",
       "\n",
       "                     SEMANA_SANTA  1_MAYO  10_MAYO  16_SEP  2_NOV.  \\\n",
       "Fecha-Hora                                                           \n",
       "2022-04-22 00:00:00             0       0        0       0       0   \n",
       "2022-04-22 01:00:00             0       0        0       0       0   \n",
       "2022-04-22 02:00:00             0       0        0       0       0   \n",
       "2022-04-22 03:00:00             0       0        0       0       0   \n",
       "2022-04-22 04:00:00             0       0        0       0       0   \n",
       "...                           ...     ...      ...     ...     ...   \n",
       "2022-04-29 07:00:00             0       0        0       0       0   \n",
       "2022-04-29 08:00:00             0       0        0       0       0   \n",
       "2022-04-29 09:00:00             0       0        0       0       0   \n",
       "2022-04-29 10:00:00             0       0        0       0       0   \n",
       "2022-04-29 11:00:00             0       0        0       0       0   \n",
       "\n",
       "                     PRE-NAVIDAD_Y_NEW_YEAR  NAVIDAD_Y_NEW_YEAR  \\\n",
       "Fecha-Hora                                                        \n",
       "2022-04-22 00:00:00                       0                   0   \n",
       "2022-04-22 01:00:00                       0                   0   \n",
       "2022-04-22 02:00:00                       0                   0   \n",
       "2022-04-22 03:00:00                       0                   0   \n",
       "2022-04-22 04:00:00                       0                   0   \n",
       "...                                     ...                 ...   \n",
       "2022-04-29 07:00:00                       0                   0   \n",
       "2022-04-29 08:00:00                       0                   0   \n",
       "2022-04-29 09:00:00                       0                   0   \n",
       "2022-04-29 10:00:00                       0                   0   \n",
       "2022-04-29 11:00:00                       0                   0   \n",
       "\n",
       "                     POST-NAVIDAD_Y_NEW_YEAR          FECHA-HORA  \n",
       "Fecha-Hora                                                        \n",
       "2022-04-22 00:00:00                        0 2022-04-22 00:00:00  \n",
       "2022-04-22 01:00:00                        0 2022-04-22 01:00:00  \n",
       "2022-04-22 02:00:00                        0 2022-04-22 02:00:00  \n",
       "2022-04-22 03:00:00                        0 2022-04-22 03:00:00  \n",
       "2022-04-22 04:00:00                        0 2022-04-22 04:00:00  \n",
       "...                                      ...                 ...  \n",
       "2022-04-29 07:00:00                        0 2022-04-29 07:00:00  \n",
       "2022-04-29 08:00:00                        0 2022-04-29 08:00:00  \n",
       "2022-04-29 09:00:00                        0 2022-04-29 09:00:00  \n",
       "2022-04-29 10:00:00                        0 2022-04-29 10:00:00  \n",
       "2022-04-29 11:00:00                        0 2022-04-29 11:00:00  \n",
       "\n",
       "[180 rows x 30 columns]"
      ]
     },
     "execution_count": 19,
     "metadata": {},
     "output_type": "execute_result"
    }
   ],
   "source": [
    "consumo_pre.rename(columns={'Demanda':'DEMANDA', 'Mes':'MES', 'Dia':'DIA', 'Hora':'HORA', 'Fecha-Hora':'FECHA-HORA'}, inplace=True)\n",
    "consumo_pre"
   ]
  },
  {
   "cell_type": "code",
   "execution_count": 20,
   "id": "9a863048",
   "metadata": {
    "hidden": true
   },
   "outputs": [],
   "source": [
    "df_pronostico = transform_data(consumo_pre,'FECHA-HORA',pca_clima,scaler_model_clima)"
   ]
  },
  {
   "cell_type": "code",
   "execution_count": 21,
   "id": "08933c17",
   "metadata": {
    "hidden": true
   },
   "outputs": [
    {
     "data": {
      "text/html": [
       "<div>\n",
       "<style scoped>\n",
       "    .dataframe tbody tr th:only-of-type {\n",
       "        vertical-align: middle;\n",
       "    }\n",
       "\n",
       "    .dataframe tbody tr th {\n",
       "        vertical-align: top;\n",
       "    }\n",
       "\n",
       "    .dataframe thead th {\n",
       "        text-align: right;\n",
       "    }\n",
       "</style>\n",
       "<table border=\"1\" class=\"dataframe\">\n",
       "  <thead>\n",
       "    <tr style=\"text-align: right;\">\n",
       "      <th></th>\n",
       "      <th>PC1_CLIMA</th>\n",
       "      <th>PC2_CLIMA</th>\n",
       "      <th>FECHA-HORA</th>\n",
       "      <th>DEMANDA</th>\n",
       "      <th>MES</th>\n",
       "      <th>DIA</th>\n",
       "      <th>HORA</th>\n",
       "      <th>LUNES_FESTIVO</th>\n",
       "      <th>MARTES_POSTFESTIVO</th>\n",
       "      <th>SEMANA_SANTA</th>\n",
       "      <th>1_MAYO</th>\n",
       "      <th>10_MAYO</th>\n",
       "      <th>16_SEP</th>\n",
       "      <th>2_NOV.</th>\n",
       "      <th>PRE-NAVIDAD_Y_NEW_YEAR</th>\n",
       "      <th>NAVIDAD_Y_NEW_YEAR</th>\n",
       "      <th>POST-NAVIDAD_Y_NEW_YEAR</th>\n",
       "    </tr>\n",
       "  </thead>\n",
       "  <tbody>\n",
       "    <tr>\n",
       "      <th>132</th>\n",
       "      <td>-0.383434</td>\n",
       "      <td>-0.857927</td>\n",
       "      <td>2022-04-27 12:00:00</td>\n",
       "      <td>2935</td>\n",
       "      <td>4</td>\n",
       "      <td>2</td>\n",
       "      <td>12</td>\n",
       "      <td>0</td>\n",
       "      <td>0</td>\n",
       "      <td>0</td>\n",
       "      <td>0</td>\n",
       "      <td>0</td>\n",
       "      <td>0</td>\n",
       "      <td>0</td>\n",
       "      <td>0</td>\n",
       "      <td>0</td>\n",
       "      <td>0</td>\n",
       "    </tr>\n",
       "    <tr>\n",
       "      <th>133</th>\n",
       "      <td>-0.383434</td>\n",
       "      <td>-0.857927</td>\n",
       "      <td>2022-04-27 13:00:00</td>\n",
       "      <td>3016</td>\n",
       "      <td>4</td>\n",
       "      <td>2</td>\n",
       "      <td>13</td>\n",
       "      <td>0</td>\n",
       "      <td>0</td>\n",
       "      <td>0</td>\n",
       "      <td>0</td>\n",
       "      <td>0</td>\n",
       "      <td>0</td>\n",
       "      <td>0</td>\n",
       "      <td>0</td>\n",
       "      <td>0</td>\n",
       "      <td>0</td>\n",
       "    </tr>\n",
       "    <tr>\n",
       "      <th>134</th>\n",
       "      <td>-0.383434</td>\n",
       "      <td>-0.857927</td>\n",
       "      <td>2022-04-27 14:00:00</td>\n",
       "      <td>3127</td>\n",
       "      <td>4</td>\n",
       "      <td>2</td>\n",
       "      <td>14</td>\n",
       "      <td>0</td>\n",
       "      <td>0</td>\n",
       "      <td>0</td>\n",
       "      <td>0</td>\n",
       "      <td>0</td>\n",
       "      <td>0</td>\n",
       "      <td>0</td>\n",
       "      <td>0</td>\n",
       "      <td>0</td>\n",
       "      <td>0</td>\n",
       "    </tr>\n",
       "    <tr>\n",
       "      <th>135</th>\n",
       "      <td>-0.383434</td>\n",
       "      <td>-0.857927</td>\n",
       "      <td>2022-04-27 15:00:00</td>\n",
       "      <td>3272</td>\n",
       "      <td>4</td>\n",
       "      <td>2</td>\n",
       "      <td>15</td>\n",
       "      <td>0</td>\n",
       "      <td>0</td>\n",
       "      <td>0</td>\n",
       "      <td>0</td>\n",
       "      <td>0</td>\n",
       "      <td>0</td>\n",
       "      <td>0</td>\n",
       "      <td>0</td>\n",
       "      <td>0</td>\n",
       "      <td>0</td>\n",
       "    </tr>\n",
       "    <tr>\n",
       "      <th>136</th>\n",
       "      <td>-0.383434</td>\n",
       "      <td>-0.857927</td>\n",
       "      <td>2022-04-27 16:00:00</td>\n",
       "      <td>3382</td>\n",
       "      <td>4</td>\n",
       "      <td>2</td>\n",
       "      <td>16</td>\n",
       "      <td>0</td>\n",
       "      <td>0</td>\n",
       "      <td>0</td>\n",
       "      <td>0</td>\n",
       "      <td>0</td>\n",
       "      <td>0</td>\n",
       "      <td>0</td>\n",
       "      <td>0</td>\n",
       "      <td>0</td>\n",
       "      <td>0</td>\n",
       "    </tr>\n",
       "    <tr>\n",
       "      <th>137</th>\n",
       "      <td>-0.383434</td>\n",
       "      <td>-0.857927</td>\n",
       "      <td>2022-04-27 17:00:00</td>\n",
       "      <td>3457</td>\n",
       "      <td>4</td>\n",
       "      <td>2</td>\n",
       "      <td>17</td>\n",
       "      <td>0</td>\n",
       "      <td>0</td>\n",
       "      <td>0</td>\n",
       "      <td>0</td>\n",
       "      <td>0</td>\n",
       "      <td>0</td>\n",
       "      <td>0</td>\n",
       "      <td>0</td>\n",
       "      <td>0</td>\n",
       "      <td>0</td>\n",
       "    </tr>\n",
       "    <tr>\n",
       "      <th>138</th>\n",
       "      <td>-0.383434</td>\n",
       "      <td>-0.857927</td>\n",
       "      <td>2022-04-27 18:00:00</td>\n",
       "      <td>3412</td>\n",
       "      <td>4</td>\n",
       "      <td>2</td>\n",
       "      <td>18</td>\n",
       "      <td>0</td>\n",
       "      <td>0</td>\n",
       "      <td>0</td>\n",
       "      <td>0</td>\n",
       "      <td>0</td>\n",
       "      <td>0</td>\n",
       "      <td>0</td>\n",
       "      <td>0</td>\n",
       "      <td>0</td>\n",
       "      <td>0</td>\n",
       "    </tr>\n",
       "    <tr>\n",
       "      <th>139</th>\n",
       "      <td>-0.383434</td>\n",
       "      <td>-0.857927</td>\n",
       "      <td>2022-04-27 19:00:00</td>\n",
       "      <td>3310</td>\n",
       "      <td>4</td>\n",
       "      <td>2</td>\n",
       "      <td>19</td>\n",
       "      <td>0</td>\n",
       "      <td>0</td>\n",
       "      <td>0</td>\n",
       "      <td>0</td>\n",
       "      <td>0</td>\n",
       "      <td>0</td>\n",
       "      <td>0</td>\n",
       "      <td>0</td>\n",
       "      <td>0</td>\n",
       "      <td>0</td>\n",
       "    </tr>\n",
       "    <tr>\n",
       "      <th>140</th>\n",
       "      <td>-0.383434</td>\n",
       "      <td>-0.857927</td>\n",
       "      <td>2022-04-27 20:00:00</td>\n",
       "      <td>3206</td>\n",
       "      <td>4</td>\n",
       "      <td>2</td>\n",
       "      <td>20</td>\n",
       "      <td>0</td>\n",
       "      <td>0</td>\n",
       "      <td>0</td>\n",
       "      <td>0</td>\n",
       "      <td>0</td>\n",
       "      <td>0</td>\n",
       "      <td>0</td>\n",
       "      <td>0</td>\n",
       "      <td>0</td>\n",
       "      <td>0</td>\n",
       "    </tr>\n",
       "    <tr>\n",
       "      <th>141</th>\n",
       "      <td>-0.383434</td>\n",
       "      <td>-0.857927</td>\n",
       "      <td>2022-04-27 21:00:00</td>\n",
       "      <td>3283</td>\n",
       "      <td>4</td>\n",
       "      <td>2</td>\n",
       "      <td>21</td>\n",
       "      <td>0</td>\n",
       "      <td>0</td>\n",
       "      <td>0</td>\n",
       "      <td>0</td>\n",
       "      <td>0</td>\n",
       "      <td>0</td>\n",
       "      <td>0</td>\n",
       "      <td>0</td>\n",
       "      <td>0</td>\n",
       "      <td>0</td>\n",
       "    </tr>\n",
       "    <tr>\n",
       "      <th>142</th>\n",
       "      <td>-0.383434</td>\n",
       "      <td>-0.857927</td>\n",
       "      <td>2022-04-27 22:00:00</td>\n",
       "      <td>3335</td>\n",
       "      <td>4</td>\n",
       "      <td>2</td>\n",
       "      <td>22</td>\n",
       "      <td>0</td>\n",
       "      <td>0</td>\n",
       "      <td>0</td>\n",
       "      <td>0</td>\n",
       "      <td>0</td>\n",
       "      <td>0</td>\n",
       "      <td>0</td>\n",
       "      <td>0</td>\n",
       "      <td>0</td>\n",
       "      <td>0</td>\n",
       "    </tr>\n",
       "    <tr>\n",
       "      <th>143</th>\n",
       "      <td>-0.383434</td>\n",
       "      <td>-0.857927</td>\n",
       "      <td>2022-04-27 23:00:00</td>\n",
       "      <td>3334</td>\n",
       "      <td>4</td>\n",
       "      <td>2</td>\n",
       "      <td>23</td>\n",
       "      <td>0</td>\n",
       "      <td>0</td>\n",
       "      <td>0</td>\n",
       "      <td>0</td>\n",
       "      <td>0</td>\n",
       "      <td>0</td>\n",
       "      <td>0</td>\n",
       "      <td>0</td>\n",
       "      <td>0</td>\n",
       "      <td>0</td>\n",
       "    </tr>\n",
       "    <tr>\n",
       "      <th>144</th>\n",
       "      <td>0.314915</td>\n",
       "      <td>-0.701302</td>\n",
       "      <td>2022-04-28 00:00:00</td>\n",
       "      <td>3241</td>\n",
       "      <td>4</td>\n",
       "      <td>3</td>\n",
       "      <td>0</td>\n",
       "      <td>0</td>\n",
       "      <td>0</td>\n",
       "      <td>0</td>\n",
       "      <td>0</td>\n",
       "      <td>0</td>\n",
       "      <td>0</td>\n",
       "      <td>0</td>\n",
       "      <td>0</td>\n",
       "      <td>0</td>\n",
       "      <td>0</td>\n",
       "    </tr>\n",
       "    <tr>\n",
       "      <th>145</th>\n",
       "      <td>0.314915</td>\n",
       "      <td>-0.701302</td>\n",
       "      <td>2022-04-28 01:00:00</td>\n",
       "      <td>3097</td>\n",
       "      <td>4</td>\n",
       "      <td>3</td>\n",
       "      <td>1</td>\n",
       "      <td>0</td>\n",
       "      <td>0</td>\n",
       "      <td>0</td>\n",
       "      <td>0</td>\n",
       "      <td>0</td>\n",
       "      <td>0</td>\n",
       "      <td>0</td>\n",
       "      <td>0</td>\n",
       "      <td>0</td>\n",
       "      <td>0</td>\n",
       "    </tr>\n",
       "    <tr>\n",
       "      <th>146</th>\n",
       "      <td>0.314915</td>\n",
       "      <td>-0.701302</td>\n",
       "      <td>2022-04-28 02:00:00</td>\n",
       "      <td>2952</td>\n",
       "      <td>4</td>\n",
       "      <td>3</td>\n",
       "      <td>2</td>\n",
       "      <td>0</td>\n",
       "      <td>0</td>\n",
       "      <td>0</td>\n",
       "      <td>0</td>\n",
       "      <td>0</td>\n",
       "      <td>0</td>\n",
       "      <td>0</td>\n",
       "      <td>0</td>\n",
       "      <td>0</td>\n",
       "      <td>0</td>\n",
       "    </tr>\n",
       "    <tr>\n",
       "      <th>147</th>\n",
       "      <td>0.314915</td>\n",
       "      <td>-0.701302</td>\n",
       "      <td>2022-04-28 03:00:00</td>\n",
       "      <td>2810</td>\n",
       "      <td>4</td>\n",
       "      <td>3</td>\n",
       "      <td>3</td>\n",
       "      <td>0</td>\n",
       "      <td>0</td>\n",
       "      <td>0</td>\n",
       "      <td>0</td>\n",
       "      <td>0</td>\n",
       "      <td>0</td>\n",
       "      <td>0</td>\n",
       "      <td>0</td>\n",
       "      <td>0</td>\n",
       "      <td>0</td>\n",
       "    </tr>\n",
       "    <tr>\n",
       "      <th>148</th>\n",
       "      <td>0.314915</td>\n",
       "      <td>-0.701302</td>\n",
       "      <td>2022-04-28 04:00:00</td>\n",
       "      <td>2686</td>\n",
       "      <td>4</td>\n",
       "      <td>3</td>\n",
       "      <td>4</td>\n",
       "      <td>0</td>\n",
       "      <td>0</td>\n",
       "      <td>0</td>\n",
       "      <td>0</td>\n",
       "      <td>0</td>\n",
       "      <td>0</td>\n",
       "      <td>0</td>\n",
       "      <td>0</td>\n",
       "      <td>0</td>\n",
       "      <td>0</td>\n",
       "    </tr>\n",
       "    <tr>\n",
       "      <th>149</th>\n",
       "      <td>0.314915</td>\n",
       "      <td>-0.701302</td>\n",
       "      <td>2022-04-28 05:00:00</td>\n",
       "      <td>2579</td>\n",
       "      <td>4</td>\n",
       "      <td>3</td>\n",
       "      <td>5</td>\n",
       "      <td>0</td>\n",
       "      <td>0</td>\n",
       "      <td>0</td>\n",
       "      <td>0</td>\n",
       "      <td>0</td>\n",
       "      <td>0</td>\n",
       "      <td>0</td>\n",
       "      <td>0</td>\n",
       "      <td>0</td>\n",
       "      <td>0</td>\n",
       "    </tr>\n",
       "    <tr>\n",
       "      <th>150</th>\n",
       "      <td>0.314915</td>\n",
       "      <td>-0.701302</td>\n",
       "      <td>2022-04-28 06:00:00</td>\n",
       "      <td>2531</td>\n",
       "      <td>4</td>\n",
       "      <td>3</td>\n",
       "      <td>6</td>\n",
       "      <td>0</td>\n",
       "      <td>0</td>\n",
       "      <td>0</td>\n",
       "      <td>0</td>\n",
       "      <td>0</td>\n",
       "      <td>0</td>\n",
       "      <td>0</td>\n",
       "      <td>0</td>\n",
       "      <td>0</td>\n",
       "      <td>0</td>\n",
       "    </tr>\n",
       "    <tr>\n",
       "      <th>151</th>\n",
       "      <td>0.314915</td>\n",
       "      <td>-0.701302</td>\n",
       "      <td>2022-04-28 07:00:00</td>\n",
       "      <td>2483</td>\n",
       "      <td>4</td>\n",
       "      <td>3</td>\n",
       "      <td>7</td>\n",
       "      <td>0</td>\n",
       "      <td>0</td>\n",
       "      <td>0</td>\n",
       "      <td>0</td>\n",
       "      <td>0</td>\n",
       "      <td>0</td>\n",
       "      <td>0</td>\n",
       "      <td>0</td>\n",
       "      <td>0</td>\n",
       "      <td>0</td>\n",
       "    </tr>\n",
       "    <tr>\n",
       "      <th>152</th>\n",
       "      <td>0.314915</td>\n",
       "      <td>-0.701302</td>\n",
       "      <td>2022-04-28 08:00:00</td>\n",
       "      <td>2456</td>\n",
       "      <td>4</td>\n",
       "      <td>3</td>\n",
       "      <td>8</td>\n",
       "      <td>0</td>\n",
       "      <td>0</td>\n",
       "      <td>0</td>\n",
       "      <td>0</td>\n",
       "      <td>0</td>\n",
       "      <td>0</td>\n",
       "      <td>0</td>\n",
       "      <td>0</td>\n",
       "      <td>0</td>\n",
       "      <td>0</td>\n",
       "    </tr>\n",
       "    <tr>\n",
       "      <th>153</th>\n",
       "      <td>0.314915</td>\n",
       "      <td>-0.701302</td>\n",
       "      <td>2022-04-28 09:00:00</td>\n",
       "      <td>2578</td>\n",
       "      <td>4</td>\n",
       "      <td>3</td>\n",
       "      <td>9</td>\n",
       "      <td>0</td>\n",
       "      <td>0</td>\n",
       "      <td>0</td>\n",
       "      <td>0</td>\n",
       "      <td>0</td>\n",
       "      <td>0</td>\n",
       "      <td>0</td>\n",
       "      <td>0</td>\n",
       "      <td>0</td>\n",
       "      <td>0</td>\n",
       "    </tr>\n",
       "    <tr>\n",
       "      <th>154</th>\n",
       "      <td>0.314915</td>\n",
       "      <td>-0.701302</td>\n",
       "      <td>2022-04-28 10:00:00</td>\n",
       "      <td>2696</td>\n",
       "      <td>4</td>\n",
       "      <td>3</td>\n",
       "      <td>10</td>\n",
       "      <td>0</td>\n",
       "      <td>0</td>\n",
       "      <td>0</td>\n",
       "      <td>0</td>\n",
       "      <td>0</td>\n",
       "      <td>0</td>\n",
       "      <td>0</td>\n",
       "      <td>0</td>\n",
       "      <td>0</td>\n",
       "      <td>0</td>\n",
       "    </tr>\n",
       "    <tr>\n",
       "      <th>155</th>\n",
       "      <td>0.314915</td>\n",
       "      <td>-0.701302</td>\n",
       "      <td>2022-04-28 11:00:00</td>\n",
       "      <td>2809</td>\n",
       "      <td>4</td>\n",
       "      <td>3</td>\n",
       "      <td>11</td>\n",
       "      <td>0</td>\n",
       "      <td>0</td>\n",
       "      <td>0</td>\n",
       "      <td>0</td>\n",
       "      <td>0</td>\n",
       "      <td>0</td>\n",
       "      <td>0</td>\n",
       "      <td>0</td>\n",
       "      <td>0</td>\n",
       "      <td>0</td>\n",
       "    </tr>\n",
       "    <tr>\n",
       "      <th>156</th>\n",
       "      <td>0.314915</td>\n",
       "      <td>-0.701302</td>\n",
       "      <td>2022-04-28 12:00:00</td>\n",
       "      <td>2910</td>\n",
       "      <td>4</td>\n",
       "      <td>3</td>\n",
       "      <td>12</td>\n",
       "      <td>0</td>\n",
       "      <td>0</td>\n",
       "      <td>0</td>\n",
       "      <td>0</td>\n",
       "      <td>0</td>\n",
       "      <td>0</td>\n",
       "      <td>0</td>\n",
       "      <td>0</td>\n",
       "      <td>0</td>\n",
       "      <td>0</td>\n",
       "    </tr>\n",
       "    <tr>\n",
       "      <th>157</th>\n",
       "      <td>0.314915</td>\n",
       "      <td>-0.701302</td>\n",
       "      <td>2022-04-28 13:00:00</td>\n",
       "      <td>3012</td>\n",
       "      <td>4</td>\n",
       "      <td>3</td>\n",
       "      <td>13</td>\n",
       "      <td>0</td>\n",
       "      <td>0</td>\n",
       "      <td>0</td>\n",
       "      <td>0</td>\n",
       "      <td>0</td>\n",
       "      <td>0</td>\n",
       "      <td>0</td>\n",
       "      <td>0</td>\n",
       "      <td>0</td>\n",
       "      <td>0</td>\n",
       "    </tr>\n",
       "    <tr>\n",
       "      <th>158</th>\n",
       "      <td>0.314915</td>\n",
       "      <td>-0.701302</td>\n",
       "      <td>2022-04-28 14:00:00</td>\n",
       "      <td>3109</td>\n",
       "      <td>4</td>\n",
       "      <td>3</td>\n",
       "      <td>14</td>\n",
       "      <td>0</td>\n",
       "      <td>0</td>\n",
       "      <td>0</td>\n",
       "      <td>0</td>\n",
       "      <td>0</td>\n",
       "      <td>0</td>\n",
       "      <td>0</td>\n",
       "      <td>0</td>\n",
       "      <td>0</td>\n",
       "      <td>0</td>\n",
       "    </tr>\n",
       "    <tr>\n",
       "      <th>159</th>\n",
       "      <td>0.314915</td>\n",
       "      <td>-0.701302</td>\n",
       "      <td>2022-04-28 15:00:00</td>\n",
       "      <td>3238</td>\n",
       "      <td>4</td>\n",
       "      <td>3</td>\n",
       "      <td>15</td>\n",
       "      <td>0</td>\n",
       "      <td>0</td>\n",
       "      <td>0</td>\n",
       "      <td>0</td>\n",
       "      <td>0</td>\n",
       "      <td>0</td>\n",
       "      <td>0</td>\n",
       "      <td>0</td>\n",
       "      <td>0</td>\n",
       "      <td>0</td>\n",
       "    </tr>\n",
       "    <tr>\n",
       "      <th>160</th>\n",
       "      <td>0.314915</td>\n",
       "      <td>-0.701302</td>\n",
       "      <td>2022-04-28 16:00:00</td>\n",
       "      <td>3340</td>\n",
       "      <td>4</td>\n",
       "      <td>3</td>\n",
       "      <td>16</td>\n",
       "      <td>0</td>\n",
       "      <td>0</td>\n",
       "      <td>0</td>\n",
       "      <td>0</td>\n",
       "      <td>0</td>\n",
       "      <td>0</td>\n",
       "      <td>0</td>\n",
       "      <td>0</td>\n",
       "      <td>0</td>\n",
       "      <td>0</td>\n",
       "    </tr>\n",
       "    <tr>\n",
       "      <th>161</th>\n",
       "      <td>0.314915</td>\n",
       "      <td>-0.701302</td>\n",
       "      <td>2022-04-28 17:00:00</td>\n",
       "      <td>3409</td>\n",
       "      <td>4</td>\n",
       "      <td>3</td>\n",
       "      <td>17</td>\n",
       "      <td>0</td>\n",
       "      <td>0</td>\n",
       "      <td>0</td>\n",
       "      <td>0</td>\n",
       "      <td>0</td>\n",
       "      <td>0</td>\n",
       "      <td>0</td>\n",
       "      <td>0</td>\n",
       "      <td>0</td>\n",
       "      <td>0</td>\n",
       "    </tr>\n",
       "    <tr>\n",
       "      <th>162</th>\n",
       "      <td>0.314915</td>\n",
       "      <td>-0.701302</td>\n",
       "      <td>2022-04-28 18:00:00</td>\n",
       "      <td>3380</td>\n",
       "      <td>4</td>\n",
       "      <td>3</td>\n",
       "      <td>18</td>\n",
       "      <td>0</td>\n",
       "      <td>0</td>\n",
       "      <td>0</td>\n",
       "      <td>0</td>\n",
       "      <td>0</td>\n",
       "      <td>0</td>\n",
       "      <td>0</td>\n",
       "      <td>0</td>\n",
       "      <td>0</td>\n",
       "      <td>0</td>\n",
       "    </tr>\n",
       "    <tr>\n",
       "      <th>163</th>\n",
       "      <td>0.314915</td>\n",
       "      <td>-0.701302</td>\n",
       "      <td>2022-04-28 19:00:00</td>\n",
       "      <td>3267</td>\n",
       "      <td>4</td>\n",
       "      <td>3</td>\n",
       "      <td>19</td>\n",
       "      <td>0</td>\n",
       "      <td>0</td>\n",
       "      <td>0</td>\n",
       "      <td>0</td>\n",
       "      <td>0</td>\n",
       "      <td>0</td>\n",
       "      <td>0</td>\n",
       "      <td>0</td>\n",
       "      <td>0</td>\n",
       "      <td>0</td>\n",
       "    </tr>\n",
       "    <tr>\n",
       "      <th>164</th>\n",
       "      <td>0.314915</td>\n",
       "      <td>-0.701302</td>\n",
       "      <td>2022-04-28 20:00:00</td>\n",
       "      <td>3153</td>\n",
       "      <td>4</td>\n",
       "      <td>3</td>\n",
       "      <td>20</td>\n",
       "      <td>0</td>\n",
       "      <td>0</td>\n",
       "      <td>0</td>\n",
       "      <td>0</td>\n",
       "      <td>0</td>\n",
       "      <td>0</td>\n",
       "      <td>0</td>\n",
       "      <td>0</td>\n",
       "      <td>0</td>\n",
       "      <td>0</td>\n",
       "    </tr>\n",
       "    <tr>\n",
       "      <th>165</th>\n",
       "      <td>0.314915</td>\n",
       "      <td>-0.701302</td>\n",
       "      <td>2022-04-28 21:00:00</td>\n",
       "      <td>3240</td>\n",
       "      <td>4</td>\n",
       "      <td>3</td>\n",
       "      <td>21</td>\n",
       "      <td>0</td>\n",
       "      <td>0</td>\n",
       "      <td>0</td>\n",
       "      <td>0</td>\n",
       "      <td>0</td>\n",
       "      <td>0</td>\n",
       "      <td>0</td>\n",
       "      <td>0</td>\n",
       "      <td>0</td>\n",
       "      <td>0</td>\n",
       "    </tr>\n",
       "    <tr>\n",
       "      <th>166</th>\n",
       "      <td>0.314915</td>\n",
       "      <td>-0.701302</td>\n",
       "      <td>2022-04-28 22:00:00</td>\n",
       "      <td>3299</td>\n",
       "      <td>4</td>\n",
       "      <td>3</td>\n",
       "      <td>22</td>\n",
       "      <td>0</td>\n",
       "      <td>0</td>\n",
       "      <td>0</td>\n",
       "      <td>0</td>\n",
       "      <td>0</td>\n",
       "      <td>0</td>\n",
       "      <td>0</td>\n",
       "      <td>0</td>\n",
       "      <td>0</td>\n",
       "      <td>0</td>\n",
       "    </tr>\n",
       "    <tr>\n",
       "      <th>167</th>\n",
       "      <td>0.314915</td>\n",
       "      <td>-0.701302</td>\n",
       "      <td>2022-04-28 23:00:00</td>\n",
       "      <td>3303</td>\n",
       "      <td>4</td>\n",
       "      <td>3</td>\n",
       "      <td>23</td>\n",
       "      <td>0</td>\n",
       "      <td>0</td>\n",
       "      <td>0</td>\n",
       "      <td>0</td>\n",
       "      <td>0</td>\n",
       "      <td>0</td>\n",
       "      <td>0</td>\n",
       "      <td>0</td>\n",
       "      <td>0</td>\n",
       "      <td>0</td>\n",
       "    </tr>\n",
       "    <tr>\n",
       "      <th>168</th>\n",
       "      <td>0.635266</td>\n",
       "      <td>-0.730099</td>\n",
       "      <td>2022-04-29 00:00:00</td>\n",
       "      <td>3218</td>\n",
       "      <td>4</td>\n",
       "      <td>4</td>\n",
       "      <td>0</td>\n",
       "      <td>0</td>\n",
       "      <td>0</td>\n",
       "      <td>0</td>\n",
       "      <td>0</td>\n",
       "      <td>0</td>\n",
       "      <td>0</td>\n",
       "      <td>0</td>\n",
       "      <td>0</td>\n",
       "      <td>0</td>\n",
       "      <td>0</td>\n",
       "    </tr>\n",
       "    <tr>\n",
       "      <th>169</th>\n",
       "      <td>0.635266</td>\n",
       "      <td>-0.730099</td>\n",
       "      <td>2022-04-29 01:00:00</td>\n",
       "      <td>3103</td>\n",
       "      <td>4</td>\n",
       "      <td>4</td>\n",
       "      <td>1</td>\n",
       "      <td>0</td>\n",
       "      <td>0</td>\n",
       "      <td>0</td>\n",
       "      <td>0</td>\n",
       "      <td>0</td>\n",
       "      <td>0</td>\n",
       "      <td>0</td>\n",
       "      <td>0</td>\n",
       "      <td>0</td>\n",
       "      <td>0</td>\n",
       "    </tr>\n",
       "    <tr>\n",
       "      <th>170</th>\n",
       "      <td>0.635266</td>\n",
       "      <td>-0.730099</td>\n",
       "      <td>2022-04-29 02:00:00</td>\n",
       "      <td>2950</td>\n",
       "      <td>4</td>\n",
       "      <td>4</td>\n",
       "      <td>2</td>\n",
       "      <td>0</td>\n",
       "      <td>0</td>\n",
       "      <td>0</td>\n",
       "      <td>0</td>\n",
       "      <td>0</td>\n",
       "      <td>0</td>\n",
       "      <td>0</td>\n",
       "      <td>0</td>\n",
       "      <td>0</td>\n",
       "      <td>0</td>\n",
       "    </tr>\n",
       "    <tr>\n",
       "      <th>171</th>\n",
       "      <td>0.635266</td>\n",
       "      <td>-0.730099</td>\n",
       "      <td>2022-04-29 03:00:00</td>\n",
       "      <td>2815</td>\n",
       "      <td>4</td>\n",
       "      <td>4</td>\n",
       "      <td>3</td>\n",
       "      <td>0</td>\n",
       "      <td>0</td>\n",
       "      <td>0</td>\n",
       "      <td>0</td>\n",
       "      <td>0</td>\n",
       "      <td>0</td>\n",
       "      <td>0</td>\n",
       "      <td>0</td>\n",
       "      <td>0</td>\n",
       "      <td>0</td>\n",
       "    </tr>\n",
       "    <tr>\n",
       "      <th>172</th>\n",
       "      <td>0.635266</td>\n",
       "      <td>-0.730099</td>\n",
       "      <td>2022-04-29 04:00:00</td>\n",
       "      <td>2715</td>\n",
       "      <td>4</td>\n",
       "      <td>4</td>\n",
       "      <td>4</td>\n",
       "      <td>0</td>\n",
       "      <td>0</td>\n",
       "      <td>0</td>\n",
       "      <td>0</td>\n",
       "      <td>0</td>\n",
       "      <td>0</td>\n",
       "      <td>0</td>\n",
       "      <td>0</td>\n",
       "      <td>0</td>\n",
       "      <td>0</td>\n",
       "    </tr>\n",
       "    <tr>\n",
       "      <th>173</th>\n",
       "      <td>0.635266</td>\n",
       "      <td>-0.730099</td>\n",
       "      <td>2022-04-29 05:00:00</td>\n",
       "      <td>2626</td>\n",
       "      <td>4</td>\n",
       "      <td>4</td>\n",
       "      <td>5</td>\n",
       "      <td>0</td>\n",
       "      <td>0</td>\n",
       "      <td>0</td>\n",
       "      <td>0</td>\n",
       "      <td>0</td>\n",
       "      <td>0</td>\n",
       "      <td>0</td>\n",
       "      <td>0</td>\n",
       "      <td>0</td>\n",
       "      <td>0</td>\n",
       "    </tr>\n",
       "    <tr>\n",
       "      <th>174</th>\n",
       "      <td>0.635266</td>\n",
       "      <td>-0.730099</td>\n",
       "      <td>2022-04-29 06:00:00</td>\n",
       "      <td>2581</td>\n",
       "      <td>4</td>\n",
       "      <td>4</td>\n",
       "      <td>6</td>\n",
       "      <td>0</td>\n",
       "      <td>0</td>\n",
       "      <td>0</td>\n",
       "      <td>0</td>\n",
       "      <td>0</td>\n",
       "      <td>0</td>\n",
       "      <td>0</td>\n",
       "      <td>0</td>\n",
       "      <td>0</td>\n",
       "      <td>0</td>\n",
       "    </tr>\n",
       "    <tr>\n",
       "      <th>175</th>\n",
       "      <td>0.635266</td>\n",
       "      <td>-0.730099</td>\n",
       "      <td>2022-04-29 07:00:00</td>\n",
       "      <td>2542</td>\n",
       "      <td>4</td>\n",
       "      <td>4</td>\n",
       "      <td>7</td>\n",
       "      <td>0</td>\n",
       "      <td>0</td>\n",
       "      <td>0</td>\n",
       "      <td>0</td>\n",
       "      <td>0</td>\n",
       "      <td>0</td>\n",
       "      <td>0</td>\n",
       "      <td>0</td>\n",
       "      <td>0</td>\n",
       "      <td>0</td>\n",
       "    </tr>\n",
       "    <tr>\n",
       "      <th>176</th>\n",
       "      <td>0.635266</td>\n",
       "      <td>-0.730099</td>\n",
       "      <td>2022-04-29 08:00:00</td>\n",
       "      <td>2530</td>\n",
       "      <td>4</td>\n",
       "      <td>4</td>\n",
       "      <td>8</td>\n",
       "      <td>0</td>\n",
       "      <td>0</td>\n",
       "      <td>0</td>\n",
       "      <td>0</td>\n",
       "      <td>0</td>\n",
       "      <td>0</td>\n",
       "      <td>0</td>\n",
       "      <td>0</td>\n",
       "      <td>0</td>\n",
       "      <td>0</td>\n",
       "    </tr>\n",
       "    <tr>\n",
       "      <th>177</th>\n",
       "      <td>0.635266</td>\n",
       "      <td>-0.730099</td>\n",
       "      <td>2022-04-29 09:00:00</td>\n",
       "      <td>2634</td>\n",
       "      <td>4</td>\n",
       "      <td>4</td>\n",
       "      <td>9</td>\n",
       "      <td>0</td>\n",
       "      <td>0</td>\n",
       "      <td>0</td>\n",
       "      <td>0</td>\n",
       "      <td>0</td>\n",
       "      <td>0</td>\n",
       "      <td>0</td>\n",
       "      <td>0</td>\n",
       "      <td>0</td>\n",
       "      <td>0</td>\n",
       "    </tr>\n",
       "    <tr>\n",
       "      <th>178</th>\n",
       "      <td>0.635266</td>\n",
       "      <td>-0.730099</td>\n",
       "      <td>2022-04-29 10:00:00</td>\n",
       "      <td>2722</td>\n",
       "      <td>4</td>\n",
       "      <td>4</td>\n",
       "      <td>10</td>\n",
       "      <td>0</td>\n",
       "      <td>0</td>\n",
       "      <td>0</td>\n",
       "      <td>0</td>\n",
       "      <td>0</td>\n",
       "      <td>0</td>\n",
       "      <td>0</td>\n",
       "      <td>0</td>\n",
       "      <td>0</td>\n",
       "      <td>0</td>\n",
       "    </tr>\n",
       "    <tr>\n",
       "      <th>179</th>\n",
       "      <td>0.635266</td>\n",
       "      <td>-0.730099</td>\n",
       "      <td>2022-04-29 11:00:00</td>\n",
       "      <td>2862</td>\n",
       "      <td>4</td>\n",
       "      <td>4</td>\n",
       "      <td>11</td>\n",
       "      <td>0</td>\n",
       "      <td>0</td>\n",
       "      <td>0</td>\n",
       "      <td>0</td>\n",
       "      <td>0</td>\n",
       "      <td>0</td>\n",
       "      <td>0</td>\n",
       "      <td>0</td>\n",
       "      <td>0</td>\n",
       "      <td>0</td>\n",
       "    </tr>\n",
       "  </tbody>\n",
       "</table>\n",
       "</div>"
      ],
      "text/plain": [
       "     PC1_CLIMA  PC2_CLIMA          FECHA-HORA  DEMANDA  MES  DIA  HORA  \\\n",
       "132  -0.383434  -0.857927 2022-04-27 12:00:00     2935    4    2    12   \n",
       "133  -0.383434  -0.857927 2022-04-27 13:00:00     3016    4    2    13   \n",
       "134  -0.383434  -0.857927 2022-04-27 14:00:00     3127    4    2    14   \n",
       "135  -0.383434  -0.857927 2022-04-27 15:00:00     3272    4    2    15   \n",
       "136  -0.383434  -0.857927 2022-04-27 16:00:00     3382    4    2    16   \n",
       "137  -0.383434  -0.857927 2022-04-27 17:00:00     3457    4    2    17   \n",
       "138  -0.383434  -0.857927 2022-04-27 18:00:00     3412    4    2    18   \n",
       "139  -0.383434  -0.857927 2022-04-27 19:00:00     3310    4    2    19   \n",
       "140  -0.383434  -0.857927 2022-04-27 20:00:00     3206    4    2    20   \n",
       "141  -0.383434  -0.857927 2022-04-27 21:00:00     3283    4    2    21   \n",
       "142  -0.383434  -0.857927 2022-04-27 22:00:00     3335    4    2    22   \n",
       "143  -0.383434  -0.857927 2022-04-27 23:00:00     3334    4    2    23   \n",
       "144   0.314915  -0.701302 2022-04-28 00:00:00     3241    4    3     0   \n",
       "145   0.314915  -0.701302 2022-04-28 01:00:00     3097    4    3     1   \n",
       "146   0.314915  -0.701302 2022-04-28 02:00:00     2952    4    3     2   \n",
       "147   0.314915  -0.701302 2022-04-28 03:00:00     2810    4    3     3   \n",
       "148   0.314915  -0.701302 2022-04-28 04:00:00     2686    4    3     4   \n",
       "149   0.314915  -0.701302 2022-04-28 05:00:00     2579    4    3     5   \n",
       "150   0.314915  -0.701302 2022-04-28 06:00:00     2531    4    3     6   \n",
       "151   0.314915  -0.701302 2022-04-28 07:00:00     2483    4    3     7   \n",
       "152   0.314915  -0.701302 2022-04-28 08:00:00     2456    4    3     8   \n",
       "153   0.314915  -0.701302 2022-04-28 09:00:00     2578    4    3     9   \n",
       "154   0.314915  -0.701302 2022-04-28 10:00:00     2696    4    3    10   \n",
       "155   0.314915  -0.701302 2022-04-28 11:00:00     2809    4    3    11   \n",
       "156   0.314915  -0.701302 2022-04-28 12:00:00     2910    4    3    12   \n",
       "157   0.314915  -0.701302 2022-04-28 13:00:00     3012    4    3    13   \n",
       "158   0.314915  -0.701302 2022-04-28 14:00:00     3109    4    3    14   \n",
       "159   0.314915  -0.701302 2022-04-28 15:00:00     3238    4    3    15   \n",
       "160   0.314915  -0.701302 2022-04-28 16:00:00     3340    4    3    16   \n",
       "161   0.314915  -0.701302 2022-04-28 17:00:00     3409    4    3    17   \n",
       "162   0.314915  -0.701302 2022-04-28 18:00:00     3380    4    3    18   \n",
       "163   0.314915  -0.701302 2022-04-28 19:00:00     3267    4    3    19   \n",
       "164   0.314915  -0.701302 2022-04-28 20:00:00     3153    4    3    20   \n",
       "165   0.314915  -0.701302 2022-04-28 21:00:00     3240    4    3    21   \n",
       "166   0.314915  -0.701302 2022-04-28 22:00:00     3299    4    3    22   \n",
       "167   0.314915  -0.701302 2022-04-28 23:00:00     3303    4    3    23   \n",
       "168   0.635266  -0.730099 2022-04-29 00:00:00     3218    4    4     0   \n",
       "169   0.635266  -0.730099 2022-04-29 01:00:00     3103    4    4     1   \n",
       "170   0.635266  -0.730099 2022-04-29 02:00:00     2950    4    4     2   \n",
       "171   0.635266  -0.730099 2022-04-29 03:00:00     2815    4    4     3   \n",
       "172   0.635266  -0.730099 2022-04-29 04:00:00     2715    4    4     4   \n",
       "173   0.635266  -0.730099 2022-04-29 05:00:00     2626    4    4     5   \n",
       "174   0.635266  -0.730099 2022-04-29 06:00:00     2581    4    4     6   \n",
       "175   0.635266  -0.730099 2022-04-29 07:00:00     2542    4    4     7   \n",
       "176   0.635266  -0.730099 2022-04-29 08:00:00     2530    4    4     8   \n",
       "177   0.635266  -0.730099 2022-04-29 09:00:00     2634    4    4     9   \n",
       "178   0.635266  -0.730099 2022-04-29 10:00:00     2722    4    4    10   \n",
       "179   0.635266  -0.730099 2022-04-29 11:00:00     2862    4    4    11   \n",
       "\n",
       "     LUNES_FESTIVO  MARTES_POSTFESTIVO  SEMANA_SANTA  1_MAYO  10_MAYO  16_SEP  \\\n",
       "132              0                   0             0       0        0       0   \n",
       "133              0                   0             0       0        0       0   \n",
       "134              0                   0             0       0        0       0   \n",
       "135              0                   0             0       0        0       0   \n",
       "136              0                   0             0       0        0       0   \n",
       "137              0                   0             0       0        0       0   \n",
       "138              0                   0             0       0        0       0   \n",
       "139              0                   0             0       0        0       0   \n",
       "140              0                   0             0       0        0       0   \n",
       "141              0                   0             0       0        0       0   \n",
       "142              0                   0             0       0        0       0   \n",
       "143              0                   0             0       0        0       0   \n",
       "144              0                   0             0       0        0       0   \n",
       "145              0                   0             0       0        0       0   \n",
       "146              0                   0             0       0        0       0   \n",
       "147              0                   0             0       0        0       0   \n",
       "148              0                   0             0       0        0       0   \n",
       "149              0                   0             0       0        0       0   \n",
       "150              0                   0             0       0        0       0   \n",
       "151              0                   0             0       0        0       0   \n",
       "152              0                   0             0       0        0       0   \n",
       "153              0                   0             0       0        0       0   \n",
       "154              0                   0             0       0        0       0   \n",
       "155              0                   0             0       0        0       0   \n",
       "156              0                   0             0       0        0       0   \n",
       "157              0                   0             0       0        0       0   \n",
       "158              0                   0             0       0        0       0   \n",
       "159              0                   0             0       0        0       0   \n",
       "160              0                   0             0       0        0       0   \n",
       "161              0                   0             0       0        0       0   \n",
       "162              0                   0             0       0        0       0   \n",
       "163              0                   0             0       0        0       0   \n",
       "164              0                   0             0       0        0       0   \n",
       "165              0                   0             0       0        0       0   \n",
       "166              0                   0             0       0        0       0   \n",
       "167              0                   0             0       0        0       0   \n",
       "168              0                   0             0       0        0       0   \n",
       "169              0                   0             0       0        0       0   \n",
       "170              0                   0             0       0        0       0   \n",
       "171              0                   0             0       0        0       0   \n",
       "172              0                   0             0       0        0       0   \n",
       "173              0                   0             0       0        0       0   \n",
       "174              0                   0             0       0        0       0   \n",
       "175              0                   0             0       0        0       0   \n",
       "176              0                   0             0       0        0       0   \n",
       "177              0                   0             0       0        0       0   \n",
       "178              0                   0             0       0        0       0   \n",
       "179              0                   0             0       0        0       0   \n",
       "\n",
       "     2_NOV.  PRE-NAVIDAD_Y_NEW_YEAR  NAVIDAD_Y_NEW_YEAR  \\\n",
       "132       0                       0                   0   \n",
       "133       0                       0                   0   \n",
       "134       0                       0                   0   \n",
       "135       0                       0                   0   \n",
       "136       0                       0                   0   \n",
       "137       0                       0                   0   \n",
       "138       0                       0                   0   \n",
       "139       0                       0                   0   \n",
       "140       0                       0                   0   \n",
       "141       0                       0                   0   \n",
       "142       0                       0                   0   \n",
       "143       0                       0                   0   \n",
       "144       0                       0                   0   \n",
       "145       0                       0                   0   \n",
       "146       0                       0                   0   \n",
       "147       0                       0                   0   \n",
       "148       0                       0                   0   \n",
       "149       0                       0                   0   \n",
       "150       0                       0                   0   \n",
       "151       0                       0                   0   \n",
       "152       0                       0                   0   \n",
       "153       0                       0                   0   \n",
       "154       0                       0                   0   \n",
       "155       0                       0                   0   \n",
       "156       0                       0                   0   \n",
       "157       0                       0                   0   \n",
       "158       0                       0                   0   \n",
       "159       0                       0                   0   \n",
       "160       0                       0                   0   \n",
       "161       0                       0                   0   \n",
       "162       0                       0                   0   \n",
       "163       0                       0                   0   \n",
       "164       0                       0                   0   \n",
       "165       0                       0                   0   \n",
       "166       0                       0                   0   \n",
       "167       0                       0                   0   \n",
       "168       0                       0                   0   \n",
       "169       0                       0                   0   \n",
       "170       0                       0                   0   \n",
       "171       0                       0                   0   \n",
       "172       0                       0                   0   \n",
       "173       0                       0                   0   \n",
       "174       0                       0                   0   \n",
       "175       0                       0                   0   \n",
       "176       0                       0                   0   \n",
       "177       0                       0                   0   \n",
       "178       0                       0                   0   \n",
       "179       0                       0                   0   \n",
       "\n",
       "     POST-NAVIDAD_Y_NEW_YEAR  \n",
       "132                        0  \n",
       "133                        0  \n",
       "134                        0  \n",
       "135                        0  \n",
       "136                        0  \n",
       "137                        0  \n",
       "138                        0  \n",
       "139                        0  \n",
       "140                        0  \n",
       "141                        0  \n",
       "142                        0  \n",
       "143                        0  \n",
       "144                        0  \n",
       "145                        0  \n",
       "146                        0  \n",
       "147                        0  \n",
       "148                        0  \n",
       "149                        0  \n",
       "150                        0  \n",
       "151                        0  \n",
       "152                        0  \n",
       "153                        0  \n",
       "154                        0  \n",
       "155                        0  \n",
       "156                        0  \n",
       "157                        0  \n",
       "158                        0  \n",
       "159                        0  \n",
       "160                        0  \n",
       "161                        0  \n",
       "162                        0  \n",
       "163                        0  \n",
       "164                        0  \n",
       "165                        0  \n",
       "166                        0  \n",
       "167                        0  \n",
       "168                        0  \n",
       "169                        0  \n",
       "170                        0  \n",
       "171                        0  \n",
       "172                        0  \n",
       "173                        0  \n",
       "174                        0  \n",
       "175                        0  \n",
       "176                        0  \n",
       "177                        0  \n",
       "178                        0  \n",
       "179                        0  "
      ]
     },
     "execution_count": 21,
     "metadata": {},
     "output_type": "execute_result"
    }
   ],
   "source": [
    "df_pronostico.tail(48)"
   ]
  },
  {
   "cell_type": "markdown",
   "id": "83729911",
   "metadata": {
    "hidden": true
   },
   "source": [
    "<summary>\n",
    "    <font size=\"4\" color=\"orange\"><b>3.2 Scaling data to the closed interval [-1,1]</b></font>\n",
    "</summary>"
   ]
  },
  {
   "cell_type": "code",
   "execution_count": 22,
   "id": "daac4a3e",
   "metadata": {
    "hidden": true
   },
   "outputs": [],
   "source": [
    "# Getting the training set parámeters\n",
    "scalers = pk.load(open(\"./outputs/DataProcessing/scalers.pkl\",'rb'))"
   ]
  },
  {
   "cell_type": "code",
   "execution_count": 23,
   "id": "d68a1077",
   "metadata": {
    "hidden": true
   },
   "outputs": [
    {
     "name": "stdout",
     "output_type": "stream",
     "text": [
      "<class 'pandas.core.frame.DataFrame'>\n",
      "Int64Index: 180 entries, 0 to 179\n",
      "Data columns (total 17 columns):\n",
      " #   Column                   Non-Null Count  Dtype         \n",
      "---  ------                   --------------  -----         \n",
      " 0   PC1_CLIMA                180 non-null    float64       \n",
      " 1   PC2_CLIMA                180 non-null    float64       \n",
      " 2   FECHA-HORA               180 non-null    datetime64[ns]\n",
      " 3   DEMANDA                  180 non-null    float64       \n",
      " 4   MES                      180 non-null    float64       \n",
      " 5   DIA                      180 non-null    float64       \n",
      " 6   HORA                     180 non-null    float64       \n",
      " 7   LUNES_FESTIVO            180 non-null    float64       \n",
      " 8   MARTES_POSTFESTIVO       180 non-null    float64       \n",
      " 9   SEMANA_SANTA             180 non-null    float64       \n",
      " 10  1_MAYO                   180 non-null    float64       \n",
      " 11  10_MAYO                  180 non-null    float64       \n",
      " 12  16_SEP                   180 non-null    float64       \n",
      " 13  2_NOV.                   180 non-null    float64       \n",
      " 14  PRE-NAVIDAD_Y_NEW_YEAR   180 non-null    float64       \n",
      " 15  NAVIDAD_Y_NEW_YEAR       180 non-null    float64       \n",
      " 16  POST-NAVIDAD_Y_NEW_YEAR  180 non-null    float64       \n",
      "dtypes: datetime64[ns](1), float64(16)\n",
      "memory usage: 25.3 KB\n"
     ]
    }
   ],
   "source": [
    "pronostico = df_pronostico\n",
    "for attr in ['DEMANDA', \n",
    "            'MES', \n",
    "            'DIA', \n",
    "            'HORA',\n",
    "            'PC1_CLIMA',\n",
    "            'PC2_CLIMA',\n",
    "            'LUNES_FESTIVO',\n",
    "            'MARTES_POSTFESTIVO', \n",
    "            'SEMANA_SANTA', \n",
    "            '1_MAYO', \n",
    "            '10_MAYO', \n",
    "            '16_SEP',\n",
    "            '2_NOV.', \n",
    "            'PRE-NAVIDAD_Y_NEW_YEAR', \n",
    "            'NAVIDAD_Y_NEW_YEAR',\n",
    "            'POST-NAVIDAD_Y_NEW_YEAR'\n",
    "            ]:\n",
    "    scaler = scalers[attr]\n",
    "    s_s = scaler.transform(df_pronostico[attr].values.reshape(-1,1))\n",
    "    df_pronostico[attr] = s_s.ravel()\n",
    "\n",
    "pronostico.info()"
   ]
  },
  {
   "cell_type": "code",
   "execution_count": 24,
   "id": "d94c85ef",
   "metadata": {
    "hidden": true
   },
   "outputs": [
    {
     "data": {
      "text/html": [
       "<div>\n",
       "<style scoped>\n",
       "    .dataframe tbody tr th:only-of-type {\n",
       "        vertical-align: middle;\n",
       "    }\n",
       "\n",
       "    .dataframe tbody tr th {\n",
       "        vertical-align: top;\n",
       "    }\n",
       "\n",
       "    .dataframe thead th {\n",
       "        text-align: right;\n",
       "    }\n",
       "</style>\n",
       "<table border=\"1\" class=\"dataframe\">\n",
       "  <thead>\n",
       "    <tr style=\"text-align: right;\">\n",
       "      <th></th>\n",
       "      <th>PC1_CLIMA</th>\n",
       "      <th>PC2_CLIMA</th>\n",
       "      <th>FECHA-HORA</th>\n",
       "      <th>DEMANDA</th>\n",
       "      <th>MES</th>\n",
       "      <th>DIA</th>\n",
       "      <th>HORA</th>\n",
       "      <th>LUNES_FESTIVO</th>\n",
       "      <th>MARTES_POSTFESTIVO</th>\n",
       "      <th>SEMANA_SANTA</th>\n",
       "      <th>1_MAYO</th>\n",
       "      <th>10_MAYO</th>\n",
       "      <th>16_SEP</th>\n",
       "      <th>2_NOV.</th>\n",
       "      <th>PRE-NAVIDAD_Y_NEW_YEAR</th>\n",
       "      <th>NAVIDAD_Y_NEW_YEAR</th>\n",
       "      <th>POST-NAVIDAD_Y_NEW_YEAR</th>\n",
       "    </tr>\n",
       "  </thead>\n",
       "  <tbody>\n",
       "    <tr>\n",
       "      <th>0</th>\n",
       "      <td>-0.189453</td>\n",
       "      <td>-0.961508</td>\n",
       "      <td>2022-04-22 00:00:00</td>\n",
       "      <td>0.019373</td>\n",
       "      <td>-0.454545</td>\n",
       "      <td>0.333333</td>\n",
       "      <td>-1.000000</td>\n",
       "      <td>-1.0</td>\n",
       "      <td>-1.0</td>\n",
       "      <td>-1.0</td>\n",
       "      <td>-1.0</td>\n",
       "      <td>-1.0</td>\n",
       "      <td>-1.0</td>\n",
       "      <td>-1.0</td>\n",
       "      <td>-1.0</td>\n",
       "      <td>-1.0</td>\n",
       "      <td>-1.0</td>\n",
       "    </tr>\n",
       "    <tr>\n",
       "      <th>1</th>\n",
       "      <td>-0.189453</td>\n",
       "      <td>-0.961508</td>\n",
       "      <td>2022-04-22 01:00:00</td>\n",
       "      <td>-0.033210</td>\n",
       "      <td>-0.454545</td>\n",
       "      <td>0.333333</td>\n",
       "      <td>-0.913043</td>\n",
       "      <td>-1.0</td>\n",
       "      <td>-1.0</td>\n",
       "      <td>-1.0</td>\n",
       "      <td>-1.0</td>\n",
       "      <td>-1.0</td>\n",
       "      <td>-1.0</td>\n",
       "      <td>-1.0</td>\n",
       "      <td>-1.0</td>\n",
       "      <td>-1.0</td>\n",
       "      <td>-1.0</td>\n",
       "    </tr>\n",
       "    <tr>\n",
       "      <th>2</th>\n",
       "      <td>-0.189453</td>\n",
       "      <td>-0.961508</td>\n",
       "      <td>2022-04-22 02:00:00</td>\n",
       "      <td>-0.096402</td>\n",
       "      <td>-0.454545</td>\n",
       "      <td>0.333333</td>\n",
       "      <td>-0.826087</td>\n",
       "      <td>-1.0</td>\n",
       "      <td>-1.0</td>\n",
       "      <td>-1.0</td>\n",
       "      <td>-1.0</td>\n",
       "      <td>-1.0</td>\n",
       "      <td>-1.0</td>\n",
       "      <td>-1.0</td>\n",
       "      <td>-1.0</td>\n",
       "      <td>-1.0</td>\n",
       "      <td>-1.0</td>\n",
       "    </tr>\n",
       "    <tr>\n",
       "      <th>3</th>\n",
       "      <td>-0.189453</td>\n",
       "      <td>-0.961508</td>\n",
       "      <td>2022-04-22 03:00:00</td>\n",
       "      <td>-0.155443</td>\n",
       "      <td>-0.454545</td>\n",
       "      <td>0.333333</td>\n",
       "      <td>-0.739130</td>\n",
       "      <td>-1.0</td>\n",
       "      <td>-1.0</td>\n",
       "      <td>-1.0</td>\n",
       "      <td>-1.0</td>\n",
       "      <td>-1.0</td>\n",
       "      <td>-1.0</td>\n",
       "      <td>-1.0</td>\n",
       "      <td>-1.0</td>\n",
       "      <td>-1.0</td>\n",
       "      <td>-1.0</td>\n",
       "    </tr>\n",
       "    <tr>\n",
       "      <th>4</th>\n",
       "      <td>-0.189453</td>\n",
       "      <td>-0.961508</td>\n",
       "      <td>2022-04-22 04:00:00</td>\n",
       "      <td>-0.203875</td>\n",
       "      <td>-0.454545</td>\n",
       "      <td>0.333333</td>\n",
       "      <td>-0.652174</td>\n",
       "      <td>-1.0</td>\n",
       "      <td>-1.0</td>\n",
       "      <td>-1.0</td>\n",
       "      <td>-1.0</td>\n",
       "      <td>-1.0</td>\n",
       "      <td>-1.0</td>\n",
       "      <td>-1.0</td>\n",
       "      <td>-1.0</td>\n",
       "      <td>-1.0</td>\n",
       "      <td>-1.0</td>\n",
       "    </tr>\n",
       "    <tr>\n",
       "      <th>...</th>\n",
       "      <td>...</td>\n",
       "      <td>...</td>\n",
       "      <td>...</td>\n",
       "      <td>...</td>\n",
       "      <td>...</td>\n",
       "      <td>...</td>\n",
       "      <td>...</td>\n",
       "      <td>...</td>\n",
       "      <td>...</td>\n",
       "      <td>...</td>\n",
       "      <td>...</td>\n",
       "      <td>...</td>\n",
       "      <td>...</td>\n",
       "      <td>...</td>\n",
       "      <td>...</td>\n",
       "      <td>...</td>\n",
       "      <td>...</td>\n",
       "    </tr>\n",
       "    <tr>\n",
       "      <th>175</th>\n",
       "      <td>-0.195502</td>\n",
       "      <td>-0.973057</td>\n",
       "      <td>2022-04-29 07:00:00</td>\n",
       "      <td>-0.269834</td>\n",
       "      <td>-0.454545</td>\n",
       "      <td>0.333333</td>\n",
       "      <td>-0.391304</td>\n",
       "      <td>-1.0</td>\n",
       "      <td>-1.0</td>\n",
       "      <td>-1.0</td>\n",
       "      <td>-1.0</td>\n",
       "      <td>-1.0</td>\n",
       "      <td>-1.0</td>\n",
       "      <td>-1.0</td>\n",
       "      <td>-1.0</td>\n",
       "      <td>-1.0</td>\n",
       "      <td>-1.0</td>\n",
       "    </tr>\n",
       "    <tr>\n",
       "      <th>176</th>\n",
       "      <td>-0.195502</td>\n",
       "      <td>-0.973057</td>\n",
       "      <td>2022-04-29 08:00:00</td>\n",
       "      <td>-0.275369</td>\n",
       "      <td>-0.454545</td>\n",
       "      <td>0.333333</td>\n",
       "      <td>-0.304348</td>\n",
       "      <td>-1.0</td>\n",
       "      <td>-1.0</td>\n",
       "      <td>-1.0</td>\n",
       "      <td>-1.0</td>\n",
       "      <td>-1.0</td>\n",
       "      <td>-1.0</td>\n",
       "      <td>-1.0</td>\n",
       "      <td>-1.0</td>\n",
       "      <td>-1.0</td>\n",
       "      <td>-1.0</td>\n",
       "    </tr>\n",
       "    <tr>\n",
       "      <th>177</th>\n",
       "      <td>-0.195502</td>\n",
       "      <td>-0.973057</td>\n",
       "      <td>2022-04-29 09:00:00</td>\n",
       "      <td>-0.227399</td>\n",
       "      <td>-0.454545</td>\n",
       "      <td>0.333333</td>\n",
       "      <td>-0.217391</td>\n",
       "      <td>-1.0</td>\n",
       "      <td>-1.0</td>\n",
       "      <td>-1.0</td>\n",
       "      <td>-1.0</td>\n",
       "      <td>-1.0</td>\n",
       "      <td>-1.0</td>\n",
       "      <td>-1.0</td>\n",
       "      <td>-1.0</td>\n",
       "      <td>-1.0</td>\n",
       "      <td>-1.0</td>\n",
       "    </tr>\n",
       "    <tr>\n",
       "      <th>178</th>\n",
       "      <td>-0.195502</td>\n",
       "      <td>-0.973057</td>\n",
       "      <td>2022-04-29 10:00:00</td>\n",
       "      <td>-0.186808</td>\n",
       "      <td>-0.454545</td>\n",
       "      <td>0.333333</td>\n",
       "      <td>-0.130435</td>\n",
       "      <td>-1.0</td>\n",
       "      <td>-1.0</td>\n",
       "      <td>-1.0</td>\n",
       "      <td>-1.0</td>\n",
       "      <td>-1.0</td>\n",
       "      <td>-1.0</td>\n",
       "      <td>-1.0</td>\n",
       "      <td>-1.0</td>\n",
       "      <td>-1.0</td>\n",
       "      <td>-1.0</td>\n",
       "    </tr>\n",
       "    <tr>\n",
       "      <th>179</th>\n",
       "      <td>-0.195502</td>\n",
       "      <td>-0.973057</td>\n",
       "      <td>2022-04-29 11:00:00</td>\n",
       "      <td>-0.122232</td>\n",
       "      <td>-0.454545</td>\n",
       "      <td>0.333333</td>\n",
       "      <td>-0.043478</td>\n",
       "      <td>-1.0</td>\n",
       "      <td>-1.0</td>\n",
       "      <td>-1.0</td>\n",
       "      <td>-1.0</td>\n",
       "      <td>-1.0</td>\n",
       "      <td>-1.0</td>\n",
       "      <td>-1.0</td>\n",
       "      <td>-1.0</td>\n",
       "      <td>-1.0</td>\n",
       "      <td>-1.0</td>\n",
       "    </tr>\n",
       "  </tbody>\n",
       "</table>\n",
       "<p>180 rows × 17 columns</p>\n",
       "</div>"
      ],
      "text/plain": [
       "     PC1_CLIMA  PC2_CLIMA          FECHA-HORA   DEMANDA       MES       DIA  \\\n",
       "0    -0.189453  -0.961508 2022-04-22 00:00:00  0.019373 -0.454545  0.333333   \n",
       "1    -0.189453  -0.961508 2022-04-22 01:00:00 -0.033210 -0.454545  0.333333   \n",
       "2    -0.189453  -0.961508 2022-04-22 02:00:00 -0.096402 -0.454545  0.333333   \n",
       "3    -0.189453  -0.961508 2022-04-22 03:00:00 -0.155443 -0.454545  0.333333   \n",
       "4    -0.189453  -0.961508 2022-04-22 04:00:00 -0.203875 -0.454545  0.333333   \n",
       "..         ...        ...                 ...       ...       ...       ...   \n",
       "175  -0.195502  -0.973057 2022-04-29 07:00:00 -0.269834 -0.454545  0.333333   \n",
       "176  -0.195502  -0.973057 2022-04-29 08:00:00 -0.275369 -0.454545  0.333333   \n",
       "177  -0.195502  -0.973057 2022-04-29 09:00:00 -0.227399 -0.454545  0.333333   \n",
       "178  -0.195502  -0.973057 2022-04-29 10:00:00 -0.186808 -0.454545  0.333333   \n",
       "179  -0.195502  -0.973057 2022-04-29 11:00:00 -0.122232 -0.454545  0.333333   \n",
       "\n",
       "         HORA  LUNES_FESTIVO  MARTES_POSTFESTIVO  SEMANA_SANTA  1_MAYO  \\\n",
       "0   -1.000000           -1.0                -1.0          -1.0    -1.0   \n",
       "1   -0.913043           -1.0                -1.0          -1.0    -1.0   \n",
       "2   -0.826087           -1.0                -1.0          -1.0    -1.0   \n",
       "3   -0.739130           -1.0                -1.0          -1.0    -1.0   \n",
       "4   -0.652174           -1.0                -1.0          -1.0    -1.0   \n",
       "..        ...            ...                 ...           ...     ...   \n",
       "175 -0.391304           -1.0                -1.0          -1.0    -1.0   \n",
       "176 -0.304348           -1.0                -1.0          -1.0    -1.0   \n",
       "177 -0.217391           -1.0                -1.0          -1.0    -1.0   \n",
       "178 -0.130435           -1.0                -1.0          -1.0    -1.0   \n",
       "179 -0.043478           -1.0                -1.0          -1.0    -1.0   \n",
       "\n",
       "     10_MAYO  16_SEP  2_NOV.  PRE-NAVIDAD_Y_NEW_YEAR  NAVIDAD_Y_NEW_YEAR  \\\n",
       "0       -1.0    -1.0    -1.0                    -1.0                -1.0   \n",
       "1       -1.0    -1.0    -1.0                    -1.0                -1.0   \n",
       "2       -1.0    -1.0    -1.0                    -1.0                -1.0   \n",
       "3       -1.0    -1.0    -1.0                    -1.0                -1.0   \n",
       "4       -1.0    -1.0    -1.0                    -1.0                -1.0   \n",
       "..       ...     ...     ...                     ...                 ...   \n",
       "175     -1.0    -1.0    -1.0                    -1.0                -1.0   \n",
       "176     -1.0    -1.0    -1.0                    -1.0                -1.0   \n",
       "177     -1.0    -1.0    -1.0                    -1.0                -1.0   \n",
       "178     -1.0    -1.0    -1.0                    -1.0                -1.0   \n",
       "179     -1.0    -1.0    -1.0                    -1.0                -1.0   \n",
       "\n",
       "     POST-NAVIDAD_Y_NEW_YEAR  \n",
       "0                       -1.0  \n",
       "1                       -1.0  \n",
       "2                       -1.0  \n",
       "3                       -1.0  \n",
       "4                       -1.0  \n",
       "..                       ...  \n",
       "175                     -1.0  \n",
       "176                     -1.0  \n",
       "177                     -1.0  \n",
       "178                     -1.0  \n",
       "179                     -1.0  \n",
       "\n",
       "[180 rows x 17 columns]"
      ]
     },
     "execution_count": 24,
     "metadata": {},
     "output_type": "execute_result"
    }
   ],
   "source": [
    "pronostico"
   ]
  },
  {
   "cell_type": "code",
   "execution_count": 25,
   "id": "85715544",
   "metadata": {
    "hidden": true
   },
   "outputs": [],
   "source": [
    "#importando funciones Divide Series\n",
    "%run \"./funciones/DivideSeries.ipynb\""
   ]
  },
  {
   "cell_type": "markdown",
   "id": "0b11039b",
   "metadata": {
    "heading_collapsed": true
   },
   "source": [
    "## 4. Setting the tensors "
   ]
  },
  {
   "cell_type": "code",
   "execution_count": 26,
   "id": "8d6e52c2",
   "metadata": {
    "hidden": true
   },
   "outputs": [
    {
     "name": "stdout",
     "output_type": "stream",
     "text": [
      "(180, 16) (180, 16) (1, 180, 16)\n"
     ]
    }
   ],
   "source": [
    "# Features\n",
    "nom_attr = ['DEMANDA', \n",
    "            'MES', \n",
    "            'DIA', \n",
    "            'HORA',\n",
    "            'PC1_CLIMA',\n",
    "            'PC2_CLIMA',\n",
    "            'LUNES_FESTIVO',\n",
    "            'MARTES_POSTFESTIVO', \n",
    "            'SEMANA_SANTA', \n",
    "            '1_MAYO', \n",
    "            '10_MAYO', \n",
    "            '16_SEP',\n",
    "            '2_NOV.', \n",
    "            'PRE-NAVIDAD_Y_NEW_YEAR', \n",
    "            'NAVIDAD_Y_NEW_YEAR',\n",
    "            'POST-NAVIDAD_Y_NEW_YEAR']\n",
    "n_attr = len(nom_attr)\n",
    "# Setting the tensors\n",
    "val = pronostico[nom_attr].values\n",
    "X_new = val[-n_pasado:,:]\n",
    "Xf = X_new.reshape(1, n_pasado, n_attr)\n",
    "print(val.shape, X_new.shape, Xf.shape)"
   ]
  },
  {
   "cell_type": "markdown",
   "id": "85762edd",
   "metadata": {
    "heading_collapsed": true
   },
   "source": [
    "## 5. Running the model"
   ]
  },
  {
   "cell_type": "markdown",
   "id": "fc5bff05",
   "metadata": {
    "hidden": true
   },
   "source": [
    "<summary>\n",
    "    <font size=\"4\" color=\"orange\"><b>5.1 New instance plot</b></font>\n",
    "</summary>\n",
    "\n",
    "Load energy demand of one week before plus 12 h (skip) to  the day to forecasting"
   ]
  },
  {
   "cell_type": "code",
   "execution_count": 27,
   "id": "77bab360",
   "metadata": {
    "hidden": true
   },
   "outputs": [
    {
     "data": {
      "text/plain": [
       "[<matplotlib.lines.Line2D at 0x159eb0430>]"
      ]
     },
     "execution_count": 27,
     "metadata": {},
     "output_type": "execute_result"
    },
    {
     "data": {
      "image/png": "[encoded data removed]",
      "text/plain": [
       "<Figure size 1080x504 with 1 Axes>"
      ]
     },
     "metadata": {},
     "output_type": "display_data"
    }
   ],
   "source": [
    "plt.plot(Xf[0,:,0])"
   ]
  },
  {
   "cell_type": "markdown",
   "id": "a542a6c6",
   "metadata": {
    "hidden": true
   },
   "source": [
    "<summary>\n",
    "    <font size=\"4\" color=\"orange\"><b>5.2 Applying the model </b></font>\n",
    "</summary>"
   ]
  },
  {
   "cell_type": "code",
   "execution_count": 28,
   "id": "b0613f41",
   "metadata": {
    "hidden": true
   },
   "outputs": [
    {
     "name": "stderr",
     "output_type": "stream",
     "text": [
      "2022-08-12 19:58:57.134363: W tensorflow/core/platform/profile_utils/cpu_utils.cc:128] Failed to get CPU frequency: 0 Hz\n",
      "2022-08-12 19:58:57.355957: I tensorflow/core/grappler/optimizers/custom_graph_optimizer_registry.cc:113] Plugin optimizer for device_type GPU is enabled.\n",
      "2022-08-12 19:58:57.418367: I tensorflow/core/grappler/optimizers/custom_graph_optimizer_registry.cc:113] Plugin optimizer for device_type GPU is enabled.\n",
      "2022-08-12 19:58:57.630990: I tensorflow/core/grappler/optimizers/custom_graph_optimizer_registry.cc:113] Plugin optimizer for device_type GPU is enabled.\n"
     ]
    },
    {
     "data": {
      "text/plain": [
       "(24,)"
      ]
     },
     "execution_count": 28,
     "metadata": {},
     "output_type": "execute_result"
    }
   ],
   "source": [
    "y_est = modelo.predict(Xf)\n",
    "y_est[:,:,0].ravel().shape"
   ]
  },
  {
   "cell_type": "markdown",
   "id": "753cf362",
   "metadata": {
    "hidden": true
   },
   "source": [
    "<summary>\n",
    "    <font size=\"4\" color=\"orange\"><b>5.2  Setting real vs prediction dataframe </b></font>\n",
    "</summary>"
   ]
  },
  {
   "cell_type": "code",
   "execution_count": 29,
   "id": "cc002aed",
   "metadata": {
    "hidden": true
   },
   "outputs": [],
   "source": [
    "# Mapping from [-1, 1] to original scale\n",
    "scaler = scalers['DEMANDA']\n",
    "yh = scaler.inverse_transform(y_est[:,:,0].ravel().reshape(-1, 1))"
   ]
  },
  {
   "cell_type": "code",
   "execution_count": 30,
   "id": "87f886ae",
   "metadata": {
    "hidden": true
   },
   "outputs": [],
   "source": [
    "# Creating data time-line for the day to forecasting\n",
    "\n",
    "def predict_dates(num_prediction):\n",
    "    last_date = df_pronostico['FECHA-HORA'].iloc[-1]\n",
    "    prediction_dates = pd.date_range(last_date, periods=num_prediction+13, freq='H').tolist()\n",
    "    return prediction_dates\n",
    "\n",
    "num_prediction = 24\n",
    "forecast_dates = predict_dates(num_prediction)\n",
    "forecast_dates\n",
    "str_list = [t.strftime(\"%Y-%m-%d %H:%M:%S\") for t in forecast_dates]\n",
    "str_list = str_list[13:]"
   ]
  },
  {
   "cell_type": "code",
   "execution_count": 31,
   "id": "34accf3b",
   "metadata": {
    "hidden": true
   },
   "outputs": [
    {
     "data": {
      "text/plain": [
       "['2022-04-30 00:00:00',\n",
       " '2022-04-30 01:00:00',\n",
       " '2022-04-30 02:00:00',\n",
       " '2022-04-30 03:00:00',\n",
       " '2022-04-30 04:00:00',\n",
       " '2022-04-30 05:00:00',\n",
       " '2022-04-30 06:00:00',\n",
       " '2022-04-30 07:00:00',\n",
       " '2022-04-30 08:00:00',\n",
       " '2022-04-30 09:00:00',\n",
       " '2022-04-30 10:00:00',\n",
       " '2022-04-30 11:00:00',\n",
       " '2022-04-30 12:00:00',\n",
       " '2022-04-30 13:00:00',\n",
       " '2022-04-30 14:00:00',\n",
       " '2022-04-30 15:00:00',\n",
       " '2022-04-30 16:00:00',\n",
       " '2022-04-30 17:00:00',\n",
       " '2022-04-30 18:00:00',\n",
       " '2022-04-30 19:00:00',\n",
       " '2022-04-30 20:00:00',\n",
       " '2022-04-30 21:00:00',\n",
       " '2022-04-30 22:00:00',\n",
       " '2022-04-30 23:00:00']"
      ]
     },
     "execution_count": 31,
     "metadata": {},
     "output_type": "execute_result"
    }
   ],
   "source": [
    "str_list"
   ]
  },
  {
   "cell_type": "code",
   "execution_count": 32,
   "id": "ae810707",
   "metadata": {
    "hidden": true
   },
   "outputs": [
    {
     "data": {
      "text/plain": [
       "24"
      ]
     },
     "execution_count": 32,
     "metadata": {},
     "output_type": "execute_result"
    }
   ],
   "source": [
    "# Real load energy demand \n",
    "\n",
    "#2022-03-24\n",
    "#forecast_real_data = [2416,2312,2229,2170,2129,2083,2089,2128,2162,2270,2376,2429,\n",
    "#                      2498,2543,2580,2617,2655,2702,2712,2623,2607,2664,2648,2576]\n",
    "\n",
    "#2022-03-25\n",
    "#forecast_real_data = [2475,2363,2272,2214,2160,2119,2120,2153,2150,2231,2344,2433,2512,\n",
    "#                      2582,2611,2679,2714,2736,2741,2687,2655,2696,2654,2565]\n",
    "\n",
    "#2022-03-26\n",
    "#forecast_real_data = [2495,2418,2323,2248,2191,2156,2147,2173,2154,2259,2398,2471,2535,\n",
    "#                        2606,2643,2669,2674,2689,2684,2616,2571,2617,2570,2506]\n",
    "\n",
    "#2022-04-30\n",
    "forecast_real_data = [3151,3042,2923,2798,2695,2608,2550,2473,2420,2520,2658,2774,2852,2907,\n",
    "                      2984,3074,3141,3189,3194,3123,2991,3052,3072,3065]\n",
    "\n",
    "\n",
    "len(forecast_real_data)"
   ]
  },
  {
   "cell_type": "code",
   "execution_count": 33,
   "id": "779ae293",
   "metadata": {
    "hidden": true
   },
   "outputs": [],
   "source": [
    "# Adding real load energy demand to \"consumo\" dataframe   ¿¿¿Esto para qué es???\n",
    "demanda_real = consumo.Demanda[-24:].values.tolist()\n",
    "for i in range(24):\n",
    "    demanda_real.append(forecast_real_data[i])"
   ]
  },
  {
   "cell_type": "code",
   "execution_count": 34,
   "id": "91fd506c",
   "metadata": {
    "hidden": true
   },
   "outputs": [],
   "source": [
    "# Real vs prediction dataframe\n",
    "df_est = pd.DataFrame({\n",
    "    \"Real\": forecast_real_data,\n",
    "    \"Estimado\": yh.ravel(),\n",
    "    \"Fecha-Hora\": str_list \n",
    "})"
   ]
  },
  {
   "cell_type": "code",
   "execution_count": 35,
   "id": "3e6c2adc",
   "metadata": {
    "hidden": true
   },
   "outputs": [
    {
     "data": {
      "text/html": [
       "<div>\n",
       "<style scoped>\n",
       "    .dataframe tbody tr th:only-of-type {\n",
       "        vertical-align: middle;\n",
       "    }\n",
       "\n",
       "    .dataframe tbody tr th {\n",
       "        vertical-align: top;\n",
       "    }\n",
       "\n",
       "    .dataframe thead th {\n",
       "        text-align: right;\n",
       "    }\n",
       "</style>\n",
       "<table border=\"1\" class=\"dataframe\">\n",
       "  <thead>\n",
       "    <tr style=\"text-align: right;\">\n",
       "      <th></th>\n",
       "      <th>Real</th>\n",
       "      <th>Estimado</th>\n",
       "      <th>Fecha-Hora</th>\n",
       "    </tr>\n",
       "  </thead>\n",
       "  <tbody>\n",
       "    <tr>\n",
       "      <th>0</th>\n",
       "      <td>3151</td>\n",
       "      <td>3100.813477</td>\n",
       "      <td>2022-04-30 00:00:00</td>\n",
       "    </tr>\n",
       "    <tr>\n",
       "      <th>1</th>\n",
       "      <td>3042</td>\n",
       "      <td>3024.001465</td>\n",
       "      <td>2022-04-30 01:00:00</td>\n",
       "    </tr>\n",
       "    <tr>\n",
       "      <th>2</th>\n",
       "      <td>2923</td>\n",
       "      <td>2924.233398</td>\n",
       "      <td>2022-04-30 02:00:00</td>\n",
       "    </tr>\n",
       "    <tr>\n",
       "      <th>3</th>\n",
       "      <td>2798</td>\n",
       "      <td>2814.413330</td>\n",
       "      <td>2022-04-30 03:00:00</td>\n",
       "    </tr>\n",
       "    <tr>\n",
       "      <th>4</th>\n",
       "      <td>2695</td>\n",
       "      <td>2712.602295</td>\n",
       "      <td>2022-04-30 04:00:00</td>\n",
       "    </tr>\n",
       "    <tr>\n",
       "      <th>5</th>\n",
       "      <td>2608</td>\n",
       "      <td>2630.100098</td>\n",
       "      <td>2022-04-30 05:00:00</td>\n",
       "    </tr>\n",
       "    <tr>\n",
       "      <th>6</th>\n",
       "      <td>2550</td>\n",
       "      <td>2564.918701</td>\n",
       "      <td>2022-04-30 06:00:00</td>\n",
       "    </tr>\n",
       "    <tr>\n",
       "      <th>7</th>\n",
       "      <td>2473</td>\n",
       "      <td>2511.285400</td>\n",
       "      <td>2022-04-30 07:00:00</td>\n",
       "    </tr>\n",
       "    <tr>\n",
       "      <th>8</th>\n",
       "      <td>2420</td>\n",
       "      <td>2483.402100</td>\n",
       "      <td>2022-04-30 08:00:00</td>\n",
       "    </tr>\n",
       "    <tr>\n",
       "      <th>9</th>\n",
       "      <td>2520</td>\n",
       "      <td>2524.638184</td>\n",
       "      <td>2022-04-30 09:00:00</td>\n",
       "    </tr>\n",
       "    <tr>\n",
       "      <th>10</th>\n",
       "      <td>2658</td>\n",
       "      <td>2627.861084</td>\n",
       "      <td>2022-04-30 10:00:00</td>\n",
       "    </tr>\n",
       "    <tr>\n",
       "      <th>11</th>\n",
       "      <td>2774</td>\n",
       "      <td>2740.506592</td>\n",
       "      <td>2022-04-30 11:00:00</td>\n",
       "    </tr>\n",
       "    <tr>\n",
       "      <th>12</th>\n",
       "      <td>2852</td>\n",
       "      <td>2837.702393</td>\n",
       "      <td>2022-04-30 12:00:00</td>\n",
       "    </tr>\n",
       "    <tr>\n",
       "      <th>13</th>\n",
       "      <td>2907</td>\n",
       "      <td>2918.872803</td>\n",
       "      <td>2022-04-30 13:00:00</td>\n",
       "    </tr>\n",
       "    <tr>\n",
       "      <th>14</th>\n",
       "      <td>2984</td>\n",
       "      <td>2990.999268</td>\n",
       "      <td>2022-04-30 14:00:00</td>\n",
       "    </tr>\n",
       "    <tr>\n",
       "      <th>15</th>\n",
       "      <td>3074</td>\n",
       "      <td>3059.288574</td>\n",
       "      <td>2022-04-30 15:00:00</td>\n",
       "    </tr>\n",
       "    <tr>\n",
       "      <th>16</th>\n",
       "      <td>3141</td>\n",
       "      <td>3119.697266</td>\n",
       "      <td>2022-04-30 16:00:00</td>\n",
       "    </tr>\n",
       "    <tr>\n",
       "      <th>17</th>\n",
       "      <td>3189</td>\n",
       "      <td>3153.351807</td>\n",
       "      <td>2022-04-30 17:00:00</td>\n",
       "    </tr>\n",
       "    <tr>\n",
       "      <th>18</th>\n",
       "      <td>3194</td>\n",
       "      <td>3132.675293</td>\n",
       "      <td>2022-04-30 18:00:00</td>\n",
       "    </tr>\n",
       "    <tr>\n",
       "      <th>19</th>\n",
       "      <td>3123</td>\n",
       "      <td>3050.343750</td>\n",
       "      <td>2022-04-30 19:00:00</td>\n",
       "    </tr>\n",
       "    <tr>\n",
       "      <th>20</th>\n",
       "      <td>2991</td>\n",
       "      <td>2958.175537</td>\n",
       "      <td>2022-04-30 20:00:00</td>\n",
       "    </tr>\n",
       "    <tr>\n",
       "      <th>21</th>\n",
       "      <td>3052</td>\n",
       "      <td>2997.081055</td>\n",
       "      <td>2022-04-30 21:00:00</td>\n",
       "    </tr>\n",
       "    <tr>\n",
       "      <th>22</th>\n",
       "      <td>3072</td>\n",
       "      <td>3061.853516</td>\n",
       "      <td>2022-04-30 22:00:00</td>\n",
       "    </tr>\n",
       "    <tr>\n",
       "      <th>23</th>\n",
       "      <td>3065</td>\n",
       "      <td>3063.674805</td>\n",
       "      <td>2022-04-30 23:00:00</td>\n",
       "    </tr>\n",
       "  </tbody>\n",
       "</table>\n",
       "</div>"
      ],
      "text/plain": [
       "    Real     Estimado           Fecha-Hora\n",
       "0   3151  3100.813477  2022-04-30 00:00:00\n",
       "1   3042  3024.001465  2022-04-30 01:00:00\n",
       "2   2923  2924.233398  2022-04-30 02:00:00\n",
       "3   2798  2814.413330  2022-04-30 03:00:00\n",
       "4   2695  2712.602295  2022-04-30 04:00:00\n",
       "5   2608  2630.100098  2022-04-30 05:00:00\n",
       "6   2550  2564.918701  2022-04-30 06:00:00\n",
       "7   2473  2511.285400  2022-04-30 07:00:00\n",
       "8   2420  2483.402100  2022-04-30 08:00:00\n",
       "9   2520  2524.638184  2022-04-30 09:00:00\n",
       "10  2658  2627.861084  2022-04-30 10:00:00\n",
       "11  2774  2740.506592  2022-04-30 11:00:00\n",
       "12  2852  2837.702393  2022-04-30 12:00:00\n",
       "13  2907  2918.872803  2022-04-30 13:00:00\n",
       "14  2984  2990.999268  2022-04-30 14:00:00\n",
       "15  3074  3059.288574  2022-04-30 15:00:00\n",
       "16  3141  3119.697266  2022-04-30 16:00:00\n",
       "17  3189  3153.351807  2022-04-30 17:00:00\n",
       "18  3194  3132.675293  2022-04-30 18:00:00\n",
       "19  3123  3050.343750  2022-04-30 19:00:00\n",
       "20  2991  2958.175537  2022-04-30 20:00:00\n",
       "21  3052  2997.081055  2022-04-30 21:00:00\n",
       "22  3072  3061.853516  2022-04-30 22:00:00\n",
       "23  3065  3063.674805  2022-04-30 23:00:00"
      ]
     },
     "execution_count": 35,
     "metadata": {},
     "output_type": "execute_result"
    }
   ],
   "source": [
    "df_est"
   ]
  },
  {
   "cell_type": "code",
   "execution_count": 36,
   "id": "f917c4ef",
   "metadata": {
    "hidden": true
   },
   "outputs": [
    {
     "data": {
      "text/html": [
       "<div>\n",
       "<style scoped>\n",
       "    .dataframe tbody tr th:only-of-type {\n",
       "        vertical-align: middle;\n",
       "    }\n",
       "\n",
       "    .dataframe tbody tr th {\n",
       "        vertical-align: top;\n",
       "    }\n",
       "\n",
       "    .dataframe thead th {\n",
       "        text-align: right;\n",
       "    }\n",
       "</style>\n",
       "<table border=\"1\" class=\"dataframe\">\n",
       "  <thead>\n",
       "    <tr style=\"text-align: right;\">\n",
       "      <th></th>\n",
       "      <th>Real</th>\n",
       "      <th>Estimado</th>\n",
       "      <th>Fecha-Hora</th>\n",
       "      <th>Hora</th>\n",
       "    </tr>\n",
       "  </thead>\n",
       "  <tbody>\n",
       "    <tr>\n",
       "      <th>0</th>\n",
       "      <td>3151</td>\n",
       "      <td>3100.813477</td>\n",
       "      <td>2022-04-30 00:00:00</td>\n",
       "      <td>0</td>\n",
       "    </tr>\n",
       "    <tr>\n",
       "      <th>1</th>\n",
       "      <td>3042</td>\n",
       "      <td>3024.001465</td>\n",
       "      <td>2022-04-30 01:00:00</td>\n",
       "      <td>1</td>\n",
       "    </tr>\n",
       "    <tr>\n",
       "      <th>2</th>\n",
       "      <td>2923</td>\n",
       "      <td>2924.233398</td>\n",
       "      <td>2022-04-30 02:00:00</td>\n",
       "      <td>2</td>\n",
       "    </tr>\n",
       "    <tr>\n",
       "      <th>3</th>\n",
       "      <td>2798</td>\n",
       "      <td>2814.413330</td>\n",
       "      <td>2022-04-30 03:00:00</td>\n",
       "      <td>3</td>\n",
       "    </tr>\n",
       "    <tr>\n",
       "      <th>4</th>\n",
       "      <td>2695</td>\n",
       "      <td>2712.602295</td>\n",
       "      <td>2022-04-30 04:00:00</td>\n",
       "      <td>4</td>\n",
       "    </tr>\n",
       "    <tr>\n",
       "      <th>5</th>\n",
       "      <td>2608</td>\n",
       "      <td>2630.100098</td>\n",
       "      <td>2022-04-30 05:00:00</td>\n",
       "      <td>5</td>\n",
       "    </tr>\n",
       "    <tr>\n",
       "      <th>6</th>\n",
       "      <td>2550</td>\n",
       "      <td>2564.918701</td>\n",
       "      <td>2022-04-30 06:00:00</td>\n",
       "      <td>6</td>\n",
       "    </tr>\n",
       "    <tr>\n",
       "      <th>7</th>\n",
       "      <td>2473</td>\n",
       "      <td>2511.285400</td>\n",
       "      <td>2022-04-30 07:00:00</td>\n",
       "      <td>7</td>\n",
       "    </tr>\n",
       "    <tr>\n",
       "      <th>8</th>\n",
       "      <td>2420</td>\n",
       "      <td>2483.402100</td>\n",
       "      <td>2022-04-30 08:00:00</td>\n",
       "      <td>8</td>\n",
       "    </tr>\n",
       "    <tr>\n",
       "      <th>9</th>\n",
       "      <td>2520</td>\n",
       "      <td>2524.638184</td>\n",
       "      <td>2022-04-30 09:00:00</td>\n",
       "      <td>9</td>\n",
       "    </tr>\n",
       "    <tr>\n",
       "      <th>10</th>\n",
       "      <td>2658</td>\n",
       "      <td>2627.861084</td>\n",
       "      <td>2022-04-30 10:00:00</td>\n",
       "      <td>10</td>\n",
       "    </tr>\n",
       "    <tr>\n",
       "      <th>11</th>\n",
       "      <td>2774</td>\n",
       "      <td>2740.506592</td>\n",
       "      <td>2022-04-30 11:00:00</td>\n",
       "      <td>11</td>\n",
       "    </tr>\n",
       "    <tr>\n",
       "      <th>12</th>\n",
       "      <td>2852</td>\n",
       "      <td>2837.702393</td>\n",
       "      <td>2022-04-30 12:00:00</td>\n",
       "      <td>12</td>\n",
       "    </tr>\n",
       "    <tr>\n",
       "      <th>13</th>\n",
       "      <td>2907</td>\n",
       "      <td>2918.872803</td>\n",
       "      <td>2022-04-30 13:00:00</td>\n",
       "      <td>13</td>\n",
       "    </tr>\n",
       "    <tr>\n",
       "      <th>14</th>\n",
       "      <td>2984</td>\n",
       "      <td>2990.999268</td>\n",
       "      <td>2022-04-30 14:00:00</td>\n",
       "      <td>14</td>\n",
       "    </tr>\n",
       "    <tr>\n",
       "      <th>15</th>\n",
       "      <td>3074</td>\n",
       "      <td>3059.288574</td>\n",
       "      <td>2022-04-30 15:00:00</td>\n",
       "      <td>15</td>\n",
       "    </tr>\n",
       "    <tr>\n",
       "      <th>16</th>\n",
       "      <td>3141</td>\n",
       "      <td>3119.697266</td>\n",
       "      <td>2022-04-30 16:00:00</td>\n",
       "      <td>16</td>\n",
       "    </tr>\n",
       "    <tr>\n",
       "      <th>17</th>\n",
       "      <td>3189</td>\n",
       "      <td>3153.351807</td>\n",
       "      <td>2022-04-30 17:00:00</td>\n",
       "      <td>17</td>\n",
       "    </tr>\n",
       "    <tr>\n",
       "      <th>18</th>\n",
       "      <td>3194</td>\n",
       "      <td>3132.675293</td>\n",
       "      <td>2022-04-30 18:00:00</td>\n",
       "      <td>18</td>\n",
       "    </tr>\n",
       "    <tr>\n",
       "      <th>19</th>\n",
       "      <td>3123</td>\n",
       "      <td>3050.343750</td>\n",
       "      <td>2022-04-30 19:00:00</td>\n",
       "      <td>19</td>\n",
       "    </tr>\n",
       "    <tr>\n",
       "      <th>20</th>\n",
       "      <td>2991</td>\n",
       "      <td>2958.175537</td>\n",
       "      <td>2022-04-30 20:00:00</td>\n",
       "      <td>20</td>\n",
       "    </tr>\n",
       "    <tr>\n",
       "      <th>21</th>\n",
       "      <td>3052</td>\n",
       "      <td>2997.081055</td>\n",
       "      <td>2022-04-30 21:00:00</td>\n",
       "      <td>21</td>\n",
       "    </tr>\n",
       "    <tr>\n",
       "      <th>22</th>\n",
       "      <td>3072</td>\n",
       "      <td>3061.853516</td>\n",
       "      <td>2022-04-30 22:00:00</td>\n",
       "      <td>22</td>\n",
       "    </tr>\n",
       "    <tr>\n",
       "      <th>23</th>\n",
       "      <td>3065</td>\n",
       "      <td>3063.674805</td>\n",
       "      <td>2022-04-30 23:00:00</td>\n",
       "      <td>23</td>\n",
       "    </tr>\n",
       "  </tbody>\n",
       "</table>\n",
       "</div>"
      ],
      "text/plain": [
       "    Real     Estimado          Fecha-Hora  Hora\n",
       "0   3151  3100.813477 2022-04-30 00:00:00     0\n",
       "1   3042  3024.001465 2022-04-30 01:00:00     1\n",
       "2   2923  2924.233398 2022-04-30 02:00:00     2\n",
       "3   2798  2814.413330 2022-04-30 03:00:00     3\n",
       "4   2695  2712.602295 2022-04-30 04:00:00     4\n",
       "5   2608  2630.100098 2022-04-30 05:00:00     5\n",
       "6   2550  2564.918701 2022-04-30 06:00:00     6\n",
       "7   2473  2511.285400 2022-04-30 07:00:00     7\n",
       "8   2420  2483.402100 2022-04-30 08:00:00     8\n",
       "9   2520  2524.638184 2022-04-30 09:00:00     9\n",
       "10  2658  2627.861084 2022-04-30 10:00:00    10\n",
       "11  2774  2740.506592 2022-04-30 11:00:00    11\n",
       "12  2852  2837.702393 2022-04-30 12:00:00    12\n",
       "13  2907  2918.872803 2022-04-30 13:00:00    13\n",
       "14  2984  2990.999268 2022-04-30 14:00:00    14\n",
       "15  3074  3059.288574 2022-04-30 15:00:00    15\n",
       "16  3141  3119.697266 2022-04-30 16:00:00    16\n",
       "17  3189  3153.351807 2022-04-30 17:00:00    17\n",
       "18  3194  3132.675293 2022-04-30 18:00:00    18\n",
       "19  3123  3050.343750 2022-04-30 19:00:00    19\n",
       "20  2991  2958.175537 2022-04-30 20:00:00    20\n",
       "21  3052  2997.081055 2022-04-30 21:00:00    21\n",
       "22  3072  3061.853516 2022-04-30 22:00:00    22\n",
       "23  3065  3063.674805 2022-04-30 23:00:00    23"
      ]
     },
     "execution_count": 36,
     "metadata": {},
     "output_type": "execute_result"
    }
   ],
   "source": [
    "# obteniendo variable hora para los datos\n",
    "df_est['Fecha-Hora']= pd.to_datetime(df_est['Fecha-Hora'])\n",
    "df_est[\"Hora\"] = df_est['Fecha-Hora'].dt.hour\n",
    "df_est"
   ]
  },
  {
   "cell_type": "code",
   "execution_count": 37,
   "id": "2ea66192",
   "metadata": {
    "hidden": true
   },
   "outputs": [],
   "source": [
    "#df_est.to_excel('./dorecsat2dias.xlsx')"
   ]
  },
  {
   "cell_type": "markdown",
   "id": "ef853a7b",
   "metadata": {
    "heading_collapsed": true
   },
   "source": [
    "## 6.  Model evaluation"
   ]
  },
  {
   "cell_type": "code",
   "execution_count": 42,
   "id": "7cd504c8",
   "metadata": {
    "hidden": true
   },
   "outputs": [
    {
     "data": {
      "application/vnd.plotly.v1+json": {
       "config": {
        "plotlyServerURL": "https://plot.ly"
       },
       "data": [
        {
         "mode": "lines+markers",
         "name": "Real",
         "type": "scatter",
         "x": [
          "2022-04-30T00:00:00",
          "2022-04-30T01:00:00",
          "2022-04-30T02:00:00",
          "2022-04-30T03:00:00",
          "2022-04-30T04:00:00",
          "2022-04-30T05:00:00",
          "2022-04-30T06:00:00",
          "2022-04-30T07:00:00",
          "2022-04-30T08:00:00",
          "2022-04-30T09:00:00",
          "2022-04-30T10:00:00",
          "2022-04-30T11:00:00",
          "2022-04-30T12:00:00",
          "2022-04-30T13:00:00",
          "2022-04-30T14:00:00",
          "2022-04-30T15:00:00",
          "2022-04-30T16:00:00",
          "2022-04-30T17:00:00",
          "2022-04-30T18:00:00",
          "2022-04-30T19:00:00",
          "2022-04-30T20:00:00",
          "2022-04-30T21:00:00",
          "2022-04-30T22:00:00",
          "2022-04-30T23:00:00"
         ],
         "y": [
          3151,
          3042,
          2923,
          2798,
          2695,
          2608,
          2550,
          2473,
          2420,
          2520,
          2658,
          2774,
          2852,
          2907,
          2984,
          3074,
          3141,
          3189,
          3194,
          3123,
          2991,
          3052,
          3072,
          3065
         ]
        },
        {
         "mode": "lines+markers",
         "name": "Estimado",
         "type": "scatter",
         "x": [
          "2022-04-30T00:00:00",
          "2022-04-30T01:00:00",
          "2022-04-30T02:00:00",
          "2022-04-30T03:00:00",
          "2022-04-30T04:00:00",
          "2022-04-30T05:00:00",
          "2022-04-30T06:00:00",
          "2022-04-30T07:00:00",
          "2022-04-30T08:00:00",
          "2022-04-30T09:00:00",
          "2022-04-30T10:00:00",
          "2022-04-30T11:00:00",
          "2022-04-30T12:00:00",
          "2022-04-30T13:00:00",
          "2022-04-30T14:00:00",
          "2022-04-30T15:00:00",
          "2022-04-30T16:00:00",
          "2022-04-30T17:00:00",
          "2022-04-30T18:00:00",
          "2022-04-30T19:00:00",
          "2022-04-30T20:00:00",
          "2022-04-30T21:00:00",
          "2022-04-30T22:00:00",
          "2022-04-30T23:00:00"
         ],
         "y": [
          3100.8134765625,
          3024.00146484375,
          2924.2333984375,
          2814.413330078125,
          2712.602294921875,
          2630.10009765625,
          2564.918701171875,
          2511.285400390625,
          2483.402099609375,
          2524.63818359375,
          2627.861083984375,
          2740.506591796875,
          2837.702392578125,
          2918.872802734375,
          2990.999267578125,
          3059.28857421875,
          3119.697265625,
          3153.351806640625,
          3132.67529296875,
          3050.34375,
          2958.175537109375,
          2997.0810546875,
          3061.853515625,
          3063.6748046875
         ]
        }
       ],
       "layout": {
        "template": {
         "data": {
          "bar": [
           {
            "error_x": {
             "color": "#2a3f5f"
            },
            "error_y": {
             "color": "#2a3f5f"
            },
            "marker": {
             "line": {
              "color": "#E5ECF6",
              "width": 0.5
             },
             "pattern": {
              "fillmode": "overlay",
              "size": 10,
              "solidity": 0.2
             }
            },
            "type": "bar"
           }
          ],
          "barpolar": [
           {
            "marker": {
             "line": {
              "color": "#E5ECF6",
              "width": 0.5
             },
             "pattern": {
              "fillmode": "overlay",
              "size": 10,
              "solidity": 0.2
             }
            },
            "type": "barpolar"
           }
          ],
          "carpet": [
           {
            "aaxis": {
             "endlinecolor": "#2a3f5f",
             "gridcolor": "white",
             "linecolor": "white",
             "minorgridcolor": "white",
             "startlinecolor": "#2a3f5f"
            },
            "baxis": {
             "endlinecolor": "#2a3f5f",
             "gridcolor": "white",
             "linecolor": "white",
             "minorgridcolor": "white",
             "startlinecolor": "#2a3f5f"
            },
            "type": "carpet"
           }
          ],
          "choropleth": [
           {
            "colorbar": {
             "outlinewidth": 0,
             "ticks": ""
            },
            "type": "choropleth"
           }
          ],
          "contour": [
           {
            "colorbar": {
             "outlinewidth": 0,
             "ticks": ""
            },
            "colorscale": [
             [
              0,
              "#0d0887"
             ],
             [
              0.1111111111111111,
              "#46039f"
             ],
             [
              0.2222222222222222,
              "#7201a8"
             ],
             [
              0.3333333333333333,
              "#9c179e"
             ],
             [
              0.4444444444444444,
              "#bd3786"
             ],
             [
              0.5555555555555556,
              "#d8576b"
             ],
             [
              0.6666666666666666,
              "#ed7953"
             ],
             [
              0.7777777777777778,
              "#fb9f3a"
             ],
             [
              0.8888888888888888,
              "#fdca26"
             ],
             [
              1,
              "#f0f921"
             ]
            ],
            "type": "contour"
           }
          ],
          "contourcarpet": [
           {
            "colorbar": {
             "outlinewidth": 0,
             "ticks": ""
            },
            "type": "contourcarpet"
           }
          ],
          "heatmap": [
           {
            "colorbar": {
             "outlinewidth": 0,
             "ticks": ""
            },
            "colorscale": [
             [
              0,
              "#0d0887"
             ],
             [
              0.1111111111111111,
              "#46039f"
             ],
             [
              0.2222222222222222,
              "#7201a8"
             ],
             [
              0.3333333333333333,
              "#9c179e"
             ],
             [
              0.4444444444444444,
              "#bd3786"
             ],
             [
              0.5555555555555556,
              "#d8576b"
             ],
             [
              0.6666666666666666,
              "#ed7953"
             ],
             [
              0.7777777777777778,
              "#fb9f3a"
             ],
             [
              0.8888888888888888,
              "#fdca26"
             ],
             [
              1,
              "#f0f921"
             ]
            ],
            "type": "heatmap"
           }
          ],
          "heatmapgl": [
           {
            "colorbar": {
             "outlinewidth": 0,
             "ticks": ""
            },
            "colorscale": [
             [
              0,
              "#0d0887"
             ],
             [
              0.1111111111111111,
              "#46039f"
             ],
             [
              0.2222222222222222,
              "#7201a8"
             ],
             [
              0.3333333333333333,
              "#9c179e"
             ],
             [
              0.4444444444444444,
              "#bd3786"
             ],
             [
              0.5555555555555556,
              "#d8576b"
             ],
             [
              0.6666666666666666,
              "#ed7953"
             ],
             [
              0.7777777777777778,
              "#fb9f3a"
             ],
             [
              0.8888888888888888,
              "#fdca26"
             ],
             [
              1,
              "#f0f921"
             ]
            ],
            "type": "heatmapgl"
           }
          ],
          "histogram": [
           {
            "marker": {
             "pattern": {
              "fillmode": "overlay",
              "size": 10,
              "solidity": 0.2
             }
            },
            "type": "histogram"
           }
          ],
          "histogram2d": [
           {
            "colorbar": {
             "outlinewidth": 0,
             "ticks": ""
            },
            "colorscale": [
             [
              0,
              "#0d0887"
             ],
             [
              0.1111111111111111,
              "#46039f"
             ],
             [
              0.2222222222222222,
              "#7201a8"
             ],
             [
              0.3333333333333333,
              "#9c179e"
             ],
             [
              0.4444444444444444,
              "#bd3786"
             ],
             [
              0.5555555555555556,
              "#d8576b"
             ],
             [
              0.6666666666666666,
              "#ed7953"
             ],
             [
              0.7777777777777778,
              "#fb9f3a"
             ],
             [
              0.8888888888888888,
              "#fdca26"
             ],
             [
              1,
              "#f0f921"
             ]
            ],
            "type": "histogram2d"
           }
          ],
          "histogram2dcontour": [
           {
            "colorbar": {
             "outlinewidth": 0,
             "ticks": ""
            },
            "colorscale": [
             [
              0,
              "#0d0887"
             ],
             [
              0.1111111111111111,
              "#46039f"
             ],
             [
              0.2222222222222222,
              "#7201a8"
             ],
             [
              0.3333333333333333,
              "#9c179e"
             ],
             [
              0.4444444444444444,
              "#bd3786"
             ],
             [
              0.5555555555555556,
              "#d8576b"
             ],
             [
              0.6666666666666666,
              "#ed7953"
             ],
             [
              0.7777777777777778,
              "#fb9f3a"
             ],
             [
              0.8888888888888888,
              "#fdca26"
             ],
             [
              1,
              "#f0f921"
             ]
            ],
            "type": "histogram2dcontour"
           }
          ],
          "mesh3d": [
           {
            "colorbar": {
             "outlinewidth": 0,
             "ticks": ""
            },
            "type": "mesh3d"
           }
          ],
          "parcoords": [
           {
            "line": {
             "colorbar": {
              "outlinewidth": 0,
              "ticks": ""
             }
            },
            "type": "parcoords"
           }
          ],
          "pie": [
           {
            "automargin": true,
            "type": "pie"
           }
          ],
          "scatter": [
           {
            "fillpattern": {
             "fillmode": "overlay",
             "size": 10,
             "solidity": 0.2
            },
            "type": "scatter"
           }
          ],
          "scatter3d": [
           {
            "line": {
             "colorbar": {
              "outlinewidth": 0,
              "ticks": ""
             }
            },
            "marker": {
             "colorbar": {
              "outlinewidth": 0,
              "ticks": ""
             }
            },
            "type": "scatter3d"
           }
          ],
          "scattercarpet": [
           {
            "marker": {
             "colorbar": {
              "outlinewidth": 0,
              "ticks": ""
             }
            },
            "type": "scattercarpet"
           }
          ],
          "scattergeo": [
           {
            "marker": {
             "colorbar": {
              "outlinewidth": 0,
              "ticks": ""
             }
            },
            "type": "scattergeo"
           }
          ],
          "scattergl": [
           {
            "marker": {
             "colorbar": {
              "outlinewidth": 0,
              "ticks": ""
             }
            },
            "type": "scattergl"
           }
          ],
          "scattermapbox": [
           {
            "marker": {
             "colorbar": {
              "outlinewidth": 0,
              "ticks": ""
             }
            },
            "type": "scattermapbox"
           }
          ],
          "scatterpolar": [
           {
            "marker": {
             "colorbar": {
              "outlinewidth": 0,
              "ticks": ""
             }
            },
            "type": "scatterpolar"
           }
          ],
          "scatterpolargl": [
           {
            "marker": {
             "colorbar": {
              "outlinewidth": 0,
              "ticks": ""
             }
            },
            "type": "scatterpolargl"
           }
          ],
          "scatterternary": [
           {
            "marker": {
             "colorbar": {
              "outlinewidth": 0,
              "ticks": ""
             }
            },
            "type": "scatterternary"
           }
          ],
          "surface": [
           {
            "colorbar": {
             "outlinewidth": 0,
             "ticks": ""
            },
            "colorscale": [
             [
              0,
              "#0d0887"
             ],
             [
              0.1111111111111111,
              "#46039f"
             ],
             [
              0.2222222222222222,
              "#7201a8"
             ],
             [
              0.3333333333333333,
              "#9c179e"
             ],
             [
              0.4444444444444444,
              "#bd3786"
             ],
             [
              0.5555555555555556,
              "#d8576b"
             ],
             [
              0.6666666666666666,
              "#ed7953"
             ],
             [
              0.7777777777777778,
              "#fb9f3a"
             ],
             [
              0.8888888888888888,
              "#fdca26"
             ],
             [
              1,
              "#f0f921"
             ]
            ],
            "type": "surface"
           }
          ],
          "table": [
           {
            "cells": {
             "fill": {
              "color": "#EBF0F8"
             },
             "line": {
              "color": "white"
             }
            },
            "header": {
             "fill": {
              "color": "#C8D4E3"
             },
             "line": {
              "color": "white"
             }
            },
            "type": "table"
           }
          ]
         },
         "layout": {
          "annotationdefaults": {
           "arrowcolor": "#2a3f5f",
           "arrowhead": 0,
           "arrowwidth": 1
          },
          "autotypenumbers": "strict",
          "coloraxis": {
           "colorbar": {
            "outlinewidth": 0,
            "ticks": ""
           }
          },
          "colorscale": {
           "diverging": [
            [
             0,
             "#8e0152"
            ],
            [
             0.1,
             "#c51b7d"
            ],
            [
             0.2,
             "#de77ae"
            ],
            [
             0.3,
             "#f1b6da"
            ],
            [
             0.4,
             "#fde0ef"
            ],
            [
             0.5,
             "#f7f7f7"
            ],
            [
             0.6,
             "#e6f5d0"
            ],
            [
             0.7,
             "#b8e186"
            ],
            [
             0.8,
             "#7fbc41"
            ],
            [
             0.9,
             "#4d9221"
            ],
            [
             1,
             "#276419"
            ]
           ],
           "sequential": [
            [
             0,
             "#0d0887"
            ],
            [
             0.1111111111111111,
             "#46039f"
            ],
            [
             0.2222222222222222,
             "#7201a8"
            ],
            [
             0.3333333333333333,
             "#9c179e"
            ],
            [
             0.4444444444444444,
             "#bd3786"
            ],
            [
             0.5555555555555556,
             "#d8576b"
            ],
            [
             0.6666666666666666,
             "#ed7953"
            ],
            [
             0.7777777777777778,
             "#fb9f3a"
            ],
            [
             0.8888888888888888,
             "#fdca26"
            ],
            [
             1,
             "#f0f921"
            ]
           ],
           "sequentialminus": [
            [
             0,
             "#0d0887"
            ],
            [
             0.1111111111111111,
             "#46039f"
            ],
            [
             0.2222222222222222,
             "#7201a8"
            ],
            [
             0.3333333333333333,
             "#9c179e"
            ],
            [
             0.4444444444444444,
             "#bd3786"
            ],
            [
             0.5555555555555556,
             "#d8576b"
            ],
            [
             0.6666666666666666,
             "#ed7953"
            ],
            [
             0.7777777777777778,
             "#fb9f3a"
            ],
            [
             0.8888888888888888,
             "#fdca26"
            ],
            [
             1,
             "#f0f921"
            ]
           ]
          },
          "colorway": [
           "#636efa",
           "#EF553B",
           "#00cc96",
           "#ab63fa",
           "#FFA15A",
           "#19d3f3",
           "#FF6692",
           "#B6E880",
           "#FF97FF",
           "#FECB52"
          ],
          "font": {
           "color": "#2a3f5f"
          },
          "geo": {
           "bgcolor": "white",
           "lakecolor": "white",
           "landcolor": "#E5ECF6",
           "showlakes": true,
           "showland": true,
           "subunitcolor": "white"
          },
          "hoverlabel": {
           "align": "left"
          },
          "hovermode": "closest",
          "mapbox": {
           "style": "light"
          },
          "paper_bgcolor": "white",
          "plot_bgcolor": "#E5ECF6",
          "polar": {
           "angularaxis": {
            "gridcolor": "white",
            "linecolor": "white",
            "ticks": ""
           },
           "bgcolor": "#E5ECF6",
           "radialaxis": {
            "gridcolor": "white",
            "linecolor": "white",
            "ticks": ""
           }
          },
          "scene": {
           "xaxis": {
            "backgroundcolor": "#E5ECF6",
            "gridcolor": "white",
            "gridwidth": 2,
            "linecolor": "white",
            "showbackground": true,
            "ticks": "",
            "zerolinecolor": "white"
           },
           "yaxis": {
            "backgroundcolor": "#E5ECF6",
            "gridcolor": "white",
            "gridwidth": 2,
            "linecolor": "white",
            "showbackground": true,
            "ticks": "",
            "zerolinecolor": "white"
           },
           "zaxis": {
            "backgroundcolor": "#E5ECF6",
            "gridcolor": "white",
            "gridwidth": 2,
            "linecolor": "white",
            "showbackground": true,
            "ticks": "",
            "zerolinecolor": "white"
           }
          },
          "shapedefaults": {
           "line": {
            "color": "#2a3f5f"
           }
          },
          "ternary": {
           "aaxis": {
            "gridcolor": "white",
            "linecolor": "white",
            "ticks": ""
           },
           "baxis": {
            "gridcolor": "white",
            "linecolor": "white",
            "ticks": ""
           },
           "bgcolor": "#E5ECF6",
           "caxis": {
            "gridcolor": "white",
            "linecolor": "white",
            "ticks": ""
           }
          },
          "title": {
           "x": 0.05
          },
          "xaxis": {
           "automargin": true,
           "gridcolor": "white",
           "linecolor": "white",
           "ticks": "",
           "title": {
            "standoff": 15
           },
           "zerolinecolor": "white",
           "zerolinewidth": 2
          },
          "yaxis": {
           "automargin": true,
           "gridcolor": "white",
           "linecolor": "white",
           "ticks": "",
           "title": {
            "standoff": 15
           },
           "zerolinecolor": "white",
           "zerolinewidth": 2
          }
         }
        }
       }
      },
      "text/html": [
       "<div>                            <div id=\"001f6e68-565b-4493-a65e-98d746c17ba7\" class=\"plotly-graph-div\" style=\"height:525px; width:100%;\"></div>            <script type=\"text/javascript\">                require([\"plotly\"], function(Plotly) {                    window.PLOTLYENV=window.PLOTLYENV || {};                                    if (document.getElementById(\"001f6e68-565b-4493-a65e-98d746c17ba7\")) {                    Plotly.newPlot(                        \"001f6e68-565b-4493-a65e-98d746c17ba7\",                        [{\"mode\":\"lines+markers\",\"name\":\"Real\",\"x\":[\"2022-04-30T00:00:00\",\"2022-04-30T01:00:00\",\"2022-04-30T02:00:00\",\"2022-04-30T03:00:00\",\"2022-04-30T04:00:00\",\"2022-04-30T05:00:00\",\"2022-04-30T06:00:00\",\"2022-04-30T07:00:00\",\"2022-04-30T08:00:00\",\"2022-04-30T09:00:00\",\"2022-04-30T10:00:00\",\"2022-04-30T11:00:00\",\"2022-04-30T12:00:00\",\"2022-04-30T13:00:00\",\"2022-04-30T14:00:00\",\"2022-04-30T15:00:00\",\"2022-04-30T16:00:00\",\"2022-04-30T17:00:00\",\"2022-04-30T18:00:00\",\"2022-04-30T19:00:00\",\"2022-04-30T20:00:00\",\"2022-04-30T21:00:00\",\"2022-04-30T22:00:00\",\"2022-04-30T23:00:00\"],\"y\":[3151,3042,2923,2798,2695,2608,2550,2473,2420,2520,2658,2774,2852,2907,2984,3074,3141,3189,3194,3123,2991,3052,3072,3065],\"type\":\"scatter\"},{\"mode\":\"lines+markers\",\"name\":\"Estimado\",\"x\":[\"2022-04-30T00:00:00\",\"2022-04-30T01:00:00\",\"2022-04-30T02:00:00\",\"2022-04-30T03:00:00\",\"2022-04-30T04:00:00\",\"2022-04-30T05:00:00\",\"2022-04-30T06:00:00\",\"2022-04-30T07:00:00\",\"2022-04-30T08:00:00\",\"2022-04-30T09:00:00\",\"2022-04-30T10:00:00\",\"2022-04-30T11:00:00\",\"2022-04-30T12:00:00\",\"2022-04-30T13:00:00\",\"2022-04-30T14:00:00\",\"2022-04-30T15:00:00\",\"2022-04-30T16:00:00\",\"2022-04-30T17:00:00\",\"2022-04-30T18:00:00\",\"2022-04-30T19:00:00\",\"2022-04-30T20:00:00\",\"2022-04-30T21:00:00\",\"2022-04-30T22:00:00\",\"2022-04-30T23:00:00\"],\"y\":[3100.8134765625,3024.00146484375,2924.2333984375,2814.413330078125,2712.602294921875,2630.10009765625,2564.918701171875,2511.285400390625,2483.402099609375,2524.63818359375,2627.861083984375,2740.506591796875,2837.702392578125,2918.872802734375,2990.999267578125,3059.28857421875,3119.697265625,3153.351806640625,3132.67529296875,3050.34375,2958.175537109375,2997.0810546875,3061.853515625,3063.6748046875],\"type\":\"scatter\"}],                        {\"template\":{\"data\":{\"histogram2dcontour\":[{\"type\":\"histogram2dcontour\",\"colorbar\":{\"outlinewidth\":0,\"ticks\":\"\"},\"colorscale\":[[0.0,\"#0d0887\"],[0.1111111111111111,\"#46039f\"],[0.2222222222222222,\"#7201a8\"],[0.3333333333333333,\"#9c179e\"],[0.4444444444444444,\"#bd3786\"],[0.5555555555555556,\"#d8576b\"],[0.6666666666666666,\"#ed7953\"],[0.7777777777777778,\"#fb9f3a\"],[0.8888888888888888,\"#fdca26\"],[1.0,\"#f0f921\"]]}],\"choropleth\":[{\"type\":\"choropleth\",\"colorbar\":{\"outlinewidth\":0,\"ticks\":\"\"}}],\"histogram2d\":[{\"type\":\"histogram2d\",\"colorbar\":{\"outlinewidth\":0,\"ticks\":\"\"},\"colorscale\":[[0.0,\"#0d0887\"],[0.1111111111111111,\"#46039f\"],[0.2222222222222222,\"#7201a8\"],[0.3333333333333333,\"#9c179e\"],[0.4444444444444444,\"#bd3786\"],[0.5555555555555556,\"#d8576b\"],[0.6666666666666666,\"#ed7953\"],[0.7777777777777778,\"#fb9f3a\"],[0.8888888888888888,\"#fdca26\"],[1.0,\"#f0f921\"]]}],\"heatmap\":[{\"type\":\"heatmap\",\"colorbar\":{\"outlinewidth\":0,\"ticks\":\"\"},\"colorscale\":[[0.0,\"#0d0887\"],[0.1111111111111111,\"#46039f\"],[0.2222222222222222,\"#7201a8\"],[0.3333333333333333,\"#9c179e\"],[0.4444444444444444,\"#bd3786\"],[0.5555555555555556,\"#d8576b\"],[0.6666666666666666,\"#ed7953\"],[0.7777777777777778,\"#fb9f3a\"],[0.8888888888888888,\"#fdca26\"],[1.0,\"#f0f921\"]]}],\"heatmapgl\":[{\"type\":\"heatmapgl\",\"colorbar\":{\"outlinewidth\":0,\"ticks\":\"\"},\"colorscale\":[[0.0,\"#0d0887\"],[0.1111111111111111,\"#46039f\"],[0.2222222222222222,\"#7201a8\"],[0.3333333333333333,\"#9c179e\"],[0.4444444444444444,\"#bd3786\"],[0.5555555555555556,\"#d8576b\"],[0.6666666666666666,\"#ed7953\"],[0.7777777777777778,\"#fb9f3a\"],[0.8888888888888888,\"#fdca26\"],[1.0,\"#f0f921\"]]}],\"contourcarpet\":[{\"type\":\"contourcarpet\",\"colorbar\":{\"outlinewidth\":0,\"ticks\":\"\"}}],\"contour\":[{\"type\":\"contour\",\"colorbar\":{\"outlinewidth\":0,\"ticks\":\"\"},\"colorscale\":[[0.0,\"#0d0887\"],[0.1111111111111111,\"#46039f\"],[0.2222222222222222,\"#7201a8\"],[0.3333333333333333,\"#9c179e\"],[0.4444444444444444,\"#bd3786\"],[0.5555555555555556,\"#d8576b\"],[0.6666666666666666,\"#ed7953\"],[0.7777777777777778,\"#fb9f3a\"],[0.8888888888888888,\"#fdca26\"],[1.0,\"#f0f921\"]]}],\"surface\":[{\"type\":\"surface\",\"colorbar\":{\"outlinewidth\":0,\"ticks\":\"\"},\"colorscale\":[[0.0,\"#0d0887\"],[0.1111111111111111,\"#46039f\"],[0.2222222222222222,\"#7201a8\"],[0.3333333333333333,\"#9c179e\"],[0.4444444444444444,\"#bd3786\"],[0.5555555555555556,\"#d8576b\"],[0.6666666666666666,\"#ed7953\"],[0.7777777777777778,\"#fb9f3a\"],[0.8888888888888888,\"#fdca26\"],[1.0,\"#f0f921\"]]}],\"mesh3d\":[{\"type\":\"mesh3d\",\"colorbar\":{\"outlinewidth\":0,\"ticks\":\"\"}}],\"scatter\":[{\"fillpattern\":{\"fillmode\":\"overlay\",\"size\":10,\"solidity\":0.2},\"type\":\"scatter\"}],\"parcoords\":[{\"type\":\"parcoords\",\"line\":{\"colorbar\":{\"outlinewidth\":0,\"ticks\":\"\"}}}],\"scatterpolargl\":[{\"type\":\"scatterpolargl\",\"marker\":{\"colorbar\":{\"outlinewidth\":0,\"ticks\":\"\"}}}],\"bar\":[{\"error_x\":{\"color\":\"#2a3f5f\"},\"error_y\":{\"color\":\"#2a3f5f\"},\"marker\":{\"line\":{\"color\":\"#E5ECF6\",\"width\":0.5},\"pattern\":{\"fillmode\":\"overlay\",\"size\":10,\"solidity\":0.2}},\"type\":\"bar\"}],\"scattergeo\":[{\"type\":\"scattergeo\",\"marker\":{\"colorbar\":{\"outlinewidth\":0,\"ticks\":\"\"}}}],\"scatterpolar\":[{\"type\":\"scatterpolar\",\"marker\":{\"colorbar\":{\"outlinewidth\":0,\"ticks\":\"\"}}}],\"histogram\":[{\"marker\":{\"pattern\":{\"fillmode\":\"overlay\",\"size\":10,\"solidity\":0.2}},\"type\":\"histogram\"}],\"scattergl\":[{\"type\":\"scattergl\",\"marker\":{\"colorbar\":{\"outlinewidth\":0,\"ticks\":\"\"}}}],\"scatter3d\":[{\"type\":\"scatter3d\",\"line\":{\"colorbar\":{\"outlinewidth\":0,\"ticks\":\"\"}},\"marker\":{\"colorbar\":{\"outlinewidth\":0,\"ticks\":\"\"}}}],\"scattermapbox\":[{\"type\":\"scattermapbox\",\"marker\":{\"colorbar\":{\"outlinewidth\":0,\"ticks\":\"\"}}}],\"scatterternary\":[{\"type\":\"scatterternary\",\"marker\":{\"colorbar\":{\"outlinewidth\":0,\"ticks\":\"\"}}}],\"scattercarpet\":[{\"type\":\"scattercarpet\",\"marker\":{\"colorbar\":{\"outlinewidth\":0,\"ticks\":\"\"}}}],\"carpet\":[{\"aaxis\":{\"endlinecolor\":\"#2a3f5f\",\"gridcolor\":\"white\",\"linecolor\":\"white\",\"minorgridcolor\":\"white\",\"startlinecolor\":\"#2a3f5f\"},\"baxis\":{\"endlinecolor\":\"#2a3f5f\",\"gridcolor\":\"white\",\"linecolor\":\"white\",\"minorgridcolor\":\"white\",\"startlinecolor\":\"#2a3f5f\"},\"type\":\"carpet\"}],\"table\":[{\"cells\":{\"fill\":{\"color\":\"#EBF0F8\"},\"line\":{\"color\":\"white\"}},\"header\":{\"fill\":{\"color\":\"#C8D4E3\"},\"line\":{\"color\":\"white\"}},\"type\":\"table\"}],\"barpolar\":[{\"marker\":{\"line\":{\"color\":\"#E5ECF6\",\"width\":0.5},\"pattern\":{\"fillmode\":\"overlay\",\"size\":10,\"solidity\":0.2}},\"type\":\"barpolar\"}],\"pie\":[{\"automargin\":true,\"type\":\"pie\"}]},\"layout\":{\"autotypenumbers\":\"strict\",\"colorway\":[\"#636efa\",\"#EF553B\",\"#00cc96\",\"#ab63fa\",\"#FFA15A\",\"#19d3f3\",\"#FF6692\",\"#B6E880\",\"#FF97FF\",\"#FECB52\"],\"font\":{\"color\":\"#2a3f5f\"},\"hovermode\":\"closest\",\"hoverlabel\":{\"align\":\"left\"},\"paper_bgcolor\":\"white\",\"plot_bgcolor\":\"#E5ECF6\",\"polar\":{\"bgcolor\":\"#E5ECF6\",\"angularaxis\":{\"gridcolor\":\"white\",\"linecolor\":\"white\",\"ticks\":\"\"},\"radialaxis\":{\"gridcolor\":\"white\",\"linecolor\":\"white\",\"ticks\":\"\"}},\"ternary\":{\"bgcolor\":\"#E5ECF6\",\"aaxis\":{\"gridcolor\":\"white\",\"linecolor\":\"white\",\"ticks\":\"\"},\"baxis\":{\"gridcolor\":\"white\",\"linecolor\":\"white\",\"ticks\":\"\"},\"caxis\":{\"gridcolor\":\"white\",\"linecolor\":\"white\",\"ticks\":\"\"}},\"coloraxis\":{\"colorbar\":{\"outlinewidth\":0,\"ticks\":\"\"}},\"colorscale\":{\"sequential\":[[0.0,\"#0d0887\"],[0.1111111111111111,\"#46039f\"],[0.2222222222222222,\"#7201a8\"],[0.3333333333333333,\"#9c179e\"],[0.4444444444444444,\"#bd3786\"],[0.5555555555555556,\"#d8576b\"],[0.6666666666666666,\"#ed7953\"],[0.7777777777777778,\"#fb9f3a\"],[0.8888888888888888,\"#fdca26\"],[1.0,\"#f0f921\"]],\"sequentialminus\":[[0.0,\"#0d0887\"],[0.1111111111111111,\"#46039f\"],[0.2222222222222222,\"#7201a8\"],[0.3333333333333333,\"#9c179e\"],[0.4444444444444444,\"#bd3786\"],[0.5555555555555556,\"#d8576b\"],[0.6666666666666666,\"#ed7953\"],[0.7777777777777778,\"#fb9f3a\"],[0.8888888888888888,\"#fdca26\"],[1.0,\"#f0f921\"]],\"diverging\":[[0,\"#8e0152\"],[0.1,\"#c51b7d\"],[0.2,\"#de77ae\"],[0.3,\"#f1b6da\"],[0.4,\"#fde0ef\"],[0.5,\"#f7f7f7\"],[0.6,\"#e6f5d0\"],[0.7,\"#b8e186\"],[0.8,\"#7fbc41\"],[0.9,\"#4d9221\"],[1,\"#276419\"]]},\"xaxis\":{\"gridcolor\":\"white\",\"linecolor\":\"white\",\"ticks\":\"\",\"title\":{\"standoff\":15},\"zerolinecolor\":\"white\",\"automargin\":true,\"zerolinewidth\":2},\"yaxis\":{\"gridcolor\":\"white\",\"linecolor\":\"white\",\"ticks\":\"\",\"title\":{\"standoff\":15},\"zerolinecolor\":\"white\",\"automargin\":true,\"zerolinewidth\":2},\"scene\":{\"xaxis\":{\"backgroundcolor\":\"#E5ECF6\",\"gridcolor\":\"white\",\"linecolor\":\"white\",\"showbackground\":true,\"ticks\":\"\",\"zerolinecolor\":\"white\",\"gridwidth\":2},\"yaxis\":{\"backgroundcolor\":\"#E5ECF6\",\"gridcolor\":\"white\",\"linecolor\":\"white\",\"showbackground\":true,\"ticks\":\"\",\"zerolinecolor\":\"white\",\"gridwidth\":2},\"zaxis\":{\"backgroundcolor\":\"#E5ECF6\",\"gridcolor\":\"white\",\"linecolor\":\"white\",\"showbackground\":true,\"ticks\":\"\",\"zerolinecolor\":\"white\",\"gridwidth\":2}},\"shapedefaults\":{\"line\":{\"color\":\"#2a3f5f\"}},\"annotationdefaults\":{\"arrowcolor\":\"#2a3f5f\",\"arrowhead\":0,\"arrowwidth\":1},\"geo\":{\"bgcolor\":\"white\",\"landcolor\":\"#E5ECF6\",\"subunitcolor\":\"white\",\"showland\":true,\"showlakes\":true,\"lakecolor\":\"white\"},\"title\":{\"x\":0.05},\"mapbox\":{\"style\":\"light\"}}}},                        {\"responsive\": true}                    ).then(function(){\n",
       "                            \n",
       "var gd = document.getElementById('001f6e68-565b-4493-a65e-98d746c17ba7');\n",
       "var x = new MutationObserver(function (mutations, observer) {{\n",
       "        var display = window.getComputedStyle(gd).display;\n",
       "        if (!display || display === 'none') {{\n",
       "            console.log([gd, 'removed!']);\n",
       "            Plotly.purge(gd);\n",
       "            observer.disconnect();\n",
       "        }}\n",
       "}});\n",
       "\n",
       "// Listen for the removal of the full notebook cells\n",
       "var notebookContainer = gd.closest('#notebook-container');\n",
       "if (notebookContainer) {{\n",
       "    x.observe(notebookContainer, {childList: true});\n",
       "}}\n",
       "\n",
       "// Listen for the clearing of the current output cell\n",
       "var outputEl = gd.closest('.output');\n",
       "if (outputEl) {{\n",
       "    x.observe(outputEl, {childList: true});\n",
       "}}\n",
       "\n",
       "                        })                };                });            </script>        </div>"
      ]
     },
     "metadata": {},
     "output_type": "display_data"
    },
    {
     "data": {
      "application/vnd.plotly.v1+json": {
       "config": {
        "linkText": "Export to plot.ly",
        "plotlyServerURL": "https://plot.ly",
        "showLink": false
       },
       "data": [
        {
         "mode": "lines+markers",
         "name": "Real",
         "type": "scatter",
         "x": [
          "2022-04-30T00:00:00",
          "2022-04-30T01:00:00",
          "2022-04-30T02:00:00",
          "2022-04-30T03:00:00",
          "2022-04-30T04:00:00",
          "2022-04-30T05:00:00",
          "2022-04-30T06:00:00",
          "2022-04-30T07:00:00",
          "2022-04-30T08:00:00",
          "2022-04-30T09:00:00",
          "2022-04-30T10:00:00",
          "2022-04-30T11:00:00",
          "2022-04-30T12:00:00",
          "2022-04-30T13:00:00",
          "2022-04-30T14:00:00",
          "2022-04-30T15:00:00",
          "2022-04-30T16:00:00",
          "2022-04-30T17:00:00",
          "2022-04-30T18:00:00",
          "2022-04-30T19:00:00",
          "2022-04-30T20:00:00",
          "2022-04-30T21:00:00",
          "2022-04-30T22:00:00",
          "2022-04-30T23:00:00"
         ],
         "y": [
          3151,
          3042,
          2923,
          2798,
          2695,
          2608,
          2550,
          2473,
          2420,
          2520,
          2658,
          2774,
          2852,
          2907,
          2984,
          3074,
          3141,
          3189,
          3194,
          3123,
          2991,
          3052,
          3072,
          3065
         ]
        },
        {
         "mode": "lines+markers",
         "name": "Estimado",
         "type": "scatter",
         "x": [
          "2022-04-30T00:00:00",
          "2022-04-30T01:00:00",
          "2022-04-30T02:00:00",
          "2022-04-30T03:00:00",
          "2022-04-30T04:00:00",
          "2022-04-30T05:00:00",
          "2022-04-30T06:00:00",
          "2022-04-30T07:00:00",
          "2022-04-30T08:00:00",
          "2022-04-30T09:00:00",
          "2022-04-30T10:00:00",
          "2022-04-30T11:00:00",
          "2022-04-30T12:00:00",
          "2022-04-30T13:00:00",
          "2022-04-30T14:00:00",
          "2022-04-30T15:00:00",
          "2022-04-30T16:00:00",
          "2022-04-30T17:00:00",
          "2022-04-30T18:00:00",
          "2022-04-30T19:00:00",
          "2022-04-30T20:00:00",
          "2022-04-30T21:00:00",
          "2022-04-30T22:00:00",
          "2022-04-30T23:00:00"
         ],
         "y": [
          3100.8134765625,
          3024.00146484375,
          2924.2333984375,
          2814.413330078125,
          2712.602294921875,
          2630.10009765625,
          2564.918701171875,
          2511.285400390625,
          2483.402099609375,
          2524.63818359375,
          2627.861083984375,
          2740.506591796875,
          2837.702392578125,
          2918.872802734375,
          2990.999267578125,
          3059.28857421875,
          3119.697265625,
          3153.351806640625,
          3132.67529296875,
          3050.34375,
          2958.175537109375,
          2997.0810546875,
          3061.853515625,
          3063.6748046875
         ]
        }
       ],
       "layout": {
        "template": {
         "data": {
          "bar": [
           {
            "error_x": {
             "color": "#2a3f5f"
            },
            "error_y": {
             "color": "#2a3f5f"
            },
            "marker": {
             "line": {
              "color": "#E5ECF6",
              "width": 0.5
             },
             "pattern": {
              "fillmode": "overlay",
              "size": 10,
              "solidity": 0.2
             }
            },
            "type": "bar"
           }
          ],
          "barpolar": [
           {
            "marker": {
             "line": {
              "color": "#E5ECF6",
              "width": 0.5
             },
             "pattern": {
              "fillmode": "overlay",
              "size": 10,
              "solidity": 0.2
             }
            },
            "type": "barpolar"
           }
          ],
          "carpet": [
           {
            "aaxis": {
             "endlinecolor": "#2a3f5f",
             "gridcolor": "white",
             "linecolor": "white",
             "minorgridcolor": "white",
             "startlinecolor": "#2a3f5f"
            },
            "baxis": {
             "endlinecolor": "#2a3f5f",
             "gridcolor": "white",
             "linecolor": "white",
             "minorgridcolor": "white",
             "startlinecolor": "#2a3f5f"
            },
            "type": "carpet"
           }
          ],
          "choropleth": [
           {
            "colorbar": {
             "outlinewidth": 0,
             "ticks": ""
            },
            "type": "choropleth"
           }
          ],
          "contour": [
           {
            "colorbar": {
             "outlinewidth": 0,
             "ticks": ""
            },
            "colorscale": [
             [
              0,
              "#0d0887"
             ],
             [
              0.1111111111111111,
              "#46039f"
             ],
             [
              0.2222222222222222,
              "#7201a8"
             ],
             [
              0.3333333333333333,
              "#9c179e"
             ],
             [
              0.4444444444444444,
              "#bd3786"
             ],
             [
              0.5555555555555556,
              "#d8576b"
             ],
             [
              0.6666666666666666,
              "#ed7953"
             ],
             [
              0.7777777777777778,
              "#fb9f3a"
             ],
             [
              0.8888888888888888,
              "#fdca26"
             ],
             [
              1,
              "#f0f921"
             ]
            ],
            "type": "contour"
           }
          ],
          "contourcarpet": [
           {
            "colorbar": {
             "outlinewidth": 0,
             "ticks": ""
            },
            "type": "contourcarpet"
           }
          ],
          "heatmap": [
           {
            "colorbar": {
             "outlinewidth": 0,
             "ticks": ""
            },
            "colorscale": [
             [
              0,
              "#0d0887"
             ],
             [
              0.1111111111111111,
              "#46039f"
             ],
             [
              0.2222222222222222,
              "#7201a8"
             ],
             [
              0.3333333333333333,
              "#9c179e"
             ],
             [
              0.4444444444444444,
              "#bd3786"
             ],
             [
              0.5555555555555556,
              "#d8576b"
             ],
             [
              0.6666666666666666,
              "#ed7953"
             ],
             [
              0.7777777777777778,
              "#fb9f3a"
             ],
             [
              0.8888888888888888,
              "#fdca26"
             ],
             [
              1,
              "#f0f921"
             ]
            ],
            "type": "heatmap"
           }
          ],
          "heatmapgl": [
           {
            "colorbar": {
             "outlinewidth": 0,
             "ticks": ""
            },
            "colorscale": [
             [
              0,
              "#0d0887"
             ],
             [
              0.1111111111111111,
              "#46039f"
             ],
             [
              0.2222222222222222,
              "#7201a8"
             ],
             [
              0.3333333333333333,
              "#9c179e"
             ],
             [
              0.4444444444444444,
              "#bd3786"
             ],
             [
              0.5555555555555556,
              "#d8576b"
             ],
             [
              0.6666666666666666,
              "#ed7953"
             ],
             [
              0.7777777777777778,
              "#fb9f3a"
             ],
             [
              0.8888888888888888,
              "#fdca26"
             ],
             [
              1,
              "#f0f921"
             ]
            ],
            "type": "heatmapgl"
           }
          ],
          "histogram": [
           {
            "marker": {
             "pattern": {
              "fillmode": "overlay",
              "size": 10,
              "solidity": 0.2
             }
            },
            "type": "histogram"
           }
          ],
          "histogram2d": [
           {
            "colorbar": {
             "outlinewidth": 0,
             "ticks": ""
            },
            "colorscale": [
             [
              0,
              "#0d0887"
             ],
             [
              0.1111111111111111,
              "#46039f"
             ],
             [
              0.2222222222222222,
              "#7201a8"
             ],
             [
              0.3333333333333333,
              "#9c179e"
             ],
             [
              0.4444444444444444,
              "#bd3786"
             ],
             [
              0.5555555555555556,
              "#d8576b"
             ],
             [
              0.6666666666666666,
              "#ed7953"
             ],
             [
              0.7777777777777778,
              "#fb9f3a"
             ],
             [
              0.8888888888888888,
              "#fdca26"
             ],
             [
              1,
              "#f0f921"
             ]
            ],
            "type": "histogram2d"
           }
          ],
          "histogram2dcontour": [
           {
            "colorbar": {
             "outlinewidth": 0,
             "ticks": ""
            },
            "colorscale": [
             [
              0,
              "#0d0887"
             ],
             [
              0.1111111111111111,
              "#46039f"
             ],
             [
              0.2222222222222222,
              "#7201a8"
             ],
             [
              0.3333333333333333,
              "#9c179e"
             ],
             [
              0.4444444444444444,
              "#bd3786"
             ],
             [
              0.5555555555555556,
              "#d8576b"
             ],
             [
              0.6666666666666666,
              "#ed7953"
             ],
             [
              0.7777777777777778,
              "#fb9f3a"
             ],
             [
              0.8888888888888888,
              "#fdca26"
             ],
             [
              1,
              "#f0f921"
             ]
            ],
            "type": "histogram2dcontour"
           }
          ],
          "mesh3d": [
           {
            "colorbar": {
             "outlinewidth": 0,
             "ticks": ""
            },
            "type": "mesh3d"
           }
          ],
          "parcoords": [
           {
            "line": {
             "colorbar": {
              "outlinewidth": 0,
              "ticks": ""
             }
            },
            "type": "parcoords"
           }
          ],
          "pie": [
           {
            "automargin": true,
            "type": "pie"
           }
          ],
          "scatter": [
           {
            "fillpattern": {
             "fillmode": "overlay",
             "size": 10,
             "solidity": 0.2
            },
            "type": "scatter"
           }
          ],
          "scatter3d": [
           {
            "line": {
             "colorbar": {
              "outlinewidth": 0,
              "ticks": ""
             }
            },
            "marker": {
             "colorbar": {
              "outlinewidth": 0,
              "ticks": ""
             }
            },
            "type": "scatter3d"
           }
          ],
          "scattercarpet": [
           {
            "marker": {
             "colorbar": {
              "outlinewidth": 0,
              "ticks": ""
             }
            },
            "type": "scattercarpet"
           }
          ],
          "scattergeo": [
           {
            "marker": {
             "colorbar": {
              "outlinewidth": 0,
              "ticks": ""
             }
            },
            "type": "scattergeo"
           }
          ],
          "scattergl": [
           {
            "marker": {
             "colorbar": {
              "outlinewidth": 0,
              "ticks": ""
             }
            },
            "type": "scattergl"
           }
          ],
          "scattermapbox": [
           {
            "marker": {
             "colorbar": {
              "outlinewidth": 0,
              "ticks": ""
             }
            },
            "type": "scattermapbox"
           }
          ],
          "scatterpolar": [
           {
            "marker": {
             "colorbar": {
              "outlinewidth": 0,
              "ticks": ""
             }
            },
            "type": "scatterpolar"
           }
          ],
          "scatterpolargl": [
           {
            "marker": {
             "colorbar": {
              "outlinewidth": 0,
              "ticks": ""
             }
            },
            "type": "scatterpolargl"
           }
          ],
          "scatterternary": [
           {
            "marker": {
             "colorbar": {
              "outlinewidth": 0,
              "ticks": ""
             }
            },
            "type": "scatterternary"
           }
          ],
          "surface": [
           {
            "colorbar": {
             "outlinewidth": 0,
             "ticks": ""
            },
            "colorscale": [
             [
              0,
              "#0d0887"
             ],
             [
              0.1111111111111111,
              "#46039f"
             ],
             [
              0.2222222222222222,
              "#7201a8"
             ],
             [
              0.3333333333333333,
              "#9c179e"
             ],
             [
              0.4444444444444444,
              "#bd3786"
             ],
             [
              0.5555555555555556,
              "#d8576b"
             ],
             [
              0.6666666666666666,
              "#ed7953"
             ],
             [
              0.7777777777777778,
              "#fb9f3a"
             ],
             [
              0.8888888888888888,
              "#fdca26"
             ],
             [
              1,
              "#f0f921"
             ]
            ],
            "type": "surface"
           }
          ],
          "table": [
           {
            "cells": {
             "fill": {
              "color": "#EBF0F8"
             },
             "line": {
              "color": "white"
             }
            },
            "header": {
             "fill": {
              "color": "#C8D4E3"
             },
             "line": {
              "color": "white"
             }
            },
            "type": "table"
           }
          ]
         },
         "layout": {
          "annotationdefaults": {
           "arrowcolor": "#2a3f5f",
           "arrowhead": 0,
           "arrowwidth": 1
          },
          "autotypenumbers": "strict",
          "coloraxis": {
           "colorbar": {
            "outlinewidth": 0,
            "ticks": ""
           }
          },
          "colorscale": {
           "diverging": [
            [
             0,
             "#8e0152"
            ],
            [
             0.1,
             "#c51b7d"
            ],
            [
             0.2,
             "#de77ae"
            ],
            [
             0.3,
             "#f1b6da"
            ],
            [
             0.4,
             "#fde0ef"
            ],
            [
             0.5,
             "#f7f7f7"
            ],
            [
             0.6,
             "#e6f5d0"
            ],
            [
             0.7,
             "#b8e186"
            ],
            [
             0.8,
             "#7fbc41"
            ],
            [
             0.9,
             "#4d9221"
            ],
            [
             1,
             "#276419"
            ]
           ],
           "sequential": [
            [
             0,
             "#0d0887"
            ],
            [
             0.1111111111111111,
             "#46039f"
            ],
            [
             0.2222222222222222,
             "#7201a8"
            ],
            [
             0.3333333333333333,
             "#9c179e"
            ],
            [
             0.4444444444444444,
             "#bd3786"
            ],
            [
             0.5555555555555556,
             "#d8576b"
            ],
            [
             0.6666666666666666,
             "#ed7953"
            ],
            [
             0.7777777777777778,
             "#fb9f3a"
            ],
            [
             0.8888888888888888,
             "#fdca26"
            ],
            [
             1,
             "#f0f921"
            ]
           ],
           "sequentialminus": [
            [
             0,
             "#0d0887"
            ],
            [
             0.1111111111111111,
             "#46039f"
            ],
            [
             0.2222222222222222,
             "#7201a8"
            ],
            [
             0.3333333333333333,
             "#9c179e"
            ],
            [
             0.4444444444444444,
             "#bd3786"
            ],
            [
             0.5555555555555556,
             "#d8576b"
            ],
            [
             0.6666666666666666,
             "#ed7953"
            ],
            [
             0.7777777777777778,
             "#fb9f3a"
            ],
            [
             0.8888888888888888,
             "#fdca26"
            ],
            [
             1,
             "#f0f921"
            ]
           ]
          },
          "colorway": [
           "#636efa",
           "#EF553B",
           "#00cc96",
           "#ab63fa",
           "#FFA15A",
           "#19d3f3",
           "#FF6692",
           "#B6E880",
           "#FF97FF",
           "#FECB52"
          ],
          "font": {
           "color": "#2a3f5f"
          },
          "geo": {
           "bgcolor": "white",
           "lakecolor": "white",
           "landcolor": "#E5ECF6",
           "showlakes": true,
           "showland": true,
           "subunitcolor": "white"
          },
          "hoverlabel": {
           "align": "left"
          },
          "hovermode": "closest",
          "mapbox": {
           "style": "light"
          },
          "paper_bgcolor": "white",
          "plot_bgcolor": "#E5ECF6",
          "polar": {
           "angularaxis": {
            "gridcolor": "white",
            "linecolor": "white",
            "ticks": ""
           },
           "bgcolor": "#E5ECF6",
           "radialaxis": {
            "gridcolor": "white",
            "linecolor": "white",
            "ticks": ""
           }
          },
          "scene": {
           "xaxis": {
            "backgroundcolor": "#E5ECF6",
            "gridcolor": "white",
            "gridwidth": 2,
            "linecolor": "white",
            "showbackground": true,
            "ticks": "",
            "zerolinecolor": "white"
           },
           "yaxis": {
            "backgroundcolor": "#E5ECF6",
            "gridcolor": "white",
            "gridwidth": 2,
            "linecolor": "white",
            "showbackground": true,
            "ticks": "",
            "zerolinecolor": "white"
           },
           "zaxis": {
            "backgroundcolor": "#E5ECF6",
            "gridcolor": "white",
            "gridwidth": 2,
            "linecolor": "white",
            "showbackground": true,
            "ticks": "",
            "zerolinecolor": "white"
           }
          },
          "shapedefaults": {
           "line": {
            "color": "#2a3f5f"
           }
          },
          "ternary": {
           "aaxis": {
            "gridcolor": "white",
            "linecolor": "white",
            "ticks": ""
           },
           "baxis": {
            "gridcolor": "white",
            "linecolor": "white",
            "ticks": ""
           },
           "bgcolor": "#E5ECF6",
           "caxis": {
            "gridcolor": "white",
            "linecolor": "white",
            "ticks": ""
           }
          },
          "title": {
           "x": 0.05
          },
          "xaxis": {
           "automargin": true,
           "gridcolor": "white",
           "linecolor": "white",
           "ticks": "",
           "title": {
            "standoff": 15
           },
           "zerolinecolor": "white",
           "zerolinewidth": 2
          },
          "yaxis": {
           "automargin": true,
           "gridcolor": "white",
           "linecolor": "white",
           "ticks": "",
           "title": {
            "standoff": 15
           },
           "zerolinecolor": "white",
           "zerolinewidth": 2
          }
         }
        }
       }
      },
      "text/html": [
       "<div>                            <div id=\"8c8647f9-4ea8-4b24-8401-1d05e8033bbd\" class=\"plotly-graph-div\" style=\"height:525px; width:100%;\"></div>            <script type=\"text/javascript\">                require([\"plotly\"], function(Plotly) {                    window.PLOTLYENV=window.PLOTLYENV || {};                                    if (document.getElementById(\"8c8647f9-4ea8-4b24-8401-1d05e8033bbd\")) {                    Plotly.newPlot(                        \"8c8647f9-4ea8-4b24-8401-1d05e8033bbd\",                        [{\"mode\":\"lines+markers\",\"name\":\"Real\",\"x\":[\"2022-04-30T00:00:00\",\"2022-04-30T01:00:00\",\"2022-04-30T02:00:00\",\"2022-04-30T03:00:00\",\"2022-04-30T04:00:00\",\"2022-04-30T05:00:00\",\"2022-04-30T06:00:00\",\"2022-04-30T07:00:00\",\"2022-04-30T08:00:00\",\"2022-04-30T09:00:00\",\"2022-04-30T10:00:00\",\"2022-04-30T11:00:00\",\"2022-04-30T12:00:00\",\"2022-04-30T13:00:00\",\"2022-04-30T14:00:00\",\"2022-04-30T15:00:00\",\"2022-04-30T16:00:00\",\"2022-04-30T17:00:00\",\"2022-04-30T18:00:00\",\"2022-04-30T19:00:00\",\"2022-04-30T20:00:00\",\"2022-04-30T21:00:00\",\"2022-04-30T22:00:00\",\"2022-04-30T23:00:00\"],\"y\":[3151,3042,2923,2798,2695,2608,2550,2473,2420,2520,2658,2774,2852,2907,2984,3074,3141,3189,3194,3123,2991,3052,3072,3065],\"type\":\"scatter\"},{\"mode\":\"lines+markers\",\"name\":\"Estimado\",\"x\":[\"2022-04-30T00:00:00\",\"2022-04-30T01:00:00\",\"2022-04-30T02:00:00\",\"2022-04-30T03:00:00\",\"2022-04-30T04:00:00\",\"2022-04-30T05:00:00\",\"2022-04-30T06:00:00\",\"2022-04-30T07:00:00\",\"2022-04-30T08:00:00\",\"2022-04-30T09:00:00\",\"2022-04-30T10:00:00\",\"2022-04-30T11:00:00\",\"2022-04-30T12:00:00\",\"2022-04-30T13:00:00\",\"2022-04-30T14:00:00\",\"2022-04-30T15:00:00\",\"2022-04-30T16:00:00\",\"2022-04-30T17:00:00\",\"2022-04-30T18:00:00\",\"2022-04-30T19:00:00\",\"2022-04-30T20:00:00\",\"2022-04-30T21:00:00\",\"2022-04-30T22:00:00\",\"2022-04-30T23:00:00\"],\"y\":[3100.8134765625,3024.00146484375,2924.2333984375,2814.413330078125,2712.602294921875,2630.10009765625,2564.918701171875,2511.285400390625,2483.402099609375,2524.63818359375,2627.861083984375,2740.506591796875,2837.702392578125,2918.872802734375,2990.999267578125,3059.28857421875,3119.697265625,3153.351806640625,3132.67529296875,3050.34375,2958.175537109375,2997.0810546875,3061.853515625,3063.6748046875],\"type\":\"scatter\"}],                        {\"template\":{\"data\":{\"barpolar\":[{\"marker\":{\"line\":{\"color\":\"#E5ECF6\",\"width\":0.5},\"pattern\":{\"fillmode\":\"overlay\",\"size\":10,\"solidity\":0.2}},\"type\":\"barpolar\"}],\"bar\":[{\"error_x\":{\"color\":\"#2a3f5f\"},\"error_y\":{\"color\":\"#2a3f5f\"},\"marker\":{\"line\":{\"color\":\"#E5ECF6\",\"width\":0.5},\"pattern\":{\"fillmode\":\"overlay\",\"size\":10,\"solidity\":0.2}},\"type\":\"bar\"}],\"carpet\":[{\"aaxis\":{\"endlinecolor\":\"#2a3f5f\",\"gridcolor\":\"white\",\"linecolor\":\"white\",\"minorgridcolor\":\"white\",\"startlinecolor\":\"#2a3f5f\"},\"baxis\":{\"endlinecolor\":\"#2a3f5f\",\"gridcolor\":\"white\",\"linecolor\":\"white\",\"minorgridcolor\":\"white\",\"startlinecolor\":\"#2a3f5f\"},\"type\":\"carpet\"}],\"choropleth\":[{\"colorbar\":{\"outlinewidth\":0,\"ticks\":\"\"},\"type\":\"choropleth\"}],\"contourcarpet\":[{\"colorbar\":{\"outlinewidth\":0,\"ticks\":\"\"},\"type\":\"contourcarpet\"}],\"contour\":[{\"colorbar\":{\"outlinewidth\":0,\"ticks\":\"\"},\"colorscale\":[[0.0,\"#0d0887\"],[0.1111111111111111,\"#46039f\"],[0.2222222222222222,\"#7201a8\"],[0.3333333333333333,\"#9c179e\"],[0.4444444444444444,\"#bd3786\"],[0.5555555555555556,\"#d8576b\"],[0.6666666666666666,\"#ed7953\"],[0.7777777777777778,\"#fb9f3a\"],[0.8888888888888888,\"#fdca26\"],[1.0,\"#f0f921\"]],\"type\":\"contour\"}],\"heatmapgl\":[{\"colorbar\":{\"outlinewidth\":0,\"ticks\":\"\"},\"colorscale\":[[0.0,\"#0d0887\"],[0.1111111111111111,\"#46039f\"],[0.2222222222222222,\"#7201a8\"],[0.3333333333333333,\"#9c179e\"],[0.4444444444444444,\"#bd3786\"],[0.5555555555555556,\"#d8576b\"],[0.6666666666666666,\"#ed7953\"],[0.7777777777777778,\"#fb9f3a\"],[0.8888888888888888,\"#fdca26\"],[1.0,\"#f0f921\"]],\"type\":\"heatmapgl\"}],\"heatmap\":[{\"colorbar\":{\"outlinewidth\":0,\"ticks\":\"\"},\"colorscale\":[[0.0,\"#0d0887\"],[0.1111111111111111,\"#46039f\"],[0.2222222222222222,\"#7201a8\"],[0.3333333333333333,\"#9c179e\"],[0.4444444444444444,\"#bd3786\"],[0.5555555555555556,\"#d8576b\"],[0.6666666666666666,\"#ed7953\"],[0.7777777777777778,\"#fb9f3a\"],[0.8888888888888888,\"#fdca26\"],[1.0,\"#f0f921\"]],\"type\":\"heatmap\"}],\"histogram2dcontour\":[{\"colorbar\":{\"outlinewidth\":0,\"ticks\":\"\"},\"colorscale\":[[0.0,\"#0d0887\"],[0.1111111111111111,\"#46039f\"],[0.2222222222222222,\"#7201a8\"],[0.3333333333333333,\"#9c179e\"],[0.4444444444444444,\"#bd3786\"],[0.5555555555555556,\"#d8576b\"],[0.6666666666666666,\"#ed7953\"],[0.7777777777777778,\"#fb9f3a\"],[0.8888888888888888,\"#fdca26\"],[1.0,\"#f0f921\"]],\"type\":\"histogram2dcontour\"}],\"histogram2d\":[{\"colorbar\":{\"outlinewidth\":0,\"ticks\":\"\"},\"colorscale\":[[0.0,\"#0d0887\"],[0.1111111111111111,\"#46039f\"],[0.2222222222222222,\"#7201a8\"],[0.3333333333333333,\"#9c179e\"],[0.4444444444444444,\"#bd3786\"],[0.5555555555555556,\"#d8576b\"],[0.6666666666666666,\"#ed7953\"],[0.7777777777777778,\"#fb9f3a\"],[0.8888888888888888,\"#fdca26\"],[1.0,\"#f0f921\"]],\"type\":\"histogram2d\"}],\"histogram\":[{\"marker\":{\"pattern\":{\"fillmode\":\"overlay\",\"size\":10,\"solidity\":0.2}},\"type\":\"histogram\"}],\"mesh3d\":[{\"colorbar\":{\"outlinewidth\":0,\"ticks\":\"\"},\"type\":\"mesh3d\"}],\"parcoords\":[{\"line\":{\"colorbar\":{\"outlinewidth\":0,\"ticks\":\"\"}},\"type\":\"parcoords\"}],\"pie\":[{\"automargin\":true,\"type\":\"pie\"}],\"scatter3d\":[{\"line\":{\"colorbar\":{\"outlinewidth\":0,\"ticks\":\"\"}},\"marker\":{\"colorbar\":{\"outlinewidth\":0,\"ticks\":\"\"}},\"type\":\"scatter3d\"}],\"scattercarpet\":[{\"marker\":{\"colorbar\":{\"outlinewidth\":0,\"ticks\":\"\"}},\"type\":\"scattercarpet\"}],\"scattergeo\":[{\"marker\":{\"colorbar\":{\"outlinewidth\":0,\"ticks\":\"\"}},\"type\":\"scattergeo\"}],\"scattergl\":[{\"marker\":{\"colorbar\":{\"outlinewidth\":0,\"ticks\":\"\"}},\"type\":\"scattergl\"}],\"scattermapbox\":[{\"marker\":{\"colorbar\":{\"outlinewidth\":0,\"ticks\":\"\"}},\"type\":\"scattermapbox\"}],\"scatterpolargl\":[{\"marker\":{\"colorbar\":{\"outlinewidth\":0,\"ticks\":\"\"}},\"type\":\"scatterpolargl\"}],\"scatterpolar\":[{\"marker\":{\"colorbar\":{\"outlinewidth\":0,\"ticks\":\"\"}},\"type\":\"scatterpolar\"}],\"scatter\":[{\"fillpattern\":{\"fillmode\":\"overlay\",\"size\":10,\"solidity\":0.2},\"type\":\"scatter\"}],\"scatterternary\":[{\"marker\":{\"colorbar\":{\"outlinewidth\":0,\"ticks\":\"\"}},\"type\":\"scatterternary\"}],\"surface\":[{\"colorbar\":{\"outlinewidth\":0,\"ticks\":\"\"},\"colorscale\":[[0.0,\"#0d0887\"],[0.1111111111111111,\"#46039f\"],[0.2222222222222222,\"#7201a8\"],[0.3333333333333333,\"#9c179e\"],[0.4444444444444444,\"#bd3786\"],[0.5555555555555556,\"#d8576b\"],[0.6666666666666666,\"#ed7953\"],[0.7777777777777778,\"#fb9f3a\"],[0.8888888888888888,\"#fdca26\"],[1.0,\"#f0f921\"]],\"type\":\"surface\"}],\"table\":[{\"cells\":{\"fill\":{\"color\":\"#EBF0F8\"},\"line\":{\"color\":\"white\"}},\"header\":{\"fill\":{\"color\":\"#C8D4E3\"},\"line\":{\"color\":\"white\"}},\"type\":\"table\"}]},\"layout\":{\"annotationdefaults\":{\"arrowcolor\":\"#2a3f5f\",\"arrowhead\":0,\"arrowwidth\":1},\"autotypenumbers\":\"strict\",\"coloraxis\":{\"colorbar\":{\"outlinewidth\":0,\"ticks\":\"\"}},\"colorscale\":{\"diverging\":[[0,\"#8e0152\"],[0.1,\"#c51b7d\"],[0.2,\"#de77ae\"],[0.3,\"#f1b6da\"],[0.4,\"#fde0ef\"],[0.5,\"#f7f7f7\"],[0.6,\"#e6f5d0\"],[0.7,\"#b8e186\"],[0.8,\"#7fbc41\"],[0.9,\"#4d9221\"],[1,\"#276419\"]],\"sequential\":[[0.0,\"#0d0887\"],[0.1111111111111111,\"#46039f\"],[0.2222222222222222,\"#7201a8\"],[0.3333333333333333,\"#9c179e\"],[0.4444444444444444,\"#bd3786\"],[0.5555555555555556,\"#d8576b\"],[0.6666666666666666,\"#ed7953\"],[0.7777777777777778,\"#fb9f3a\"],[0.8888888888888888,\"#fdca26\"],[1.0,\"#f0f921\"]],\"sequentialminus\":[[0.0,\"#0d0887\"],[0.1111111111111111,\"#46039f\"],[0.2222222222222222,\"#7201a8\"],[0.3333333333333333,\"#9c179e\"],[0.4444444444444444,\"#bd3786\"],[0.5555555555555556,\"#d8576b\"],[0.6666666666666666,\"#ed7953\"],[0.7777777777777778,\"#fb9f3a\"],[0.8888888888888888,\"#fdca26\"],[1.0,\"#f0f921\"]]},\"colorway\":[\"#636efa\",\"#EF553B\",\"#00cc96\",\"#ab63fa\",\"#FFA15A\",\"#19d3f3\",\"#FF6692\",\"#B6E880\",\"#FF97FF\",\"#FECB52\"],\"font\":{\"color\":\"#2a3f5f\"},\"geo\":{\"bgcolor\":\"white\",\"lakecolor\":\"white\",\"landcolor\":\"#E5ECF6\",\"showlakes\":true,\"showland\":true,\"subunitcolor\":\"white\"},\"hoverlabel\":{\"align\":\"left\"},\"hovermode\":\"closest\",\"mapbox\":{\"style\":\"light\"},\"paper_bgcolor\":\"white\",\"plot_bgcolor\":\"#E5ECF6\",\"polar\":{\"angularaxis\":{\"gridcolor\":\"white\",\"linecolor\":\"white\",\"ticks\":\"\"},\"bgcolor\":\"#E5ECF6\",\"radialaxis\":{\"gridcolor\":\"white\",\"linecolor\":\"white\",\"ticks\":\"\"}},\"scene\":{\"xaxis\":{\"backgroundcolor\":\"#E5ECF6\",\"gridcolor\":\"white\",\"gridwidth\":2,\"linecolor\":\"white\",\"showbackground\":true,\"ticks\":\"\",\"zerolinecolor\":\"white\"},\"yaxis\":{\"backgroundcolor\":\"#E5ECF6\",\"gridcolor\":\"white\",\"gridwidth\":2,\"linecolor\":\"white\",\"showbackground\":true,\"ticks\":\"\",\"zerolinecolor\":\"white\"},\"zaxis\":{\"backgroundcolor\":\"#E5ECF6\",\"gridcolor\":\"white\",\"gridwidth\":2,\"linecolor\":\"white\",\"showbackground\":true,\"ticks\":\"\",\"zerolinecolor\":\"white\"}},\"shapedefaults\":{\"line\":{\"color\":\"#2a3f5f\"}},\"ternary\":{\"aaxis\":{\"gridcolor\":\"white\",\"linecolor\":\"white\",\"ticks\":\"\"},\"baxis\":{\"gridcolor\":\"white\",\"linecolor\":\"white\",\"ticks\":\"\"},\"bgcolor\":\"#E5ECF6\",\"caxis\":{\"gridcolor\":\"white\",\"linecolor\":\"white\",\"ticks\":\"\"}},\"title\":{\"x\":0.05},\"xaxis\":{\"automargin\":true,\"gridcolor\":\"white\",\"linecolor\":\"white\",\"ticks\":\"\",\"title\":{\"standoff\":15},\"zerolinecolor\":\"white\",\"zerolinewidth\":2},\"yaxis\":{\"automargin\":true,\"gridcolor\":\"white\",\"linecolor\":\"white\",\"ticks\":\"\",\"title\":{\"standoff\":15},\"zerolinecolor\":\"white\",\"zerolinewidth\":2}}}},                        {\"responsive\": true}                    ).then(function(){\n",
       "                            \n",
       "var gd = document.getElementById('8c8647f9-4ea8-4b24-8401-1d05e8033bbd');\n",
       "var x = new MutationObserver(function (mutations, observer) {{\n",
       "        var display = window.getComputedStyle(gd).display;\n",
       "        if (!display || display === 'none') {{\n",
       "            console.log([gd, 'removed!']);\n",
       "            Plotly.purge(gd);\n",
       "            observer.disconnect();\n",
       "        }}\n",
       "}});\n",
       "\n",
       "// Listen for the removal of the full notebook cells\n",
       "var notebookContainer = gd.closest('#notebook-container');\n",
       "if (notebookContainer) {{\n",
       "    x.observe(notebookContainer, {childList: true});\n",
       "}}\n",
       "\n",
       "// Listen for the clearing of the current output cell\n",
       "var outputEl = gd.closest('.output');\n",
       "if (outputEl) {{\n",
       "    x.observe(outputEl, {childList: true});\n",
       "}}\n",
       "\n",
       "                        }).then(function(){\n",
       "                            function downloadimage(format, height, width, filename) {var p = document.getElementById('8c8647f9-4ea8-4b24-8401-1d05e8033bbd');Plotly.downloadImage(p, {format: format, height: height, width: width, filename: filename});};if(document.readyState == 'complete') {downloadimage('svg', 640, 1280, 'lstm-ed_forecast_2022-04-30_mape093_r2_99');}\n",
       "                        })                };                });            </script>        </div>"
      ]
     },
     "metadata": {},
     "output_type": "display_data"
    }
   ],
   "source": [
    "import plotly.graph_objects as go\n",
    "from plotly.offline import iplot\n",
    "\n",
    "fig = go.Figure()\n",
    "fig.add_trace(go.Scatter(x=df_est['Fecha-Hora'], y=df_est['Real'],\n",
    "                    mode='lines+markers',\n",
    "                    name='Real'))\n",
    "fig.add_trace(go.Scatter(x=df_est['Fecha-Hora'], y=df_est['Estimado'],\n",
    "                    mode='lines+markers',\n",
    "                    name='Forecast'))\n",
    "\n",
    "fig.show()\n",
    "iplot(fig, image='svg', filename='lstm-ed_forecast_2022-04-30_mape093_r2_99', image_width=1280, image_height=640)"
   ]
  },
  {
   "cell_type": "code",
   "execution_count": 39,
   "id": "da61e331",
   "metadata": {
    "hidden": true
   },
   "outputs": [],
   "source": [
    "# Getting MAPE and R2\n",
    "\n",
    "real=[]\n",
    "estimada =[]\n",
    "\n",
    "df_est_result = pd.DataFrame(columns=['Fecha-Hora',\"mape\"])\n",
    "\n",
    "for i, row in df_est.iterrows():\n",
    "\n",
    "    n = row['Hora']\n",
    "    \n",
    "    real.append(row['Real'])\n",
    "    estimada.append(row['Estimado'])\n",
    "    \n",
    "   \n",
    "    if n == 23:\n",
    "        df_est_result = df_est_result.append(pd.DataFrame({\n",
    "                                           \"Fecha\": row['Fecha-Hora'].strftime(\"%Y-%m-%d\") ,\n",
    "                                           \"mape\": (mean_absolute_percentage_error(real, estimada))*100, \n",
    "                                           \"r2\": stats.pearsonr(real, estimada)[0]}, \n",
    "                                            index=[0]), ignore_index=True)\n",
    "        n=0\n",
    "        \n",
    "        real=[]\n",
    "        estimada =[]\n",
    "    n+=1\n"
   ]
  },
  {
   "cell_type": "code",
   "execution_count": 40,
   "id": "bf6328a2",
   "metadata": {
    "hidden": true
   },
   "outputs": [
    {
     "data": {
      "text/html": [
       "<style type=\"text/css\">\n",
       "</style>\n",
       "<table id=\"T_ce895\">\n",
       "  <thead>\n",
       "    <tr>\n",
       "      <th id=\"T_ce895_level0_col0\" class=\"col_heading level0 col0\" >Fecha</th>\n",
       "      <th id=\"T_ce895_level0_col1\" class=\"col_heading level0 col1\" >mape</th>\n",
       "      <th id=\"T_ce895_level0_col2\" class=\"col_heading level0 col2\" >r2</th>\n",
       "    </tr>\n",
       "  </thead>\n",
       "  <tbody>\n",
       "    <tr>\n",
       "      <td id=\"T_ce895_row0_col0\" class=\"data row0 col0\" >2022-04-30</td>\n",
       "      <td id=\"T_ce895_row0_col1\" class=\"data row0 col1\" >0.938668</td>\n",
       "      <td id=\"T_ce895_row0_col2\" class=\"data row0 col2\" >0.995132</td>\n",
       "    </tr>\n",
       "  </tbody>\n",
       "</table>\n"
      ],
      "text/plain": [
       "<pandas.io.formats.style.Styler at 0x16a922fd0>"
      ]
     },
     "execution_count": 40,
     "metadata": {},
     "output_type": "execute_result"
    }
   ],
   "source": [
    "# Resulting score\n",
    "df_est_result = df_est_result[['Fecha','mape','r2']].style.hide_index()\n",
    "df_est_result"
   ]
  },
  {
   "cell_type": "code",
   "execution_count": 41,
   "id": "346c265f",
   "metadata": {
    "hidden": true
   },
   "outputs": [
    {
     "data": {
      "image/png": "[encoded data removed]",
      "text/plain": [
       "<IPython.core.display.Image object>"
      ]
     },
     "execution_count": 41,
     "metadata": {},
     "output_type": "execute_result"
    }
   ],
   "source": [
    "from IPython import display\n",
    "display.Image(\"https://mcd.unison.mx/wp-content/themes/awaken/img/logo_mcd.png\", embed = True)"
   ]
  },
  {
   "cell_type": "markdown",
   "id": "de8f0b94",
   "metadata": {
    "hidden": true
   },
   "source": [
    "<summary>\n",
    "    <font size=\"4\" color=\"gray\"> Maestría en Ciencia de Datos | Universidad de Sonora </font>\n",
    "</summary>\n",
    "<font size=\"1\" color=\"gray\"> Blvd. Luis Encinas y Rosales s/n Col. Centro. Edificio 3K1 planta baja C.P. 83000, Hermosillo, Sonora, México </font>\n",
    "<font size=\"1\" color=\"gray\"> mcd@unison.mx </font>\n",
    "<font size=\"1\" color=\"gray\"> Tel: +52 (662) 259 2155  </font>"
   ]
  },
  {
   "cell_type": "code",
   "execution_count": null,
   "id": "d1d94faf",
   "metadata": {
    "hidden": true
   },
   "outputs": [],
   "source": []
  }
 ],
 "metadata": {
  "kernelspec": {
   "display_name": "Python 3 (ipykernel)",
   "language": "python",
   "name": "python3"
  },
  "language_info": {
   "codemirror_mode": {
    "name": "ipython",
    "version": 3
   },
   "file_extension": ".py",
   "mimetype": "text/x-python",
   "name": "python",
   "nbconvert_exporter": "python",
   "pygments_lexer": "ipython3",
   "version": "3.9.12"
  }
 },
 "nbformat": 4,
 "nbformat_minor": 5
}
